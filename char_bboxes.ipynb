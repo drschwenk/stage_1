{
 "cells": [
  {
   "cell_type": "markdown",
   "metadata": {},
   "source": [
    "# Table of Contents\n",
    "* [Submitting HITs](#Submitting-HITs)\n",
    "\t* [load dataset](#load-dataset)\n",
    "\t* [building html](#building-html)\n",
    "\t\t* [code](#code)\n",
    "\t\t* [running test](#running-test)\n",
    "\t* [Building URLs for images on s3](#Building-URLs-for-images-on-s3)\n",
    "\t* [submitting HITs in groups](#submitting-HITs-in-groups)\n",
    "\t\t* [creates HITs, careful with this one](#creates-HITs,-careful-with-this-one)\n",
    "* [Reviewing latest HITs](#Reviewing-latest-HITs)\n",
    "\t* [download](#download)\n",
    "\t* [process](#process)\n",
    "* [Merging latest round of HITs into combined dataset](#Merging-latest-round-of-HITs-into-combined-dataset)\n",
    "\t* [Load previously pickled results](#Load-previously-pickled-results)\n",
    "\t* [Load prior complete dataset if not in memory](#Load-prior-complete-dataset-if-not-in-memory)\n",
    "\t* [Updating full dataset](#Updating-full-dataset)\n",
    "\t* [Working with full dataset](#Working-with-full-dataset)\n",
    "* [Worker analysis](#Worker-analysis)\n",
    "\t* [Basic worker stats](#Basic-worker-stats)\n",
    "\t\t* [HIT duration for pricing](#HIT-duration-for-pricing)\n",
    "\t* [Identifying high and low consensus workers](#Identifying-high-and-low-consensus-workers)\n",
    "\t* [Messaging workers](#Messaging-workers)\n",
    "* [HIT end-of-life](#HIT-end-of-life)\n",
    "\t* [Pickle latest results](#Pickle-latest-results)\n",
    "\t* [Pickle combined dataset](#Pickle-combined-dataset)\n",
    "\t* [Accepting and deleting HITs... careful with these](#Accepting-and-deleting-HITs...-careful-with-these)\n",
    "* [End](#End)\n"
   ]
  },
  {
   "cell_type": "code",
   "execution_count": 1,
   "metadata": {
    "collapsed": true,
    "run_control": {
     "frozen": false,
     "read_only": false
    }
   },
   "outputs": [],
   "source": [
    "%%capture\n",
    "from __future__ import division\n",
    "import numpy as np\n",
    "import pandas as pd\n",
    "import scipy.stats as st\n",
    "import itertools\n",
    "import math\n",
    "from collections import Counter, defaultdict\n",
    "%load_ext autoreload\n",
    "%autoreload 2\n",
    "\n",
    "import matplotlib as mpl\n",
    "mpl.use(\"Agg\")\n",
    "import matplotlib.pylab as plt\n",
    "#%matplotlib notebook\n",
    "%matplotlib inline\n",
    "%load_ext base16_mplrc\n",
    "%base16_mplrc light default\n",
    "plt.rcParams['figure.figsize'] = (16.0, 10.0)\n",
    "\n",
    "import re\n",
    "from datetime import datetime\n",
    "import dateutil.parser as dt_parse\n",
    "import pickle\n",
    "import boto\n",
    "from copy import deepcopy\n",
    "import json\n",
    "import os\n",
    "import jinja2\n",
    "from IPython.core.display import HTML\n",
    "\n",
    "import boto.mturk.connection as tc\n",
    "import boto.mturk.question as tq\n",
    "from boto.mturk.qualification import PercentAssignmentsApprovedRequirement, Qualifications, Requirement\n",
    "\n",
    "from keysTkingdom import mturk_ai2\n",
    "from keysTkingdom import aws_tokes\n",
    "from keysTkingdom import mturk_aristo\n",
    "\n",
    "\n",
    "# import pdfextraction.amt_boto_modules as amt_util\n",
    "# from tqa_utils import Evaluator"
   ]
  },
  {
   "cell_type": "markdown",
   "metadata": {},
   "source": [
    "# Submitting HITs"
   ]
  },
  {
   "cell_type": "markdown",
   "metadata": {},
   "source": [
    "cost estimate"
   ]
  },
  {
   "cell_type": "code",
   "execution_count": 2,
   "metadata": {
    "run_control": {
     "frozen": false,
     "read_only": false
    }
   },
   "outputs": [
    {
     "name": "stdout",
     "output_type": "stream",
     "text": [
      "180.0 - $9000.0\n"
     ]
    }
   ],
   "source": [
    "cost_per_hit = 0.02\n",
    "n_turkers_per_hit = 3\n",
    "n_hits_per_video = 3\n",
    "\n",
    "n_videos_low = 1000\n",
    "n_videos_high = 50000\n",
    "\n",
    "low = cost_per_hit * n_turkers_per_hit * n_videos_low * n_hits_per_video\n",
    "high = cost_per_hit * n_turkers_per_hit * n_videos_high * n_hits_per_video\n",
    "print(str(low) + ' - $' + str(high))"
   ]
  },
  {
   "cell_type": "markdown",
   "metadata": {},
   "source": [
    "## building html"
   ]
  },
  {
   "cell_type": "markdown",
   "metadata": {},
   "source": [
    "### code"
   ]
  },
  {
   "cell_type": "code",
   "execution_count": 3,
   "metadata": {
    "code_folding": [],
    "collapsed": true,
    "run_control": {
     "frozen": false,
     "read_only": false
    }
   },
   "outputs": [],
   "source": [
    "import os\n",
    "import jinja2\n",
    "import argparse\n",
    "\n",
    "j2env = jinja2.Environment()"
   ]
  },
  {
   "cell_type": "code",
   "execution_count": 4,
   "metadata": {
    "collapsed": true,
    "run_control": {
     "frozen": false,
     "read_only": false
    }
   },
   "outputs": [],
   "source": [
    "from boto.mturk.connection import MTurkConnection\n",
    "from boto.mturk.qualification import *\n",
    "from jinja2 import Environment, FileSystemLoader"
   ]
  },
  {
   "cell_type": "markdown",
   "metadata": {},
   "source": [
    "## Building hits from files"
   ]
  },
  {
   "cell_type": "code",
   "execution_count": 26,
   "metadata": {
    "run_control": {
     "frozen": false,
     "read_only": false
    }
   },
   "outputs": [
    {
     "data": {
      "text/plain": [
       "['/s_03_e_22/s_03_e_22_shot_016170_016244.gif']"
      ]
     },
     "execution_count": 26,
     "metadata": {},
     "output_type": "execute_result"
    }
   ],
   "source": [
    "import os\n",
    "import random\n",
    "\n",
    "gif_dir = '/Users/schwenk/wrk/animation_gan/data/test_task/'\n",
    "episode = '/s_03_e_22'\n",
    "gif_files = os.listdir(gif_dir)\n",
    "\n",
    "test_gifs = [os.path.join(episode, fn) for fn in random.sample(gif_files, 1)]\n",
    "test_gifs"
   ]
  },
  {
   "cell_type": "markdown",
   "metadata": {},
   "source": [
    "## submitting HITs in groups"
   ]
  },
  {
   "cell_type": "code",
   "execution_count": 27,
   "metadata": {
    "code_folding": [
     0
    ],
    "collapsed": true,
    "run_control": {
     "frozen": false,
     "read_only": false
    }
   },
   "outputs": [],
   "source": [
    "# ## Switch between sandbox and the real world here ##\n",
    "# ## DON'T FORGET to change submission POST request in the client ##\n",
    "\n",
    "# sandbox_host = 'mechanicalturk.sandbox.amazonaws.com' \n",
    "# real_world_host = 'mechanicalturk.amazonaws.com'\n",
    "# mturk = tc.MTurkConnection(\n",
    "#     aws_access_key_id = mturk_ai2.access_key,\n",
    "#     aws_secret_access_key = mturk_ai2.access_secret_key,\n",
    "#     host = sandbox_host,\n",
    "#     debug = 1 # debug = 2 prints out all requests.\n",
    "# )\n",
    "# current_account_balance = mturk.get_account_balance()[0]\n",
    "# print(current_account_balance) # a reminder of sandbox"
   ]
  },
  {
   "cell_type": "markdown",
   "metadata": {
    "heading_collapsed": true
   },
   "source": [
    "### html"
   ]
  },
  {
   "cell_type": "code",
   "execution_count": 135,
   "metadata": {
    "hidden": true
   },
   "outputs": [],
   "source": [
    "bb_html = \"\"\"\n",
    "<div style=\"display:none;\">\n",
    "href=\"https://ajax.googleapis.com/ajax/libs/jqueryui/1.10.3/themes/smoothness/jquery-ui.css\" rel=\"stylesheet\" />\n",
    "<script src=\"https://ajax.googleapis.com/ajax/libs/jquery/1.9.1/jquery.min.js\"></script>\n",
    "<script src=\"https://ajax.googleapis.com/ajax/libs/jqueryui/1.10.3/jquery-ui.js\"></script>\n",
    "<script type='text/javascript' src='https://s3.amazonaws.com/mturk-public/externalHIT_v1.js'></script>\n",
    "\n",
    "</div>\n",
    "\n",
    "<div style=\"display:inline-block;vertical-align:top;\">\n",
    "  <h1>Annotate objects in the picture</h1>\n",
    "  <p>\n",
    "    Draw a rectangle over an object with mouse. Then, name that object.\n",
    "  </p>\n",
    "  <div>\n",
    "    <label for=\"comment\"><em>Comment:</em></label><br />\n",
    "    <textarea id=\"comment_area\" name=\"comment\"></textarea>\n",
    "  </div>\n",
    "  <p id=\"button_paragraph\">\n",
    "    <input id=\"annotation_data\" name=\"annotation_data\" type=\"hidden\" />\n",
    "    <input id=\"reset_button\" type=\"reset\" />\n",
    "  </p>\n",
    "</div>\n",
    "<div id=\"bbox_annotator\" style=\"display:inline-block\"></div>\n",
    "\n",
    "<script type=\"text/javascript\">\n",
    "(function() {\n",
    "  var BBoxSelector;\n",
    "\n",
    "  BBoxSelector = (function() {\n",
    "\n",
    "    function BBoxSelector(image_frame, options) {\n",
    "      if (options == null) {\n",
    "        options = {};\n",
    "      }\n",
    "      options.input_method || (options.input_method = \"text\");\n",
    "      this.image_frame = image_frame;\n",
    "      this.border_width = options.border_width || 2;\n",
    "      this.selector = $('<div class=\"bbox_selector\"></div>');\n",
    "      this.selector.css({\n",
    "        \"border\": this.border_width + \"px dotted rgb(127,255,127)\",\n",
    "        \"position\": \"absolute\"\n",
    "      });\n",
    "      this.image_frame.append(this.selector);\n",
    "      this.selector.css({\n",
    "        \"border-width\": this.border_width\n",
    "      });\n",
    "      this.selector.hide();\n",
    "      this.create_label_box(options);\n",
    "    }\n",
    "\n",
    "    BBoxSelector.prototype.create_label_box = function(options) {\n",
    "      var label, _i, _len, _ref;\n",
    "      options.labels || (options.labels = [\"object\"]);\n",
    "      this.label_box = $('<div class=\"label_box\"></div>');\n",
    "      this.label_box.css({\n",
    "        \"position\": \"absolute\"\n",
    "      });\n",
    "      this.image_frame.append(this.label_box);\n",
    "      switch (options.input_method) {\n",
    "        case 'select':\n",
    "          if (typeof options.labels === \"string\") {\n",
    "            options.labels = [options.labels];\n",
    "          }\n",
    "          this.label_input = $('<select class=\"label_input\" name=\"label\"></select>');\n",
    "          this.label_box.append(this.label_input);\n",
    "          this.label_input.append($('<option value>choose an item</option>'));\n",
    "          _ref = options.labels;\n",
    "          for (_i = 0, _len = _ref.length; _i < _len; _i++) {\n",
    "            label = _ref[_i];\n",
    "            this.label_input.append('<option value=\"' + label + '\">' + label + '</option>');\n",
    "          }\n",
    "          this.label_input.change(function(e) {\n",
    "            return this.blur();\n",
    "          });\n",
    "          break;\n",
    "        case 'text':\n",
    "          if (typeof options.labels === \"string\") {\n",
    "            options.labels = [options.labels];\n",
    "          }\n",
    "          this.label_input = $('<input class=\"label_input\" name=\"label\" ' + 'type=\"text\" value>');\n",
    "          this.label_box.append(this.label_input);\n",
    "          this.label_input.autocomplete({\n",
    "            source: options.labels || [''],\n",
    "            autoFocus: true\n",
    "          });\n",
    "          break;\n",
    "        case 'fixed':\n",
    "          if ($.isArray(options.labels)) {\n",
    "            options.labels = options.labels[0];\n",
    "          }\n",
    "          this.label_input = $('<input class=\"label_input\" name=\"label\" type=\"text\">');\n",
    "          this.label_box.append(this.label_input);\n",
    "          this.label_input.val(options.labels);\n",
    "          break;\n",
    "        default:\n",
    "          throw 'Invalid label_input parameter: ' + options.input_method;\n",
    "      }\n",
    "      return this.label_box.hide();\n",
    "    };\n",
    "\n",
    "    BBoxSelector.prototype.crop = function(pageX, pageY) {\n",
    "      var point;\n",
    "      return point = {\n",
    "        x: Math.min(Math.max(Math.round(pageX - this.image_frame.offset().left), 0), Math.round(this.image_frame.width() - 1)),\n",
    "        y: Math.min(Math.max(Math.round(pageY - this.image_frame.offset().top), 0), Math.round(this.image_frame.height() - 1))\n",
    "      };\n",
    "    };\n",
    "\n",
    "    BBoxSelector.prototype.start = function(pageX, pageY) {\n",
    "      this.pointer = this.crop(pageX, pageY);\n",
    "      this.offset = this.pointer;\n",
    "      this.refresh();\n",
    "      this.selector.show();\n",
    "      $('body').css('cursor', 'crosshair');\n",
    "      return document.onselectstart = function() {\n",
    "        return false;\n",
    "      };\n",
    "    };\n",
    "\n",
    "    BBoxSelector.prototype.update_rectangle = function(pageX, pageY) {\n",
    "      this.pointer = this.crop(pageX, pageY);\n",
    "      return this.refresh();\n",
    "    };\n",
    "\n",
    "    BBoxSelector.prototype.input_label = function(options) {\n",
    "      $('body').css('cursor', 'default');\n",
    "      document.onselectstart = function() {\n",
    "        return true;\n",
    "      };\n",
    "      this.label_box.show();\n",
    "      return this.label_input.focus();\n",
    "    };\n",
    "\n",
    "    BBoxSelector.prototype.finish = function(options) {\n",
    "      var data;\n",
    "      this.label_box.hide();\n",
    "      this.selector.hide();\n",
    "      data = this.rectangle();\n",
    "      data.label = $.trim(this.label_input.val().toLowerCase());\n",
    "      if (options.input_method !== 'fixed') {\n",
    "        this.label_input.val('');\n",
    "      }\n",
    "      return data;\n",
    "    };\n",
    "\n",
    "    BBoxSelector.prototype.rectangle = function() {\n",
    "      var rect, x1, x2, y1, y2;\n",
    "      x1 = Math.min(this.offset.x, this.pointer.x);\n",
    "      y1 = Math.min(this.offset.y, this.pointer.y);\n",
    "      x2 = Math.max(this.offset.x, this.pointer.x);\n",
    "      y2 = Math.max(this.offset.y, this.pointer.y);\n",
    "      return rect = {\n",
    "        left: x1,\n",
    "        top: y1,\n",
    "        width: x2 - x1 + 1,\n",
    "        height: y2 - y1 + 1\n",
    "      };\n",
    "    };\n",
    "\n",
    "    BBoxSelector.prototype.refresh = function() {\n",
    "      var rect;\n",
    "      rect = this.rectangle();\n",
    "      this.selector.css({\n",
    "        left: (rect.left - this.border_width) + 'px',\n",
    "        top: (rect.top - this.border_width) + 'px',\n",
    "        width: rect.width + 'px',\n",
    "        height: rect.height + 'px'\n",
    "      });\n",
    "      return this.label_box.css({\n",
    "        left: (rect.left - this.border_width) + 'px',\n",
    "        top: (rect.top + rect.height + this.border_width) + 'px'\n",
    "      });\n",
    "    };\n",
    "\n",
    "    BBoxSelector.prototype.get_input_element = function() {\n",
    "      return this.label_input;\n",
    "    };\n",
    "\n",
    "    return BBoxSelector;\n",
    "\n",
    "  })();\n",
    "\n",
    "  this.BBoxAnnotator = (function() {\n",
    "\n",
    "    function BBoxAnnotator(options) {\n",
    "      var annotator, image_element;\n",
    "      annotator = this;\n",
    "      this.annotator_element = $(options.id || \"#bbox_annotator\");\n",
    "      this.border_width = options.border_width || 2;\n",
    "      this.show_label = options.show_label || (options.input_method !== \"fixed\");\n",
    "      this.image_frame = $('<div class=\"image_frame\"></div>');\n",
    "      this.annotator_element.append(this.image_frame);\n",
    "      image_element = new Image();\n",
    "      image_element.src = options.url;\n",
    "      image_element.onload = function() {\n",
    "        options.width || (options.width = image_element.width);\n",
    "        options.height || (options.height = image_element.height);\n",
    "        annotator.annotator_element.css({\n",
    "          \"width\": (options.width + annotator.border_width * 2) + 'px',\n",
    "          \"height\": (options.height + annotator.border_width * 2) + 'px',\n",
    "          \"cursor\": \"crosshair\"\n",
    "        });\n",
    "        annotator.image_frame.css({\n",
    "          \"background-image\": \"url('\" + image_element.src + \"')\",\n",
    "          \"width\": options.width + \"px\",\n",
    "          \"height\": options.height + \"px\",\n",
    "          \"position\": \"relative\"\n",
    "        });\n",
    "        annotator.selector = new BBoxSelector(annotator.image_frame, options);\n",
    "        return annotator.initialize_events(annotator.selector, options);\n",
    "      };\n",
    "      image_element.onerror = function() {\n",
    "        return annotator.annotator_element.text(\"Invalid image URL: \" + options.url);\n",
    "      };\n",
    "      this.entries = [];\n",
    "      this.onchange = options.onchange;\n",
    "    }\n",
    "\n",
    "    BBoxAnnotator.prototype.initialize_events = function(selector, options) {\n",
    "      var annotator, status;\n",
    "      status = 'free';\n",
    "      this.hit_menuitem = false;\n",
    "      annotator = this;\n",
    "      this.annotator_element.mousedown(function(e) {\n",
    "        if (!annotator.hit_menuitem) {\n",
    "          switch (status) {\n",
    "            case 'free':\n",
    "            case 'input':\n",
    "              if (status === 'input') {\n",
    "                selector.get_input_element().blur();\n",
    "              }\n",
    "              if (e.which === 1) {\n",
    "                selector.start(e.pageX, e.pageY);\n",
    "                status = 'hold';\n",
    "              }\n",
    "          }\n",
    "        }\n",
    "        annotator.hit_menuitem = false;\n",
    "        return true;\n",
    "      });\n",
    "      $(window).mousemove(function(e) {\n",
    "        switch (status) {\n",
    "          case 'hold':\n",
    "            selector.update_rectangle(e.pageX, e.pageY);\n",
    "        }\n",
    "        return true;\n",
    "      });\n",
    "      $(window).mouseup(function(e) {\n",
    "        switch (status) {\n",
    "          case 'hold':\n",
    "            selector.update_rectangle(e.pageX, e.pageY);\n",
    "            selector.input_label(options);\n",
    "            status = 'input';\n",
    "            if (options.input_method === 'fixed') {\n",
    "              selector.get_input_element().blur();\n",
    "            }\n",
    "        }\n",
    "        return true;\n",
    "      });\n",
    "      selector.get_input_element().blur(function(e) {\n",
    "        var data;\n",
    "        switch (status) {\n",
    "          case 'input':\n",
    "            data = selector.finish(options);\n",
    "            if (data.label) {\n",
    "              annotator.add_entry(data);\n",
    "              if (annotator.onchange) {\n",
    "                annotator.onchange(annotator.entries);\n",
    "              }\n",
    "            }\n",
    "            status = 'free';\n",
    "        }\n",
    "        return true;\n",
    "      });\n",
    "      selector.get_input_element().keypress(function(e) {\n",
    "        switch (status) {\n",
    "          case 'input':\n",
    "            if (e.which === 13) {\n",
    "              selector.get_input_element().blur();\n",
    "            }\n",
    "        }\n",
    "        return e.which !== 13;\n",
    "      });\n",
    "      selector.get_input_element().mousedown(function(e) {\n",
    "        return annotator.hit_menuitem = true;\n",
    "      });\n",
    "      selector.get_input_element().mousemove(function(e) {\n",
    "        return annotator.hit_menuitem = true;\n",
    "      });\n",
    "      selector.get_input_element().mouseup(function(e) {\n",
    "        return annotator.hit_menuitem = true;\n",
    "      });\n",
    "      return selector.get_input_element().parent().mousedown(function(e) {\n",
    "        return annotator.hit_menuitem = true;\n",
    "      });\n",
    "    };\n",
    "\n",
    "    BBoxAnnotator.prototype.add_entry = function(entry) {\n",
    "      var annotator, box_element, close_button, text_box;\n",
    "      this.entries.push(entry);\n",
    "      box_element = $('<div class=\"annotated_bounding_box\"></div>');\n",
    "      box_element.appendTo(this.image_frame).css({\n",
    "        \"border\": this.border_width + \"px solid rgb(127,255,127)\",\n",
    "        \"position\": \"absolute\",\n",
    "        \"top\": (entry.top - this.border_width) + \"px\",\n",
    "        \"left\": (entry.left - this.border_width) + \"px\",\n",
    "        \"width\": entry.width + \"px\",\n",
    "        \"height\": entry.height + \"px\",\n",
    "        \"color\": \"rgb(127,255,127)\",\n",
    "        \"font-family\": \"monospace\",\n",
    "        \"font-size\": \"small\"\n",
    "      });\n",
    "      close_button = $('<div></div>').appendTo(box_element).css({\n",
    "        \"position\": \"absolute\",\n",
    "        \"top\": \"-8px\",\n",
    "        \"right\": \"-8px\",\n",
    "        \"width\": \"16px\",\n",
    "        \"height\": \"0\",\n",
    "        \"padding\": \"16px 0 0 0\",\n",
    "        \"overflow\": \"hidden\",\n",
    "        \"color\": \"#fff\",\n",
    "        \"background-color\": \"#030\",\n",
    "        \"border\": \"2px solid #fff\",\n",
    "        \"-moz-border-radius\": \"18px\",\n",
    "        \"-webkit-border-radius\": \"18px\",\n",
    "        \"border-radius\": \"18px\",\n",
    "        \"cursor\": \"pointer\",\n",
    "        \"-moz-user-select\": \"none\",\n",
    "        \"-webkit-user-select\": \"none\",\n",
    "        \"user-select\": \"none\",\n",
    "        \"text-align\": \"center\"\n",
    "      });\n",
    "      $(\"<div></div>\").appendTo(close_button).html('×').css({\n",
    "        \"display\": \"block\",\n",
    "        \"text-align\": \"center\",\n",
    "        \"width\": \"16px\",\n",
    "        \"position\": \"absolute\",\n",
    "        \"top\": \"-2px\",\n",
    "        \"left\": \"0\",\n",
    "        \"font-size\": \"16px\",\n",
    "        \"line-height\": \"16px\",\n",
    "        \"font-family\": '\"Helvetica Neue\", Consolas, Verdana, Tahoma, Calibri, ' + 'Helvetica, Menlo, \"Droid Sans\", sans-serif'\n",
    "      });\n",
    "      text_box = $('<div></div>').appendTo(box_element).css({\n",
    "        \"overflow\": \"hidden\"\n",
    "      });\n",
    "      if (this.show_label) {\n",
    "        text_box.text(entry.label);\n",
    "      }\n",
    "      annotator = this;\n",
    "      box_element.hover((function(e) {\n",
    "        return close_button.show();\n",
    "      }), (function(e) {\n",
    "        return close_button.hide();\n",
    "      }));\n",
    "      close_button.mousedown(function(e) {\n",
    "        return annotator.hit_menuitem = true;\n",
    "      });\n",
    "      close_button.click(function(e) {\n",
    "        var clicked_box, index;\n",
    "        clicked_box = close_button.parent(\".annotated_bounding_box\");\n",
    "        index = clicked_box.prevAll(\".annotated_bounding_box\").length;\n",
    "        clicked_box.detach();\n",
    "        annotator.entries.splice(index, 1);\n",
    "        return annotator.onchange(annotator.entries);\n",
    "      });\n",
    "      return close_button.hide();\n",
    "    };\n",
    "\n",
    "    BBoxAnnotator.prototype.clear_all = function(e) {\n",
    "      $(\".annotated_bounding_box\").detach();\n",
    "      this.entries.splice(0);\n",
    "      return this.onchange(this.entries);\n",
    "    };\n",
    "\n",
    "    return BBoxAnnotator;\n",
    "\n",
    "  })();\n",
    "\n",
    "}).call(this);\n",
    "\n",
    "// Main entry point. Use a placeholder for image urls.\n",
    "$(document).ready(function() {\n",
    "  var assignment_id = turkGetParam('assignmentId', \"\");\n",
    "  // Initialize the bounding-box annotator.\n",
    "  var annotator = new BBoxAnnotator({\n",
    "n    input_method: 'text', // Can be one of ['text', 'select', 'fixed']\n",
    "    labels: [\"dress\", \"top\", \"skirt\", \"pants\", \"shoes\"], // Label of the object.\n",
    "    onchange: function(entries) {\n",
    "      $(\"#annotation_data\").val(JSON.stringify(entries));\n",
    "      if (entries.length > 0 &&\n",
    "          assignment_id != \"\" &&\n",
    "          assignment_id != \"ASSIGNMENT_ID_NOT_AVAILABLE\") {\n",
    "        $(\"#submitButton\").removeAttr(\"disabled\");\n",
    "      }\n",
    "      else {\n",
    "        $(\"#submitButton\").attr(\"disabled\", \"disabled\");\n",
    "      }\n",
    "    }\n",
    "  });\n",
    "  // Initialize the reset button.\n",
    "  $(\"#reset_button\").click(function(e) {\n",
    "    annotator.clear_all();\n",
    "  });\n",
    "  // Disable the submission at the beginning.\n",
    "  $(\"#submitButton\").attr(\"disabled\", \"disabled\");\n",
    "  $(\"#submitButton\").detach().appendTo(\"#button_paragraph\");\n",
    "  if (assignment_id == \"ASSIGNMENT_ID_NOT_AVAILABLE\") {\n",
    "    $(\"#submitButton\").val(\"This is preview\");\n",
    "  }\n",
    "  console.log(assignment_id);\n",
    "});\n",
    "</script>\n",
    "\n",
    "\"\"\""
   ]
  },
  {
   "cell_type": "code",
   "execution_count": 103,
   "metadata": {
    "collapsed": true,
    "hidden": true
   },
   "outputs": [],
   "source": []
  },
  {
   "cell_type": "markdown",
   "metadata": {},
   "source": [
    "### new code"
   ]
  },
  {
   "cell_type": "code",
   "execution_count": 202,
   "metadata": {},
   "outputs": [],
   "source": [
    "page_html = generate_task_page(s3_base_path, test_still)"
   ]
  },
  {
   "cell_type": "code",
   "execution_count": 199,
   "metadata": {
    "collapsed": true,
    "run_control": {
     "frozen": false,
     "read_only": false
    }
   },
   "outputs": [],
   "source": [
    "def generate_task_page(s3_base_path, img_id, template_file='character_bbox.html'):\n",
    "    env = Environment(loader=FileSystemLoader('hit_templates'))\n",
    "    template = env.get_template(template_file)\n",
    "    html_dir = './html_renders' \n",
    "    html_out_file = os.path.join(html_dir, 'char_bbox.html')\n",
    "    if not os.path.exists(html_dir):\n",
    "        os.makedirs(html_dir)\n",
    "    page_html =  template.render(s3_uri_base = s3_base_path, image_id=img_id)\n",
    "    \n",
    "    with open(html_out_file, 'w') as f:\n",
    "        f.write(page_html.encode('ascii', 'ignore').decode('utf-8'))\n",
    "        \n",
    "    return page_html\n",
    "\n",
    "# def make_image_list_str(images):\n",
    "#     images = [images]\n",
    "#     s3_base = 'https://s3-us-west-2.amazonaws.com/ai2-vision-animation-gan/annotation_data/scene_gifs'\n",
    "#     return ', '.join(['\\'' + s3_base + img + '\\'' for img in images])"
   ]
  },
  {
   "cell_type": "markdown",
   "metadata": {},
   "source": [
    "## hide"
   ]
  },
  {
   "cell_type": "code",
   "execution_count": 105,
   "metadata": {
    "collapsed": true,
    "run_control": {
     "frozen": false,
     "read_only": false
    }
   },
   "outputs": [],
   "source": [
    "def get_completed_hits(mturk_connection):\n",
    "    \"\"\"\n",
    "    Queries amt for all active user HITs.\n",
    "    :param mturk_connection: active mturk connection established by user in the nb.\n",
    "    :return: list of boto HIT result objects\n",
    "    \"\"\"\n",
    "    reviewable_hits = []\n",
    "    page_n = 1\n",
    "    hits_left = True\n",
    "    while hits_left:\n",
    "        hit_range = mturk_connection.get_reviewable_hits(page_size=100, page_number=page_n)\n",
    "        if not hit_range:\n",
    "            hits_left = False\n",
    "            break\n",
    "        reviewable_hits.extend(hit_range)\n",
    "        page_n += 1\n",
    "    return reviewable_hits\n",
    "\n",
    "\n",
    "def get_assignments(mturk_connection, reviewable_hits, status=None):\n",
    "    \"\"\"\n",
    "    Retrieves individual assignments associated with the specified HITs.\n",
    "    :param mturk_connection: active mturk connection established by user in the nb.\n",
    "    :param reviewable_hits: HITs to review\n",
    "    :param status: HIT status to filter by.\n",
    "    :return: hit_id:assignment dict\n",
    "    \"\"\"\n",
    "    assignments = defaultdict(list)\n",
    "    for hit in reviewable_hits:\n",
    "        assignment = mturk_connection.get_assignments(hit.HITId, status=status)\n",
    "        assignments[hit.HITId].extend(assignment)\n",
    "    return assignments"
   ]
  },
  {
   "cell_type": "code",
   "execution_count": 106,
   "metadata": {
    "collapsed": true,
    "run_control": {
     "frozen": false,
     "read_only": false
    }
   },
   "outputs": [],
   "source": [
    "def build_hit_params(qhtml, static_params):\n",
    "    \"\"\"\n",
    "    Dynamically builds some HIT params that will change based on the book/url\n",
    "    :param url: formatted url of page image on s3\n",
    "    :param static_params: Universal HIT params (set by user in notebook).\n",
    "    :return: complete HIT parameters.\n",
    "    \"\"\"\n",
    "    import copy\n",
    "    import boto\n",
    "    def build_qualifications():\n",
    "        \"\"\"\n",
    "        Creates a single qualification that workers have a > 95% acceptance rate.\n",
    "        :return: boto qualification obj.\n",
    "        \"\"\"\n",
    "        qualifications = Qualifications()\n",
    "        req1 = PercentAssignmentsApprovedRequirement(comparator=\"GreaterThan\", integer_value=\"95\")\n",
    "        qualifications.add(req1)\n",
    "        return qualifications\n",
    "    \n",
    "    hit_params = copy.deepcopy(static_params)\n",
    "    hit_params['qualifications'] = build_qualifications()\n",
    "    hit_params['reward'] = boto.mturk.price.Price(hit_params['amount'])\n",
    "    hit_params['html']= qhtml\n",
    "    return hit_params"
   ]
  },
  {
   "cell_type": "code",
   "execution_count": 145,
   "metadata": {
    "collapsed": true,
    "run_control": {
     "frozen": false,
     "read_only": false
    }
   },
   "outputs": [],
   "source": [
    "def prepare_hit(gif_uri, static_parameters):\n",
    "    question_html = generate_task_page(gif_uri)\n",
    "    return build_hit_params(question_html, static_params)"
   ]
  },
  {
   "cell_type": "markdown",
   "metadata": {},
   "source": [
    "## run"
   ]
  },
  {
   "cell_type": "code",
   "execution_count": 137,
   "metadata": {
    "collapsed": true
   },
   "outputs": [],
   "source": [
    "static_params = {\n",
    "    'title': \"Write a description of a short animation\",\n",
    "    'description': \"Write a description of a short animation\",\n",
    "    'keywords': ['animation', 'text'],\n",
    "    'frame_height': 800,\n",
    "    'amount': 0.03,\n",
    "    'duration': 3600 * 1,\n",
    "    'lifetime': 3600 * 24 * 2,\n",
    "    'max_assignments': 1,\n",
    "}"
   ]
  },
  {
   "cell_type": "code",
   "execution_count": 138,
   "metadata": {
    "run_control": {
     "frozen": false,
     "read_only": false
    }
   },
   "outputs": [],
   "source": [
    "build_hit_group = [prepare_hit(gif, static_params) for gif in test_gifs]"
   ]
  },
  {
   "cell_type": "code",
   "execution_count": 139,
   "metadata": {},
   "outputs": [],
   "source": [
    "hit_group = [amt_con.create_html_hit(single_hit) for single_hit in build_hit_group]"
   ]
  },
  {
   "cell_type": "markdown",
   "metadata": {},
   "source": [
    "## load dataset"
   ]
  },
  {
   "cell_type": "code",
   "execution_count": 141,
   "metadata": {
    "collapsed": true
   },
   "outputs": [],
   "source": [
    "s3_base_path = 'https://s3-us-west-2.amazonaws.com/ai2-vision-animation-gan/annotation_data/still_frames/'"
   ]
  },
  {
   "cell_type": "code",
   "execution_count": 146,
   "metadata": {
    "collapsed": true
   },
   "outputs": [],
   "source": [
    "test_still = 's_01_e_26_shot_006556_006630_10.png'"
   ]
  },
  {
   "cell_type": "code",
   "execution_count": null,
   "metadata": {
    "collapsed": true
   },
   "outputs": [],
   "source": []
  },
  {
   "cell_type": "markdown",
   "metadata": {},
   "source": [
    "## submit"
   ]
  },
  {
   "cell_type": "code",
   "execution_count": null,
   "metadata": {
    "collapsed": true
   },
   "outputs": [],
   "source": []
  },
  {
   "cell_type": "code",
   "execution_count": 11,
   "metadata": {
    "collapsed": true,
    "run_control": {
     "frozen": false,
     "read_only": false
    }
   },
   "outputs": [],
   "source": [
    "from mturk import MTurk"
   ]
  },
  {
   "cell_type": "code",
   "execution_count": 14,
   "metadata": {
    "run_control": {
     "frozen": false,
     "read_only": false
    }
   },
   "outputs": [
    {
     "data": {
      "text/plain": [
       "$10,000.00"
      ]
     },
     "execution_count": 14,
     "metadata": {},
     "output_type": "execute_result"
    }
   ],
   "source": [
    "turk_account = mturk_ai2\n",
    "rw_host='mechanicalturk.sandbox.amazonaws.com'\n",
    "amt_con = MTurk(turk_account.access_key, turk_account.access_secret_key)\n",
    "amt_con.get_account_balance()"
   ]
  },
  {
   "cell_type": "code",
   "execution_count": 15,
   "metadata": {
    "collapsed": true,
    "run_control": {
     "frozen": false,
     "read_only": false
    }
   },
   "outputs": [],
   "source": [
    "static_params = {\n",
    "    'title': \"Write a description of a short animation\",\n",
    "    'description': \"Write a description of a short animation\",\n",
    "    'keywords': ['animation', 'text'],\n",
    "    'frame_height': 800,\n",
    "    'amount': 0.03,\n",
    "    'duration': 3600 * 1,\n",
    "    'lifetime': 3600 * 24 * 2,\n",
    "    'max_assignments': 3,\n",
    "}"
   ]
  },
  {
   "cell_type": "code",
   "execution_count": 21,
   "metadata": {
    "run_control": {
     "frozen": false,
     "marked": false,
     "read_only": false
    }
   },
   "outputs": [],
   "source": [
    "build_hit_group = [prepare_hit(gif, static_params) for gif in test_gifs]"
   ]
  },
  {
   "cell_type": "code",
   "execution_count": null,
   "metadata": {
    "collapsed": true
   },
   "outputs": [],
   "source": []
  },
  {
   "cell_type": "code",
   "execution_count": null,
   "metadata": {
    "collapsed": true
   },
   "outputs": [],
   "source": []
  },
  {
   "cell_type": "code",
   "execution_count": 20,
   "metadata": {
    "run_control": {
     "frozen": false,
     "read_only": false
    }
   },
   "outputs": [],
   "source": [
    "hit_group = [amt_con.create_html_hit(single_hit) for single_hit in build_hit_group]"
   ]
  },
  {
   "cell_type": "markdown",
   "metadata": {},
   "source": [
    "## review"
   ]
  },
  {
   "cell_type": "code",
   "execution_count": 145,
   "metadata": {
    "collapsed": true,
    "run_control": {
     "frozen": false,
     "read_only": false
    }
   },
   "outputs": [],
   "source": [
    "complete_hits = get_completed_hits(amt_con.connection)"
   ]
  },
  {
   "cell_type": "code",
   "execution_count": 146,
   "metadata": {
    "collapsed": true,
    "run_control": {
     "frozen": false,
     "marked": false,
     "read_only": false
    }
   },
   "outputs": [],
   "source": [
    "results = get_assignments(amt_con.connection, complete_hits)\n",
    "assignments =[assignment[0] for assignment in list(results.values())]\n",
    "assignment_results = [json.loads(ar.answers[0][0].fields[0]) for ar in assignments]"
   ]
  },
  {
   "cell_type": "code",
   "execution_count": 150,
   "metadata": {
    "run_control": {
     "frozen": false,
     "read_only": false
    }
   },
   "outputs": [
    {
     "data": {
      "text/plain": [
       "[<boto.mturk.connection.Assignment instance at 0x110d08b48>,\n",
       " <boto.mturk.connection.Assignment instance at 0x110d089e0>,\n",
       " <boto.mturk.connection.Assignment instance at 0x110d08a28>,\n",
       " <boto.mturk.connection.Assignment instance at 0x110d08a70>]"
      ]
     },
     "execution_count": 150,
     "metadata": {},
     "output_type": "execute_result"
    }
   ],
   "source": [
    "assignments"
   ]
  },
  {
   "cell_type": "code",
   "execution_count": 147,
   "metadata": {
    "collapsed": true,
    "run_control": {
     "frozen": false,
     "read_only": false
    }
   },
   "outputs": [],
   "source": [
    "def create_result(result):\n",
    "    result_dict = {\n",
    "        result[0]['image_url']: \n",
    "            {\n",
    "                'characters': result[0]['description'].split('/n'),\n",
    "                'setting': result[1]['description'].split('/n'),\n",
    "                'objects': result[2]['description'].split('/n'),\n",
    "                'actions': result[3]['description'].split('/n'),\n",
    "            }\n",
    "    }\n",
    "    return result_dict"
   ]
  },
  {
   "cell_type": "code",
   "execution_count": 149,
   "metadata": {
    "run_control": {
     "frozen": false,
     "read_only": false
    }
   },
   "outputs": [
    {
     "data": {
      "text/plain": [
       "[[{u'description': u'fred\\nwilma',\n",
       "   u'image_url': u'https://s3-us-west-2.amazonaws.com/ai2-vision-animation-gan/annotation_data/scene_gifs/s_03_e_22/s_03_e_22_shot_007771_007845.gif'},\n",
       "  {u'description': u'next to a stove in the kitchen'},\n",
       "  {u'description': u''},\n",
       "  {u'description': u'wilma is talking to fred'}],\n",
       " [{u'description': u'fred',\n",
       "   u'image_url': u'https://s3-us-west-2.amazonaws.com/ai2-vision-animation-gan/annotation_data/scene_gifs/s_03_e_22/s_03_e_22_shot_014078_014152.gif'},\n",
       "  {u'description': u'waiting room outside of a door'},\n",
       "  {u'description': u'bench'},\n",
       "  {u'description': u'fred is sitting on a bench\\na door opens\\nfred looks at the door'}],\n",
       " [{u'description': u'barney',\n",
       "   u'image_url': u'https://s3-us-west-2.amazonaws.com/ai2-vision-animation-gan/annotation_data/scene_gifs/s_03_e_22/s_03_e_22_shot_018443_018517.gif'},\n",
       "  {u'description': u'doorway of living room '},\n",
       "  {u'description': u''},\n",
       "  {u'description': u'barney walks into the room'}],\n",
       " [{u'description': u'Barney\\nFred',\n",
       "   u'image_url': u'https://s3-us-west-2.amazonaws.com/ai2-vision-animation-gan/annotation_data/scene_gifs/s_03_e_22/s_03_e_22_shot_030897_030971.gif'},\n",
       "  {u'description': u'Fred and Barney are outdoors in front of a wall'},\n",
       "  {u'description': u''},\n",
       "  {u'description': u'Fred and Barney are talking\\nFred gestures with his hand'}]]"
      ]
     },
     "execution_count": 149,
     "metadata": {},
     "output_type": "execute_result"
    }
   ],
   "source": [
    "assignment_results"
   ]
  },
  {
   "cell_type": "code",
   "execution_count": null,
   "metadata": {
    "collapsed": true,
    "run_control": {
     "frozen": false,
     "read_only": false
    }
   },
   "outputs": [],
   "source": []
  },
  {
   "cell_type": "code",
   "execution_count": null,
   "metadata": {
    "collapsed": true,
    "run_control": {
     "frozen": false,
     "read_only": false
    }
   },
   "outputs": [],
   "source": []
  },
  {
   "cell_type": "code",
   "execution_count": 148,
   "metadata": {
    "run_control": {
     "frozen": false,
     "read_only": false
    }
   },
   "outputs": [
    {
     "data": {
      "text/plain": [
       "[{u'https://s3-us-west-2.amazonaws.com/ai2-vision-animation-gan/annotation_data/scene_gifs/s_03_e_22/s_03_e_22_shot_007771_007845.gif': {'actions': [u'wilma is talking to fred'],\n",
       "   'characters': [u'fred\\nwilma'],\n",
       "   'objects': [u''],\n",
       "   'setting': [u'next to a stove in the kitchen']}}]"
      ]
     },
     "execution_count": 148,
     "metadata": {},
     "output_type": "execute_result"
    }
   ],
   "source": [
    "[create_result(res) for res in assignment_results[:1]]"
   ]
  },
  {
   "cell_type": "code",
   "execution_count": 140,
   "metadata": {
    "run_control": {
     "frozen": false,
     "read_only": false
    }
   },
   "outputs": [
    {
     "data": {
      "text/plain": [
       "[[{u'description': u'male character\\nmale character',\n",
       "   u'image_url': u'https://s3-us-west-2.amazonaws.com/ai2-vision-animation-gan/annotation_data/scene_gifs/s_03_e_22/s_03_e_22_shot_038430_038504.gif'},\n",
       "  {u'description': u'rock quarry'},\n",
       "  {u'description': u''},\n",
       "  {u'description': u'two men are talking'}],\n",
       " [{u'description': u'barney',\n",
       "   u'image_url': u'https://s3-us-west-2.amazonaws.com/ai2-vision-animation-gan/annotation_data/scene_gifs/s_03_e_22/s_03_e_22_shot_018443_018517.gif'},\n",
       "  {u'description': u'living room'},\n",
       "  {u'description': u''},\n",
       "  {u'description': u'barney walks through the door'}]]"
      ]
     },
     "execution_count": 140,
     "metadata": {},
     "output_type": "execute_result"
    }
   ],
   "source": [
    "result_dict = "
   ]
  },
  {
   "cell_type": "code",
   "execution_count": null,
   "metadata": {
    "collapsed": true,
    "run_control": {
     "frozen": false,
     "read_only": false
    }
   },
   "outputs": [],
   "source": []
  },
  {
   "cell_type": "code",
   "execution_count": null,
   "metadata": {
    "collapsed": true,
    "run_control": {
     "frozen": false,
     "read_only": false
    }
   },
   "outputs": [],
   "source": []
  },
  {
   "cell_type": "code",
   "execution_count": 140,
   "metadata": {
    "collapsed": true,
    "run_control": {
     "frozen": false,
     "read_only": false
    }
   },
   "outputs": [],
   "source": [
    "amt_con.delete_all_hits()"
   ]
  },
  {
   "cell_type": "markdown",
   "metadata": {
    "heading_collapsed": true
   },
   "source": [
    "## hide"
   ]
  },
  {
   "cell_type": "code",
   "execution_count": 266,
   "metadata": {
    "code_folding": [
     0
    ],
    "collapsed": true,
    "hidden": true,
    "run_control": {
     "frozen": false,
     "read_only": false
    }
   },
   "outputs": [],
   "source": [
    "# questions_to_submit = questions_urls\n",
    "# expected_cost = len(questions_to_submit) *  static_params['amount'] * static_params['max_assignments']\n",
    "# if float(current_account_balance.amount) < expected_cost:\n",
    "#     print('WARNING -- account balance is too low -- WARNING')\n",
    "# print('expect this batch of HITs to cost: $' + str(expected_cost))"
   ]
  },
  {
   "cell_type": "markdown",
   "metadata": {
    "heading_collapsed": true
   },
   "source": [
    "# Reviewing latest HITs"
   ]
  },
  {
   "cell_type": "markdown",
   "metadata": {
    "hidden": true
   },
   "source": [
    "## download"
   ]
  },
  {
   "cell_type": "code",
   "execution_count": null,
   "metadata": {
    "collapsed": true,
    "hidden": true,
    "run_control": {
     "frozen": false,
     "read_only": false
    }
   },
   "outputs": [],
   "source": [
    "r_hits_current_batch = amt_util.get_completed_hits(mturk)"
   ]
  },
  {
   "cell_type": "code",
   "execution_count": null,
   "metadata": {
    "collapsed": true,
    "hidden": true,
    "run_control": {
     "frozen": false,
     "read_only": false
    }
   },
   "outputs": [],
   "source": [
    "assignment_results_current_batch = amt_util.get_assignments(mturk, r_hits_current_batch, status='Submitted')"
   ]
  },
  {
   "cell_type": "markdown",
   "metadata": {
    "heading_collapsed": true,
    "hidden": true
   },
   "source": [
    "## process"
   ]
  },
  {
   "cell_type": "code",
   "execution_count": null,
   "metadata": {
    "collapsed": true,
    "hidden": true,
    "run_control": {
     "frozen": false,
     "read_only": false
    }
   },
   "outputs": [],
   "source": [
    "print 'current assignment statuses'\n",
    "print amt_util.get_assignment_statuses(assignment_results_current_batch)"
   ]
  },
  {
   "cell_type": "code",
   "execution_count": null,
   "metadata": {
    "collapsed": true,
    "hidden": true,
    "run_control": {
     "frozen": false,
     "read_only": false
    }
   },
   "outputs": [],
   "source": [
    "submitted_assignments = defaultdict(list)\n",
    "for hitid, assignments in assignment_results_current_batch.items():\n",
    "    for assignment in assignments:\n",
    "        if assignment.AssignmentStatus == 'Submitted':\n",
    "            submitted_assignments[hitid].append(assignment)"
   ]
  },
  {
   "cell_type": "code",
   "execution_count": null,
   "metadata": {
    "collapsed": true,
    "hidden": true,
    "run_control": {
     "frozen": false,
     "read_only": false
    }
   },
   "outputs": [],
   "source": [
    "assigment_worker_lookup = {}\n",
    "for hit_id, hit_assignments in submitted_assignments.items():\n",
    "        for assignment in hit_assignments:\n",
    "            assigment_worker_lookup[assignment.AssignmentId]  = assignment.WorkerId"
   ]
  },
  {
   "cell_type": "code",
   "execution_count": null,
   "metadata": {
    "collapsed": true,
    "hidden": true,
    "run_control": {
     "frozen": false,
     "read_only": false
    }
   },
   "outputs": [],
   "source": [
    "def process_raw_hits(assignments_by_hit):\n",
    "    mechanical_turk_results = defaultdict(list)\n",
    "    for hit_id, hit_assignments in assignments_by_hit.items():\n",
    "        for assignment in hit_assignments:\n",
    "            for answers in assignment.answers:\n",
    "                try:\n",
    "                    q_id = answers[0].fields[0]\n",
    "                    q_ans = answers[1].fields[0]\n",
    "                    mechanical_turk_results[hit_id].append({\n",
    "                        assignment.AssignmentId: {q_id: q_ans.replace('.', '')}}\n",
    "                    )\n",
    "                except IndexError as e:\n",
    "                    print(e, answers[0])\n",
    "    return mechanical_turk_results"
   ]
  },
  {
   "cell_type": "code",
   "execution_count": null,
   "metadata": {
    "collapsed": true,
    "hidden": true,
    "run_control": {
     "frozen": false,
     "read_only": false
    }
   },
   "outputs": [],
   "source": [
    "proc_results = process_raw_hits(submitted_assignments)"
   ]
  },
  {
   "cell_type": "code",
   "execution_count": null,
   "metadata": {
    "collapsed": true,
    "hidden": true,
    "run_control": {
     "frozen": false,
     "read_only": false
    }
   },
   "outputs": [],
   "source": [
    "def make_answer_json(assignment_results):\n",
    "    results = {}\n",
    "    for hid, assignments in assignment_results.items():\n",
    "        for assignment in assignments:\n",
    "            for aid, result in assignment.items():\n",
    "               results.update(result) \n",
    "    results_output = {k: v.replace('.', '') for k,v in results.items()}\n",
    "    return results_output"
   ]
  },
  {
   "cell_type": "code",
   "execution_count": null,
   "metadata": {
    "collapsed": true,
    "hidden": true,
    "run_control": {
     "frozen": false,
     "read_only": false
    }
   },
   "outputs": [],
   "source": [
    "res_json = make_answer_json(proc_results)"
   ]
  },
  {
   "cell_type": "code",
   "execution_count": null,
   "metadata": {
    "collapsed": true,
    "hidden": true,
    "run_control": {
     "frozen": false,
     "read_only": false
    }
   },
   "outputs": [],
   "source": [
    "with open('turker_answers.json', 'w') as f:\n",
    "    json.dump(res_json, f)"
   ]
  },
  {
   "cell_type": "code",
   "execution_count": null,
   "metadata": {
    "collapsed": true,
    "hidden": true,
    "run_control": {
     "frozen": false,
     "read_only": false
    }
   },
   "outputs": [],
   "source": [
    "def make_results_df(raw_hit_results):\n",
    "    col_names = ['qid', 'answer', 'hit_id', 'assignment_id']\n",
    "    results_df = pd.DataFrame(columns=col_names)\n",
    "    for hit_id, assignments in raw_hit_results.items():\n",
    "        for assignment in assignments:\n",
    "            for a_id, annotation in assignment.items():\n",
    "                for diagram, rectangles in annotation.items():\n",
    "                    for box in rectangles:\n",
    "                        results_df.loc[len(results_df)] = \\\n",
    "                            [diagram, box, hit_id, a_id]\n",
    "    return results_df"
   ]
  },
  {
   "cell_type": "code",
   "execution_count": null,
   "metadata": {
    "collapsed": true,
    "hidden": true,
    "run_control": {
     "frozen": false,
     "read_only": false
    },
    "scrolled": true
   },
   "outputs": [],
   "source": [
    "res_df = make_results_df(proc_results)"
   ]
  },
  {
   "cell_type": "code",
   "execution_count": null,
   "metadata": {
    "collapsed": true,
    "hidden": true,
    "run_control": {
     "frozen": false,
     "read_only": false
    }
   },
   "outputs": [],
   "source": [
    "grouped_by_page = res_df.groupby(['qid'])"
   ]
  },
  {
   "cell_type": "code",
   "execution_count": null,
   "metadata": {
    "collapsed": true,
    "hidden": true,
    "run_control": {
     "frozen": false,
     "read_only": false
    }
   },
   "outputs": [],
   "source": [
    "def make_consensus_df(results_df, no_consensus_flag):\n",
    "    grouped_by_page = results_df.groupby('qid')\n",
    "    aggregated_df = grouped_by_page.agg(pd.DataFrame.mode)\n",
    "#     aggregated_df.drop([ 'page', 'box_id', 'worker_id'], axis=1, inplace=True)\n",
    "    aggregated_df = aggregated_df.fillna(no_consensus_flag)\n",
    "    consensus_results_df = aggregated_df.reset_index()\n",
    "#     consensus_results_df.drop('level_2', axis=1, inplace=True)\n",
    "    return consensus_results_df"
   ]
  },
  {
   "cell_type": "markdown",
   "metadata": {
    "heading_collapsed": true
   },
   "source": [
    "# Merging latest round of HITs into combined dataset "
   ]
  },
  {
   "cell_type": "markdown",
   "metadata": {
    "heading_collapsed": true,
    "hidden": true
   },
   "source": [
    "## Load previously pickled results"
   ]
  },
  {
   "cell_type": "code",
   "execution_count": null,
   "metadata": {
    "collapsed": true,
    "hidden": true,
    "run_control": {
     "frozen": false,
     "read_only": false
    }
   },
   "outputs": [],
   "source": [
    "batch_number = 7\n",
    "\n",
    "with open('./store_hit_results_metadata/group_' + str(batch_number) + '/hit_info.pkl') as f:\n",
    "    r_hits_previous_batch = pickle.load(f)\n",
    "    \n",
    "with open('./store_hit_results_metadata/group_' + str(batch_number) + '/assignment_info.pkl') as f:\n",
    "    assignment_results_previous_batch = pickle.load(f)\n",
    "    \n",
    "# with open('./store_hit_results_metadata/group_' + str(batch_number) + '/raw_res.pkl') as f:\n",
    "#     raw_hit_results_previous_batch = pickle.load(f)"
   ]
  },
  {
   "cell_type": "code",
   "execution_count": null,
   "metadata": {
    "collapsed": true,
    "hidden": true,
    "run_control": {
     "frozen": false,
     "read_only": false
    }
   },
   "outputs": [],
   "source": [
    "# combined_results_batch = pd.read_pickle(data_pickled_dir + 'complete_df.pkl')\n",
    "# combined_consensus_batch = pd.read_pickle(data_pickled_dir + 'consensus_df.pkl')"
   ]
  },
  {
   "cell_type": "code",
   "execution_count": null,
   "metadata": {
    "collapsed": true,
    "hidden": true,
    "run_control": {
     "frozen": false,
     "read_only": false
    }
   },
   "outputs": [],
   "source": [
    "missing_hits = set(assignment_results_previous_batch.keys()).difference(assignment_results_current_batch.keys())\n",
    "missing_hits_assignments = {k: v for k, v in assignment_results_previous_batch.items() if k in missing_hits}"
   ]
  },
  {
   "cell_type": "markdown",
   "metadata": {
    "heading_collapsed": true,
    "hidden": true
   },
   "source": [
    "## Load prior complete dataset if not in memory"
   ]
  },
  {
   "cell_type": "code",
   "execution_count": null,
   "metadata": {
    "collapsed": true,
    "hidden": true,
    "run_control": {
     "frozen": false,
     "read_only": false
    }
   },
   "outputs": [],
   "source": [
    "data_pickled_dir = './store_hit_results_metadata/group_latest_combined/' "
   ]
  },
  {
   "cell_type": "code",
   "execution_count": null,
   "metadata": {
    "collapsed": true,
    "hidden": true,
    "run_control": {
     "frozen": false,
     "read_only": false
    }
   },
   "outputs": [],
   "source": [
    "combined_results_df = pd.read_pickle(data_pickled_dir + 'complete_df.pkl')\n",
    "combined_consensus_df = pd.read_pickle(data_pickled_dir + 'consensus_df.pkl')\n",
    "combined_consensus_with_workerid_df = pd.read_pickle(data_pickled_dir + 'consensus_df_w_workers.pkl') "
   ]
  },
  {
   "cell_type": "markdown",
   "metadata": {
    "heading_collapsed": true,
    "hidden": true
   },
   "source": [
    "## Updating full dataset"
   ]
  },
  {
   "cell_type": "code",
   "execution_count": null,
   "metadata": {
    "collapsed": true,
    "hidden": true,
    "run_control": {
     "frozen": false,
     "read_only": false
    }
   },
   "outputs": [],
   "source": [
    "combined_results_df = combined_results_df.append(results_df_previous_batch)\n",
    "combined_consensus_df = combined_consensus_df.append(consensus_prev)\n",
    "combined_consensus_with_workerid_df = combined_consensus_with_workerid_df.append(consensus_prevww)"
   ]
  },
  {
   "cell_type": "code",
   "execution_count": null,
   "metadata": {
    "collapsed": true,
    "hidden": true,
    "run_control": {
     "frozen": false,
     "read_only": false
    }
   },
   "outputs": [],
   "source": [
    "%%capture\n",
    "no_consensus_hits = combined_consensus_df[combined_consensus_df['category'] == 'No Consensus']"
   ]
  },
  {
   "cell_type": "markdown",
   "metadata": {
    "hidden": true
   },
   "source": [
    "## Working with full dataset"
   ]
  },
  {
   "cell_type": "markdown",
   "metadata": {
    "heading_collapsed": true
   },
   "source": [
    "# Worker analysis"
   ]
  },
  {
   "cell_type": "markdown",
   "metadata": {
    "heading_collapsed": true,
    "hidden": true
   },
   "source": [
    "## Basic worker stats"
   ]
  },
  {
   "cell_type": "code",
   "execution_count": null,
   "metadata": {
    "collapsed": true,
    "hidden": true,
    "run_control": {
     "frozen": false,
     "read_only": false
    }
   },
   "outputs": [],
   "source": [
    "results_df"
   ]
  },
  {
   "cell_type": "code",
   "execution_count": null,
   "metadata": {
    "collapsed": true,
    "hidden": true,
    "run_control": {
     "frozen": false,
     "read_only": false
    },
    "scrolled": true
   },
   "outputs": [],
   "source": [
    "print 'number of unique workers:'\n",
    "pd.unique(results_df['worker_id']).shape[0]"
   ]
  },
  {
   "cell_type": "code",
   "execution_count": null,
   "metadata": {
    "collapsed": true,
    "hidden": true,
    "run_control": {
     "frozen": false,
     "read_only": false
    }
   },
   "outputs": [],
   "source": [
    "grouped_by_worker = results_df.groupby('worker_id')"
   ]
  },
  {
   "cell_type": "code",
   "execution_count": null,
   "metadata": {
    "collapsed": true,
    "hidden": true,
    "run_control": {
     "frozen": false,
     "read_only": false
    }
   },
   "outputs": [],
   "source": [
    "grouped_by_worker['rectangle'].aggregate(len)"
   ]
  },
  {
   "cell_type": "code",
   "execution_count": null,
   "metadata": {
    "collapsed": true,
    "hidden": true,
    "run_control": {
     "frozen": false,
     "read_only": false
    }
   },
   "outputs": [],
   "source": []
  },
  {
   "cell_type": "code",
   "execution_count": null,
   "metadata": {
    "collapsed": true,
    "hidden": true,
    "run_control": {
     "frozen": false,
     "read_only": false
    }
   },
   "outputs": [],
   "source": []
  },
  {
   "cell_type": "code",
   "execution_count": null,
   "metadata": {
    "collapsed": true,
    "hidden": true,
    "run_control": {
     "frozen": false,
     "read_only": false
    }
   },
   "outputs": [],
   "source": [
    "_ = results_df['worker_id'].value_counts().hist(bins= 30)"
   ]
  },
  {
   "cell_type": "markdown",
   "metadata": {
    "heading_collapsed": true,
    "hidden": true
   },
   "source": [
    "### HIT duration for pricing"
   ]
  },
  {
   "cell_type": "code",
   "execution_count": null,
   "metadata": {
    "collapsed": true,
    "hidden": true,
    "run_control": {
     "frozen": false,
     "read_only": false
    }
   },
   "outputs": [],
   "source": [
    "task_duration_seconds = []\n",
    "for hit_id, assignments in assignment_results_current_batch.items():\n",
    "    for assignment in assignments:\n",
    "        hit_duration = dt_parse.parse(assignment.SubmitTime) - dt_parse.parse(assignment.AcceptTime)\n",
    "        task_duration_seconds.append(hit_duration.seconds)"
   ]
  },
  {
   "cell_type": "code",
   "execution_count": null,
   "metadata": {
    "collapsed": true,
    "hidden": true,
    "run_control": {
     "frozen": false,
     "read_only": false
    }
   },
   "outputs": [],
   "source": [
    "task_duration_series = pd.Series(task_duration_seconds)"
   ]
  },
  {
   "cell_type": "code",
   "execution_count": null,
   "metadata": {
    "collapsed": true,
    "hidden": true,
    "run_control": {
     "frozen": false,
     "read_only": false
    },
    "scrolled": true
   },
   "outputs": [],
   "source": [
    "_ = task_duration_series.hist(bins=30, log=True)"
   ]
  },
  {
   "cell_type": "code",
   "execution_count": null,
   "metadata": {
    "collapsed": true,
    "hidden": true,
    "run_control": {
     "frozen": false,
     "read_only": false
    }
   },
   "outputs": [],
   "source": [
    "winsorized_durations = [t for t in task_duration_seconds if t < 300]\n",
    "w_duration_series = pd.Series(winsorized_durations)"
   ]
  },
  {
   "cell_type": "code",
   "execution_count": null,
   "metadata": {
    "collapsed": true,
    "hidden": true,
    "run_control": {
     "frozen": false,
     "read_only": false
    }
   },
   "outputs": [],
   "source": [
    "_ = pd.Series(w_duration_series).hist(bins=60)\n",
    "plt.title('Worker task duration', fontsize=50, verticalalignment='bottom', color = b16_colors.b)\n",
    "plt.ylabel(\"Number of Workers\", fontsize=30, labelpad=10, color = b16_colors.b)\n",
    "plt.xlabel(\"Seconds Spent on HIT\", fontsize=30, labelpad=10, color = b16_colors.b)\n",
    "plt.tick_params(axis='x', which='major', labelsize=20)\n",
    "plt.tick_params(axis='y', which='major', labelsize=20)"
   ]
  },
  {
   "cell_type": "code",
   "execution_count": null,
   "metadata": {
    "collapsed": true,
    "hidden": true,
    "run_control": {
     "frozen": false,
     "read_only": false
    }
   },
   "outputs": [],
   "source": [
    "print 'duration mode= ' + str(w_duration_series.mode().values[0])\n",
    "print 'duration median= ' + str(w_duration_series.median())"
   ]
  },
  {
   "cell_type": "markdown",
   "metadata": {
    "heading_collapsed": true,
    "hidden": true
   },
   "source": [
    "## Identifying high and low consensus workers"
   ]
  },
  {
   "cell_type": "code",
   "execution_count": null,
   "metadata": {
    "collapsed": true,
    "hidden": true,
    "run_control": {
     "frozen": false,
     "read_only": false
    }
   },
   "outputs": [],
   "source": [
    "consensus_with_workerid_df_this_batch = amt_util.make_consensus_df_w_worker_id(results_df_current_batch, consensus_results_df_current_batch)"
   ]
  },
  {
   "cell_type": "code",
   "execution_count": null,
   "metadata": {
    "collapsed": true,
    "hidden": true,
    "run_control": {
     "frozen": false,
     "read_only": false
    }
   },
   "outputs": [],
   "source": [
    "len(pd.unique(worker_conflicts['worker_id']))"
   ]
  },
  {
   "cell_type": "code",
   "execution_count": null,
   "metadata": {
    "collapsed": true,
    "hidden": true,
    "run_control": {
     "frozen": false,
     "read_only": false
    }
   },
   "outputs": [],
   "source": [
    "worker_conflicts = combined_consensus_with_workerid_df[combined_consensus_with_workerid_df['category'] != combined_consensus_with_workerid_df['consensus_category']]\n",
    "all_worker_counts = combined_results_df['worker_id'].value_counts()\n",
    "bad_worker_counts = worker_conflicts['worker_id'].value_counts()\n",
    "worker_quality_df = pd.DataFrame([all_worker_counts, bad_worker_counts]).T\n",
    "worker_quality_df.columns=['submitted', 'incorrect']\n",
    "worker_quality_df['flaw_ratio'] = worker_quality_df['incorrect']/worker_quality_df['submitted']\n",
    "\n",
    "good_workers = worker_quality_df.sort_values('flaw_ratio', ascending= True).index.tolist()\n",
    "\n",
    "suspect_workers = worker_quality_df.sort_values('flaw_ratio', ascending= False).index.tolist()\n",
    "\n",
    "worker_quality_df.sort_values('flaw_ratio', ascending= True).head(10)"
   ]
  },
  {
   "cell_type": "markdown",
   "metadata": {
    "hidden": true
   },
   "source": [
    "I became concerned that I missed the perfect performers, but as I suspected perfect workers only did 1-2 HITs at most"
   ]
  },
  {
   "cell_type": "code",
   "execution_count": null,
   "metadata": {
    "collapsed": true,
    "hidden": true,
    "run_control": {
     "frozen": false,
     "read_only": false
    }
   },
   "outputs": [],
   "source": [
    "aw_set = set(all_worker_counts.index)\n",
    "bw_set = set(bad_worker_counts.index)\n",
    "flawless_workers = list(aw_set.difference(bw_set))\n",
    "all_worker_counts[all_worker_counts.index.isin(best_workers)]"
   ]
  },
  {
   "cell_type": "code",
   "execution_count": null,
   "metadata": {
    "collapsed": true,
    "hidden": true,
    "run_control": {
     "frozen": false,
     "read_only": false
    }
   },
   "outputs": [],
   "source": [
    "bad_and_prolific_workers = worker_quality_df.sort_values('flaw_ratio', ascending= False).head(25).sort_values('incorrect', ascending= False)"
   ]
  },
  {
   "cell_type": "code",
   "execution_count": null,
   "metadata": {
    "collapsed": true,
    "hidden": true,
    "run_control": {
     "frozen": false,
     "read_only": false
    }
   },
   "outputs": [],
   "source": [
    "bad_and_prolific_to_review = list(bad_and_prolific_workers[:15].index)"
   ]
  },
  {
   "cell_type": "markdown",
   "metadata": {
    "heading_collapsed": true,
    "hidden": true
   },
   "source": [
    "## Messaging workers"
   ]
  },
  {
   "cell_type": "code",
   "execution_count": null,
   "metadata": {
    "collapsed": true,
    "hidden": true,
    "run_control": {
     "frozen": false,
     "read_only": false
    }
   },
   "outputs": [],
   "source": [
    "subject = \"More science book annotation HITs are available\"\n",
    "message = \"\"\"\n",
    "Hello, \n",
    "\n",
    "If you're receiving this message you were among the top performers on the first group HITs I submitted.\n",
    "I've submitted another group of HITs, with more to follow in the next few days. \n",
    "This task is slightly different from the first, so please review the new instructions before jumping in.\n",
    "\n",
    "Happy to get any feedback you might have for the new HITs.\n",
    "\"\"\""
   ]
  },
  {
   "cell_type": "code",
   "execution_count": null,
   "metadata": {
    "collapsed": true,
    "hidden": true,
    "run_control": {
     "frozen": false,
     "read_only": false
    }
   },
   "outputs": [],
   "source": [
    "_ = mturk.notify_workers(good_workers[:20], subject, message)"
   ]
  },
  {
   "cell_type": "markdown",
   "metadata": {
    "heading_collapsed": true
   },
   "source": [
    "# HIT end-of-life"
   ]
  },
  {
   "cell_type": "markdown",
   "metadata": {
    "heading_collapsed": true,
    "hidden": true
   },
   "source": [
    "## Pickle latest results"
   ]
  },
  {
   "cell_type": "code",
   "execution_count": null,
   "metadata": {
    "collapsed": true,
    "hidden": true,
    "run_control": {
     "frozen": false,
     "read_only": false
    }
   },
   "outputs": [],
   "source": [
    "#reset as needed\n",
    "gn = 1"
   ]
  },
  {
   "cell_type": "code",
   "execution_count": null,
   "metadata": {
    "collapsed": true,
    "hidden": true,
    "run_control": {
     "frozen": false,
     "read_only": false
    }
   },
   "outputs": [],
   "source": [
    "gn"
   ]
  },
  {
   "cell_type": "code",
   "execution_count": null,
   "metadata": {
    "collapsed": true,
    "hidden": true,
    "run_control": {
     "frozen": false,
     "read_only": false
    }
   },
   "outputs": [],
   "source": [
    "next_group = gn + 1\n",
    "group_n = '_' + str(gn) + '/'\n",
    "\n",
    "temp_store_dir = './store_hit_results_metadata/ndq'\n",
    "try:\n",
    "    os.mkdir(temp_store_dir + group_n)\n",
    "except:\n",
    "    OSError\n",
    "    \n",
    "result_file_name = 'hit_info.pkl'\n",
    "assignment_file_name = 'assignment_info.pkl'\n",
    "raw_results_file_name = 'raw_res.pkl'\n",
    "# complete_results_file = 'complete_df.pkl'\n",
    "consensus_results_file = 'consensus_df.pkl'\n",
    "\n",
    "amt_util.pickle_this(r_hits_current_batch, temp_store_dir + group_n + result_file_name)\n",
    "amt_util.pickle_this(submitted_assignments, temp_store_dir + group_n + assignment_file_name)\n",
    "amt_util.pickle_this(res_df, temp_store_dir + group_n + raw_results_file_name)\n",
    "# results_df.to_pickle(temp_store_dir + group_n + complete_results_file)\n",
    "print 'saved HIT batch number ' + str(gn)\n",
    "print 'now onto batch ' +str(next_group) \n",
    "gn = next_group"
   ]
  },
  {
   "cell_type": "markdown",
   "metadata": {
    "heading_collapsed": true,
    "hidden": true
   },
   "source": [
    "## Pickle combined dataset"
   ]
  },
  {
   "cell_type": "code",
   "execution_count": null,
   "metadata": {
    "collapsed": true,
    "hidden": true,
    "run_control": {
     "frozen": false,
     "read_only": false
    }
   },
   "outputs": [],
   "source": [
    "temp_store_dir = './store_hit_results_metadata/group'\n",
    "group_n = '_latest_combined/'\n",
    "try:\n",
    "    os.mkdir(temp_store_dir + group_n)\n",
    "except:\n",
    "    OSError\n",
    "    \n",
    "complete_results_file = 'complete_df.pkl'\n",
    "consensus_results_file = 'consensus_df.pkl'\n",
    "consensus_results_file_w_workers = 'consensus_df_w_workers.pkl'\n",
    "\n",
    "combined_results_df.to_pickle(temp_store_dir + group_n + complete_results_file)\n",
    "combined_consensus_df.to_pickle(temp_store_dir + group_n + consensus_results_file)\n",
    "combined_consensus_with_workerid_df.to_pickle(temp_store_dir + group_n + consensus_results_file_w_workers)"
   ]
  },
  {
   "cell_type": "markdown",
   "metadata": {
    "heading_collapsed": true,
    "hidden": true
   },
   "source": [
    "## Accepting and deleting HITs... careful with these"
   ]
  },
  {
   "cell_type": "markdown",
   "metadata": {
    "hidden": true
   },
   "source": [
    "Uncomment only when ready to accept or delete hits"
   ]
  },
  {
   "cell_type": "markdown",
   "metadata": {
    "hidden": true
   },
   "source": [
    "reject assignments carefully"
   ]
  },
  {
   "cell_type": "code",
   "execution_count": null,
   "metadata": {
    "collapsed": true,
    "hidden": true,
    "run_control": {
     "frozen": false,
     "read_only": false
    },
    "scrolled": false
   },
   "outputs": [],
   "source": [
    "# number_rejected_assignments, number_rejected_workers = amt_util.reject_assignments(mturk, workers_to_ban, combined_consensus_with_workerid_df)\n",
    "# print 'rejecting ' + str(number_rejected_assignments) + ' assignments' + ' from ' + str(number_rejected_workers) + ' workers'"
   ]
  },
  {
   "cell_type": "code",
   "execution_count": null,
   "metadata": {
    "collapsed": true,
    "hidden": true,
    "run_control": {
     "frozen": false,
     "read_only": false
    }
   },
   "outputs": [],
   "source": [
    "flattened_assignments = [item for sublist in assignment_results_current_batch.values() for item in sublist]\n",
    "len(flattened_assignments)\n",
    "# amt_util.get_assignment_statuses(assignment_results_current_batch)"
   ]
  },
  {
   "cell_type": "code",
   "execution_count": null,
   "metadata": {
    "collapsed": true,
    "hidden": true,
    "run_control": {
     "frozen": false,
     "read_only": false
    }
   },
   "outputs": [],
   "source": [
    "amt_util.get_assignment_statuses(assignment_results_current_batch)"
   ]
  },
  {
   "cell_type": "code",
   "execution_count": null,
   "metadata": {
    "collapsed": true,
    "hidden": true,
    "run_control": {
     "frozen": false,
     "read_only": false
    }
   },
   "outputs": [],
   "source": [
    "len(flattened_assignments)"
   ]
  },
  {
   "cell_type": "code",
   "execution_count": null,
   "metadata": {
    "collapsed": true,
    "hidden": true,
    "run_control": {
     "frozen": false,
     "read_only": false
    }
   },
   "outputs": [],
   "source": [
    "amt_util.accept_hits(mturk, flattened_assignments)"
   ]
  },
  {
   "cell_type": "code",
   "execution_count": null,
   "metadata": {
    "collapsed": true,
    "hidden": true,
    "run_control": {
     "frozen": false,
     "read_only": false
    }
   },
   "outputs": [],
   "source": [
    "# amt_util.delete_some_hits(mturk, assignment_results_current_batch_post_)"
   ]
  },
  {
   "cell_type": "code",
   "execution_count": null,
   "metadata": {
    "collapsed": true,
    "hidden": true,
    "run_control": {
     "frozen": false,
     "read_only": false
    }
   },
   "outputs": [],
   "source": [
    "len(bonuses_to_pay)"
   ]
  },
  {
   "cell_type": "code",
   "execution_count": null,
   "metadata": {
    "collapsed": true,
    "hidden": true,
    "run_control": {
     "frozen": false,
     "read_only": false
    }
   },
   "outputs": [],
   "source": [
    "def pay_bonuses(correct_assignments):\n",
    "    bonus_ammount = boto.mturk.price.Price(0.30)\n",
    "    bonus_reason_template = 'For correctly answering the science question given in assignment {}.'\n",
    "    for worker_ans in correct_assignments:\n",
    "        bonus_reason = bonus_reason_template.format(str(worker_ans['assignment_id']))\n",
    "        mturk.grant_bonus(worker_ans['wid'], worker_ans['assignment_id'], bonus_ammount, bonus_reason)"
   ]
  },
  {
   "cell_type": "code",
   "execution_count": null,
   "metadata": {
    "collapsed": true,
    "hidden": true,
    "run_control": {
     "frozen": false,
     "read_only": false
    }
   },
   "outputs": [],
   "source": [
    "len(bonuses_to_pay)"
   ]
  },
  {
   "cell_type": "code",
   "execution_count": null,
   "metadata": {
    "collapsed": true,
    "hidden": true,
    "run_control": {
     "frozen": false,
     "read_only": false
    }
   },
   "outputs": [],
   "source": [
    "# pay_bonuses(bonuses_to_pay)"
   ]
  },
  {
   "cell_type": "code",
   "execution_count": null,
   "metadata": {
    "collapsed": true,
    "hidden": true,
    "run_control": {
     "frozen": false,
     "read_only": false
    }
   },
   "outputs": [],
   "source": [
    "aggregated_df[aggregated_df['correct_con'] == False]"
   ]
  },
  {
   "cell_type": "code",
   "execution_count": null,
   "metadata": {
    "collapsed": true,
    "hidden": true,
    "run_control": {
     "frozen": false,
     "read_only": false
    }
   },
   "outputs": [],
   "source": []
  },
  {
   "cell_type": "code",
   "execution_count": null,
   "metadata": {
    "collapsed": true,
    "hidden": true,
    "run_control": {
     "frozen": false,
     "read_only": false
    }
   },
   "outputs": [],
   "source": []
  },
  {
   "cell_type": "code",
   "execution_count": null,
   "metadata": {
    "collapsed": true,
    "hidden": true,
    "run_control": {
     "frozen": false,
     "read_only": false
    }
   },
   "outputs": [],
   "source": []
  },
  {
   "cell_type": "code",
   "execution_count": null,
   "metadata": {
    "collapsed": true,
    "hidden": true,
    "run_control": {
     "frozen": false,
     "read_only": false
    }
   },
   "outputs": [],
   "source": []
  },
  {
   "cell_type": "code",
   "execution_count": null,
   "metadata": {
    "collapsed": true,
    "hidden": true,
    "run_control": {
     "frozen": false,
     "read_only": false
    }
   },
   "outputs": [],
   "source": [
    "# amt_util.delete_all_hits(mturk)"
   ]
  },
  {
   "cell_type": "markdown",
   "metadata": {
    "collapsed": true,
    "heading_collapsed": true,
    "run_control": {
     "frozen": false,
     "read_only": false
    }
   },
   "source": [
    "# End"
   ]
  }
 ],
 "metadata": {
  "kernelspec": {
   "display_name": "Python 2",
   "language": "python",
   "name": "python2"
  },
  "language_info": {
   "codemirror_mode": {
    "name": "ipython",
    "version": 2
   },
   "file_extension": ".py",
   "mimetype": "text/x-python",
   "name": "python",
   "nbconvert_exporter": "python",
   "pygments_lexer": "ipython2",
   "version": "2.7.13"
  }
 },
 "nbformat": 4,
 "nbformat_minor": 1
}

{
 "cells": [
  {
   "cell_type": "markdown",
   "metadata": {},
   "source": [
    "# Table of Contents\n",
    "* [load data](#load-data)\n",
    "* [bounding box clustering](#bounding-box-clustering)\n",
    "\t* [code](#code)\n",
    "\t* [run](#run)\n"
   ]
  },
  {
   "cell_type": "code",
   "execution_count": 630,
   "metadata": {
    "run_control": {
     "frozen": false,
     "read_only": false
    }
   },
   "outputs": [],
   "source": [
    "%%capture\n",
    "from __future__ import division\n",
    "import numpy as np\n",
    "import pandas as pd\n",
    "import scipy.stats as st\n",
    "import itertools\n",
    "import math\n",
    "from collections import Counter, defaultdict\n",
    "%load_ext autoreload\n",
    "%autoreload 2\n",
    "\n",
    "import matplotlib as mpl\n",
    "mpl.use(\"Agg\")\n",
    "import matplotlib.pylab as plt\n",
    "#%matplotlib notebook\n",
    "%matplotlib inline\n",
    "%load_ext base16_mplrc\n",
    "%base16_mplrc light default\n",
    "plt.rcParams['figure.figsize'] = (16.0, 10.0)\n",
    "\n",
    "import re\n",
    "# from datetime import datetime\n",
    "# import dateutil.parser as dt_parse\n",
    "import pickle\n",
    "import boto\n",
    "from copy import deepcopy\n",
    "import json\n",
    "import os\n",
    "import jinja2\n",
    "from IPython.core.display import HTML\n",
    "\n",
    "# import boto.mturk.connection as tc\n",
    "# import boto.mturk.question as tq\n",
    "from boto.mturk.qualification import PercentAssignmentsApprovedRequirement, Qualifications, Requirement\n",
    "\n",
    "from keysTkingdom import mturk_ai2\n",
    "from keysTkingdom import aws_tokes\n",
    "from keysTkingdom import mturk_aristo\n",
    "\n",
    "from tqdm import tqdm\n",
    "import random\n",
    "\n",
    "# import pdfextraction.amt_boto_modules as amt_util\n",
    "# from tqa_utils import Evaluator"
   ]
  },
  {
   "cell_type": "markdown",
   "metadata": {
    "heading_collapsed": true
   },
   "source": [
    "# load data"
   ]
  },
  {
   "cell_type": "code",
   "execution_count": 5,
   "metadata": {
    "collapsed": true,
    "hidden": true,
    "run_control": {
     "frozen": false,
     "read_only": false
    }
   },
   "outputs": [],
   "source": [
    "s3_base_path = 'https://s3-us-west-2.amazonaws.com/ai2-vision-animation-gan/annotation_data/still_frames/'"
   ]
  },
  {
   "cell_type": "code",
   "execution_count": 564,
   "metadata": {
    "collapsed": true,
    "hidden": true,
    "run_control": {
     "frozen": false,
     "read_only": false
    }
   },
   "outputs": [],
   "source": [
    "def create_result(assmt):\n",
    "    result = json.loads(assmt.answers[0][0].fields[0])\n",
    "    result['h_id'] = assmt.HITId\n",
    "    result['worker_id'] = assmt.WorkerId\n",
    "    return result"
   ]
  },
  {
   "cell_type": "code",
   "execution_count": 8,
   "metadata": {
    "collapsed": true,
    "hidden": true,
    "run_control": {
     "frozen": false,
     "read_only": false
    }
   },
   "outputs": [],
   "source": [
    "import pickle\n",
    "\n",
    "def pickle_this(results_df, file_name):\n",
    "    with open(file_name, 'w') as f:\n",
    "        pickle.dump(results_df, f)\n",
    "\n",
    "def un_pickle_this(file_name):\n",
    "    with open(file_name, 'rb') as f:\n",
    "        results_df = pickle.load(f)\n",
    "    return results_df"
   ]
  },
  {
   "cell_type": "code",
   "execution_count": 73,
   "metadata": {
    "hidden": true,
    "run_control": {
     "frozen": false,
     "read_only": false
    }
   },
   "outputs": [],
   "source": [
    "batch_2_data = un_pickle_this('batch_2.pkl')"
   ]
  },
  {
   "cell_type": "code",
   "execution_count": 80,
   "metadata": {
    "hidden": true
   },
   "outputs": [],
   "source": [
    "combined_data = {k: v for d in batch_2_data.values() for k, v in d.items() }"
   ]
  },
  {
   "cell_type": "code",
   "execution_count": 76,
   "metadata": {
    "hidden": true
   },
   "outputs": [
    {
     "data": {
      "text/plain": [
       "dict_keys(['mixed', 'dirty', 'clean'])"
      ]
     },
     "execution_count": 76,
     "metadata": {},
     "output_type": "execute_result"
    }
   ],
   "source": [
    "combined_data.keys()"
   ]
  },
  {
   "cell_type": "code",
   "execution_count": 130,
   "metadata": {
    "hidden": true
   },
   "outputs": [
    {
     "name": "stdout",
     "output_type": "stream",
     "text": [
      "----------\n",
      "Selected Boxes\n",
      "----------\n",
      "{'box': array([173,  57, 338, 338]), 'area': 46365, 'label': 'fred', 'idx': 0, 'votes': 3}\n",
      "{'box': array([474, 117, 589, 375]), 'area': 29670, 'label': 'worker', 'idx': 2, 'votes': 3}\n",
      "{'box': array([379,  67, 464, 355]), 'area': 24480, 'label': 'workers', 'idx': 1, 'votes': 2}\n",
      "----------\n",
      "Duplicate Boxes\n",
      "----------\n",
      "{'box': array([ 66,  39, 322, 364]), 'area': 83200, 'label': 'fred', 'idx': 3, 'duplicate_of': 0}\n",
      "{'box': array([368,  51, 590, 360]), 'area': 68598, 'label': 'no characters', 'idx': 4, 'duplicate_of': 2}\n",
      "{'box': array([166,  55, 339, 329]), 'area': 47402, 'label': 'fred', 'idx': 5, 'duplicate_of': 0}\n",
      "{'box': array([454, 117, 592, 365]), 'area': 34224, 'label': 'balding businessman', 'idx': 7, 'duplicate_of': 2}\n",
      "{'box': array([372,  70, 483, 359]), 'area': 32079, 'label': 'mr slate', 'idx': 6, 'duplicate_of': 1}\n"
     ]
    }
   ],
   "source": [
    "sb, dp = test_nms()"
   ]
  },
  {
   "cell_type": "code",
   "execution_count": 124,
   "metadata": {
    "hidden": true
   },
   "outputs": [
    {
     "data": {
      "text/plain": [
       "[{'area': 83200,\n",
       "  'box': array([ 66,  39, 322, 364]),\n",
       "  'duplicate_of': 0,\n",
       "  'idx': 3,\n",
       "  'label': 'fred'},\n",
       " {'area': 68598,\n",
       "  'box': array([368,  51, 590, 360]),\n",
       "  'duplicate_of': 2,\n",
       "  'idx': 4,\n",
       "  'label': 'no characters'},\n",
       " {'area': 47402,\n",
       "  'box': array([166,  55, 339, 329]),\n",
       "  'duplicate_of': 0,\n",
       "  'idx': 5,\n",
       "  'label': 'fred'},\n",
       " {'area': 34224,\n",
       "  'box': array([454, 117, 592, 365]),\n",
       "  'duplicate_of': 2,\n",
       "  'idx': 7,\n",
       "  'label': 'balding businessman'},\n",
       " {'area': 32079,\n",
       "  'box': array([372,  70, 483, 359]),\n",
       "  'duplicate_of': 1,\n",
       "  'idx': 6,\n",
       "  'label': 'mr slate'}]"
      ]
     },
     "execution_count": 124,
     "metadata": {},
     "output_type": "execute_result"
    }
   ],
   "source": [
    "dp"
   ]
  },
  {
   "cell_type": "code",
   "execution_count": 108,
   "metadata": {
    "hidden": true
   },
   "outputs": [
    {
     "data": {
      "text/plain": [
       "[{'area': 46365,\n",
       "  'box': array([173,  57, 338, 338]),\n",
       "  'idx': 0,\n",
       "  'label': 'fred',\n",
       "  'votes': 3},\n",
       " {'area': 29670,\n",
       "  'box': array([474, 117, 589, 375]),\n",
       "  'idx': 2,\n",
       "  'label': 'worker',\n",
       "  'votes': 3},\n",
       " {'area': 24480,\n",
       "  'box': array([379,  67, 464, 355]),\n",
       "  'idx': 1,\n",
       "  'label': 'workers',\n",
       "  'votes': 2}]"
      ]
     },
     "execution_count": 108,
     "metadata": {},
     "output_type": "execute_result"
    }
   ],
   "source": [
    "sb"
   ]
  },
  {
   "cell_type": "markdown",
   "metadata": {},
   "source": [
    "# bounding box clustering"
   ]
  },
  {
   "cell_type": "markdown",
   "metadata": {},
   "source": [
    "## code "
   ]
  },
  {
   "cell_type": "code",
   "execution_count": 52,
   "metadata": {},
   "outputs": [],
   "source": [
    "from amt_utils.bboxes import test_nms\n",
    "from amt_utils.bboxes import cluster_from_nms\n",
    "from amt_utils.bboxes import draw_animation_seq\n",
    "from amt_utils.bboxes import cluster_from_annos"
   ]
  },
  {
   "cell_type": "code",
   "execution_count": 63,
   "metadata": {},
   "outputs": [],
   "source": [
    "annotation_sample = batch_2_data['mixed']\n",
    "aid, animation_annos =  random.choice(list(annotation_sample.items()))"
   ]
  },
  {
   "cell_type": "code",
   "execution_count": 291,
   "metadata": {},
   "outputs": [
    {
     "data": {
      "text/plain": [
       "[{'characterBoxes': '[{\"left\":313,\"top\":127,\"width\":102,\"height\":113,\"label\":\"fred\"},{\"left\":268,\"top\":157,\"width\":75,\"height\":81,\"label\":\"barney\"}]',\n",
       "  'h_id': '3QTFNPMJC7IY442ZIFZXQ8L4H45NZF',\n",
       "  'stillID': 's_01_e_23_shot_029337_029411_10.png',\n",
       "  'worker_id': 'A39AXTTH0QVFA3'},\n",
       " {'characterBoxes': '[{\"left\":340,\"top\":127,\"width\":85,\"height\":127,\"label\":\"no characters\"},{\"left\":262,\"top\":172,\"width\":96,\"height\":100,\"label\":\"no characters\"}]',\n",
       "  'h_id': '3QTFNPMJC7IY442ZIFZXQ8L4H45NZF',\n",
       "  'stillID': 's_01_e_23_shot_029337_029411_10.png',\n",
       "  'worker_id': 'A300BK2S2PO3Q7'},\n",
       " {'characterBoxes': '[{\"left\":271,\"top\":163,\"width\":72,\"height\":72,\"label\":\"barney\"},{\"left\":336,\"top\":129,\"width\":78,\"height\":114,\"label\":\"fred\"},{\"left\":273,\"top\":165,\"width\":71,\"height\":69,\"label\":\"blonde man with brown shirt and green hat\"},{\"left\":336,\"top\":125,\"width\":81,\"height\":117,\"label\":\"man with black hair, orange shirt with balck dots and blue tie with a green hat\"}]',\n",
       "  'h_id': '3QTFNPMJC7IY442ZIFZXQ8L4H45NZF',\n",
       "  'stillID': 's_01_e_23_shot_029337_029411_10.png',\n",
       "  'worker_id': 'A1FEZBWH38XM9G'}]"
      ]
     },
     "execution_count": 291,
     "metadata": {},
     "output_type": "execute_result"
    }
   ],
   "source": [
    "animation_annos[:3]"
   ]
  },
  {
   "cell_type": "code",
   "execution_count": null,
   "metadata": {
    "collapsed": true
   },
   "outputs": [],
   "source": [
    "'s_01_e_23_shot_027533_027607'"
   ]
  },
  {
   "cell_type": "code",
   "execution_count": 509,
   "metadata": {
    "collapsed": true
   },
   "outputs": [],
   "source": [
    "rev_dir = 'review_results'\n",
    "img_dir = 'review_frames'"
   ]
  },
  {
   "cell_type": "code",
   "execution_count": 518,
   "metadata": {},
   "outputs": [
    {
     "data": {
      "text/plain": [
       "{'review_results/review_frames/s_01_e_08_shot_015818_015892_rev.png': 2.6666666666666665}"
      ]
     },
     "execution_count": 518,
     "metadata": {},
     "output_type": "execute_result"
    }
   ],
   "source": [
    "review_seq"
   ]
  },
  {
   "cell_type": "code",
   "execution_count": null,
   "metadata": {
    "code_folding": [
     0
    ],
    "collapsed": true
   },
   "outputs": [],
   "source": [
    "# test_frame = 's_01_e_22_shot_013933_014007'\n",
    "# test_frame = 's_01_e_23_shot_029337_029411'\n",
    "# test_frame = 's_01_e_22_shot_033714_033788'\n",
    "test_frame = 's_01_e_10_shot_013310_013384'\n",
    "\n",
    "annotation_sample = batch_2_data['mixed']\n",
    "# aid, animation_annos =  random.choice(list(annotation_sample.items()))\n",
    "# aid, animation_annos = test_frame, combined_data[test_frame]"
   ]
  },
  {
   "cell_type": "code",
   "execution_count": 590,
   "metadata": {
    "collapsed": true
   },
   "outputs": [],
   "source": [
    "from tqdm import tqdm"
   ]
  },
  {
   "cell_type": "code",
   "execution_count": 591,
   "metadata": {
    "collapsed": true
   },
   "outputs": [],
   "source": [
    "def cluster_and_render_frames(animation_annos):\n",
    "    three_frame_img, consensus_boxes = draw_animation_seq(animation_annos, cluster_from_nms)\n",
    "    avg_votes = np.mean([box['votes'] for frame in consensus_boxes for box in frame])\n",
    "    img_path = os.path.join(rev_dir, img_dir, aid) + '_rev.png'\n",
    "    review_seq[aid] = avg_votes\n",
    "    three_frame_img.save(img_path)"
   ]
  },
  {
   "cell_type": "code",
   "execution_count": 616,
   "metadata": {},
   "outputs": [
    {
     "name": "stderr",
     "output_type": "stream",
     "text": [
      " 16%|█▋        | 33/200 [00:01<00:05, 33.21it/s]"
     ]
    },
    {
     "name": "stdout",
     "output_type": "stream",
     "text": [
      "s_01_e_10_shot_032448_032522\n"
     ]
    },
    {
     "name": "stderr",
     "output_type": "stream",
     "text": [
      "100%|██████████| 200/200 [00:06<00:00, 32.33it/s]\n"
     ]
    }
   ],
   "source": [
    "review_seq = {}\n",
    "\n",
    "for aid, animation_annos in tqdm(list(combined_data.items())):\n",
    "    try:\n",
    "        three_frame_img, consensus_boxes = draw_animation_seq(animation_annos, cluster_from_nms)\n",
    "        avg_votes = np.mean([box['votes'] for frame in consensus_boxes for box in frame])\n",
    "        img_path = os.path.join(rev_dir, img_dir, aid) + '_rev.png'\n",
    "        review_seq[aid] = avg_votes\n",
    "#         three_frame_img.save(img_path)\n",
    "    except:\n",
    "        print(aid)"
   ]
  },
  {
   "cell_type": "code",
   "execution_count": 621,
   "metadata": {},
   "outputs": [
    {
     "data": {
      "text/plain": [
       "199"
      ]
     },
     "execution_count": 621,
     "metadata": {},
     "output_type": "execute_result"
    }
   ],
   "source": [
    "len(review_seq)"
   ]
  },
  {
   "cell_type": "code",
   "execution_count": 631,
   "metadata": {},
   "outputs": [],
   "source": [
    "vote_series = pd.Series([vote for vote in review_seq.values()])"
   ]
  },
  {
   "cell_type": "code",
   "execution_count": 633,
   "metadata": {},
   "outputs": [],
   "source": [
    "# _ = vote_series.hist(bins=20)"
   ]
  },
  {
   "cell_type": "code",
   "execution_count": 607,
   "metadata": {
    "collapsed": true
   },
   "outputs": [],
   "source": [
    "save_rev_seq = deepcopy(review_seq)"
   ]
  },
  {
   "cell_type": "markdown",
   "metadata": {},
   "source": [
    "# HTML Review"
   ]
  },
  {
   "cell_type": "code",
   "execution_count": 377,
   "metadata": {
    "collapsed": true
   },
   "outputs": [],
   "source": [
    "import os\n",
    "import jinja2\n",
    "import argparse\n",
    "from jinja2 import Environment, FileSystemLoader\n",
    "\n",
    "j2env = jinja2.Environment()"
   ]
  },
  {
   "cell_type": "code",
   "execution_count": 597,
   "metadata": {
    "code_folding": [
     2
    ],
    "collapsed": true
   },
   "outputs": [],
   "source": [
    "review_page_html = \"\"\"\n",
    "<!DOCTYPE html>\n",
    "<html>\n",
    "  <head>\n",
    "    <style type=\"text/css\">\n",
    "       .container {\n",
    "          }\n",
    "    </style>\n",
    "  </head>\n",
    "  <body style=max-width: 100px>\n",
    "    <div class=\"container\">\n",
    "      <ul>\n",
    "        {% for clip in clips %}\n",
    "        <h2>Clip: {{clip[0]}}</h2>\n",
    "        <p>{{clip[1]}}</p>\n",
    "        {% endfor %}\n",
    "      </ul>\n",
    "    </div>\n",
    "    <script src=\"http://code.jquery.com/jquery-1.10.2.min.js\"></script>\n",
    "    <script src=\"http://netdna.bootstrapcdn.com/bootstrap/3.0.0/js/bootstrap.min.js\"></script>\n",
    "  </body>\n",
    "</html>\n",
    "\"\"\""
   ]
  },
  {
   "cell_type": "code",
   "execution_count": 613,
   "metadata": {
    "collapsed": true
   },
   "outputs": [],
   "source": [
    "def make_uri(clip_id, s3_base='review_frames/', file_ext='_rev.png'):\n",
    "    s3_uri = s3_base + clip_id + file_ext\n",
    "    image_tag = '<img src=\"' + s3_uri +'\" width=800px>'\n",
    "    return image_tag\n",
    "\n",
    "\n",
    "def generate_review_page():\n",
    "    images_sorted_by_conf = [make_uri(img[0]) for img in sorted(review_seq.items(), key=lambda x: x[1])]\n",
    "    sorted_clip_ids = [img[0] for img in sorted(review_seq.items(), key=lambda x: x[1])]\n",
    "    env = Environment()\n",
    "    template =  j2env.from_string(review_page_html)\n",
    "    html_dir = './review_results/' \n",
    "    html_out_file = os.path.join(html_dir, 'bbox_review.html')\n",
    "    if not os.path.exists(html_dir):\n",
    "        os.makedirs(html_dir)\n",
    "    page_html =  template.render(clips = list(zip(sorted_clip_ids, images_sorted_by_conf)))\n",
    "    \n",
    "    with open(html_out_file, 'w') as f:\n",
    "        f.write(page_html.encode('ascii', 'ignore').decode('utf-8'))\n",
    "        \n",
    "    return page_html\n",
    "\n",
    "_ = generate_review_page()"
   ]
  },
  {
   "cell_type": "code",
   "execution_count": null,
   "metadata": {
    "collapsed": true
   },
   "outputs": [],
   "source": []
  },
  {
   "cell_type": "code",
   "execution_count": null,
   "metadata": {
    "collapsed": true
   },
   "outputs": [],
   "source": []
  },
  {
   "cell_type": "code",
   "execution_count": null,
   "metadata": {
    "collapsed": true
   },
   "outputs": [],
   "source": []
  },
  {
   "cell_type": "markdown",
   "metadata": {
    "collapsed": true,
    "heading_collapsed": true,
    "run_control": {
     "frozen": false,
     "read_only": false
    }
   },
   "source": [
    "# hide"
   ]
  },
  {
   "cell_type": "code",
   "execution_count": 13,
   "metadata": {
    "hidden": true,
    "run_control": {
     "frozen": false,
     "read_only": false
    }
   },
   "outputs": [],
   "source": [
    "# assignments =[]\n",
    "# for assignment_triple in list(results.values()):\n",
    "#     assignments.extend(assignment_triple)\n",
    "\n",
    "# assignment_results = [create_result(ar) for ar in assignments]\n",
    "\n",
    "# characters_present = [{'h_id': anno['h_id'], 'w_id': anno['worker_id'], 'still_id': anno['stillID'], 'characters': set([ch['label'] for ch in json.loads(anno['characterBoxes'])])} for anno in assignment_results]\n",
    "\n",
    "# main_characters =  {\"fred\",\n",
    "#              \"barney\",\n",
    "#               \"wilma\",\n",
    "#               \"betty\",\n",
    "#               \"pebbles\",\n",
    "#               \"bamm bamm\",\n",
    "#               \"dino\",\n",
    "#               \"mr slate\",\n",
    "#               \"baby puss\",\n",
    "#               \"hoppy\",\n",
    "#               \"no characters\"}\n",
    "\n",
    "# def all_main(char_set, main_chars=main_characters):\n",
    "#     return not bool(char_set.difference(main_chars))\n",
    "\n",
    "# char_df = pd.DataFrame(characters_present)\n",
    "\n",
    "# char_df['all_main'] = char_df['characters'].apply(lambda x: all_main(x))\n",
    "\n",
    "# all_chars = [c for char_list in char_df['characters'].apply(lambda x: list(x)).tolist() for c in char_list]\n",
    "# char_counts = pd.Series(all_chars).value_counts()\n",
    "\n",
    "# # char_counts.hist(bins = 30, log=True)\n",
    "\n",
    "# char_df['n_chars'] = char_df['characters'].apply(lambda x: len(x))\n",
    "\n",
    "# prolific_workers = char_df['w_id'].value_counts().index.tolist()[:5]\n",
    "\n",
    "# grouped_by_still = char_df.groupby('still_id')\n",
    "\n",
    "# agg_df = grouped_by_still.aggregate(len)\n",
    "\n",
    "# import scipy\n",
    "\n",
    "# agged_on_mode = grouped_by_still.agg(lambda x: scipy.stats.mode(x))\n",
    "# consensus_results_df = agged_on_mode.reset_index()\n",
    "\n",
    "# consensus_results_df['count_mode'] = consensus_results_df['n_chars'].apply(lambda x: x[1][0])\n",
    "\n",
    "# consensus_results_df\n",
    "\n",
    "# consensus_results_df['mode_count'] = consensus_results_df['characters'].apply(lambda x: x[1][0])\n",
    "\n",
    "# consensus_results_df['all_agree'] = consensus_results_df['count_mode'] == 3\n",
    "# consensus_results_df['two_agree'] = consensus_results_df['count_mode'] == 2"
   ]
  },
  {
   "cell_type": "code",
   "execution_count": 14,
   "metadata": {
    "collapsed": true,
    "hidden": true
   },
   "outputs": [],
   "source": [
    "# char_count_df = consensus_results_df[consensus_results_df['count_mode'] == 3]\n",
    "\n",
    "# # consensus_results_df[agree_all_main]['characters'].apply(lambda x: x[1][0]).value_counts()\n",
    "\n",
    "# not_main =set(consensus_results_df[~agree_all_main]['still_id'].tolist())\n",
    "\n",
    "# not_main_df = char_df[char_df['still_id'].isin(not_main)]\n",
    "\n",
    "# consensus_results_df.head(1)\n",
    "\n",
    "# agree_all_main = consensus_results_df['all_main'].apply(lambda x: x[1][0]) == 3 \n",
    "\n",
    "# all_agree = consensus_results_df[agree_all_main][consensus_results_df[agree_all_main]['all_agree']]\n",
    "# disagree = consensus_results_df[agree_all_main][~consensus_results_df[agree_all_main]['all_agree']]\n",
    "\n",
    "\n",
    "\n",
    "\n",
    "\n",
    "\n",
    "\n",
    "# all_agree_set = set(all_agree['still_id'].tolist())\n",
    "\n",
    "# count_all_agree_set = set(consensus_results_df[consensus_results_df['count_mode'] == 3]['still_id'].tolist())\n",
    "# count_two_agree_set = set(consensus_results_df[consensus_results_df['count_mode'] == 2]['still_id'].tolist())\n",
    "# count_none_agree_set = set(consensus_results_df[consensus_results_df['count_mode'] == 1]['still_id'].tolist())\n",
    "\n",
    "# conflict_images = set(disagree['still_id'].tolist())\n",
    "\n",
    "# conflict_df = char_df[char_df['still_id'].isin(conflict_images)]\n",
    "\n",
    "# import PIL.Image as Image\n",
    "# import requests\n",
    "\n",
    "# image_n = 10\n",
    "\n",
    "# consensus_results_df.iloc[image_n * 9: image_n * 9 + 3]\n",
    "\n",
    "# s3_base_path = 'https://s3-us-west-2.amazonaws.com/ai2-vision-animation-gan/annotation_data/still_frames/'\n",
    "\n",
    "# image_url = s3_base_path + consensus_results_df['still_id'].iloc[image_n *  9]\n",
    "# Image.open(requests.get(image_url, stream=True).raw)"
   ]
  },
  {
   "cell_type": "code",
   "execution_count": null,
   "metadata": {
    "collapsed": true,
    "hidden": true
   },
   "outputs": [],
   "source": []
  }
 ],
 "metadata": {
  "kernelspec": {
   "display_name": "Python 3",
   "language": "python",
   "name": "python3"
  },
  "language_info": {
   "codemirror_mode": {
    "name": "ipython",
    "version": 3
   },
   "file_extension": ".py",
   "mimetype": "text/x-python",
   "name": "python",
   "nbconvert_exporter": "python",
   "pygments_lexer": "ipython3",
   "version": "3.6.2"
  }
 },
 "nbformat": 4,
 "nbformat_minor": 1
}

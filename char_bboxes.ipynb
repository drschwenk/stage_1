{
 "cells": [
  {
   "cell_type": "markdown",
   "metadata": {
    "heading_collapsed": true
   },
   "source": [
    "# Table of Contents\n",
    "* [Submitting HITs](#Submitting-HITs)\n",
    "\t* [load dataset](#load-dataset)\n",
    "\t* [building html](#building-html)\n",
    "\t\t* [code](#code)\n",
    "\t\t* [running test](#running-test)\n",
    "\t* [Building URLs for images on s3](#Building-URLs-for-images-on-s3)\n",
    "\t* [submitting HITs in groups](#submitting-HITs-in-groups)\n",
    "\t\t* [creates HITs, careful with this one](#creates-HITs,-careful-with-this-one)\n",
    "* [Reviewing latest HITs](#Reviewing-latest-HITs)\n",
    "\t* [download](#download)\n",
    "\t* [process](#process)\n",
    "* [Merging latest round of HITs into combined dataset](#Merging-latest-round-of-HITs-into-combined-dataset)\n",
    "\t* [Load previously pickled results](#Load-previously-pickled-results)\n",
    "\t* [Load prior complete dataset if not in memory](#Load-prior-complete-dataset-if-not-in-memory)\n",
    "\t* [Updating full dataset](#Updating-full-dataset)\n",
    "\t* [Working with full dataset](#Working-with-full-dataset)\n",
    "* [Worker analysis](#Worker-analysis)\n",
    "\t* [Basic worker stats](#Basic-worker-stats)\n",
    "\t\t* [HIT duration for pricing](#HIT-duration-for-pricing)\n",
    "\t* [Identifying high and low consensus workers](#Identifying-high-and-low-consensus-workers)\n",
    "\t* [Messaging workers](#Messaging-workers)\n",
    "* [HIT end-of-life](#HIT-end-of-life)\n",
    "\t* [Pickle latest results](#Pickle-latest-results)\n",
    "\t* [Pickle combined dataset](#Pickle-combined-dataset)\n",
    "\t* [Accepting and deleting HITs... careful with these](#Accepting-and-deleting-HITs...-careful-with-these)\n",
    "* [End](#End)\n"
   ]
  },
  {
   "cell_type": "code",
   "execution_count": 1,
   "metadata": {
    "collapsed": true,
    "hidden": true,
    "run_control": {
     "frozen": false,
     "read_only": false
    }
   },
   "outputs": [],
   "source": [
    "%%capture\n",
    "from __future__ import division\n",
    "import numpy as np\n",
    "import pandas as pd\n",
    "import scipy.stats as st\n",
    "import itertools\n",
    "import math\n",
    "from collections import Counter, defaultdict\n",
    "%load_ext autoreload\n",
    "%autoreload 2\n",
    "\n",
    "import matplotlib as mpl\n",
    "mpl.use(\"Agg\")\n",
    "import matplotlib.pylab as plt\n",
    "#%matplotlib notebook\n",
    "%matplotlib inline\n",
    "%load_ext base16_mplrc\n",
    "%base16_mplrc light default\n",
    "plt.rcParams['figure.figsize'] = (16.0, 10.0)\n",
    "\n",
    "import re\n",
    "from datetime import datetime\n",
    "import dateutil.parser as dt_parse\n",
    "import pickle\n",
    "import boto\n",
    "from copy import deepcopy\n",
    "import json\n",
    "import os\n",
    "import jinja2\n",
    "from IPython.core.display import HTML\n",
    "\n",
    "import boto.mturk.connection as tc\n",
    "import boto.mturk.question as tq\n",
    "from boto.mturk.qualification import PercentAssignmentsApprovedRequirement, Qualifications, Requirement\n",
    "\n",
    "from keysTkingdom import mturk_ai2\n",
    "from keysTkingdom import aws_tokes\n",
    "from keysTkingdom import mturk_aristo\n",
    "\n",
    "\n",
    "# import pdfextraction.amt_boto_modules as amt_util\n",
    "# from tqa_utils import Evaluator"
   ]
  },
  {
   "cell_type": "markdown",
   "metadata": {},
   "source": [
    "# Submitting HITs"
   ]
  },
  {
   "cell_type": "markdown",
   "metadata": {},
   "source": [
    "cost estimate"
   ]
  },
  {
   "cell_type": "code",
   "execution_count": 2,
   "metadata": {
    "run_control": {
     "frozen": false,
     "read_only": false
    }
   },
   "outputs": [
    {
     "name": "stdout",
     "output_type": "stream",
     "text": [
      "180.0 - $9000.0\n"
     ]
    }
   ],
   "source": [
    "cost_per_hit = 0.02\n",
    "n_turkers_per_hit = 3\n",
    "n_hits_per_video = 3\n",
    "\n",
    "n_videos_low = 1000\n",
    "n_videos_high = 50000\n",
    "\n",
    "low = cost_per_hit * n_turkers_per_hit * n_videos_low * n_hits_per_video\n",
    "high = cost_per_hit * n_turkers_per_hit * n_videos_high * n_hits_per_video\n",
    "print(str(low) + ' - $' + str(high))"
   ]
  },
  {
   "cell_type": "markdown",
   "metadata": {},
   "source": [
    "## building html"
   ]
  },
  {
   "cell_type": "markdown",
   "metadata": {},
   "source": [
    "### code"
   ]
  },
  {
   "cell_type": "code",
   "execution_count": 3,
   "metadata": {
    "code_folding": [],
    "collapsed": true,
    "run_control": {
     "frozen": false,
     "read_only": false
    }
   },
   "outputs": [],
   "source": [
    "import os\n",
    "import jinja2\n",
    "import argparse\n",
    "\n",
    "j2env = jinja2.Environment()"
   ]
  },
  {
   "cell_type": "code",
   "execution_count": 4,
   "metadata": {
    "collapsed": true,
    "run_control": {
     "frozen": false,
     "read_only": false
    }
   },
   "outputs": [],
   "source": [
    "from boto.mturk.connection import MTurkConnection\n",
    "from boto.mturk.qualification import *\n",
    "from jinja2 import Environment, FileSystemLoader"
   ]
  },
  {
   "cell_type": "markdown",
   "metadata": {},
   "source": [
    "## Building hits from files"
   ]
  },
  {
   "cell_type": "code",
   "execution_count": 218,
   "metadata": {
    "collapsed": true,
    "run_control": {
     "frozen": false,
     "read_only": false
    }
   },
   "outputs": [],
   "source": [
    "import os\n",
    "import random\n",
    "\n",
    "gif_dir = '/Users/schwenk/wrk/animation_gan/data/test_task/'\n",
    "episode = '/s_03_e_22'\n",
    "gif_files = os.listdir(gif_dir)\n",
    "\n",
    "test_gifs = [os.path.join(episode, fn) for fn in random.sample(gif_files, 1)]"
   ]
  },
  {
   "cell_type": "markdown",
   "metadata": {},
   "source": [
    "## submitting HITs in groups"
   ]
  },
  {
   "cell_type": "code",
   "execution_count": 27,
   "metadata": {
    "code_folding": [
     0
    ],
    "collapsed": true,
    "run_control": {
     "frozen": false,
     "read_only": false
    }
   },
   "outputs": [],
   "source": [
    "# ## Switch between sandbox and the real world here ##\n",
    "# ## DON'T FORGET to change submission POST request in the client ##\n",
    "\n",
    "# sandbox_host = 'mechanicalturk.sandbox.amazonaws.com' \n",
    "# real_world_host = 'mechanicalturk.amazonaws.com'\n",
    "# mturk = tc.MTurkConnection(\n",
    "#     aws_access_key_id = mturk_ai2.access_key,\n",
    "#     aws_secret_access_key = mturk_ai2.access_secret_key,\n",
    "#     host = sandbox_host,\n",
    "#     debug = 1 # debug = 2 prints out all requests.\n",
    "# )\n",
    "# current_account_balance = mturk.get_account_balance()[0]\n",
    "# print(current_account_balance) # a reminder of sandbox"
   ]
  },
  {
   "cell_type": "markdown",
   "metadata": {
    "heading_collapsed": true
   },
   "source": [
    "### html"
   ]
  },
  {
   "cell_type": "code",
   "execution_count": 135,
   "metadata": {
    "collapsed": true,
    "hidden": true,
    "run_control": {
     "frozen": false,
     "read_only": false
    }
   },
   "outputs": [],
   "source": [
    "bb_html = \"\"\"\n",
    "<div style=\"display:none;\">\n",
    "href=\"https://ajax.googleapis.com/ajax/libs/jqueryui/1.10.3/themes/smoothness/jquery-ui.css\" rel=\"stylesheet\" />\n",
    "<script src=\"https://ajax.googleapis.com/ajax/libs/jquery/1.9.1/jquery.min.js\"></script>\n",
    "<script src=\"https://ajax.googleapis.com/ajax/libs/jqueryui/1.10.3/jquery-ui.js\"></script>\n",
    "<script type='text/javascript' src='https://s3.amazonaws.com/mturk-public/externalHIT_v1.js'></script>\n",
    "\n",
    "</div>\n",
    "\n",
    "<div style=\"display:inline-block;vertical-align:top;\">\n",
    "  <h1>Annotate objects in the picture</h1>\n",
    "  <p>\n",
    "    Draw a rectangle over an object with mouse. Then, name that object.\n",
    "  </p>\n",
    "  <div>\n",
    "    <label for=\"comment\"><em>Comment:</em></label><br />\n",
    "    <textarea id=\"comment_area\" name=\"comment\"></textarea>\n",
    "  </div>\n",
    "  <p id=\"button_paragraph\">\n",
    "    <input id=\"annotation_data\" name=\"annotation_data\" type=\"hidden\" />\n",
    "    <input id=\"reset_button\" type=\"reset\" />\n",
    "  </p>\n",
    "</div>\n",
    "<div id=\"bbox_annotator\" style=\"display:inline-block\"></div>\n",
    "\n",
    "<script type=\"text/javascript\">\n",
    "(function() {\n",
    "  var BBoxSelector;\n",
    "\n",
    "  BBoxSelector = (function() {\n",
    "\n",
    "    function BBoxSelector(image_frame, options) {\n",
    "      if (options == null) {\n",
    "        options = {};\n",
    "      }\n",
    "      options.input_method || (options.input_method = \"text\");\n",
    "      this.image_frame = image_frame;\n",
    "      this.border_width = options.border_width || 2;\n",
    "      this.selector = $('<div class=\"bbox_selector\"></div>');\n",
    "      this.selector.css({\n",
    "        \"border\": this.border_width + \"px dotted rgb(127,255,127)\",\n",
    "        \"position\": \"absolute\"\n",
    "      });\n",
    "      this.image_frame.append(this.selector);\n",
    "      this.selector.css({\n",
    "        \"border-width\": this.border_width\n",
    "      });\n",
    "      this.selector.hide();\n",
    "      this.create_label_box(options);\n",
    "    }\n",
    "\n",
    "    BBoxSelector.prototype.create_label_box = function(options) {\n",
    "      var label, _i, _len, _ref;\n",
    "      options.labels || (options.labels = [\"object\"]);\n",
    "      this.label_box = $('<div class=\"label_box\"></div>');\n",
    "      this.label_box.css({\n",
    "        \"position\": \"absolute\"\n",
    "      });\n",
    "      this.image_frame.append(this.label_box);\n",
    "      switch (options.input_method) {\n",
    "        case 'select':\n",
    "          if (typeof options.labels === \"string\") {\n",
    "            options.labels = [options.labels];\n",
    "          }\n",
    "          this.label_input = $('<select class=\"label_input\" name=\"label\"></select>');\n",
    "          this.label_box.append(this.label_input);\n",
    "          this.label_input.append($('<option value>choose an item</option>'));\n",
    "          _ref = options.labels;\n",
    "          for (_i = 0, _len = _ref.length; _i < _len; _i++) {\n",
    "            label = _ref[_i];\n",
    "            this.label_input.append('<option value=\"' + label + '\">' + label + '</option>');\n",
    "          }\n",
    "          this.label_input.change(function(e) {\n",
    "            return this.blur();\n",
    "          });\n",
    "          break;\n",
    "        case 'text':\n",
    "          if (typeof options.labels === \"string\") {\n",
    "            options.labels = [options.labels];\n",
    "          }\n",
    "          this.label_input = $('<input class=\"label_input\" name=\"label\" ' + 'type=\"text\" value>');\n",
    "          this.label_box.append(this.label_input);\n",
    "          this.label_input.autocomplete({\n",
    "            source: options.labels || [''],\n",
    "            autoFocus: true\n",
    "          });\n",
    "          break;\n",
    "        case 'fixed':\n",
    "          if ($.isArray(options.labels)) {\n",
    "            options.labels = options.labels[0];\n",
    "          }\n",
    "          this.label_input = $('<input class=\"label_input\" name=\"label\" type=\"text\">');\n",
    "          this.label_box.append(this.label_input);\n",
    "          this.label_input.val(options.labels);\n",
    "          break;\n",
    "        default:\n",
    "          throw 'Invalid label_input parameter: ' + options.input_method;\n",
    "      }\n",
    "      return this.label_box.hide();\n",
    "    };\n",
    "\n",
    "    BBoxSelector.prototype.crop = function(pageX, pageY) {\n",
    "      var point;\n",
    "      return point = {\n",
    "        x: Math.min(Math.max(Math.round(pageX - this.image_frame.offset().left), 0), Math.round(this.image_frame.width() - 1)),\n",
    "        y: Math.min(Math.max(Math.round(pageY - this.image_frame.offset().top), 0), Math.round(this.image_frame.height() - 1))\n",
    "      };\n",
    "    };\n",
    "\n",
    "    BBoxSelector.prototype.start = function(pageX, pageY) {\n",
    "      this.pointer = this.crop(pageX, pageY);\n",
    "      this.offset = this.pointer;\n",
    "      this.refresh();\n",
    "      this.selector.show();\n",
    "      $('body').css('cursor', 'crosshair');\n",
    "      return document.onselectstart = function() {\n",
    "        return false;\n",
    "      };\n",
    "    };\n",
    "\n",
    "    BBoxSelector.prototype.update_rectangle = function(pageX, pageY) {\n",
    "      this.pointer = this.crop(pageX, pageY);\n",
    "      return this.refresh();\n",
    "    };\n",
    "\n",
    "    BBoxSelector.prototype.input_label = function(options) {\n",
    "      $('body').css('cursor', 'default');\n",
    "      document.onselectstart = function() {\n",
    "        return true;\n",
    "      };\n",
    "      this.label_box.show();\n",
    "      return this.label_input.focus();\n",
    "    };\n",
    "\n",
    "    BBoxSelector.prototype.finish = function(options) {\n",
    "      var data;\n",
    "      this.label_box.hide();\n",
    "      this.selector.hide();\n",
    "      data = this.rectangle();\n",
    "      data.label = $.trim(this.label_input.val().toLowerCase());\n",
    "      if (options.input_method !== 'fixed') {\n",
    "        this.label_input.val('');\n",
    "      }\n",
    "      return data;\n",
    "    };\n",
    "\n",
    "    BBoxSelector.prototype.rectangle = function() {\n",
    "      var rect, x1, x2, y1, y2;\n",
    "      x1 = Math.min(this.offset.x, this.pointer.x);\n",
    "      y1 = Math.min(this.offset.y, this.pointer.y);\n",
    "      x2 = Math.max(this.offset.x, this.pointer.x);\n",
    "      y2 = Math.max(this.offset.y, this.pointer.y);\n",
    "      return rect = {\n",
    "        left: x1,\n",
    "        top: y1,\n",
    "        width: x2 - x1 + 1,\n",
    "        height: y2 - y1 + 1\n",
    "      };\n",
    "    };\n",
    "\n",
    "    BBoxSelector.prototype.refresh = function() {\n",
    "      var rect;\n",
    "      rect = this.rectangle();\n",
    "      this.selector.css({\n",
    "        left: (rect.left - this.border_width) + 'px',\n",
    "        top: (rect.top - this.border_width) + 'px',\n",
    "        width: rect.width + 'px',\n",
    "        height: rect.height + 'px'\n",
    "      });\n",
    "      return this.label_box.css({\n",
    "        left: (rect.left - this.border_width) + 'px',\n",
    "        top: (rect.top + rect.height + this.border_width) + 'px'\n",
    "      });\n",
    "    };\n",
    "\n",
    "    BBoxSelector.prototype.get_input_element = function() {\n",
    "      return this.label_input;\n",
    "    };\n",
    "\n",
    "    return BBoxSelector;\n",
    "\n",
    "  })();\n",
    "\n",
    "  this.BBoxAnnotator = (function() {\n",
    "\n",
    "    function BBoxAnnotator(options) {\n",
    "      var annotator, image_element;\n",
    "      annotator = this;\n",
    "      this.annotator_element = $(options.id || \"#bbox_annotator\");\n",
    "      this.border_width = options.border_width || 2;\n",
    "      this.show_label = options.show_label || (options.input_method !== \"fixed\");\n",
    "      this.image_frame = $('<div class=\"image_frame\"></div>');\n",
    "      this.annotator_element.append(this.image_frame);\n",
    "      image_element = new Image();\n",
    "      image_element.src = options.url;\n",
    "      image_element.onload = function() {\n",
    "        options.width || (options.width = image_element.width);\n",
    "        options.height || (options.height = image_element.height);\n",
    "        annotator.annotator_element.css({\n",
    "          \"width\": (options.width + annotator.border_width * 2) + 'px',\n",
    "          \"height\": (options.height + annotator.border_width * 2) + 'px',\n",
    "          \"cursor\": \"crosshair\"\n",
    "        });\n",
    "        annotator.image_frame.css({\n",
    "          \"background-image\": \"url('\" + image_element.src + \"')\",\n",
    "          \"width\": options.width + \"px\",\n",
    "          \"height\": options.height + \"px\",\n",
    "          \"position\": \"relative\"\n",
    "        });\n",
    "        annotator.selector = new BBoxSelector(annotator.image_frame, options);\n",
    "        return annotator.initialize_events(annotator.selector, options);\n",
    "      };\n",
    "      image_element.onerror = function() {\n",
    "        return annotator.annotator_element.text(\"Invalid image URL: \" + options.url);\n",
    "      };\n",
    "      this.entries = [];\n",
    "      this.onchange = options.onchange;\n",
    "    }\n",
    "\n",
    "    BBoxAnnotator.prototype.initialize_events = function(selector, options) {\n",
    "      var annotator, status;\n",
    "      status = 'free';\n",
    "      this.hit_menuitem = false;\n",
    "      annotator = this;\n",
    "      this.annotator_element.mousedown(function(e) {\n",
    "        if (!annotator.hit_menuitem) {\n",
    "          switch (status) {\n",
    "            case 'free':\n",
    "            case 'input':\n",
    "              if (status === 'input') {\n",
    "                selector.get_input_element().blur();\n",
    "              }\n",
    "              if (e.which === 1) {\n",
    "                selector.start(e.pageX, e.pageY);\n",
    "                status = 'hold';\n",
    "              }\n",
    "          }\n",
    "        }\n",
    "        annotator.hit_menuitem = false;\n",
    "        return true;\n",
    "      });\n",
    "      $(window).mousemove(function(e) {\n",
    "        switch (status) {\n",
    "          case 'hold':\n",
    "            selector.update_rectangle(e.pageX, e.pageY);\n",
    "        }\n",
    "        return true;\n",
    "      });\n",
    "      $(window).mouseup(function(e) {\n",
    "        switch (status) {\n",
    "          case 'hold':\n",
    "            selector.update_rectangle(e.pageX, e.pageY);\n",
    "            selector.input_label(options);\n",
    "            status = 'input';\n",
    "            if (options.input_method === 'fixed') {\n",
    "              selector.get_input_element().blur();\n",
    "            }\n",
    "        }\n",
    "        return true;\n",
    "      });\n",
    "      selector.get_input_element().blur(function(e) {\n",
    "        var data;\n",
    "        switch (status) {\n",
    "          case 'input':\n",
    "            data = selector.finish(options);\n",
    "            if (data.label) {\n",
    "              annotator.add_entry(data);\n",
    "              if (annotator.onchange) {\n",
    "                annotator.onchange(annotator.entries);\n",
    "              }\n",
    "            }\n",
    "            status = 'free';\n",
    "        }\n",
    "        return true;\n",
    "      });\n",
    "      selector.get_input_element().keypress(function(e) {\n",
    "        switch (status) {\n",
    "          case 'input':\n",
    "            if (e.which === 13) {\n",
    "              selector.get_input_element().blur();\n",
    "            }\n",
    "        }\n",
    "        return e.which !== 13;\n",
    "      });\n",
    "      selector.get_input_element().mousedown(function(e) {\n",
    "        return annotator.hit_menuitem = true;\n",
    "      });\n",
    "      selector.get_input_element().mousemove(function(e) {\n",
    "        return annotator.hit_menuitem = true;\n",
    "      });\n",
    "      selector.get_input_element().mouseup(function(e) {\n",
    "        return annotator.hit_menuitem = true;\n",
    "      });\n",
    "      return selector.get_input_element().parent().mousedown(function(e) {\n",
    "        return annotator.hit_menuitem = true;\n",
    "      });\n",
    "    };\n",
    "\n",
    "    BBoxAnnotator.prototype.add_entry = function(entry) {\n",
    "      var annotator, box_element, close_button, text_box;\n",
    "      this.entries.push(entry);\n",
    "      box_element = $('<div class=\"annotated_bounding_box\"></div>');\n",
    "      box_element.appendTo(this.image_frame).css({\n",
    "        \"border\": this.border_width + \"px solid rgb(127,255,127)\",\n",
    "        \"position\": \"absolute\",\n",
    "        \"top\": (entry.top - this.border_width) + \"px\",\n",
    "        \"left\": (entry.left - this.border_width) + \"px\",\n",
    "        \"width\": entry.width + \"px\",\n",
    "        \"height\": entry.height + \"px\",\n",
    "        \"color\": \"rgb(127,255,127)\",\n",
    "        \"font-family\": \"monospace\",\n",
    "        \"font-size\": \"small\"\n",
    "      });\n",
    "      close_button = $('<div></div>').appendTo(box_element).css({\n",
    "        \"position\": \"absolute\",\n",
    "        \"top\": \"-8px\",\n",
    "        \"right\": \"-8px\",\n",
    "        \"width\": \"16px\",\n",
    "        \"height\": \"0\",\n",
    "        \"padding\": \"16px 0 0 0\",\n",
    "        \"overflow\": \"hidden\",\n",
    "        \"color\": \"#fff\",\n",
    "        \"background-color\": \"#030\",\n",
    "        \"border\": \"2px solid #fff\",\n",
    "        \"-moz-border-radius\": \"18px\",\n",
    "        \"-webkit-border-radius\": \"18px\",\n",
    "        \"border-radius\": \"18px\",\n",
    "        \"cursor\": \"pointer\",\n",
    "        \"-moz-user-select\": \"none\",\n",
    "        \"-webkit-user-select\": \"none\",\n",
    "        \"user-select\": \"none\",\n",
    "        \"text-align\": \"center\"\n",
    "      });\n",
    "      $(\"<div></div>\").appendTo(close_button).html('×').css({\n",
    "        \"display\": \"block\",\n",
    "        \"text-align\": \"center\",\n",
    "        \"width\": \"16px\",\n",
    "        \"position\": \"absolute\",\n",
    "        \"top\": \"-2px\",\n",
    "        \"left\": \"0\",\n",
    "        \"font-size\": \"16px\",\n",
    "        \"line-height\": \"16px\",\n",
    "        \"font-family\": '\"Helvetica Neue\", Consolas, Verdana, Tahoma, Calibri, ' + 'Helvetica, Menlo, \"Droid Sans\", sans-serif'\n",
    "      });\n",
    "      text_box = $('<div></div>').appendTo(box_element).css({\n",
    "        \"overflow\": \"hidden\"\n",
    "      });\n",
    "      if (this.show_label) {\n",
    "        text_box.text(entry.label);\n",
    "      }\n",
    "      annotator = this;\n",
    "      box_element.hover((function(e) {\n",
    "        return close_button.show();\n",
    "      }), (function(e) {\n",
    "        return close_button.hide();\n",
    "      }));\n",
    "      close_button.mousedown(function(e) {\n",
    "        return annotator.hit_menuitem = true;\n",
    "      });\n",
    "      close_button.click(function(e) {\n",
    "        var clicked_box, index;\n",
    "        clicked_box = close_button.parent(\".annotated_bounding_box\");\n",
    "        index = clicked_box.prevAll(\".annotated_bounding_box\").length;\n",
    "        clicked_box.detach();\n",
    "        annotator.entries.splice(index, 1);\n",
    "        return annotator.onchange(annotator.entries);\n",
    "      });\n",
    "      return close_button.hide();\n",
    "    };\n",
    "\n",
    "    BBoxAnnotator.prototype.clear_all = function(e) {\n",
    "      $(\".annotated_bounding_box\").detach();\n",
    "      this.entries.splice(0);\n",
    "      return this.onchange(this.entries);\n",
    "    };\n",
    "\n",
    "    return BBoxAnnotator;\n",
    "\n",
    "  })();\n",
    "\n",
    "}).call(this);\n",
    "\n",
    "// Main entry point. Use a placeholder for image urls.\n",
    "$(document).ready(function() {\n",
    "  var assignment_id = turkGetParam('assignmentId', \"\");\n",
    "  // Initialize the bounding-box annotator.\n",
    "  var annotator = new BBoxAnnotator({\n",
    "n    input_method: 'text', // Can be one of ['text', 'select', 'fixed']\n",
    "    labels: [\"dress\", \"top\", \"skirt\", \"pants\", \"shoes\"], // Label of the object.\n",
    "    onchange: function(entries) {\n",
    "      $(\"#annotation_data\").val(JSON.stringify(entries));\n",
    "      if (entries.length > 0 &&\n",
    "          assignment_id != \"\" &&\n",
    "          assignment_id != \"ASSIGNMENT_ID_NOT_AVAILABLE\") {\n",
    "        $(\"#submitButton\").removeAttr(\"disabled\");\n",
    "      }\n",
    "      else {\n",
    "        $(\"#submitButton\").attr(\"disabled\", \"disabled\");\n",
    "      }\n",
    "    }\n",
    "  });\n",
    "  // Initialize the reset button.\n",
    "  $(\"#reset_button\").click(function(e) {\n",
    "    annotator.clear_all();\n",
    "  });\n",
    "  // Disable the submission at the beginning.\n",
    "  $(\"#submitButton\").attr(\"disabled\", \"disabled\");\n",
    "  $(\"#submitButton\").detach().appendTo(\"#button_paragraph\");\n",
    "  if (assignment_id == \"ASSIGNMENT_ID_NOT_AVAILABLE\") {\n",
    "    $(\"#submitButton\").val(\"This is preview\");\n",
    "  }\n",
    "  console.log(assignment_id);\n",
    "});\n",
    "</script>\n",
    "\n",
    "\"\"\""
   ]
  },
  {
   "cell_type": "code",
   "execution_count": 103,
   "metadata": {
    "collapsed": true,
    "hidden": true,
    "run_control": {
     "frozen": false,
     "read_only": false
    }
   },
   "outputs": [],
   "source": []
  },
  {
   "cell_type": "markdown",
   "metadata": {
    "heading_collapsed": true
   },
   "source": [
    "### new code"
   ]
  },
  {
   "cell_type": "code",
   "execution_count": 207,
   "metadata": {
    "collapsed": true,
    "hidden": true,
    "run_control": {
     "frozen": false,
     "read_only": false
    }
   },
   "outputs": [],
   "source": [
    "page_html = generate_task_page(s3_base_path, test_still)"
   ]
  },
  {
   "cell_type": "code",
   "execution_count": 219,
   "metadata": {
    "hidden": true,
    "run_control": {
     "frozen": false,
     "read_only": false
    }
   },
   "outputs": [
    {
     "data": {
      "text/plain": [
       "'s_01_e_26_shot_006556_006630_10.png'"
      ]
     },
     "execution_count": 219,
     "metadata": {},
     "output_type": "execute_result"
    }
   ],
   "source": [
    "test_still"
   ]
  },
  {
   "cell_type": "code",
   "execution_count": 281,
   "metadata": {
    "collapsed": true,
    "hidden": true,
    "run_control": {
     "frozen": false,
     "read_only": false
    }
   },
   "outputs": [],
   "source": [
    "def generate_task_page(s3_base_path, img_id, template_file='character_bbox.html'):\n",
    "    env = Environment(loader=FileSystemLoader('hit_templates'))\n",
    "    template = env.get_template(template_file)\n",
    "    html_dir = './html_renders' \n",
    "    html_out_file = os.path.join(html_dir, 'char_bbox.html')\n",
    "    if not os.path.exists(html_dir):\n",
    "        os.makedirs(html_dir)\n",
    "    page_html =  template.render(s3_uri_base = s3_base_path, image_id=img_id)\n",
    "    \n",
    "    with open(html_out_file, 'w') as f:\n",
    "        f.write(page_html.encode('ascii', 'ignore').decode('utf-8'))\n",
    "        \n",
    "    return page_html\n",
    "\n",
    "# def make_image_list_str(images):\n",
    "#     images = [images]\n",
    "#     s3_base = 'https://s3-us-west-2.amazonaws.com/ai2-vision-animation-gan/annotation_data/scene_gifs'\n",
    "#     return ', '.join(['\\'' + s3_base + img + '\\'' for img in images])"
   ]
  },
  {
   "cell_type": "markdown",
   "metadata": {
    "heading_collapsed": true
   },
   "source": [
    "## hide"
   ]
  },
  {
   "cell_type": "code",
   "execution_count": 105,
   "metadata": {
    "collapsed": true,
    "hidden": true,
    "run_control": {
     "frozen": false,
     "read_only": false
    }
   },
   "outputs": [],
   "source": [
    "def get_completed_hits(mturk_connection):\n",
    "    \"\"\"\n",
    "    Queries amt for all active user HITs.\n",
    "    :param mturk_connection: active mturk connection established by user in the nb.\n",
    "    :return: list of boto HIT result objects\n",
    "    \"\"\"\n",
    "    reviewable_hits = []\n",
    "    page_n = 1\n",
    "    hits_left = True\n",
    "    while hits_left:\n",
    "        hit_range = mturk_connection.get_reviewable_hits(page_size=100, page_number=page_n)\n",
    "        if not hit_range:\n",
    "            hits_left = False\n",
    "            break\n",
    "        reviewable_hits.extend(hit_range)\n",
    "        page_n += 1\n",
    "    return reviewable_hits\n",
    "\n",
    "\n",
    "def get_assignments(mturk_connection, reviewable_hits, status=None):\n",
    "    \"\"\"\n",
    "    Retrieves individual assignments associated with the specified HITs.\n",
    "    :param mturk_connection: active mturk connection established by user in the nb.\n",
    "    :param reviewable_hits: HITs to review\n",
    "    :param status: HIT status to filter by.\n",
    "    :return: hit_id:assignment dict\n",
    "    \"\"\"\n",
    "    assignments = defaultdict(list)\n",
    "    for hit in reviewable_hits:\n",
    "        assignment = mturk_connection.get_assignments(hit.HITId, status=status)\n",
    "        assignments[hit.HITId].extend(assignment)\n",
    "    return assignments"
   ]
  },
  {
   "cell_type": "code",
   "execution_count": 106,
   "metadata": {
    "collapsed": true,
    "hidden": true,
    "run_control": {
     "frozen": false,
     "read_only": false
    }
   },
   "outputs": [],
   "source": [
    "def build_hit_params(qhtml, static_params):\n",
    "    \"\"\"\n",
    "    Dynamically builds some HIT params that will change based on the book/url\n",
    "    :param url: formatted url of page image on s3\n",
    "    :param static_params: Universal HIT params (set by user in notebook).\n",
    "    :return: complete HIT parameters.\n",
    "    \"\"\"\n",
    "    import copy\n",
    "    import boto\n",
    "    def build_qualifications():\n",
    "        \"\"\"\n",
    "        Creates a single qualification that workers have a > 95% acceptance rate.\n",
    "        :return: boto qualification obj.\n",
    "        \"\"\"\n",
    "        qualifications = Qualifications()\n",
    "        req1 = PercentAssignmentsApprovedRequirement(comparator=\"GreaterThan\", integer_value=\"95\")\n",
    "        qualifications.add(req1)\n",
    "        return qualifications\n",
    "    \n",
    "    hit_params = copy.deepcopy(static_params)\n",
    "    hit_params['qualifications'] = build_qualifications()\n",
    "    hit_params['reward'] = boto.mturk.price.Price(hit_params['amount'])\n",
    "    hit_params['html']= qhtml\n",
    "    return hit_params"
   ]
  },
  {
   "cell_type": "code",
   "execution_count": 210,
   "metadata": {
    "collapsed": true,
    "hidden": true,
    "run_control": {
     "frozen": false,
     "read_only": false
    }
   },
   "outputs": [],
   "source": [
    "def prepare_hit(s3_base_path, img_uri, static_parameters):\n",
    "    question_html = generate_task_page(s3_base_path, img_uri)\n",
    "    return build_hit_params(question_html, static_params)"
   ]
  },
  {
   "cell_type": "markdown",
   "metadata": {},
   "source": [
    "## run"
   ]
  },
  {
   "cell_type": "code",
   "execution_count": 339,
   "metadata": {
    "collapsed": true,
    "run_control": {
     "frozen": false,
     "read_only": false
    }
   },
   "outputs": [],
   "source": [
    "static_params = {\n",
    "    'title': \"Annotate characters from an animation frame\",\n",
    "    'description': \"Draw bounding boxes and label characters appearing in a image\",\n",
    "    'keywords': ['animation', 'image', 'bounding box', 'image annotation'],\n",
    "    'frame_height': 1000,\n",
    "    'amount': 0.05,\n",
    "    'duration': 3600 * 1,\n",
    "    'lifetime': 3600 * 24 * 2,\n",
    "    'max_assignments': 1,\n",
    "}"
   ]
  },
  {
   "cell_type": "code",
   "execution_count": 338,
   "metadata": {
    "collapsed": true,
    "run_control": {
     "frozen": false,
     "read_only": false
    }
   },
   "outputs": [],
   "source": [
    "build_hit_group = [prepare_hit(s3_base_path, still, static_params) for still in stills_to_annotate]"
   ]
  },
  {
   "cell_type": "code",
   "execution_count": 333,
   "metadata": {
    "collapsed": true,
    "run_control": {
     "frozen": false,
     "read_only": false
    }
   },
   "outputs": [],
   "source": [
    "hit_group = [amt_con.create_html_hit(single_hit) for single_hit in build_hit_group]"
   ]
  },
  {
   "cell_type": "markdown",
   "metadata": {
    "heading_collapsed": true
   },
   "source": [
    "## load dataset"
   ]
  },
  {
   "cell_type": "code",
   "execution_count": 141,
   "metadata": {
    "collapsed": true,
    "hidden": true,
    "run_control": {
     "frozen": false,
     "read_only": false
    }
   },
   "outputs": [],
   "source": [
    "s3_base_path = 'https://s3-us-west-2.amazonaws.com/ai2-vision-animation-gan/annotation_data/still_frames/'"
   ]
  },
  {
   "cell_type": "code",
   "execution_count": 146,
   "metadata": {
    "collapsed": true,
    "hidden": true,
    "run_control": {
     "frozen": false,
     "read_only": false
    }
   },
   "outputs": [],
   "source": [
    "test_still = 's_01_e_26_shot_006556_006630_10.png'"
   ]
  },
  {
   "cell_type": "code",
   "execution_count": 229,
   "metadata": {
    "collapsed": true,
    "hidden": true,
    "run_control": {
     "frozen": false,
     "read_only": false
    }
   },
   "outputs": [],
   "source": [
    "# build_hit_group"
   ]
  },
  {
   "cell_type": "code",
   "execution_count": 345,
   "metadata": {
    "collapsed": true,
    "hidden": true,
    "run_control": {
     "frozen": false,
     "read_only": false
    }
   },
   "outputs": [],
   "source": [
    "with open('../../build_dataset/skeleton_dataset.json', 'r') as f:\n",
    "    ds_skeleton = json.load(f)"
   ]
  },
  {
   "cell_type": "code",
   "execution_count": 373,
   "metadata": {
    "collapsed": true,
    "hidden": true,
    "run_control": {
     "frozen": false,
     "read_only": false
    }
   },
   "outputs": [],
   "source": [
    "stills_to_annotate = []\n",
    "for clip in ds_skeleton[0:200]:\n",
    "    for still in clip['keyFrames']:\n",
    "        stills_to_annotate.append(still)"
   ]
  },
  {
   "cell_type": "markdown",
   "metadata": {
    "heading_collapsed": true
   },
   "source": [
    "## submit"
   ]
  },
  {
   "cell_type": "code",
   "execution_count": 11,
   "metadata": {
    "collapsed": true,
    "hidden": true,
    "run_control": {
     "frozen": false,
     "read_only": false
    }
   },
   "outputs": [],
   "source": [
    "from mturk import MTurk"
   ]
  },
  {
   "cell_type": "code",
   "execution_count": 356,
   "metadata": {
    "hidden": true,
    "run_control": {
     "frozen": false,
     "read_only": false
    }
   },
   "outputs": [
    {
     "data": {
      "text/plain": [
       "$2,003.07"
      ]
     },
     "execution_count": 356,
     "metadata": {},
     "output_type": "execute_result"
    }
   ],
   "source": [
    "turk_account = mturk_ai2\n",
    "rw_host='mechanicalturk.amazonaws.com'\n",
    "amt_con = MTurk(turk_account.access_key, turk_account.access_secret_key, host=rw_host)\n",
    "amt_con.get_account_balance()"
   ]
  },
  {
   "cell_type": "code",
   "execution_count": 376,
   "metadata": {
    "collapsed": true,
    "hidden": true,
    "run_control": {
     "frozen": false,
     "read_only": false
    }
   },
   "outputs": [],
   "source": [
    "static_params = {\n",
    "    'title': \"Annotate characters from an animation frame\",\n",
    "    'description': \"Draw bounding boxes and label characters appearing in a image\",\n",
    "    'keywords': ['animation', 'image', 'bounding box', 'image annotation'],\n",
    "    'frame_height': 1000,\n",
    "    'amount': 0.05,\n",
    "    'duration': 3600 * 1,\n",
    "    'lifetime': 3600 * 24 * 2,\n",
    "    'max_assignments': 3,\n",
    "}"
   ]
  },
  {
   "cell_type": "code",
   "execution_count": 358,
   "metadata": {
    "collapsed": true,
    "hidden": true,
    "run_control": {
     "frozen": false,
     "marked": false,
     "read_only": false
    }
   },
   "outputs": [],
   "source": [
    "# build_hit_group = [prepare_hit(gif, static_params) for gif in test_gifs]"
   ]
  },
  {
   "cell_type": "code",
   "execution_count": 374,
   "metadata": {
    "collapsed": true,
    "hidden": true,
    "run_control": {
     "frozen": false,
     "read_only": false
    }
   },
   "outputs": [],
   "source": [
    "build_hit_group = [prepare_hit(s3_base_path, still, static_params) for still in stills_to_annotate]"
   ]
  },
  {
   "cell_type": "code",
   "execution_count": 375,
   "metadata": {
    "hidden": true,
    "run_control": {
     "frozen": false,
     "read_only": false
    }
   },
   "outputs": [
    {
     "data": {
      "text/plain": [
       "600"
      ]
     },
     "execution_count": 375,
     "metadata": {},
     "output_type": "execute_result"
    }
   ],
   "source": [
    "len(build_hit_group)"
   ]
  },
  {
   "cell_type": "code",
   "execution_count": 371,
   "metadata": {
    "hidden": true,
    "run_control": {
     "frozen": false,
     "read_only": false
    }
   },
   "outputs": [
    {
     "data": {
      "text/plain": [
       "90.0"
      ]
     },
     "execution_count": 371,
     "metadata": {},
     "output_type": "execute_result"
    }
   ],
   "source": [
    "200 * 3 *3 * 0.05"
   ]
  },
  {
   "cell_type": "code",
   "execution_count": 377,
   "metadata": {
    "collapsed": true,
    "hidden": true,
    "run_control": {
     "frozen": false,
     "read_only": false
    }
   },
   "outputs": [],
   "source": [
    "stage_1_batch_1_200 = [amt_con.create_html_hit(single_hit) for single_hit in build_hit_group]"
   ]
  },
  {
   "cell_type": "code",
   "execution_count": 382,
   "metadata": {
    "hidden": true
   },
   "outputs": [
    {
     "data": {
      "text/plain": [
       "600"
      ]
     },
     "execution_count": 382,
     "metadata": {},
     "output_type": "execute_result"
    }
   ],
   "source": [
    "len(stage_1_batch_1_200)"
   ]
  },
  {
   "cell_type": "code",
   "execution_count": 340,
   "metadata": {
    "collapsed": true,
    "hidden": true,
    "run_control": {
     "frozen": false,
     "read_only": false
    }
   },
   "outputs": [],
   "source": [
    "# amt_con.delete_all_hits()"
   ]
  },
  {
   "cell_type": "markdown",
   "metadata": {},
   "source": [
    "## review"
   ]
  },
  {
   "cell_type": "code",
   "execution_count": 466,
   "metadata": {
    "collapsed": true,
    "run_control": {
     "frozen": false,
     "read_only": false
    }
   },
   "outputs": [],
   "source": [
    "complete_hits = get_completed_hits(amt_con.connection)"
   ]
  },
  {
   "cell_type": "code",
   "execution_count": 467,
   "metadata": {
    "collapsed": true
   },
   "outputs": [],
   "source": [
    "results = get_assignments(amt_con.connection, complete_hits)"
   ]
  },
  {
   "cell_type": "code",
   "execution_count": 560,
   "metadata": {
    "run_control": {
     "frozen": false,
     "read_only": false
    }
   },
   "outputs": [],
   "source": [
    "def create_result(assmt):\n",
    "    result = json.loads(assmt.answers[0][0].fields[0])\n",
    "    result['h_id'] = assmt.HITId\n",
    "    return result"
   ]
  },
  {
   "cell_type": "code",
   "execution_count": 468,
   "metadata": {},
   "outputs": [],
   "source": [
    "assignments =[]\n",
    "for assignment_triple in list(results.values()):\n",
    "    assignments.extend(assignment_triple)"
   ]
  },
  {
   "cell_type": "code",
   "execution_count": 583,
   "metadata": {
    "run_control": {
     "frozen": false,
     "marked": false,
     "read_only": false
    }
   },
   "outputs": [],
   "source": [
    "assignment_results = [create_result(ar) for ar in assignments]"
   ]
  },
  {
   "cell_type": "code",
   "execution_count": 584,
   "metadata": {},
   "outputs": [],
   "source": [
    "characters_present = [{'h_id': anno['h_id'], 'still_id': anno['stillID'], 'characters': set([ch['label'] for ch in json.loads(anno['characterBoxes'])])} for anno in assignment_results]"
   ]
  },
  {
   "cell_type": "code",
   "execution_count": 432,
   "metadata": {},
   "outputs": [],
   "source": [
    "ta1 = list(results.values())[0][0]\n",
    "ta2 = list(results.values())[0][1]"
   ]
  },
  {
   "cell_type": "code",
   "execution_count": 436,
   "metadata": {},
   "outputs": [
    {
     "data": {
      "text/plain": [
       "[<boto.mturk.connection.QuestionFormAnswer at 0x113c17950>]"
      ]
     },
     "execution_count": 436,
     "metadata": {},
     "output_type": "execute_result"
    }
   ],
   "source": [
    "ta1.answers[0]"
   ]
  },
  {
   "cell_type": "code",
   "execution_count": 395,
   "metadata": {},
   "outputs": [
    {
     "data": {
      "text/plain": [
       "[{'HIT_id': u'371DNNCG452HFL6W6LLWMNUS70O8TA',\n",
       "  'answers': {u'output': [u'{\"stillID\":\"s_01_e_26_shot_020977_021051_70.png\",\"characterBoxes\":\"[{\\\\\"left\\\\\":319,\\\\\"top\\\\\":166,\\\\\"width\\\\\":258,\\\\\"height\\\\\":227,\\\\\"label\\\\\":\\\\\"no characters\\\\\"}]\"}']},\n",
       "  'assignment_object': <boto.mturk.connection.Assignment at 0x113c17910>,\n",
       "  'worker_Id': u'A3BUSRXW32A27S'}]"
      ]
     },
     "execution_count": 395,
     "metadata": {},
     "output_type": "execute_result"
    }
   ],
   "source": [
    "amt_con.get_results_dict(assignments[:1])"
   ]
  },
  {
   "cell_type": "code",
   "execution_count": 315,
   "metadata": {
    "collapsed": true,
    "run_control": {
     "frozen": false,
     "read_only": false
    }
   },
   "outputs": [],
   "source": [
    "# with open('my_test.json', 'w') as f:\n",
    "#     json.dump(assignment_results, f)"
   ]
  },
  {
   "cell_type": "code",
   "execution_count": 381,
   "metadata": {
    "run_control": {
     "frozen": false,
     "read_only": false
    }
   },
   "outputs": [
    {
     "data": {
      "text/plain": [
       "546"
      ]
     },
     "execution_count": 381,
     "metadata": {},
     "output_type": "execute_result"
    }
   ],
   "source": [
    "len(complete_hits)"
   ]
  },
  {
   "cell_type": "code",
   "execution_count": 667,
   "metadata": {
    "collapsed": true
   },
   "outputs": [],
   "source": [
    "main_characters =  {\"fred\",\n",
    "             \"barney\",\n",
    "              \"wilma\",\n",
    "              \"betty\",\n",
    "              \"pebbles\",\n",
    "              \"bamm bamm\",\n",
    "              \"dino\",\n",
    "              \"mr slate\",\n",
    "              \"baby puss\",\n",
    "              \"hoppy\",\n",
    "              \"no characters\"}"
   ]
  },
  {
   "cell_type": "code",
   "execution_count": 672,
   "metadata": {
    "collapsed": true
   },
   "outputs": [],
   "source": [
    "def all_main(char_set, main_chars=main_characters):\n",
    "    return not bool(char_set.difference(main_chars))"
   ]
  },
  {
   "cell_type": "code",
   "execution_count": 683,
   "metadata": {
    "collapsed": true
   },
   "outputs": [],
   "source": [
    "char_df = pd.DataFrame(characters_present)"
   ]
  },
  {
   "cell_type": "code",
   "execution_count": 684,
   "metadata": {},
   "outputs": [],
   "source": [
    "char_df['all_main'] = char_df['characters'].apply(lambda x: all_main(x))"
   ]
  },
  {
   "cell_type": "code",
   "execution_count": 782,
   "metadata": {},
   "outputs": [],
   "source": [
    "all_chars = [c for char_list in char_df['characters'].apply(lambda x: list(x)).tolist() for c in char_list]\n",
    "char_counts = pd.Series(all_chars).value_counts()"
   ]
  },
  {
   "cell_type": "code",
   "execution_count": 871,
   "metadata": {},
   "outputs": [],
   "source": [
    "# char_counts.hist(bins = 30, log=True)"
   ]
  },
  {
   "cell_type": "code",
   "execution_count": 853,
   "metadata": {
    "scrolled": true
   },
   "outputs": [
    {
     "data": {
      "text/plain": [
       "boy with blue dress                                    2\n",
       "police officer with moustache                          2\n",
       "man with blue dress                                    2\n",
       "police office                                          2\n",
       "man with police dress                                  2\n",
       "play boy                                               2\n",
       "boy with yellow hair                                   2\n",
       "business man                                           1\n",
       "man in blue                                            1\n",
       "man with voilet dress and cap                          1\n",
       "poice officer                                          1\n",
       "friend                                                 1\n",
       "blonde boy                                             1\n",
       "a girl                                                 1\n",
       "kitten                                                 1\n",
       "hat man                                                1\n",
       "fred and barney looking at something interestingly.    1\n",
       "barney and fred pulling a trophy                       1\n",
       "children/boy scouts                                    1\n",
       "\"devil\" fred                                           1\n",
       "brown-haired cub scout                                 1\n",
       "police man 2                                           1\n",
       "police man 1                                           1\n",
       "happy man 1                                            1\n",
       "boy with brown hair                                    1\n",
       "happy man 2                                            1\n",
       "policeman with club                                    1\n",
       "sheep                                                  1\n",
       "kid                                                    1\n",
       "man with beard                                         1\n",
       "dtype: int64"
      ]
     },
     "execution_count": 853,
     "metadata": {},
     "output_type": "execute_result"
    }
   ],
   "source": [
    "n=20\n",
    "char_counts[n:n+30]"
   ]
  },
  {
   "cell_type": "code",
   "execution_count": 694,
   "metadata": {},
   "outputs": [],
   "source": [
    "grouped_by_still = char_df.groupby('still_id')"
   ]
  },
  {
   "cell_type": "code",
   "execution_count": 695,
   "metadata": {},
   "outputs": [],
   "source": [
    "agg_df = grouped_by_still.aggregate(len)"
   ]
  },
  {
   "cell_type": "code",
   "execution_count": 696,
   "metadata": {
    "collapsed": true
   },
   "outputs": [],
   "source": [
    "import scipy"
   ]
  },
  {
   "cell_type": "code",
   "execution_count": 697,
   "metadata": {},
   "outputs": [],
   "source": [
    "agged_on_mode = grouped_by_still.agg(lambda x: scipy.stats.mode(x))\n",
    "consensus_results_df = agged_on_mode.reset_index()"
   ]
  },
  {
   "cell_type": "code",
   "execution_count": 705,
   "metadata": {},
   "outputs": [],
   "source": [
    "consensus_results_df['mode_count'] = consensus_results_df['characters'].apply(lambda x: x[1][0])"
   ]
  },
  {
   "cell_type": "code",
   "execution_count": 824,
   "metadata": {},
   "outputs": [],
   "source": [
    "consensus_results_df['all_agree'] = consensus_results_df['mode_count'] == 3\n",
    "consensus_results_df['two_agree'] = consensus_results_df['mode_count'] == 2"
   ]
  },
  {
   "cell_type": "code",
   "execution_count": 839,
   "metadata": {},
   "outputs": [
    {
     "data": {
      "text/plain": [
       "187.0"
      ]
     },
     "execution_count": 839,
     "metadata": {},
     "output_type": "execute_result"
    }
   ],
   "source": [
    "char_df.shape[0] / 3 /3"
   ]
  },
  {
   "cell_type": "code",
   "execution_count": 831,
   "metadata": {},
   "outputs": [
    {
     "data": {
      "text/plain": [
       "(486, 7)"
      ]
     },
     "execution_count": 831,
     "metadata": {},
     "output_type": "execute_result"
    }
   ],
   "source": [
    "consensus_results_df[agree_all_main].shape"
   ]
  },
  {
   "cell_type": "code",
   "execution_count": 825,
   "metadata": {},
   "outputs": [
    {
     "data": {
      "text/plain": [
       "False    410\n",
       "True     150\n",
       "Name: two_agree, dtype: int64"
      ]
     },
     "execution_count": 825,
     "metadata": {},
     "output_type": "execute_result"
    }
   ],
   "source": [
    "consensus_results_df['two_agree'].value_counts()"
   ]
  },
  {
   "cell_type": "code",
   "execution_count": 838,
   "metadata": {},
   "outputs": [
    {
     "data": {
      "text/plain": [
       "3    333\n",
       "2    127\n",
       "1     26\n",
       "Name: characters, dtype: int64"
      ]
     },
     "execution_count": 838,
     "metadata": {},
     "output_type": "execute_result"
    }
   ],
   "source": [
    "consensus_results_df[agree_all_main]['characters'].apply(lambda x: x[1][0]).value_counts()"
   ]
  },
  {
   "cell_type": "code",
   "execution_count": 842,
   "metadata": {},
   "outputs": [],
   "source": [
    "not_main =set(consensus_results_df[~agree_all_main]['still_id'].tolist())"
   ]
  },
  {
   "cell_type": "code",
   "execution_count": 846,
   "metadata": {},
   "outputs": [],
   "source": [
    "not_main_df = char_df[char_df['still_id'].isin(not_main)]"
   ]
  },
  {
   "cell_type": "code",
   "execution_count": 847,
   "metadata": {
    "scrolled": true
   },
   "outputs": [
    {
     "data": {
      "text/html": [
       "<div>\n",
       "<style>\n",
       "    .dataframe thead tr:only-child th {\n",
       "        text-align: right;\n",
       "    }\n",
       "\n",
       "    .dataframe thead th {\n",
       "        text-align: left;\n",
       "    }\n",
       "\n",
       "    .dataframe tbody tr th {\n",
       "        vertical-align: top;\n",
       "    }\n",
       "</style>\n",
       "<table border=\"1\" class=\"dataframe\">\n",
       "  <thead>\n",
       "    <tr style=\"text-align: right;\">\n",
       "      <th></th>\n",
       "      <th>characters</th>\n",
       "      <th>h_id</th>\n",
       "      <th>still_id</th>\n",
       "      <th>all_main</th>\n",
       "    </tr>\n",
       "  </thead>\n",
       "  <tbody>\n",
       "    <tr>\n",
       "      <th>0</th>\n",
       "      <td>{no characters}</td>\n",
       "      <td>371DNNCG452HFL6W6LLWMNUS70O8TA</td>\n",
       "      <td>s_01_e_26_shot_020977_021051_70.png</td>\n",
       "      <td>True</td>\n",
       "    </tr>\n",
       "    <tr>\n",
       "      <th>1</th>\n",
       "      <td>{bamm bamm}</td>\n",
       "      <td>371DNNCG452HFL6W6LLWMNUS70O8TA</td>\n",
       "      <td>s_01_e_26_shot_020977_021051_70.png</td>\n",
       "      <td>True</td>\n",
       "    </tr>\n",
       "    <tr>\n",
       "      <th>2</th>\n",
       "      <td>{no character, no characters}</td>\n",
       "      <td>371DNNCG452HFL6W6LLWMNUS70O8TA</td>\n",
       "      <td>s_01_e_26_shot_020977_021051_70.png</td>\n",
       "      <td>False</td>\n",
       "    </tr>\n",
       "    <tr>\n",
       "      <th>48</th>\n",
       "      <td>{police officer with moustache, police officer...</td>\n",
       "      <td>3FJ2RVH2506N9RVTSY7ELWGDRTT291</td>\n",
       "      <td>s_01_e_03_shot_034059_034133_40.png</td>\n",
       "      <td>False</td>\n",
       "    </tr>\n",
       "    <tr>\n",
       "      <th>49</th>\n",
       "      <td>{fred}</td>\n",
       "      <td>3FJ2RVH2506N9RVTSY7ELWGDRTT291</td>\n",
       "      <td>s_01_e_03_shot_034059_034133_40.png</td>\n",
       "      <td>True</td>\n",
       "    </tr>\n",
       "    <tr>\n",
       "      <th>50</th>\n",
       "      <td>{no characters, fred}</td>\n",
       "      <td>3FJ2RVH2506N9RVTSY7ELWGDRTT291</td>\n",
       "      <td>s_01_e_03_shot_034059_034133_40.png</td>\n",
       "      <td>True</td>\n",
       "    </tr>\n",
       "    <tr>\n",
       "      <th>120</th>\n",
       "      <td>{police, police officer}</td>\n",
       "      <td>3DW3BNF1GIIWSDALBGLBN5ID4L48VQ</td>\n",
       "      <td>s_01_e_26_shot_028469_028543_40.png</td>\n",
       "      <td>False</td>\n",
       "    </tr>\n",
       "    <tr>\n",
       "      <th>121</th>\n",
       "      <td>{no characters}</td>\n",
       "      <td>3DW3BNF1GIIWSDALBGLBN5ID4L48VQ</td>\n",
       "      <td>s_01_e_26_shot_028469_028543_40.png</td>\n",
       "      <td>True</td>\n",
       "    </tr>\n",
       "    <tr>\n",
       "      <th>122</th>\n",
       "      <td>{police officer}</td>\n",
       "      <td>3DW3BNF1GIIWSDALBGLBN5ID4L48VQ</td>\n",
       "      <td>s_01_e_26_shot_028469_028543_40.png</td>\n",
       "      <td>False</td>\n",
       "    </tr>\n",
       "    <tr>\n",
       "      <th>144</th>\n",
       "      <td>{no characters}</td>\n",
       "      <td>3HRWUH63QV20XQIABRSH14E9GS1N5M</td>\n",
       "      <td>s_01_e_15_shot_018392_018466_40.png</td>\n",
       "      <td>True</td>\n",
       "    </tr>\n",
       "    <tr>\n",
       "      <th>145</th>\n",
       "      <td>{bamm bamm}</td>\n",
       "      <td>3HRWUH63QV20XQIABRSH14E9GS1N5M</td>\n",
       "      <td>s_01_e_15_shot_018392_018466_40.png</td>\n",
       "      <td>True</td>\n",
       "    </tr>\n",
       "    <tr>\n",
       "      <th>146</th>\n",
       "      <td>{boy with blue dress, no characters}</td>\n",
       "      <td>3HRWUH63QV20XQIABRSH14E9GS1N5M</td>\n",
       "      <td>s_01_e_15_shot_018392_018466_40.png</td>\n",
       "      <td>False</td>\n",
       "    </tr>\n",
       "    <tr>\n",
       "      <th>150</th>\n",
       "      <td>{fred and barney looking at something interest...</td>\n",
       "      <td>3HKIF5DF6ZXDOL30RDS3N0AE1CYG9Y</td>\n",
       "      <td>s_01_e_15_shot_014201_014275_10.png</td>\n",
       "      <td>False</td>\n",
       "    </tr>\n",
       "    <tr>\n",
       "      <th>151</th>\n",
       "      <td>{fred}</td>\n",
       "      <td>3HKIF5DF6ZXDOL30RDS3N0AE1CYG9Y</td>\n",
       "      <td>s_01_e_15_shot_014201_014275_10.png</td>\n",
       "      <td>True</td>\n",
       "    </tr>\n",
       "    <tr>\n",
       "      <th>152</th>\n",
       "      <td>{barney, fred}</td>\n",
       "      <td>3HKIF5DF6ZXDOL30RDS3N0AE1CYG9Y</td>\n",
       "      <td>s_01_e_15_shot_014201_014275_10.png</td>\n",
       "      <td>True</td>\n",
       "    </tr>\n",
       "    <tr>\n",
       "      <th>156</th>\n",
       "      <td>{bamm bamm}</td>\n",
       "      <td>3DIIW4IV8QVQN63J06WFR4CEUXC4II</td>\n",
       "      <td>s_01_e_26_shot_026070_026144_10.png</td>\n",
       "      <td>True</td>\n",
       "    </tr>\n",
       "    <tr>\n",
       "      <th>157</th>\n",
       "      <td>{mr slate}</td>\n",
       "      <td>3DIIW4IV8QVQN63J06WFR4CEUXC4II</td>\n",
       "      <td>s_01_e_26_shot_026070_026144_10.png</td>\n",
       "      <td>True</td>\n",
       "    </tr>\n",
       "    <tr>\n",
       "      <th>158</th>\n",
       "      <td>{man with bad}</td>\n",
       "      <td>3DIIW4IV8QVQN63J06WFR4CEUXC4II</td>\n",
       "      <td>s_01_e_26_shot_026070_026144_10.png</td>\n",
       "      <td>False</td>\n",
       "    </tr>\n",
       "    <tr>\n",
       "      <th>159</th>\n",
       "      <td>{}</td>\n",
       "      <td>33P2GD6NROSB5DH2FG1AY90VR6NKHV</td>\n",
       "      <td>s_01_e_15_shot_018392_018466_10.png</td>\n",
       "      <td>True</td>\n",
       "    </tr>\n",
       "    <tr>\n",
       "      <th>160</th>\n",
       "      <td>{no characters}</td>\n",
       "      <td>33P2GD6NROSB5DH2FG1AY90VR6NKHV</td>\n",
       "      <td>s_01_e_15_shot_018392_018466_10.png</td>\n",
       "      <td>True</td>\n",
       "    </tr>\n",
       "    <tr>\n",
       "      <th>161</th>\n",
       "      <td>{young boy, no characters}</td>\n",
       "      <td>33P2GD6NROSB5DH2FG1AY90VR6NKHV</td>\n",
       "      <td>s_01_e_15_shot_018392_018466_10.png</td>\n",
       "      <td>False</td>\n",
       "    </tr>\n",
       "    <tr>\n",
       "      <th>207</th>\n",
       "      <td>{barney, boy with blond hair, boy with brown h...</td>\n",
       "      <td>3FVBZG9CLKE9SNAYBNRSFPLMD8GH0L</td>\n",
       "      <td>s_01_e_26_shot_018905_018979_70.png</td>\n",
       "      <td>False</td>\n",
       "    </tr>\n",
       "    <tr>\n",
       "      <th>208</th>\n",
       "      <td>{fred}</td>\n",
       "      <td>3FVBZG9CLKE9SNAYBNRSFPLMD8GH0L</td>\n",
       "      <td>s_01_e_26_shot_018905_018979_70.png</td>\n",
       "      <td>True</td>\n",
       "    </tr>\n",
       "    <tr>\n",
       "      <th>209</th>\n",
       "      <td>{barney, kid, fred}</td>\n",
       "      <td>3FVBZG9CLKE9SNAYBNRSFPLMD8GH0L</td>\n",
       "      <td>s_01_e_26_shot_018905_018979_70.png</td>\n",
       "      <td>False</td>\n",
       "    </tr>\n",
       "    <tr>\n",
       "      <th>219</th>\n",
       "      <td>{barney, fred}</td>\n",
       "      <td>3F6045TU7EOY9BGSD7MTVJORXZ3990</td>\n",
       "      <td>s_01_e_03_shot_034134_034208_40.png</td>\n",
       "      <td>True</td>\n",
       "    </tr>\n",
       "    <tr>\n",
       "      <th>220</th>\n",
       "      <td>{no characters, fred}</td>\n",
       "      <td>3F6045TU7EOY9BGSD7MTVJORXZ3990</td>\n",
       "      <td>s_01_e_03_shot_034134_034208_40.png</td>\n",
       "      <td>True</td>\n",
       "    </tr>\n",
       "    <tr>\n",
       "      <th>221</th>\n",
       "      <td>{police officer with stick, police officer, fred}</td>\n",
       "      <td>3F6045TU7EOY9BGSD7MTVJORXZ3990</td>\n",
       "      <td>s_01_e_03_shot_034134_034208_40.png</td>\n",
       "      <td>False</td>\n",
       "    </tr>\n",
       "    <tr>\n",
       "      <th>252</th>\n",
       "      <td>{fred}</td>\n",
       "      <td>32CAVSKPCFPE4Y10752RC9TMC8P1UA</td>\n",
       "      <td>s_01_e_26_shot_020977_021051_40.png</td>\n",
       "      <td>True</td>\n",
       "    </tr>\n",
       "    <tr>\n",
       "      <th>253</th>\n",
       "      <td>{scout boy}</td>\n",
       "      <td>32CAVSKPCFPE4Y10752RC9TMC8P1UA</td>\n",
       "      <td>s_01_e_26_shot_020977_021051_40.png</td>\n",
       "      <td>False</td>\n",
       "    </tr>\n",
       "    <tr>\n",
       "      <th>254</th>\n",
       "      <td>{boy with yellow hair, no characters}</td>\n",
       "      <td>32CAVSKPCFPE4Y10752RC9TMC8P1UA</td>\n",
       "      <td>s_01_e_26_shot_020977_021051_40.png</td>\n",
       "      <td>False</td>\n",
       "    </tr>\n",
       "    <tr>\n",
       "      <th>...</th>\n",
       "      <td>...</td>\n",
       "      <td>...</td>\n",
       "      <td>...</td>\n",
       "      <td>...</td>\n",
       "    </tr>\n",
       "    <tr>\n",
       "      <th>1494</th>\n",
       "      <td>{fred}</td>\n",
       "      <td>3UY4PIS8QSL198HRA4Q5YE1S4CWN14</td>\n",
       "      <td>s_01_e_12_shot_025718_025792_40.png</td>\n",
       "      <td>True</td>\n",
       "    </tr>\n",
       "    <tr>\n",
       "      <th>1495</th>\n",
       "      <td>{small fred, fred}</td>\n",
       "      <td>3UY4PIS8QSL198HRA4Q5YE1S4CWN14</td>\n",
       "      <td>s_01_e_12_shot_025718_025792_40.png</td>\n",
       "      <td>False</td>\n",
       "    </tr>\n",
       "    <tr>\n",
       "      <th>1496</th>\n",
       "      <td>{fred}</td>\n",
       "      <td>3UY4PIS8QSL198HRA4Q5YE1S4CWN14</td>\n",
       "      <td>s_01_e_12_shot_025718_025792_40.png</td>\n",
       "      <td>True</td>\n",
       "    </tr>\n",
       "    <tr>\n",
       "      <th>1497</th>\n",
       "      <td>{barney, children/boy scouts, fred}</td>\n",
       "      <td>3X2LT8FDHXI972AQ1QQ7971RBU68W0</td>\n",
       "      <td>s_01_e_26_shot_028862_028936_40.png</td>\n",
       "      <td>False</td>\n",
       "    </tr>\n",
       "    <tr>\n",
       "      <th>1498</th>\n",
       "      <td>{no characters}</td>\n",
       "      <td>3X2LT8FDHXI972AQ1QQ7971RBU68W0</td>\n",
       "      <td>s_01_e_26_shot_028862_028936_40.png</td>\n",
       "      <td>True</td>\n",
       "    </tr>\n",
       "    <tr>\n",
       "      <th>1499</th>\n",
       "      <td>{black-haired scout, brown-haired scout, barne...</td>\n",
       "      <td>3X2LT8FDHXI972AQ1QQ7971RBU68W0</td>\n",
       "      <td>s_01_e_26_shot_028862_028936_40.png</td>\n",
       "      <td>False</td>\n",
       "    </tr>\n",
       "    <tr>\n",
       "      <th>1506</th>\n",
       "      <td>{fred}</td>\n",
       "      <td>3GITHABACZL8YTZNT8QJ3XBXWIAN2L</td>\n",
       "      <td>s_01_e_12_shot_027902_027976_70.png</td>\n",
       "      <td>True</td>\n",
       "    </tr>\n",
       "    <tr>\n",
       "      <th>1507</th>\n",
       "      <td>{fred}</td>\n",
       "      <td>3GITHABACZL8YTZNT8QJ3XBXWIAN2L</td>\n",
       "      <td>s_01_e_12_shot_027902_027976_70.png</td>\n",
       "      <td>True</td>\n",
       "    </tr>\n",
       "    <tr>\n",
       "      <th>1508</th>\n",
       "      <td>{small fred, fred}</td>\n",
       "      <td>3GITHABACZL8YTZNT8QJ3XBXWIAN2L</td>\n",
       "      <td>s_01_e_12_shot_027902_027976_70.png</td>\n",
       "      <td>False</td>\n",
       "    </tr>\n",
       "    <tr>\n",
       "      <th>1533</th>\n",
       "      <td>{no character, no characters}</td>\n",
       "      <td>3QMELQS6Y6BHVSAG9HJ32UXJDK16R9</td>\n",
       "      <td>s_01_e_26_shot_035715_035789_70.png</td>\n",
       "      <td>False</td>\n",
       "    </tr>\n",
       "    <tr>\n",
       "      <th>1534</th>\n",
       "      <td>{no characters}</td>\n",
       "      <td>3QMELQS6Y6BHVSAG9HJ32UXJDK16R9</td>\n",
       "      <td>s_01_e_26_shot_035715_035789_70.png</td>\n",
       "      <td>True</td>\n",
       "    </tr>\n",
       "    <tr>\n",
       "      <th>1535</th>\n",
       "      <td>{no characters}</td>\n",
       "      <td>3QMELQS6Y6BHVSAG9HJ32UXJDK16R9</td>\n",
       "      <td>s_01_e_26_shot_035715_035789_70.png</td>\n",
       "      <td>True</td>\n",
       "    </tr>\n",
       "    <tr>\n",
       "      <th>1542</th>\n",
       "      <td>{no characters, fred}</td>\n",
       "      <td>3G5RUKN2ED3JYDKMEH5YDKJB2OK9NZ</td>\n",
       "      <td>s_01_e_11_shot_023901_023975_10.png</td>\n",
       "      <td>True</td>\n",
       "    </tr>\n",
       "    <tr>\n",
       "      <th>1543</th>\n",
       "      <td>{he was wear a brown shirt, fred}</td>\n",
       "      <td>3G5RUKN2ED3JYDKMEH5YDKJB2OK9NZ</td>\n",
       "      <td>s_01_e_11_shot_023901_023975_10.png</td>\n",
       "      <td>False</td>\n",
       "    </tr>\n",
       "    <tr>\n",
       "      <th>1544</th>\n",
       "      <td>{barney, fred}</td>\n",
       "      <td>3G5RUKN2ED3JYDKMEH5YDKJB2OK9NZ</td>\n",
       "      <td>s_01_e_11_shot_023901_023975_10.png</td>\n",
       "      <td>True</td>\n",
       "    </tr>\n",
       "    <tr>\n",
       "      <th>1575</th>\n",
       "      <td>{no characters}</td>\n",
       "      <td>3LEG2HW4UGNWA1M6VK76VS2OURO2FT</td>\n",
       "      <td>s_01_e_03_shot_031324_031398_70.png</td>\n",
       "      <td>True</td>\n",
       "    </tr>\n",
       "    <tr>\n",
       "      <th>1576</th>\n",
       "      <td>{police officer, no characters}</td>\n",
       "      <td>3LEG2HW4UGNWA1M6VK76VS2OURO2FT</td>\n",
       "      <td>s_01_e_03_shot_031324_031398_70.png</td>\n",
       "      <td>False</td>\n",
       "    </tr>\n",
       "    <tr>\n",
       "      <th>1577</th>\n",
       "      <td>{fred}</td>\n",
       "      <td>3LEG2HW4UGNWA1M6VK76VS2OURO2FT</td>\n",
       "      <td>s_01_e_03_shot_031324_031398_70.png</td>\n",
       "      <td>True</td>\n",
       "    </tr>\n",
       "    <tr>\n",
       "      <th>1599</th>\n",
       "      <td>{fred}</td>\n",
       "      <td>3B6F54KMR3CYPL9WI07RX8BYRB41SU</td>\n",
       "      <td>s_01_e_26_shot_019072_019146_70.png</td>\n",
       "      <td>True</td>\n",
       "    </tr>\n",
       "    <tr>\n",
       "      <th>1600</th>\n",
       "      <td>{no characters, fred}</td>\n",
       "      <td>3B6F54KMR3CYPL9WI07RX8BYRB41SU</td>\n",
       "      <td>s_01_e_26_shot_019072_019146_70.png</td>\n",
       "      <td>True</td>\n",
       "    </tr>\n",
       "    <tr>\n",
       "      <th>1601</th>\n",
       "      <td>{bear, fred}</td>\n",
       "      <td>3B6F54KMR3CYPL9WI07RX8BYRB41SU</td>\n",
       "      <td>s_01_e_26_shot_019072_019146_70.png</td>\n",
       "      <td>False</td>\n",
       "    </tr>\n",
       "    <tr>\n",
       "      <th>1617</th>\n",
       "      <td>{hoppy}</td>\n",
       "      <td>3KA7IJSNW752PRBWSGWM8FJWQ3OBP7</td>\n",
       "      <td>s_01_e_26_shot_016630_016704_70.png</td>\n",
       "      <td>True</td>\n",
       "    </tr>\n",
       "    <tr>\n",
       "      <th>1618</th>\n",
       "      <td>{unknown character}</td>\n",
       "      <td>3KA7IJSNW752PRBWSGWM8FJWQ3OBP7</td>\n",
       "      <td>s_01_e_26_shot_016630_016704_70.png</td>\n",
       "      <td>False</td>\n",
       "    </tr>\n",
       "    <tr>\n",
       "      <th>1619</th>\n",
       "      <td>{bamm bamm}</td>\n",
       "      <td>3KA7IJSNW752PRBWSGWM8FJWQ3OBP7</td>\n",
       "      <td>s_01_e_26_shot_016630_016704_70.png</td>\n",
       "      <td>True</td>\n",
       "    </tr>\n",
       "    <tr>\n",
       "      <th>1644</th>\n",
       "      <td>{fred}</td>\n",
       "      <td>34YWR3PJ29A6EDADGR9EIB9G1YZX0U</td>\n",
       "      <td>s_01_e_03_shot_032888_032962_40.png</td>\n",
       "      <td>True</td>\n",
       "    </tr>\n",
       "    <tr>\n",
       "      <th>1645</th>\n",
       "      <td>{barney, fred}</td>\n",
       "      <td>34YWR3PJ29A6EDADGR9EIB9G1YZX0U</td>\n",
       "      <td>s_01_e_03_shot_032888_032962_40.png</td>\n",
       "      <td>True</td>\n",
       "    </tr>\n",
       "    <tr>\n",
       "      <th>1646</th>\n",
       "      <td>{police officer, fred}</td>\n",
       "      <td>34YWR3PJ29A6EDADGR9EIB9G1YZX0U</td>\n",
       "      <td>s_01_e_03_shot_032888_032962_40.png</td>\n",
       "      <td>False</td>\n",
       "    </tr>\n",
       "    <tr>\n",
       "      <th>1659</th>\n",
       "      <td>{mr slate}</td>\n",
       "      <td>34F34TZU7XZCF382EAYRAQUGNY52JW</td>\n",
       "      <td>s_01_e_11_shot_031460_031534_40.png</td>\n",
       "      <td>True</td>\n",
       "    </tr>\n",
       "    <tr>\n",
       "      <th>1660</th>\n",
       "      <td>{no characters}</td>\n",
       "      <td>34F34TZU7XZCF382EAYRAQUGNY52JW</td>\n",
       "      <td>s_01_e_11_shot_031460_031534_40.png</td>\n",
       "      <td>True</td>\n",
       "    </tr>\n",
       "    <tr>\n",
       "      <th>1661</th>\n",
       "      <td>{no character, no characters}</td>\n",
       "      <td>34F34TZU7XZCF382EAYRAQUGNY52JW</td>\n",
       "      <td>s_01_e_11_shot_031460_031534_40.png</td>\n",
       "      <td>False</td>\n",
       "    </tr>\n",
       "  </tbody>\n",
       "</table>\n",
       "<p>225 rows × 4 columns</p>\n",
       "</div>"
      ],
      "text/plain": [
       "                                             characters  \\\n",
       "0                                       {no characters}   \n",
       "1                                           {bamm bamm}   \n",
       "2                         {no character, no characters}   \n",
       "48    {police officer with moustache, police officer...   \n",
       "49                                               {fred}   \n",
       "50                                {no characters, fred}   \n",
       "120                            {police, police officer}   \n",
       "121                                     {no characters}   \n",
       "122                                    {police officer}   \n",
       "144                                     {no characters}   \n",
       "145                                         {bamm bamm}   \n",
       "146                {boy with blue dress, no characters}   \n",
       "150   {fred and barney looking at something interest...   \n",
       "151                                              {fred}   \n",
       "152                                      {barney, fred}   \n",
       "156                                         {bamm bamm}   \n",
       "157                                          {mr slate}   \n",
       "158                                      {man with bad}   \n",
       "159                                                  {}   \n",
       "160                                     {no characters}   \n",
       "161                          {young boy, no characters}   \n",
       "207   {barney, boy with blond hair, boy with brown h...   \n",
       "208                                              {fred}   \n",
       "209                                 {barney, kid, fred}   \n",
       "219                                      {barney, fred}   \n",
       "220                               {no characters, fred}   \n",
       "221   {police officer with stick, police officer, fred}   \n",
       "252                                              {fred}   \n",
       "253                                         {scout boy}   \n",
       "254               {boy with yellow hair, no characters}   \n",
       "...                                                 ...   \n",
       "1494                                             {fred}   \n",
       "1495                                 {small fred, fred}   \n",
       "1496                                             {fred}   \n",
       "1497                {barney, children/boy scouts, fred}   \n",
       "1498                                    {no characters}   \n",
       "1499  {black-haired scout, brown-haired scout, barne...   \n",
       "1506                                             {fred}   \n",
       "1507                                             {fred}   \n",
       "1508                                 {small fred, fred}   \n",
       "1533                      {no character, no characters}   \n",
       "1534                                    {no characters}   \n",
       "1535                                    {no characters}   \n",
       "1542                              {no characters, fred}   \n",
       "1543                  {he was wear a brown shirt, fred}   \n",
       "1544                                     {barney, fred}   \n",
       "1575                                    {no characters}   \n",
       "1576                    {police officer, no characters}   \n",
       "1577                                             {fred}   \n",
       "1599                                             {fred}   \n",
       "1600                              {no characters, fred}   \n",
       "1601                                       {bear, fred}   \n",
       "1617                                            {hoppy}   \n",
       "1618                                {unknown character}   \n",
       "1619                                        {bamm bamm}   \n",
       "1644                                             {fred}   \n",
       "1645                                     {barney, fred}   \n",
       "1646                             {police officer, fred}   \n",
       "1659                                         {mr slate}   \n",
       "1660                                    {no characters}   \n",
       "1661                      {no character, no characters}   \n",
       "\n",
       "                                h_id                             still_id  \\\n",
       "0     371DNNCG452HFL6W6LLWMNUS70O8TA  s_01_e_26_shot_020977_021051_70.png   \n",
       "1     371DNNCG452HFL6W6LLWMNUS70O8TA  s_01_e_26_shot_020977_021051_70.png   \n",
       "2     371DNNCG452HFL6W6LLWMNUS70O8TA  s_01_e_26_shot_020977_021051_70.png   \n",
       "48    3FJ2RVH2506N9RVTSY7ELWGDRTT291  s_01_e_03_shot_034059_034133_40.png   \n",
       "49    3FJ2RVH2506N9RVTSY7ELWGDRTT291  s_01_e_03_shot_034059_034133_40.png   \n",
       "50    3FJ2RVH2506N9RVTSY7ELWGDRTT291  s_01_e_03_shot_034059_034133_40.png   \n",
       "120   3DW3BNF1GIIWSDALBGLBN5ID4L48VQ  s_01_e_26_shot_028469_028543_40.png   \n",
       "121   3DW3BNF1GIIWSDALBGLBN5ID4L48VQ  s_01_e_26_shot_028469_028543_40.png   \n",
       "122   3DW3BNF1GIIWSDALBGLBN5ID4L48VQ  s_01_e_26_shot_028469_028543_40.png   \n",
       "144   3HRWUH63QV20XQIABRSH14E9GS1N5M  s_01_e_15_shot_018392_018466_40.png   \n",
       "145   3HRWUH63QV20XQIABRSH14E9GS1N5M  s_01_e_15_shot_018392_018466_40.png   \n",
       "146   3HRWUH63QV20XQIABRSH14E9GS1N5M  s_01_e_15_shot_018392_018466_40.png   \n",
       "150   3HKIF5DF6ZXDOL30RDS3N0AE1CYG9Y  s_01_e_15_shot_014201_014275_10.png   \n",
       "151   3HKIF5DF6ZXDOL30RDS3N0AE1CYG9Y  s_01_e_15_shot_014201_014275_10.png   \n",
       "152   3HKIF5DF6ZXDOL30RDS3N0AE1CYG9Y  s_01_e_15_shot_014201_014275_10.png   \n",
       "156   3DIIW4IV8QVQN63J06WFR4CEUXC4II  s_01_e_26_shot_026070_026144_10.png   \n",
       "157   3DIIW4IV8QVQN63J06WFR4CEUXC4II  s_01_e_26_shot_026070_026144_10.png   \n",
       "158   3DIIW4IV8QVQN63J06WFR4CEUXC4II  s_01_e_26_shot_026070_026144_10.png   \n",
       "159   33P2GD6NROSB5DH2FG1AY90VR6NKHV  s_01_e_15_shot_018392_018466_10.png   \n",
       "160   33P2GD6NROSB5DH2FG1AY90VR6NKHV  s_01_e_15_shot_018392_018466_10.png   \n",
       "161   33P2GD6NROSB5DH2FG1AY90VR6NKHV  s_01_e_15_shot_018392_018466_10.png   \n",
       "207   3FVBZG9CLKE9SNAYBNRSFPLMD8GH0L  s_01_e_26_shot_018905_018979_70.png   \n",
       "208   3FVBZG9CLKE9SNAYBNRSFPLMD8GH0L  s_01_e_26_shot_018905_018979_70.png   \n",
       "209   3FVBZG9CLKE9SNAYBNRSFPLMD8GH0L  s_01_e_26_shot_018905_018979_70.png   \n",
       "219   3F6045TU7EOY9BGSD7MTVJORXZ3990  s_01_e_03_shot_034134_034208_40.png   \n",
       "220   3F6045TU7EOY9BGSD7MTVJORXZ3990  s_01_e_03_shot_034134_034208_40.png   \n",
       "221   3F6045TU7EOY9BGSD7MTVJORXZ3990  s_01_e_03_shot_034134_034208_40.png   \n",
       "252   32CAVSKPCFPE4Y10752RC9TMC8P1UA  s_01_e_26_shot_020977_021051_40.png   \n",
       "253   32CAVSKPCFPE4Y10752RC9TMC8P1UA  s_01_e_26_shot_020977_021051_40.png   \n",
       "254   32CAVSKPCFPE4Y10752RC9TMC8P1UA  s_01_e_26_shot_020977_021051_40.png   \n",
       "...                              ...                                  ...   \n",
       "1494  3UY4PIS8QSL198HRA4Q5YE1S4CWN14  s_01_e_12_shot_025718_025792_40.png   \n",
       "1495  3UY4PIS8QSL198HRA4Q5YE1S4CWN14  s_01_e_12_shot_025718_025792_40.png   \n",
       "1496  3UY4PIS8QSL198HRA4Q5YE1S4CWN14  s_01_e_12_shot_025718_025792_40.png   \n",
       "1497  3X2LT8FDHXI972AQ1QQ7971RBU68W0  s_01_e_26_shot_028862_028936_40.png   \n",
       "1498  3X2LT8FDHXI972AQ1QQ7971RBU68W0  s_01_e_26_shot_028862_028936_40.png   \n",
       "1499  3X2LT8FDHXI972AQ1QQ7971RBU68W0  s_01_e_26_shot_028862_028936_40.png   \n",
       "1506  3GITHABACZL8YTZNT8QJ3XBXWIAN2L  s_01_e_12_shot_027902_027976_70.png   \n",
       "1507  3GITHABACZL8YTZNT8QJ3XBXWIAN2L  s_01_e_12_shot_027902_027976_70.png   \n",
       "1508  3GITHABACZL8YTZNT8QJ3XBXWIAN2L  s_01_e_12_shot_027902_027976_70.png   \n",
       "1533  3QMELQS6Y6BHVSAG9HJ32UXJDK16R9  s_01_e_26_shot_035715_035789_70.png   \n",
       "1534  3QMELQS6Y6BHVSAG9HJ32UXJDK16R9  s_01_e_26_shot_035715_035789_70.png   \n",
       "1535  3QMELQS6Y6BHVSAG9HJ32UXJDK16R9  s_01_e_26_shot_035715_035789_70.png   \n",
       "1542  3G5RUKN2ED3JYDKMEH5YDKJB2OK9NZ  s_01_e_11_shot_023901_023975_10.png   \n",
       "1543  3G5RUKN2ED3JYDKMEH5YDKJB2OK9NZ  s_01_e_11_shot_023901_023975_10.png   \n",
       "1544  3G5RUKN2ED3JYDKMEH5YDKJB2OK9NZ  s_01_e_11_shot_023901_023975_10.png   \n",
       "1575  3LEG2HW4UGNWA1M6VK76VS2OURO2FT  s_01_e_03_shot_031324_031398_70.png   \n",
       "1576  3LEG2HW4UGNWA1M6VK76VS2OURO2FT  s_01_e_03_shot_031324_031398_70.png   \n",
       "1577  3LEG2HW4UGNWA1M6VK76VS2OURO2FT  s_01_e_03_shot_031324_031398_70.png   \n",
       "1599  3B6F54KMR3CYPL9WI07RX8BYRB41SU  s_01_e_26_shot_019072_019146_70.png   \n",
       "1600  3B6F54KMR3CYPL9WI07RX8BYRB41SU  s_01_e_26_shot_019072_019146_70.png   \n",
       "1601  3B6F54KMR3CYPL9WI07RX8BYRB41SU  s_01_e_26_shot_019072_019146_70.png   \n",
       "1617  3KA7IJSNW752PRBWSGWM8FJWQ3OBP7  s_01_e_26_shot_016630_016704_70.png   \n",
       "1618  3KA7IJSNW752PRBWSGWM8FJWQ3OBP7  s_01_e_26_shot_016630_016704_70.png   \n",
       "1619  3KA7IJSNW752PRBWSGWM8FJWQ3OBP7  s_01_e_26_shot_016630_016704_70.png   \n",
       "1644  34YWR3PJ29A6EDADGR9EIB9G1YZX0U  s_01_e_03_shot_032888_032962_40.png   \n",
       "1645  34YWR3PJ29A6EDADGR9EIB9G1YZX0U  s_01_e_03_shot_032888_032962_40.png   \n",
       "1646  34YWR3PJ29A6EDADGR9EIB9G1YZX0U  s_01_e_03_shot_032888_032962_40.png   \n",
       "1659  34F34TZU7XZCF382EAYRAQUGNY52JW  s_01_e_11_shot_031460_031534_40.png   \n",
       "1660  34F34TZU7XZCF382EAYRAQUGNY52JW  s_01_e_11_shot_031460_031534_40.png   \n",
       "1661  34F34TZU7XZCF382EAYRAQUGNY52JW  s_01_e_11_shot_031460_031534_40.png   \n",
       "\n",
       "      all_main  \n",
       "0         True  \n",
       "1         True  \n",
       "2        False  \n",
       "48       False  \n",
       "49        True  \n",
       "50        True  \n",
       "120      False  \n",
       "121       True  \n",
       "122      False  \n",
       "144       True  \n",
       "145       True  \n",
       "146      False  \n",
       "150      False  \n",
       "151       True  \n",
       "152       True  \n",
       "156       True  \n",
       "157       True  \n",
       "158      False  \n",
       "159       True  \n",
       "160       True  \n",
       "161      False  \n",
       "207      False  \n",
       "208       True  \n",
       "209      False  \n",
       "219       True  \n",
       "220       True  \n",
       "221      False  \n",
       "252       True  \n",
       "253      False  \n",
       "254      False  \n",
       "...        ...  \n",
       "1494      True  \n",
       "1495     False  \n",
       "1496      True  \n",
       "1497     False  \n",
       "1498      True  \n",
       "1499     False  \n",
       "1506      True  \n",
       "1507      True  \n",
       "1508     False  \n",
       "1533     False  \n",
       "1534      True  \n",
       "1535      True  \n",
       "1542      True  \n",
       "1543     False  \n",
       "1544      True  \n",
       "1575      True  \n",
       "1576     False  \n",
       "1577      True  \n",
       "1599      True  \n",
       "1600      True  \n",
       "1601     False  \n",
       "1617      True  \n",
       "1618     False  \n",
       "1619      True  \n",
       "1644      True  \n",
       "1645      True  \n",
       "1646     False  \n",
       "1659      True  \n",
       "1660      True  \n",
       "1661     False  \n",
       "\n",
       "[225 rows x 4 columns]"
      ]
     },
     "execution_count": 847,
     "metadata": {},
     "output_type": "execute_result"
    }
   ],
   "source": [
    "not_main_df"
   ]
  },
  {
   "cell_type": "code",
   "execution_count": 708,
   "metadata": {},
   "outputs": [
    {
     "data": {
      "text/html": [
       "<div>\n",
       "<style>\n",
       "    .dataframe thead tr:only-child th {\n",
       "        text-align: right;\n",
       "    }\n",
       "\n",
       "    .dataframe thead th {\n",
       "        text-align: left;\n",
       "    }\n",
       "\n",
       "    .dataframe tbody tr th {\n",
       "        vertical-align: top;\n",
       "    }\n",
       "</style>\n",
       "<table border=\"1\" class=\"dataframe\">\n",
       "  <thead>\n",
       "    <tr style=\"text-align: right;\">\n",
       "      <th></th>\n",
       "      <th>still_id</th>\n",
       "      <th>characters</th>\n",
       "      <th>h_id</th>\n",
       "      <th>all_main</th>\n",
       "      <th>mode_count</th>\n",
       "      <th>all_agree</th>\n",
       "    </tr>\n",
       "  </thead>\n",
       "  <tbody>\n",
       "    <tr>\n",
       "      <th>0</th>\n",
       "      <td>s_01_e_02_shot_001452_001526_10.png</td>\n",
       "      <td>([{mr slate}], [1])</td>\n",
       "      <td>([33P2GD6NROSB5DH2FG1AY90VR6NHKS], [3])</td>\n",
       "      <td>([False], [2])</td>\n",
       "      <td>1</td>\n",
       "      <td>False</td>\n",
       "    </tr>\n",
       "  </tbody>\n",
       "</table>\n",
       "</div>"
      ],
      "text/plain": [
       "                              still_id           characters  \\\n",
       "0  s_01_e_02_shot_001452_001526_10.png  ([{mr slate}], [1])   \n",
       "\n",
       "                                      h_id        all_main  mode_count  \\\n",
       "0  ([33P2GD6NROSB5DH2FG1AY90VR6NHKS], [3])  ([False], [2])           1   \n",
       "\n",
       "   all_agree  \n",
       "0      False  "
      ]
     },
     "execution_count": 708,
     "metadata": {},
     "output_type": "execute_result"
    }
   ],
   "source": [
    "consensus_results_df.head(1)"
   ]
  },
  {
   "cell_type": "code",
   "execution_count": 826,
   "metadata": {},
   "outputs": [],
   "source": [
    "agree_all_main = consensus_results_df['all_main'].apply(lambda x: x[1][0]) == 3 "
   ]
  },
  {
   "cell_type": "code",
   "execution_count": 739,
   "metadata": {
    "scrolled": true
   },
   "outputs": [],
   "source": [
    "all_agree = consensus_results_df[agree_all_main][consensus_results_df[agree_all_main]['all_agree']]\n",
    "disagree = consensus_results_df[agree_all_main][~consensus_results_df[agree_all_main]['all_agree']]"
   ]
  },
  {
   "cell_type": "code",
   "execution_count": 745,
   "metadata": {},
   "outputs": [],
   "source": [
    "conflict_images = set(disagree['still_id'].tolist())"
   ]
  },
  {
   "cell_type": "code",
   "execution_count": 751,
   "metadata": {},
   "outputs": [],
   "source": [
    "conflict_df = char_df[char_df['still_id'].isin(conflict_images)]"
   ]
  },
  {
   "cell_type": "code",
   "execution_count": 789,
   "metadata": {
    "collapsed": true
   },
   "outputs": [],
   "source": [
    "import PIL.Image as Image\n",
    "import requests"
   ]
  },
  {
   "cell_type": "code",
   "execution_count": 821,
   "metadata": {
    "collapsed": true
   },
   "outputs": [],
   "source": [
    "image_n += 1"
   ]
  },
  {
   "cell_type": "code",
   "execution_count": 822,
   "metadata": {},
   "outputs": [
    {
     "data": {
      "text/html": [
       "<div>\n",
       "<style>\n",
       "    .dataframe thead tr:only-child th {\n",
       "        text-align: right;\n",
       "    }\n",
       "\n",
       "    .dataframe thead th {\n",
       "        text-align: left;\n",
       "    }\n",
       "\n",
       "    .dataframe tbody tr th {\n",
       "        vertical-align: top;\n",
       "    }\n",
       "</style>\n",
       "<table border=\"1\" class=\"dataframe\">\n",
       "  <thead>\n",
       "    <tr style=\"text-align: right;\">\n",
       "      <th></th>\n",
       "      <th>characters</th>\n",
       "      <th>h_id</th>\n",
       "      <th>still_id</th>\n",
       "      <th>all_main</th>\n",
       "    </tr>\n",
       "  </thead>\n",
       "  <tbody>\n",
       "    <tr>\n",
       "      <th>162</th>\n",
       "      <td>{barney, betty}</td>\n",
       "      <td>3909MD9T20HO5HYMO427XTBDRUEFE8</td>\n",
       "      <td>s_01_e_20_shot_036188_036262_10.png</td>\n",
       "      <td>True</td>\n",
       "    </tr>\n",
       "    <tr>\n",
       "      <th>163</th>\n",
       "      <td>{barney, betty}</td>\n",
       "      <td>3909MD9T20HO5HYMO427XTBDRUEFE8</td>\n",
       "      <td>s_01_e_20_shot_036188_036262_10.png</td>\n",
       "      <td>True</td>\n",
       "    </tr>\n",
       "    <tr>\n",
       "      <th>164</th>\n",
       "      <td>{betty, no characters}</td>\n",
       "      <td>3909MD9T20HO5HYMO427XTBDRUEFE8</td>\n",
       "      <td>s_01_e_20_shot_036188_036262_10.png</td>\n",
       "      <td>True</td>\n",
       "    </tr>\n",
       "  </tbody>\n",
       "</table>\n",
       "</div>"
      ],
      "text/plain": [
       "                 characters                            h_id  \\\n",
       "162         {barney, betty}  3909MD9T20HO5HYMO427XTBDRUEFE8   \n",
       "163         {barney, betty}  3909MD9T20HO5HYMO427XTBDRUEFE8   \n",
       "164  {betty, no characters}  3909MD9T20HO5HYMO427XTBDRUEFE8   \n",
       "\n",
       "                                still_id  all_main  \n",
       "162  s_01_e_20_shot_036188_036262_10.png      True  \n",
       "163  s_01_e_20_shot_036188_036262_10.png      True  \n",
       "164  s_01_e_20_shot_036188_036262_10.png      True  "
      ]
     },
     "execution_count": 822,
     "metadata": {},
     "output_type": "execute_result"
    }
   ],
   "source": [
    "conflict_df.iloc[image_n * 9: image_n * 9 + 3]"
   ]
  },
  {
   "cell_type": "code",
   "execution_count": 823,
   "metadata": {},
   "outputs": [
    {
     "data": {
      "image/png": "[encoded data removed]",
      "text/plain": [
       "<PIL.PngImagePlugin.PngImageFile image mode=RGB size=640x480 at 0x118057490>"
      ]
     },
     "execution_count": 823,
     "metadata": {},
     "output_type": "execute_result"
    }
   ],
   "source": [
    "image_url = s3_base_path + conflict_df['still_id'].iloc[image_n *  9]\n",
    "Image.open(requests.get(image_url, stream=True).raw)"
   ]
  },
  {
   "cell_type": "markdown",
   "metadata": {},
   "source": [
    "# bounding box clustering"
   ]
  },
  {
   "cell_type": "markdown",
   "metadata": {},
   "source": [
    "## code "
   ]
  },
  {
   "cell_type": "code",
   "execution_count": 957,
   "metadata": {},
   "outputs": [],
   "source": [
    "import numpy as np\n",
    "from sklearn.cluster import SpectralClustering\n",
    "import cv2\n",
    "import PIL.Image as Image\n",
    "from sklearn.cluster import KMeans\n",
    "\n",
    "\n",
    "def box_area(box):\n",
    "    height = box[1][1] - box[0][1]\n",
    "    width = box[1][0] - box[0][0]\n",
    "    return height * width\n",
    "\n",
    "def compute_intersection(b1, b2):\n",
    "    dx = min(b1[1][0], b2[1][0]) - max(b1[0][0], b2[0][0])\n",
    "    dy = min(b1[1][1], b2[1][1]) - max(b1[0][1], b2[0][1])\n",
    "    if (dx >= 0) and (dy >= 0):\n",
    "        intersection_area = dx * dy\n",
    "        return intersection_area\n",
    "    else:\n",
    "        return\n",
    "\n",
    "def comp_boxes_iou(b1, b2):\n",
    "    b1 = b1.reshape(2, 2)\n",
    "    b2 = b2.reshape(2, 2)\n",
    "    b1_area = box_area(b1)\n",
    "    b2_area = box_area(b2)\n",
    "    intersection = compute_intersection(b1, b2)\n",
    "    iou = intersection / (b1_area + b2_area - intersection)\n",
    "    return iou\n",
    "\n",
    "def comp_box_center(box):\n",
    "    return [(box[1][0] + box[0][0]) / 2, (box[1][1] + box[0][1]) / 2]\n",
    "\n",
    "def pick_consensus(clustered_boxes):\n",
    "    return [sorted(cluster, key=lambda x: box_area(x))[:1] for cluster in clustered_boxes]\n",
    "        \n",
    "\n",
    "def draw_loc_consensus_and_individual(diagram_locs, dest_image_dir = './bbox_renders', bracket=0, results_df=''):\n",
    "    user_image_lookup = defaultdict(lambda: defaultdict(str))\n",
    "#     flattened_topic_dir = '/Users/schwenk/wrk/stb/ai2-vision-textbook-dataset/diagrams/turk_data/'\n",
    "    for diagram_name, text_locs in diagram_locs.items():\n",
    "        try:\n",
    "            clustered_text_boxes = cluster_diagram_text_centers(text_locs, 3, bracket)\n",
    "            consensus_boxes = pick_consensus(clustered_text_boxes)\n",
    "            image_path = flattened_topic_dir + diagram_name\n",
    "            drawn_image = draw_clusters(image_path, consensus_boxes)\n",
    "            cv2.imwrite(os.path.join(dest_image_dir, diagram_name.replace('.png', '_consensus.png')), drawn_image)\n",
    "            user_boxes = get_boxes_by_user(results_df, diagram_name)\n",
    "            for idx, boxes in enumerate(user_boxes.values()):\n",
    "                user_image_lookup[diagram_name][idx + 1] = user_boxes.keys()[idx]\n",
    "                drawn_image = draw_clusters(image_path, np.array(boxes).reshape(len(boxes), 1))\n",
    "                cv2.imwrite(os.path.join(dest_image_dir, diagram_name.replace('.png', '_' + str(idx + 1) + '.png')), drawn_image) \n",
    "        except AttributeError as e:\n",
    "            print diagram_name, e\n",
    "    return user_image_lookup\n",
    "\n",
    "\n",
    "def cluster_diagram_text_centers(text_rects, n_turkers_assigned = 3, bracket=0):\n",
    "    text_centers= [comp_box_center(rect) for rect in text_rects]\n",
    "    remainder = len(text_centers) % n_turkers_assigned\n",
    "    if not remainder:\n",
    "        n_clusters = int(len(text_centers) / n_turkers_assigned)\n",
    "    else:\n",
    "        if bracket != 'lots':\n",
    "            bracket_n = int(bracket)\n",
    "        else:\n",
    "            bracket_n = 7\n",
    "        n_clusters = len(text_centers) // n_turkers_assigned + bracket\n",
    "    text_clusterer = KMeans(n_clusters)\n",
    "    box_array = np.array(text_centers)\n",
    "    cluster_assignments = text_clusterer.fit_predict(box_array)\n",
    "    clustered_boxes = [np.array(text_rects)[cluster_assignments == cluster_n].tolist() for cluster_n in range(n_clusters)]\n",
    "    return clustered_boxes\n",
    "\n",
    "def limit_rect(rect, max_x, max_y, border_pad = 2):\n",
    "        if rect[0][0] < 0:\n",
    "            rect[0][0] = border_pad\n",
    "        if rect[0][1] < 0:\n",
    "            rect[0][1] = border_pad\n",
    "        if rect[1][0]  > max_x:\n",
    "            rect[1][0] = max_x - border_pad\n",
    "        if rect[1][1]  > max_y:\n",
    "            rect[1][1] = max_y -border_pad\n",
    "            \n",
    "def draw_clusters(img_path, clustered_boxes, direction='rows'):\n",
    "    \n",
    "    def random_color():\n",
    "        import random\n",
    "        return random.randint(0, 255), random.randint(0, 255), random.randint(0, 255)\n",
    "\n",
    "    image = cv2.imread(img_path)\n",
    "    image = cv2.cvtColor(image, cv2.COLOR_BGR2RGB)\n",
    "    max_height, max_width, channels = image.shape\n",
    "\n",
    "    for idx, cluster in enumerate(clustered_boxes):\n",
    "        color = random_color()\n",
    "        for box in cluster:\n",
    "            limit_rect(box, max_width, max_height)\n",
    "            cv2.rectangle(image, tuple(box[0]), tuple(box[1]), color=color, thickness=2)\n",
    "    return image\n",
    "\n",
    "def draw_loc_clusters(diagram_locs, dest_image_dir = '/Users/schwenk/wrk/stb/check_clustering_km/', bracket=0):\n",
    "    flattened_topic_dir = '/Users/schwenk/wrk/stb/ai2-vision-textbook-dataset/diagrams/turk_data/'\n",
    "    for diagram_name, text_locs in diagram_locs.items():\n",
    "        try:\n",
    "            clustered_text_boxes = cluster_diagram_text_centers(text_locs, 3, bracket)\n",
    "            image_path = flattened_topic_dir + diagram_name\n",
    "            drawn_image = draw_clusters(image_path, clustered_text_boxes)\n",
    "            cv2.imwrite(os.path.join(dest_image_dir, diagram_name), drawn_image)\n",
    "        except OverflowError as e:\n",
    "            print diagram_name, e\n",
    "\n",
    "def get_frame_rects(frame_annos):\n",
    "    rects = []\n",
    "    for rect in json.loads(frame_annos['characterBoxes']):\n",
    "        rects.append(rect_from_anno(rect))\n",
    "    return rects\n",
    "\n",
    "def rect_from_anno(anno):\n",
    "    upper_left = [anno['left'], anno['top']]\n",
    "    upper_right = [upper_left[0] + anno['width'], upper_left[1] + anno['height']]\n",
    "    return [upper_left, upper_right]"
   ]
  },
  {
   "cell_type": "markdown",
   "metadata": {},
   "source": [
    "## run"
   ]
  },
  {
   "cell_type": "code",
   "execution_count": 966,
   "metadata": {
    "collapsed": true
   },
   "outputs": [],
   "source": [
    "image_base_dir = '/Users/schwenk/wrk/animation_gan/build_dataset/Flintstone_Shots_Selected_Frames/'"
   ]
  },
  {
   "cell_type": "code",
   "execution_count": 958,
   "metadata": {
    "collapsed": true
   },
   "outputs": [],
   "source": [
    "test_frame = assignment_results[3:6]"
   ]
  },
  {
   "cell_type": "code",
   "execution_count": 961,
   "metadata": {},
   "outputs": [],
   "source": [
    "# cluster_diagram_text_centers()"
   ]
  },
  {
   "cell_type": "code",
   "execution_count": 963,
   "metadata": {},
   "outputs": [],
   "source": [
    "test_rects = [get_frame_rects(anno) for anno in test_frame]"
   ]
  },
  {
   "cell_type": "code",
   "execution_count": 964,
   "metadata": {},
   "outputs": [],
   "source": [
    "flattened_rects = [item for sublist in test_rects for item in sublist]\n",
    "\n",
    "box_clusters = cluster_diagram_text_centers(flattened_rects)"
   ]
  },
  {
   "cell_type": "code",
   "execution_count": 967,
   "metadata": {},
   "outputs": [],
   "source": [
    "still_id = test_frame[0]['stillID']"
   ]
  },
  {
   "cell_type": "code",
   "execution_count": 968,
   "metadata": {},
   "outputs": [],
   "source": [
    "\n",
    "img_a = draw_clusters(os.path.join(image_base_dir, still_id), box_clusters)\n",
    "\n",
    "print('test')\n",
    "Image.fromarray(img_a)"
   ]
  },
  {
   "cell_type": "code",
   "execution_count": null,
   "metadata": {
    "collapsed": true
   },
   "outputs": [],
   "source": []
  },
  {
   "cell_type": "code",
   "execution_count": null,
   "metadata": {
    "collapsed": true
   },
   "outputs": [],
   "source": []
  },
  {
   "cell_type": "code",
   "execution_count": null,
   "metadata": {
    "collapsed": true
   },
   "outputs": [],
   "source": []
  },
  {
   "cell_type": "code",
   "execution_count": null,
   "metadata": {
    "collapsed": true
   },
   "outputs": [],
   "source": []
  },
  {
   "cell_type": "code",
   "execution_count": null,
   "metadata": {
    "collapsed": true
   },
   "outputs": [],
   "source": []
  },
  {
   "cell_type": "code",
   "execution_count": null,
   "metadata": {
    "collapsed": true
   },
   "outputs": [],
   "source": []
  },
  {
   "cell_type": "code",
   "execution_count": null,
   "metadata": {
    "collapsed": true
   },
   "outputs": [],
   "source": []
  },
  {
   "cell_type": "code",
   "execution_count": null,
   "metadata": {
    "collapsed": true
   },
   "outputs": [],
   "source": []
  },
  {
   "cell_type": "code",
   "execution_count": null,
   "metadata": {
    "collapsed": true
   },
   "outputs": [],
   "source": []
  },
  {
   "cell_type": "markdown",
   "metadata": {
    "heading_collapsed": true
   },
   "source": [
    "# hide"
   ]
  },
  {
   "cell_type": "markdown",
   "metadata": {
    "heading_collapsed": true,
    "hidden": true
   },
   "source": [
    "## Reviewing latest HITs"
   ]
  },
  {
   "cell_type": "markdown",
   "metadata": {
    "hidden": true
   },
   "source": [
    "## download"
   ]
  },
  {
   "cell_type": "code",
   "execution_count": null,
   "metadata": {
    "collapsed": true,
    "hidden": true,
    "run_control": {
     "frozen": false,
     "read_only": false
    }
   },
   "outputs": [],
   "source": [
    "r_hits_current_batch = amt_util.get_completed_hits(mturk)"
   ]
  },
  {
   "cell_type": "code",
   "execution_count": null,
   "metadata": {
    "collapsed": true,
    "hidden": true,
    "run_control": {
     "frozen": false,
     "read_only": false
    }
   },
   "outputs": [],
   "source": [
    "assignment_results_current_batch = amt_util.get_assignments(mturk, r_hits_current_batch, status='Submitted')"
   ]
  },
  {
   "cell_type": "markdown",
   "metadata": {
    "heading_collapsed": true,
    "hidden": true
   },
   "source": [
    "## process"
   ]
  },
  {
   "cell_type": "code",
   "execution_count": null,
   "metadata": {
    "collapsed": true,
    "hidden": true,
    "run_control": {
     "frozen": false,
     "read_only": false
    }
   },
   "outputs": [],
   "source": [
    "print 'current assignment statuses'\n",
    "print amt_util.get_assignment_statuses(assignment_results_current_batch)"
   ]
  },
  {
   "cell_type": "code",
   "execution_count": null,
   "metadata": {
    "collapsed": true,
    "hidden": true,
    "run_control": {
     "frozen": false,
     "read_only": false
    }
   },
   "outputs": [],
   "source": [
    "submitted_assignments = defaultdict(list)\n",
    "for hitid, assignments in assignment_results_current_batch.items():\n",
    "    for assignment in assignments:\n",
    "        if assignment.AssignmentStatus == 'Submitted':\n",
    "            submitted_assignments[hitid].append(assignment)"
   ]
  },
  {
   "cell_type": "code",
   "execution_count": null,
   "metadata": {
    "collapsed": true,
    "hidden": true,
    "run_control": {
     "frozen": false,
     "read_only": false
    }
   },
   "outputs": [],
   "source": [
    "assigment_worker_lookup = {}\n",
    "for hit_id, hit_assignments in submitted_assignments.items():\n",
    "        for assignment in hit_assignments:\n",
    "            assigment_worker_lookup[assignment.AssignmentId]  = assignment.WorkerId"
   ]
  },
  {
   "cell_type": "code",
   "execution_count": null,
   "metadata": {
    "collapsed": true,
    "hidden": true,
    "run_control": {
     "frozen": false,
     "read_only": false
    }
   },
   "outputs": [],
   "source": [
    "def process_raw_hits(assignments_by_hit):\n",
    "    mechanical_turk_results = defaultdict(list)\n",
    "    for hit_id, hit_assignments in assignments_by_hit.items():\n",
    "        for assignment in hit_assignments:\n",
    "            for answers in assignment.answers:\n",
    "                try:\n",
    "                    q_id = answers[0].fields[0]\n",
    "                    q_ans = answers[1].fields[0]\n",
    "                    mechanical_turk_results[hit_id].append({\n",
    "                        assignment.AssignmentId: {q_id: q_ans.replace('.', '')}}\n",
    "                    )\n",
    "                except IndexError as e:\n",
    "                    print(e, answers[0])\n",
    "    return mechanical_turk_results"
   ]
  },
  {
   "cell_type": "code",
   "execution_count": null,
   "metadata": {
    "collapsed": true,
    "hidden": true,
    "run_control": {
     "frozen": false,
     "read_only": false
    }
   },
   "outputs": [],
   "source": [
    "proc_results = process_raw_hits(submitted_assignments)"
   ]
  },
  {
   "cell_type": "code",
   "execution_count": null,
   "metadata": {
    "collapsed": true,
    "hidden": true,
    "run_control": {
     "frozen": false,
     "read_only": false
    }
   },
   "outputs": [],
   "source": [
    "def make_answer_json(assignment_results):\n",
    "    results = {}\n",
    "    for hid, assignments in assignment_results.items():\n",
    "        for assignment in assignments:\n",
    "            for aid, result in assignment.items():\n",
    "               results.update(result) \n",
    "    results_output = {k: v.replace('.', '') for k,v in results.items()}\n",
    "    return results_output"
   ]
  },
  {
   "cell_type": "code",
   "execution_count": null,
   "metadata": {
    "collapsed": true,
    "hidden": true,
    "run_control": {
     "frozen": false,
     "read_only": false
    }
   },
   "outputs": [],
   "source": [
    "res_json = make_answer_json(proc_results)"
   ]
  },
  {
   "cell_type": "code",
   "execution_count": null,
   "metadata": {
    "collapsed": true,
    "hidden": true,
    "run_control": {
     "frozen": false,
     "read_only": false
    }
   },
   "outputs": [],
   "source": [
    "with open('turker_answers.json', 'w') as f:\n",
    "    json.dump(res_json, f)"
   ]
  },
  {
   "cell_type": "code",
   "execution_count": null,
   "metadata": {
    "collapsed": true,
    "hidden": true,
    "run_control": {
     "frozen": false,
     "read_only": false
    }
   },
   "outputs": [],
   "source": [
    "def make_results_df(raw_hit_results):\n",
    "    col_names = ['qid', 'answer', 'hit_id', 'assignment_id']\n",
    "    results_df = pd.DataFrame(columns=col_names)\n",
    "    for hit_id, assignments in raw_hit_results.items():\n",
    "        for assignment in assignments:\n",
    "            for a_id, annotation in assignment.items():\n",
    "                for diagram, rectangles in annotation.items():\n",
    "                    for box in rectangles:\n",
    "                        results_df.loc[len(results_df)] = \\\n",
    "                            [diagram, box, hit_id, a_id]\n",
    "    return results_df"
   ]
  },
  {
   "cell_type": "code",
   "execution_count": null,
   "metadata": {
    "collapsed": true,
    "hidden": true,
    "run_control": {
     "frozen": false,
     "read_only": false
    },
    "scrolled": true
   },
   "outputs": [],
   "source": [
    "res_df = make_results_df(proc_results)"
   ]
  },
  {
   "cell_type": "code",
   "execution_count": null,
   "metadata": {
    "collapsed": true,
    "hidden": true,
    "run_control": {
     "frozen": false,
     "read_only": false
    }
   },
   "outputs": [],
   "source": [
    "grouped_by_page = res_df.groupby(['qid'])"
   ]
  },
  {
   "cell_type": "code",
   "execution_count": null,
   "metadata": {
    "collapsed": true,
    "hidden": true,
    "run_control": {
     "frozen": false,
     "read_only": false
    }
   },
   "outputs": [],
   "source": [
    "def make_consensus_df(results_df, no_consensus_flag):\n",
    "    grouped_by_page = results_df.groupby('qid')\n",
    "    aggregated_df = grouped_by_page.agg(pd.DataFrame.mode)\n",
    "#     aggregated_df.drop([ 'page', 'box_id', 'worker_id'], axis=1, inplace=True)\n",
    "    aggregated_df = aggregated_df.fillna(no_consensus_flag)\n",
    "    consensus_results_df = aggregated_df.reset_index()\n",
    "#     consensus_results_df.drop('level_2', axis=1, inplace=True)\n",
    "    return consensus_results_df"
   ]
  },
  {
   "cell_type": "markdown",
   "metadata": {
    "heading_collapsed": true,
    "hidden": true
   },
   "source": [
    "## Merging latest round of HITs into combined dataset "
   ]
  },
  {
   "cell_type": "markdown",
   "metadata": {
    "heading_collapsed": true,
    "hidden": true
   },
   "source": [
    "## Load previously pickled results"
   ]
  },
  {
   "cell_type": "code",
   "execution_count": null,
   "metadata": {
    "collapsed": true,
    "hidden": true,
    "run_control": {
     "frozen": false,
     "read_only": false
    }
   },
   "outputs": [],
   "source": [
    "batch_number = 7\n",
    "\n",
    "with open('./store_hit_results_metadata/group_' + str(batch_number) + '/hit_info.pkl') as f:\n",
    "    r_hits_previous_batch = pickle.load(f)\n",
    "    \n",
    "with open('./store_hit_results_metadata/group_' + str(batch_number) + '/assignment_info.pkl') as f:\n",
    "    assignment_results_previous_batch = pickle.load(f)\n",
    "    \n",
    "# with open('./store_hit_results_metadata/group_' + str(batch_number) + '/raw_res.pkl') as f:\n",
    "#     raw_hit_results_previous_batch = pickle.load(f)"
   ]
  },
  {
   "cell_type": "code",
   "execution_count": null,
   "metadata": {
    "collapsed": true,
    "hidden": true,
    "run_control": {
     "frozen": false,
     "read_only": false
    }
   },
   "outputs": [],
   "source": [
    "# combined_results_batch = pd.read_pickle(data_pickled_dir + 'complete_df.pkl')\n",
    "# combined_consensus_batch = pd.read_pickle(data_pickled_dir + 'consensus_df.pkl')"
   ]
  },
  {
   "cell_type": "code",
   "execution_count": null,
   "metadata": {
    "collapsed": true,
    "hidden": true,
    "run_control": {
     "frozen": false,
     "read_only": false
    }
   },
   "outputs": [],
   "source": [
    "missing_hits = set(assignment_results_previous_batch.keys()).difference(assignment_results_current_batch.keys())\n",
    "missing_hits_assignments = {k: v for k, v in assignment_results_previous_batch.items() if k in missing_hits}"
   ]
  },
  {
   "cell_type": "markdown",
   "metadata": {
    "heading_collapsed": true,
    "hidden": true
   },
   "source": [
    "## Load prior complete dataset if not in memory"
   ]
  },
  {
   "cell_type": "code",
   "execution_count": null,
   "metadata": {
    "collapsed": true,
    "hidden": true,
    "run_control": {
     "frozen": false,
     "read_only": false
    }
   },
   "outputs": [],
   "source": [
    "data_pickled_dir = './store_hit_results_metadata/group_latest_combined/' "
   ]
  },
  {
   "cell_type": "code",
   "execution_count": null,
   "metadata": {
    "collapsed": true,
    "hidden": true,
    "run_control": {
     "frozen": false,
     "read_only": false
    }
   },
   "outputs": [],
   "source": [
    "combined_results_df = pd.read_pickle(data_pickled_dir + 'complete_df.pkl')\n",
    "combined_consensus_df = pd.read_pickle(data_pickled_dir + 'consensus_df.pkl')\n",
    "combined_consensus_with_workerid_df = pd.read_pickle(data_pickled_dir + 'consensus_df_w_workers.pkl') "
   ]
  },
  {
   "cell_type": "markdown",
   "metadata": {
    "heading_collapsed": true,
    "hidden": true
   },
   "source": [
    "## Updating full dataset"
   ]
  },
  {
   "cell_type": "code",
   "execution_count": null,
   "metadata": {
    "collapsed": true,
    "hidden": true,
    "run_control": {
     "frozen": false,
     "read_only": false
    }
   },
   "outputs": [],
   "source": [
    "combined_results_df = combined_results_df.append(results_df_previous_batch)\n",
    "combined_consensus_df = combined_consensus_df.append(consensus_prev)\n",
    "combined_consensus_with_workerid_df = combined_consensus_with_workerid_df.append(consensus_prevww)"
   ]
  },
  {
   "cell_type": "code",
   "execution_count": null,
   "metadata": {
    "collapsed": true,
    "hidden": true,
    "run_control": {
     "frozen": false,
     "read_only": false
    }
   },
   "outputs": [],
   "source": [
    "%%capture\n",
    "no_consensus_hits = combined_consensus_df[combined_consensus_df['category'] == 'No Consensus']"
   ]
  },
  {
   "cell_type": "markdown",
   "metadata": {
    "hidden": true
   },
   "source": [
    "## Working with full dataset"
   ]
  },
  {
   "cell_type": "markdown",
   "metadata": {
    "heading_collapsed": true,
    "hidden": true
   },
   "source": [
    "## Worker analysis"
   ]
  },
  {
   "cell_type": "markdown",
   "metadata": {
    "heading_collapsed": true,
    "hidden": true
   },
   "source": [
    "## Basic worker stats"
   ]
  },
  {
   "cell_type": "code",
   "execution_count": null,
   "metadata": {
    "collapsed": true,
    "hidden": true,
    "run_control": {
     "frozen": false,
     "read_only": false
    }
   },
   "outputs": [],
   "source": [
    "results_df"
   ]
  },
  {
   "cell_type": "code",
   "execution_count": null,
   "metadata": {
    "collapsed": true,
    "hidden": true,
    "run_control": {
     "frozen": false,
     "read_only": false
    },
    "scrolled": true
   },
   "outputs": [],
   "source": [
    "print 'number of unique workers:'\n",
    "pd.unique(results_df['worker_id']).shape[0]"
   ]
  },
  {
   "cell_type": "code",
   "execution_count": null,
   "metadata": {
    "collapsed": true,
    "hidden": true,
    "run_control": {
     "frozen": false,
     "read_only": false
    }
   },
   "outputs": [],
   "source": [
    "grouped_by_worker = results_df.groupby('worker_id')"
   ]
  },
  {
   "cell_type": "code",
   "execution_count": null,
   "metadata": {
    "collapsed": true,
    "hidden": true,
    "run_control": {
     "frozen": false,
     "read_only": false
    }
   },
   "outputs": [],
   "source": [
    "grouped_by_worker['rectangle'].aggregate(len)"
   ]
  },
  {
   "cell_type": "code",
   "execution_count": null,
   "metadata": {
    "collapsed": true,
    "hidden": true,
    "run_control": {
     "frozen": false,
     "read_only": false
    }
   },
   "outputs": [],
   "source": []
  },
  {
   "cell_type": "code",
   "execution_count": null,
   "metadata": {
    "collapsed": true,
    "hidden": true,
    "run_control": {
     "frozen": false,
     "read_only": false
    }
   },
   "outputs": [],
   "source": []
  },
  {
   "cell_type": "code",
   "execution_count": null,
   "metadata": {
    "collapsed": true,
    "hidden": true,
    "run_control": {
     "frozen": false,
     "read_only": false
    }
   },
   "outputs": [],
   "source": [
    "_ = results_df['worker_id'].value_counts().hist(bins= 30)"
   ]
  },
  {
   "cell_type": "markdown",
   "metadata": {
    "heading_collapsed": true,
    "hidden": true
   },
   "source": [
    "### HIT duration for pricing"
   ]
  },
  {
   "cell_type": "code",
   "execution_count": null,
   "metadata": {
    "collapsed": true,
    "hidden": true,
    "run_control": {
     "frozen": false,
     "read_only": false
    }
   },
   "outputs": [],
   "source": [
    "task_duration_seconds = []\n",
    "for hit_id, assignments in assignment_results_current_batch.items():\n",
    "    for assignment in assignments:\n",
    "        hit_duration = dt_parse.parse(assignment.SubmitTime) - dt_parse.parse(assignment.AcceptTime)\n",
    "        task_duration_seconds.append(hit_duration.seconds)"
   ]
  },
  {
   "cell_type": "code",
   "execution_count": null,
   "metadata": {
    "collapsed": true,
    "hidden": true,
    "run_control": {
     "frozen": false,
     "read_only": false
    }
   },
   "outputs": [],
   "source": [
    "task_duration_series = pd.Series(task_duration_seconds)"
   ]
  },
  {
   "cell_type": "code",
   "execution_count": null,
   "metadata": {
    "collapsed": true,
    "hidden": true,
    "run_control": {
     "frozen": false,
     "read_only": false
    },
    "scrolled": true
   },
   "outputs": [],
   "source": [
    "_ = task_duration_series.hist(bins=30, log=True)"
   ]
  },
  {
   "cell_type": "code",
   "execution_count": null,
   "metadata": {
    "collapsed": true,
    "hidden": true,
    "run_control": {
     "frozen": false,
     "read_only": false
    }
   },
   "outputs": [],
   "source": [
    "winsorized_durations = [t for t in task_duration_seconds if t < 300]\n",
    "w_duration_series = pd.Series(winsorized_durations)"
   ]
  },
  {
   "cell_type": "code",
   "execution_count": null,
   "metadata": {
    "collapsed": true,
    "hidden": true,
    "run_control": {
     "frozen": false,
     "read_only": false
    }
   },
   "outputs": [],
   "source": [
    "_ = pd.Series(w_duration_series).hist(bins=60)\n",
    "plt.title('Worker task duration', fontsize=50, verticalalignment='bottom', color = b16_colors.b)\n",
    "plt.ylabel(\"Number of Workers\", fontsize=30, labelpad=10, color = b16_colors.b)\n",
    "plt.xlabel(\"Seconds Spent on HIT\", fontsize=30, labelpad=10, color = b16_colors.b)\n",
    "plt.tick_params(axis='x', which='major', labelsize=20)\n",
    "plt.tick_params(axis='y', which='major', labelsize=20)"
   ]
  },
  {
   "cell_type": "code",
   "execution_count": null,
   "metadata": {
    "collapsed": true,
    "hidden": true,
    "run_control": {
     "frozen": false,
     "read_only": false
    }
   },
   "outputs": [],
   "source": [
    "print 'duration mode= ' + str(w_duration_series.mode().values[0])\n",
    "print 'duration median= ' + str(w_duration_series.median())"
   ]
  },
  {
   "cell_type": "markdown",
   "metadata": {
    "heading_collapsed": true,
    "hidden": true
   },
   "source": [
    "## Identifying high and low consensus workers"
   ]
  },
  {
   "cell_type": "code",
   "execution_count": null,
   "metadata": {
    "collapsed": true,
    "hidden": true,
    "run_control": {
     "frozen": false,
     "read_only": false
    }
   },
   "outputs": [],
   "source": [
    "consensus_with_workerid_df_this_batch = amt_util.make_consensus_df_w_worker_id(results_df_current_batch, consensus_results_df_current_batch)"
   ]
  },
  {
   "cell_type": "code",
   "execution_count": null,
   "metadata": {
    "collapsed": true,
    "hidden": true,
    "run_control": {
     "frozen": false,
     "read_only": false
    }
   },
   "outputs": [],
   "source": [
    "len(pd.unique(worker_conflicts['worker_id']))"
   ]
  },
  {
   "cell_type": "code",
   "execution_count": null,
   "metadata": {
    "collapsed": true,
    "hidden": true,
    "run_control": {
     "frozen": false,
     "read_only": false
    }
   },
   "outputs": [],
   "source": [
    "worker_conflicts = combined_consensus_with_workerid_df[combined_consensus_with_workerid_df['category'] != combined_consensus_with_workerid_df['consensus_category']]\n",
    "all_worker_counts = combined_results_df['worker_id'].value_counts()\n",
    "bad_worker_counts = worker_conflicts['worker_id'].value_counts()\n",
    "worker_quality_df = pd.DataFrame([all_worker_counts, bad_worker_counts]).T\n",
    "worker_quality_df.columns=['submitted', 'incorrect']\n",
    "worker_quality_df['flaw_ratio'] = worker_quality_df['incorrect']/worker_quality_df['submitted']\n",
    "\n",
    "good_workers = worker_quality_df.sort_values('flaw_ratio', ascending= True).index.tolist()\n",
    "\n",
    "suspect_workers = worker_quality_df.sort_values('flaw_ratio', ascending= False).index.tolist()\n",
    "\n",
    "worker_quality_df.sort_values('flaw_ratio', ascending= True).head(10)"
   ]
  },
  {
   "cell_type": "markdown",
   "metadata": {
    "hidden": true
   },
   "source": [
    "I became concerned that I missed the perfect performers, but as I suspected perfect workers only did 1-2 HITs at most"
   ]
  },
  {
   "cell_type": "code",
   "execution_count": null,
   "metadata": {
    "collapsed": true,
    "hidden": true,
    "run_control": {
     "frozen": false,
     "read_only": false
    }
   },
   "outputs": [],
   "source": [
    "aw_set = set(all_worker_counts.index)\n",
    "bw_set = set(bad_worker_counts.index)\n",
    "flawless_workers = list(aw_set.difference(bw_set))\n",
    "all_worker_counts[all_worker_counts.index.isin(best_workers)]"
   ]
  },
  {
   "cell_type": "code",
   "execution_count": null,
   "metadata": {
    "collapsed": true,
    "hidden": true,
    "run_control": {
     "frozen": false,
     "read_only": false
    }
   },
   "outputs": [],
   "source": [
    "bad_and_prolific_workers = worker_quality_df.sort_values('flaw_ratio', ascending= False).head(25).sort_values('incorrect', ascending= False)"
   ]
  },
  {
   "cell_type": "code",
   "execution_count": null,
   "metadata": {
    "collapsed": true,
    "hidden": true,
    "run_control": {
     "frozen": false,
     "read_only": false
    }
   },
   "outputs": [],
   "source": [
    "bad_and_prolific_to_review = list(bad_and_prolific_workers[:15].index)"
   ]
  },
  {
   "cell_type": "markdown",
   "metadata": {
    "heading_collapsed": true,
    "hidden": true
   },
   "source": [
    "## Messaging workers"
   ]
  },
  {
   "cell_type": "code",
   "execution_count": null,
   "metadata": {
    "collapsed": true,
    "hidden": true,
    "run_control": {
     "frozen": false,
     "read_only": false
    }
   },
   "outputs": [],
   "source": [
    "subject = \"More science book annotation HITs are available\"\n",
    "message = \"\"\"\n",
    "Hello, \n",
    "\n",
    "If you're receiving this message you were among the top performers on the first group HITs I submitted.\n",
    "I've submitted another group of HITs, with more to follow in the next few days. \n",
    "This task is slightly different from the first, so please review the new instructions before jumping in.\n",
    "\n",
    "Happy to get any feedback you might have for the new HITs.\n",
    "\"\"\""
   ]
  },
  {
   "cell_type": "code",
   "execution_count": null,
   "metadata": {
    "collapsed": true,
    "hidden": true,
    "run_control": {
     "frozen": false,
     "read_only": false
    }
   },
   "outputs": [],
   "source": [
    "_ = mturk.notify_workers(good_workers[:20], subject, message)"
   ]
  },
  {
   "cell_type": "markdown",
   "metadata": {
    "heading_collapsed": true,
    "hidden": true
   },
   "source": [
    "## HIT end-of-life"
   ]
  },
  {
   "cell_type": "markdown",
   "metadata": {
    "heading_collapsed": true,
    "hidden": true
   },
   "source": [
    "## Pickle latest results"
   ]
  },
  {
   "cell_type": "code",
   "execution_count": null,
   "metadata": {
    "collapsed": true,
    "hidden": true,
    "run_control": {
     "frozen": false,
     "read_only": false
    }
   },
   "outputs": [],
   "source": [
    "#reset as needed\n",
    "gn = 1"
   ]
  },
  {
   "cell_type": "code",
   "execution_count": null,
   "metadata": {
    "collapsed": true,
    "hidden": true,
    "run_control": {
     "frozen": false,
     "read_only": false
    }
   },
   "outputs": [],
   "source": [
    "gn"
   ]
  },
  {
   "cell_type": "code",
   "execution_count": null,
   "metadata": {
    "collapsed": true,
    "hidden": true,
    "run_control": {
     "frozen": false,
     "read_only": false
    }
   },
   "outputs": [],
   "source": [
    "next_group = gn + 1\n",
    "group_n = '_' + str(gn) + '/'\n",
    "\n",
    "temp_store_dir = './store_hit_results_metadata/ndq'\n",
    "try:\n",
    "    os.mkdir(temp_store_dir + group_n)\n",
    "except:\n",
    "    OSError\n",
    "    \n",
    "result_file_name = 'hit_info.pkl'\n",
    "assignment_file_name = 'assignment_info.pkl'\n",
    "raw_results_file_name = 'raw_res.pkl'\n",
    "# complete_results_file = 'complete_df.pkl'\n",
    "consensus_results_file = 'consensus_df.pkl'\n",
    "\n",
    "amt_util.pickle_this(r_hits_current_batch, temp_store_dir + group_n + result_file_name)\n",
    "amt_util.pickle_this(submitted_assignments, temp_store_dir + group_n + assignment_file_name)\n",
    "amt_util.pickle_this(res_df, temp_store_dir + group_n + raw_results_file_name)\n",
    "# results_df.to_pickle(temp_store_dir + group_n + complete_results_file)\n",
    "print 'saved HIT batch number ' + str(gn)\n",
    "print 'now onto batch ' +str(next_group) \n",
    "gn = next_group"
   ]
  },
  {
   "cell_type": "markdown",
   "metadata": {
    "heading_collapsed": true,
    "hidden": true
   },
   "source": [
    "## Pickle combined dataset"
   ]
  },
  {
   "cell_type": "code",
   "execution_count": null,
   "metadata": {
    "collapsed": true,
    "hidden": true,
    "run_control": {
     "frozen": false,
     "read_only": false
    }
   },
   "outputs": [],
   "source": [
    "temp_store_dir = './store_hit_results_metadata/group'\n",
    "group_n = '_latest_combined/'\n",
    "try:\n",
    "    os.mkdir(temp_store_dir + group_n)\n",
    "except:\n",
    "    OSError\n",
    "    \n",
    "complete_results_file = 'complete_df.pkl'\n",
    "consensus_results_file = 'consensus_df.pkl'\n",
    "consensus_results_file_w_workers = 'consensus_df_w_workers.pkl'\n",
    "\n",
    "combined_results_df.to_pickle(temp_store_dir + group_n + complete_results_file)\n",
    "combined_consensus_df.to_pickle(temp_store_dir + group_n + consensus_results_file)\n",
    "combined_consensus_with_workerid_df.to_pickle(temp_store_dir + group_n + consensus_results_file_w_workers)"
   ]
  },
  {
   "cell_type": "markdown",
   "metadata": {
    "heading_collapsed": true,
    "hidden": true
   },
   "source": [
    "## Accepting and deleting HITs... careful with these"
   ]
  },
  {
   "cell_type": "markdown",
   "metadata": {
    "hidden": true
   },
   "source": [
    "Uncomment only when ready to accept or delete hits"
   ]
  },
  {
   "cell_type": "markdown",
   "metadata": {
    "hidden": true
   },
   "source": [
    "reject assignments carefully"
   ]
  },
  {
   "cell_type": "code",
   "execution_count": null,
   "metadata": {
    "collapsed": true,
    "hidden": true,
    "run_control": {
     "frozen": false,
     "read_only": false
    },
    "scrolled": false
   },
   "outputs": [],
   "source": [
    "# number_rejected_assignments, number_rejected_workers = amt_util.reject_assignments(mturk, workers_to_ban, combined_consensus_with_workerid_df)\n",
    "# print 'rejecting ' + str(number_rejected_assignments) + ' assignments' + ' from ' + str(number_rejected_workers) + ' workers'"
   ]
  },
  {
   "cell_type": "code",
   "execution_count": null,
   "metadata": {
    "collapsed": true,
    "hidden": true,
    "run_control": {
     "frozen": false,
     "read_only": false
    }
   },
   "outputs": [],
   "source": [
    "flattened_assignments = [item for sublist in assignment_results_current_batch.values() for item in sublist]\n",
    "len(flattened_assignments)\n",
    "# amt_util.get_assignment_statuses(assignment_results_current_batch)"
   ]
  },
  {
   "cell_type": "code",
   "execution_count": null,
   "metadata": {
    "collapsed": true,
    "hidden": true,
    "run_control": {
     "frozen": false,
     "read_only": false
    }
   },
   "outputs": [],
   "source": [
    "amt_util.get_assignment_statuses(assignment_results_current_batch)"
   ]
  },
  {
   "cell_type": "code",
   "execution_count": null,
   "metadata": {
    "collapsed": true,
    "hidden": true,
    "run_control": {
     "frozen": false,
     "read_only": false
    }
   },
   "outputs": [],
   "source": [
    "len(flattened_assignments)"
   ]
  },
  {
   "cell_type": "code",
   "execution_count": null,
   "metadata": {
    "collapsed": true,
    "hidden": true,
    "run_control": {
     "frozen": false,
     "read_only": false
    }
   },
   "outputs": [],
   "source": [
    "amt_util.accept_hits(mturk, flattened_assignments)"
   ]
  },
  {
   "cell_type": "code",
   "execution_count": null,
   "metadata": {
    "collapsed": true,
    "hidden": true,
    "run_control": {
     "frozen": false,
     "read_only": false
    }
   },
   "outputs": [],
   "source": [
    "# amt_util.delete_some_hits(mturk, assignment_results_current_batch_post_)"
   ]
  },
  {
   "cell_type": "code",
   "execution_count": null,
   "metadata": {
    "collapsed": true,
    "hidden": true,
    "run_control": {
     "frozen": false,
     "read_only": false
    }
   },
   "outputs": [],
   "source": [
    "len(bonuses_to_pay)"
   ]
  },
  {
   "cell_type": "code",
   "execution_count": null,
   "metadata": {
    "collapsed": true,
    "hidden": true,
    "run_control": {
     "frozen": false,
     "read_only": false
    }
   },
   "outputs": [],
   "source": [
    "def pay_bonuses(correct_assignments):\n",
    "    bonus_ammount = boto.mturk.price.Price(0.30)\n",
    "    bonus_reason_template = 'For correctly answering the science question given in assignment {}.'\n",
    "    for worker_ans in correct_assignments:\n",
    "        bonus_reason = bonus_reason_template.format(str(worker_ans['assignment_id']))\n",
    "        mturk.grant_bonus(worker_ans['wid'], worker_ans['assignment_id'], bonus_ammount, bonus_reason)"
   ]
  },
  {
   "cell_type": "code",
   "execution_count": null,
   "metadata": {
    "collapsed": true,
    "hidden": true,
    "run_control": {
     "frozen": false,
     "read_only": false
    }
   },
   "outputs": [],
   "source": [
    "len(bonuses_to_pay)"
   ]
  },
  {
   "cell_type": "code",
   "execution_count": null,
   "metadata": {
    "collapsed": true,
    "hidden": true,
    "run_control": {
     "frozen": false,
     "read_only": false
    }
   },
   "outputs": [],
   "source": [
    "# pay_bonuses(bonuses_to_pay)"
   ]
  },
  {
   "cell_type": "code",
   "execution_count": null,
   "metadata": {
    "collapsed": true,
    "hidden": true,
    "run_control": {
     "frozen": false,
     "read_only": false
    }
   },
   "outputs": [],
   "source": [
    "aggregated_df[aggregated_df['correct_con'] == False]"
   ]
  },
  {
   "cell_type": "code",
   "execution_count": null,
   "metadata": {
    "collapsed": true,
    "hidden": true,
    "run_control": {
     "frozen": false,
     "read_only": false
    }
   },
   "outputs": [],
   "source": []
  },
  {
   "cell_type": "code",
   "execution_count": null,
   "metadata": {
    "collapsed": true,
    "hidden": true,
    "run_control": {
     "frozen": false,
     "read_only": false
    }
   },
   "outputs": [],
   "source": []
  },
  {
   "cell_type": "code",
   "execution_count": null,
   "metadata": {
    "collapsed": true,
    "hidden": true,
    "run_control": {
     "frozen": false,
     "read_only": false
    }
   },
   "outputs": [],
   "source": []
  },
  {
   "cell_type": "code",
   "execution_count": null,
   "metadata": {
    "collapsed": true,
    "hidden": true,
    "run_control": {
     "frozen": false,
     "read_only": false
    }
   },
   "outputs": [],
   "source": []
  },
  {
   "cell_type": "code",
   "execution_count": null,
   "metadata": {
    "collapsed": true,
    "hidden": true,
    "run_control": {
     "frozen": false,
     "read_only": false
    }
   },
   "outputs": [],
   "source": [
    "3# amt_util.delete_all_hits(mturk)"
   ]
  },
  {
   "cell_type": "markdown",
   "metadata": {
    "collapsed": true,
    "heading_collapsed": true,
    "hidden": true,
    "run_control": {
     "frozen": false,
     "read_only": false
    }
   },
   "source": [
    "## End"
   ]
  },
  {
   "cell_type": "code",
   "execution_count": null,
   "metadata": {
    "collapsed": true,
    "hidden": true
   },
   "outputs": [],
   "source": []
  }
 ],
 "metadata": {
  "kernelspec": {
   "display_name": "Python 2",
   "language": "python",
   "name": "python2"
  },
  "language_info": {
   "codemirror_mode": {
    "name": "ipython",
    "version": 2
   },
   "file_extension": ".py",
   "mimetype": "text/x-python",
   "name": "python",
   "nbconvert_exporter": "python",
   "pygments_lexer": "ipython2",
   "version": "2.7.13"
  }
 },
 "nbformat": 4,
 "nbformat_minor": 1
}

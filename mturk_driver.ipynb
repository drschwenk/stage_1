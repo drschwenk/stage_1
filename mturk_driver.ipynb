{
 "cells": [
  {
   "cell_type": "markdown",
   "metadata": {
    "heading_collapsed": true
   },
   "source": [
    "# Table of Contents\n",
    "* [Setup](#Setup)\n",
    "\t* [estimate cost](#estimate-cost)\n",
    "\t* [load dataset](#load-dataset)\n",
    "* [Submitting HITs](#Submitting-HITs)\n",
    "* [Retrieve results](#Retrieve-results)\n",
    "* [Interact with workers](#Interact-with-workers)\n",
    "* [Accepting and deleting HITs... careful with these](#Accepting-and-deleting-HITs...-careful-with-these)\n"
   ]
  },
  {
   "cell_type": "code",
   "execution_count": 1,
   "metadata": {
    "hidden": true,
    "run_control": {
     "frozen": false,
     "read_only": false
    }
   },
   "outputs": [],
   "source": [
    "%%capture\n",
    "from __future__ import division\n",
    "import numpy as np\n",
    "import pandas as pd\n",
    "import scipy.stats as st\n",
    "import itertools\n",
    "import math\n",
    "from collections import Counter, defaultdict\n",
    "%load_ext autoreload\n",
    "%autoreload 2\n",
    "\n",
    "\n",
    "import matplotlib as mpl\n",
    "mpl.use(\"Agg\")\n",
    "import matplotlib.pylab as plt\n",
    "%matplotlib inline\n",
    "%load_ext base16_mplrc\n",
    "%base16_mplrc dark solarized\n",
    "plt.rcParams['grid.linewidth'] = 0\n",
    "plt.rcParams['figure.figsize'] = (16.0, 10.0)\n",
    "\n",
    "\n",
    "import re\n",
    "import pickle\n",
    "import boto\n",
    "from copy import deepcopy\n",
    "import json\n",
    "import os\n",
    "import jinja2\n",
    "import random\n",
    "from tqdm import tqdm\n",
    "\n",
    "from IPython.core.display import HTML\n",
    "\n",
    "from boto.mturk.qualification import PercentAssignmentsApprovedRequirement, Qualifications, Requirement\n",
    "\n",
    "from keysTkingdom import mturk_ai2\n",
    "from keysTkingdom import aws_tokes\n",
    "from keysTkingdom import mturk_aristo\n",
    "\n",
    "\n",
    "from amt_utils.mturk import MTurk\n",
    "from amt_utils.mturk import pickle_this, unpickle_this"
   ]
  },
  {
   "cell_type": "markdown",
   "metadata": {
    "heading_collapsed": true
   },
   "source": [
    "# Setup"
   ]
  },
  {
   "cell_type": "markdown",
   "metadata": {
    "heading_collapsed": true,
    "hidden": true
   },
   "source": [
    "## estimate cost"
   ]
  },
  {
   "cell_type": "code",
   "execution_count": 2,
   "metadata": {
    "hidden": true,
    "run_control": {
     "frozen": false,
     "read_only": false
    }
   },
   "outputs": [
    {
     "name": "stdout",
     "output_type": "stream",
     "text": [
      "72.0 - $18000.0\n"
     ]
    }
   ],
   "source": [
    "cost_per_hit = 0.04\n",
    "n_turkers_per_hit = 3\n",
    "n_hits_per_video = 3\n",
    "\n",
    "n_videos_low = 200\n",
    "n_videos_high = 50000\n",
    "\n",
    "low = cost_per_hit * n_turkers_per_hit * n_videos_low * n_hits_per_video\n",
    "high = cost_per_hit * n_turkers_per_hit * n_videos_high * n_hits_per_video\n",
    "print(str(low) + ' - $' + str(high))"
   ]
  },
  {
   "cell_type": "markdown",
   "metadata": {
    "hidden": true
   },
   "source": [
    "## load dataset"
   ]
  },
  {
   "cell_type": "code",
   "execution_count": 2,
   "metadata": {
    "hidden": true,
    "run_control": {
     "frozen": false,
     "read_only": false
    }
   },
   "outputs": [
    {
     "data": {
      "text/plain": [
       "9000"
      ]
     },
     "execution_count": 2,
     "metadata": {},
     "output_type": "execute_result"
    }
   ],
   "source": [
    "s3_base_path = 'https://s3-us-west-2.amazonaws.com/ai2-vision-animation-gan/annotation_data/still_frames/'\n",
    "\n",
    "data_file_path = '../../build_dataset/ds_interface_bonus_skeleton.json'\n",
    "\n",
    "with open(data_file_path, 'r') as f:\n",
    "    ds_skeleton = json.load(f)\n",
    "\n",
    "stills_to_annotate = []\n",
    "for clip in ds_skeleton:\n",
    "    for still in clip['keyFrames']:\n",
    "        stills_to_annotate.append(still)\n",
    "len(stills_to_annotate)"
   ]
  },
  {
   "cell_type": "markdown",
   "metadata": {
    "heading_collapsed": true
   },
   "source": [
    "# Submitting HITs"
   ]
  },
  {
   "cell_type": "code",
   "execution_count": 58,
   "metadata": {
    "code_folding": [],
    "hidden": true,
    "run_control": {
     "frozen": false,
     "read_only": false
    }
   },
   "outputs": [],
   "source": [
    "from amt_utils.flintstones import prepare_hit\n",
    "from amt_utils.flintstones import write_task_page\n",
    "from amt_utils.mturk import expected_cost"
   ]
  },
  {
   "cell_type": "code",
   "execution_count": 3,
   "metadata": {
    "hidden": true,
    "run_control": {
     "frozen": false,
     "read_only": false
    }
   },
   "outputs": [
    {
     "data": {
      "text/plain": [
       "$0.00"
      ]
     },
     "execution_count": 3,
     "metadata": {},
     "output_type": "execute_result"
    }
   ],
   "source": [
    "turk_account = mturk_ai2\n",
    "rw_host='mechanicalturk.amazonaws.com'\n",
    "amt_con = MTurk(turk_account.access_key, turk_account.access_secret_key, host=rw_host)\n",
    "# amt_con = MTurk(turk_account.access_key, turk_account.access_secret_key)\n",
    "\n",
    "amt_con.get_account_balance()"
   ]
  },
  {
   "cell_type": "code",
   "execution_count": 67,
   "metadata": {
    "collapsed": true,
    "hidden": true
   },
   "outputs": [],
   "source": [
    "static_params = {\n",
    "    'title': \"Annotate characters from an animation frame - bonus potential\",\n",
    "    'description': \"Draw bounding boxes and label characters appearing in a image. There is a bonus for writing labels for certain characters.\",\n",
    "    'keywords': ['animation', 'image', 'bounding box','bounding boxes', 'image annotation', 'bonus'],\n",
    "    'frame_height': 1000,\n",
    "    'amount': 0.04,\n",
    "    'duration': 3600 * 1,\n",
    "    'lifetime': 3600 * 24 * 2,\n",
    "    'max_assignments': 3,\n",
    "}"
   ]
  },
  {
   "cell_type": "code",
   "execution_count": 69,
   "metadata": {
    "hidden": true,
    "run_control": {
     "frozen": false,
     "read_only": false
    }
   },
   "outputs": [
    {
     "name": "stderr",
     "output_type": "stream",
     "text": [
      "100%|██████████| 9000/9000 [00:27<00:00, 326.64it/s]\n"
     ]
    }
   ],
   "source": [
    "build_hit_group = [prepare_hit(s3_base_path, still, static_params) for still in tqdm(stills_to_annotate)]\n",
    "write_task_page(build_hit_group[0]['html'])"
   ]
  },
  {
   "cell_type": "code",
   "execution_count": 70,
   "metadata": {
    "hidden": true
   },
   "outputs": [
    {
     "data": {
      "text/plain": [
       "1080.0"
      ]
     },
     "execution_count": 70,
     "metadata": {},
     "output_type": "execute_result"
    }
   ],
   "source": [
    "expected_cost(build_hit_group, static_params, amt_con)"
   ]
  },
  {
   "cell_type": "markdown",
   "metadata": {
    "hidden": true
   },
   "source": [
    "**Procedure**\n",
    "\n",
    "1. assure interface template is working\n",
    "\n",
    "2. build and load ds skeleton for the sample to be submitted\n",
    "\n",
    "3. make sure to sync images to s3\n",
    "\n",
    "4. double check static params and host\n",
    "\n",
    "5. build and submit"
   ]
  },
  {
   "cell_type": "code",
   "execution_count": 72,
   "metadata": {
    "hidden": true
   },
   "outputs": [
    {
     "data": {
      "text/plain": [
       "6456"
      ]
     },
     "execution_count": 72,
     "metadata": {},
     "output_type": "execute_result"
    }
   ],
   "source": [
    "6456"
   ]
  },
  {
   "cell_type": "code",
   "execution_count": 71,
   "metadata": {
    "hidden": true,
    "run_control": {
     "frozen": false,
     "read_only": false
    },
    "scrolled": true
   },
   "outputs": [
    {
     "name": "stderr",
     "output_type": "stream",
     "text": [
      " 72%|███████▏  | 6456/9000 [2:23:57<38:48,  1.09it/s]  "
     ]
    },
    {
     "ename": "MTurkRequestError",
     "evalue": "MTurkRequestError: 200 OK\n<?xml version=\"1.0\"?>\n<CreateHITResponse><OperationRequest><RequestId>f64f4fbb-662b-4d76-96c4-f0a1e578c1c9</RequestId></OperationRequest><HIT><Request><IsValid>False</IsValid><Errors><Error><Code>AWS.MechanicalTurk.InsufficientFunds</Code><Message>This Requester has insufficient funds in their account to complete this transaction. Please visit https://requester.mturk.com/prepayments/new to purchase Prepaid HITs. (1502097226204)</Message><Data><Key>RequiredFunds</Key><Value>1175760</Value></Data><Data><Key>CurrentFunds</Key><Value>1175580</Value></Data><Data><Key>RequiredFunds</Key><Value>1175760</Value></Data></Error></Errors></Request></HIT></CreateHITResponse>",
     "output_type": "error",
     "traceback": [
      "\u001b[0;31m---------------------------------------------------------------------------\u001b[0m",
      "\u001b[0;31mMTurkRequestError\u001b[0m                         Traceback (most recent call last)",
      "\u001b[0;32m<ipython-input-71-92afbb8650b7>\u001b[0m in \u001b[0;36m<module>\u001b[0;34m()\u001b[0m\n\u001b[0;32m----> 1\u001b[0;31m \u001b[0mhit_group\u001b[0m \u001b[0;34m=\u001b[0m \u001b[0;34m[\u001b[0m\u001b[0mamt_con\u001b[0m\u001b[0;34m.\u001b[0m\u001b[0mcreate_html_hit\u001b[0m\u001b[0;34m(\u001b[0m\u001b[0msingle_hit\u001b[0m\u001b[0;34m)\u001b[0m \u001b[0;32mfor\u001b[0m \u001b[0msingle_hit\u001b[0m \u001b[0;32min\u001b[0m \u001b[0mtqdm\u001b[0m\u001b[0;34m(\u001b[0m\u001b[0mbuild_hit_group\u001b[0m\u001b[0;34m)\u001b[0m\u001b[0;34m]\u001b[0m\u001b[0;34m\u001b[0m\u001b[0m\n\u001b[0m",
      "\u001b[0;32m/Users/schwenk/wrk/animation_gan/turk_annotation_task/stage_1/amt_utils/mturk.pyc\u001b[0m in \u001b[0;36mcreate_html_hit\u001b[0;34m(self, params)\u001b[0m\n\u001b[1;32m    121\u001b[0m         \"\"\"\n\u001b[1;32m    122\u001b[0m         \u001b[0mquestion\u001b[0m \u001b[0;34m=\u001b[0m \u001b[0mHTMLQuestion\u001b[0m\u001b[0;34m(\u001b[0m\u001b[0mparams\u001b[0m\u001b[0;34m[\u001b[0m\u001b[0;34m\"html\"\u001b[0m\u001b[0;34m]\u001b[0m\u001b[0;34m,\u001b[0m \u001b[0mparams\u001b[0m\u001b[0;34m[\u001b[0m\u001b[0;34m\"frame_height\"\u001b[0m\u001b[0;34m]\u001b[0m\u001b[0;34m)\u001b[0m\u001b[0;34m\u001b[0m\u001b[0m\n\u001b[0;32m--> 123\u001b[0;31m         \u001b[0;32mreturn\u001b[0m \u001b[0mself\u001b[0m\u001b[0;34m.\u001b[0m\u001b[0m_create_hit\u001b[0m\u001b[0;34m(\u001b[0m\u001b[0mparams\u001b[0m\u001b[0;34m,\u001b[0m \u001b[0mquestion\u001b[0m\u001b[0;34m=\u001b[0m\u001b[0mquestion\u001b[0m\u001b[0;34m)\u001b[0m\u001b[0;34m\u001b[0m\u001b[0m\n\u001b[0m\u001b[1;32m    124\u001b[0m \u001b[0;34m\u001b[0m\u001b[0m\n\u001b[1;32m    125\u001b[0m     \u001b[0;32mdef\u001b[0m \u001b[0mcreate_layout_hit\u001b[0m\u001b[0;34m(\u001b[0m\u001b[0mself\u001b[0m\u001b[0;34m,\u001b[0m \u001b[0mparams\u001b[0m\u001b[0;34m)\u001b[0m\u001b[0;34m:\u001b[0m\u001b[0;34m\u001b[0m\u001b[0m\n",
      "\u001b[0;32m/Users/schwenk/wrk/animation_gan/turk_annotation_task/stage_1/amt_utils/mturk.pyc\u001b[0m in \u001b[0;36m_create_hit\u001b[0;34m(self, params, **kwargs)\u001b[0m\n\u001b[1;32m    102\u001b[0m             \u001b[0;31m# optional params below\u001b[0m\u001b[0;34m\u001b[0m\u001b[0;34m\u001b[0m\u001b[0m\n\u001b[1;32m    103\u001b[0m             \u001b[0mannotation\u001b[0m\u001b[0;34m=\u001b[0m\u001b[0mparams\u001b[0m\u001b[0;34m.\u001b[0m\u001b[0mget\u001b[0m\u001b[0;34m(\u001b[0m\u001b[0;34m\"annotation\"\u001b[0m\u001b[0;34m)\u001b[0m\u001b[0;34m,\u001b[0m\u001b[0;34m\u001b[0m\u001b[0m\n\u001b[0;32m--> 104\u001b[0;31m             \u001b[0;34m**\u001b[0m\u001b[0mkwargs\u001b[0m\u001b[0;34m\u001b[0m\u001b[0m\n\u001b[0m\u001b[1;32m    105\u001b[0m         )\n\u001b[1;32m    106\u001b[0m \u001b[0;34m\u001b[0m\u001b[0m\n",
      "\u001b[0;32m/usr/local/lib/python2.7/site-packages/boto/mturk/connection.pyc\u001b[0m in \u001b[0;36mcreate_hit\u001b[0;34m(self, hit_type, question, hit_layout, lifetime, max_assignments, title, description, keywords, reward, duration, approval_delay, annotation, questions, qualifications, layout_params, response_groups)\u001b[0m\n\u001b[1;32m    263\u001b[0m \u001b[0;34m\u001b[0m\u001b[0m\n\u001b[1;32m    264\u001b[0m         \u001b[0;31m# Submit\u001b[0m\u001b[0;34m\u001b[0m\u001b[0;34m\u001b[0m\u001b[0m\n\u001b[0;32m--> 265\u001b[0;31m         \u001b[0;32mreturn\u001b[0m \u001b[0mself\u001b[0m\u001b[0;34m.\u001b[0m\u001b[0m_process_request\u001b[0m\u001b[0;34m(\u001b[0m\u001b[0;34m'CreateHIT'\u001b[0m\u001b[0;34m,\u001b[0m \u001b[0mparams\u001b[0m\u001b[0;34m,\u001b[0m \u001b[0;34m[\u001b[0m\u001b[0;34m(\u001b[0m\u001b[0;34m'HIT'\u001b[0m\u001b[0;34m,\u001b[0m \u001b[0mHIT\u001b[0m\u001b[0;34m)\u001b[0m\u001b[0;34m]\u001b[0m\u001b[0;34m)\u001b[0m\u001b[0;34m\u001b[0m\u001b[0m\n\u001b[0m\u001b[1;32m    266\u001b[0m \u001b[0;34m\u001b[0m\u001b[0m\n\u001b[1;32m    267\u001b[0m     \u001b[0;32mdef\u001b[0m \u001b[0mchange_hit_type_of_hit\u001b[0m\u001b[0;34m(\u001b[0m\u001b[0mself\u001b[0m\u001b[0;34m,\u001b[0m \u001b[0mhit_id\u001b[0m\u001b[0;34m,\u001b[0m \u001b[0mhit_type\u001b[0m\u001b[0;34m)\u001b[0m\u001b[0;34m:\u001b[0m\u001b[0;34m\u001b[0m\u001b[0m\n",
      "\u001b[0;32m/usr/local/lib/python2.7/site-packages/boto/mturk/connection.pyc\u001b[0m in \u001b[0;36m_process_request\u001b[0;34m(self, request_type, params, marker_elems)\u001b[0m\n\u001b[1;32m    836\u001b[0m         \u001b[0mparams\u001b[0m\u001b[0;34m[\u001b[0m\u001b[0;34m'Operation'\u001b[0m\u001b[0;34m]\u001b[0m \u001b[0;34m=\u001b[0m \u001b[0mrequest_type\u001b[0m\u001b[0;34m\u001b[0m\u001b[0m\n\u001b[1;32m    837\u001b[0m         \u001b[0mresponse\u001b[0m \u001b[0;34m=\u001b[0m \u001b[0mself\u001b[0m\u001b[0;34m.\u001b[0m\u001b[0mmake_request\u001b[0m\u001b[0;34m(\u001b[0m\u001b[0mNone\u001b[0m\u001b[0;34m,\u001b[0m \u001b[0mparams\u001b[0m\u001b[0;34m,\u001b[0m \u001b[0mverb\u001b[0m\u001b[0;34m=\u001b[0m\u001b[0;34m'POST'\u001b[0m\u001b[0;34m)\u001b[0m\u001b[0;34m\u001b[0m\u001b[0m\n\u001b[0;32m--> 838\u001b[0;31m         \u001b[0;32mreturn\u001b[0m \u001b[0mself\u001b[0m\u001b[0;34m.\u001b[0m\u001b[0m_process_response\u001b[0m\u001b[0;34m(\u001b[0m\u001b[0mresponse\u001b[0m\u001b[0;34m,\u001b[0m \u001b[0mmarker_elems\u001b[0m\u001b[0;34m)\u001b[0m\u001b[0;34m\u001b[0m\u001b[0m\n\u001b[0m\u001b[1;32m    839\u001b[0m \u001b[0;34m\u001b[0m\u001b[0m\n\u001b[1;32m    840\u001b[0m     \u001b[0;32mdef\u001b[0m \u001b[0m_process_response\u001b[0m\u001b[0;34m(\u001b[0m\u001b[0mself\u001b[0m\u001b[0;34m,\u001b[0m \u001b[0mresponse\u001b[0m\u001b[0;34m,\u001b[0m \u001b[0mmarker_elems\u001b[0m\u001b[0;34m=\u001b[0m\u001b[0mNone\u001b[0m\u001b[0;34m)\u001b[0m\u001b[0;34m:\u001b[0m\u001b[0;34m\u001b[0m\u001b[0m\n",
      "\u001b[0;32m/usr/local/lib/python2.7/site-packages/boto/mturk/connection.pyc\u001b[0m in \u001b[0;36m_process_response\u001b[0;34m(self, response, marker_elems)\u001b[0m\n\u001b[1;32m    851\u001b[0m             \u001b[0;32mreturn\u001b[0m \u001b[0mrs\u001b[0m\u001b[0;34m\u001b[0m\u001b[0m\n\u001b[1;32m    852\u001b[0m         \u001b[0;32melse\u001b[0m\u001b[0;34m:\u001b[0m\u001b[0;34m\u001b[0m\u001b[0m\n\u001b[0;32m--> 853\u001b[0;31m             \u001b[0;32mraise\u001b[0m \u001b[0mMTurkRequestError\u001b[0m\u001b[0;34m(\u001b[0m\u001b[0mresponse\u001b[0m\u001b[0;34m.\u001b[0m\u001b[0mstatus\u001b[0m\u001b[0;34m,\u001b[0m \u001b[0mresponse\u001b[0m\u001b[0;34m.\u001b[0m\u001b[0mreason\u001b[0m\u001b[0;34m,\u001b[0m \u001b[0mbody\u001b[0m\u001b[0;34m)\u001b[0m\u001b[0;34m\u001b[0m\u001b[0m\n\u001b[0m\u001b[1;32m    854\u001b[0m \u001b[0;34m\u001b[0m\u001b[0m\n\u001b[1;32m    855\u001b[0m     \u001b[0;34m@\u001b[0m\u001b[0mstaticmethod\u001b[0m\u001b[0;34m\u001b[0m\u001b[0m\n",
      "\u001b[0;31mMTurkRequestError\u001b[0m: MTurkRequestError: 200 OK\n<?xml version=\"1.0\"?>\n<CreateHITResponse><OperationRequest><RequestId>f64f4fbb-662b-4d76-96c4-f0a1e578c1c9</RequestId></OperationRequest><HIT><Request><IsValid>False</IsValid><Errors><Error><Code>AWS.MechanicalTurk.InsufficientFunds</Code><Message>This Requester has insufficient funds in their account to complete this transaction. Please visit https://requester.mturk.com/prepayments/new to purchase Prepaid HITs. (1502097226204)</Message><Data><Key>RequiredFunds</Key><Value>1175760</Value></Data><Data><Key>CurrentFunds</Key><Value>1175580</Value></Data><Data><Key>RequiredFunds</Key><Value>1175760</Value></Data></Error></Errors></Request></HIT></CreateHITResponse>"
     ]
    }
   ],
   "source": [
    "# hit_group = [amt_con.create_html_hit(single_hit) for single_hit in tqdm(build_hit_group)]"
   ]
  },
  {
   "cell_type": "markdown",
   "metadata": {
    "heading_collapsed": true
   },
   "source": [
    "# Retrieve results"
   ]
  },
  {
   "cell_type": "code",
   "execution_count": 5,
   "metadata": {
    "hidden": true
   },
   "outputs": [],
   "source": [
    "all_hits = amt_con.get_all_hits()"
   ]
  },
  {
   "cell_type": "code",
   "execution_count": 4,
   "metadata": {
    "hidden": true
   },
   "outputs": [],
   "source": [
    "from amt_utils.flintstones import get_assignments\n",
    "from amt_utils.flintstones import filter_hits_by_date\n",
    "from amt_utils.flintstones import filter_hits_by_completion\n",
    "from amt_utils.flintstones import filter_hits_by_status\n",
    "from amt_utils.flintstones import get_completed_hits\n",
    "from amt_utils.mturk import pickle_this"
   ]
  },
  {
   "cell_type": "code",
   "execution_count": 9,
   "metadata": {
    "collapsed": true,
    "hidden": true
   },
   "outputs": [],
   "source": [
    "# recent_hits = filter_hits_by_date(all_hits, 6)\n",
    "recent_hits = filter_hits_by_date(all_hits, 7)\n",
    "# recent_hits = filter_hits_by_status(recent_hits)"
   ]
  },
  {
   "cell_type": "code",
   "execution_count": 10,
   "metadata": {
    "hidden": true
   },
   "outputs": [
    {
     "data": {
      "text/plain": [
       "6456"
      ]
     },
     "execution_count": 10,
     "metadata": {},
     "output_type": "execute_result"
    }
   ],
   "source": [
    "len(recent_hits)"
   ]
  },
  {
   "cell_type": "code",
   "execution_count": 12,
   "metadata": {
    "hidden": true
   },
   "outputs": [
    {
     "name": "stderr",
     "output_type": "stream",
     "text": [
      "100%|██████████| 6456/6456 [12:09<00:00,  8.85it/s]\n"
     ]
    }
   ],
   "source": [
    "results = get_assignments(amt_con.connection, tqdm(recent_hits))"
   ]
  },
  {
   "cell_type": "code",
   "execution_count": 13,
   "metadata": {
    "collapsed": true,
    "hidden": true
   },
   "outputs": [],
   "source": [
    "pickle_this(results, 'turker_batch_5.pkl')"
   ]
  },
  {
   "cell_type": "markdown",
   "metadata": {
    "heading_collapsed": true
   },
   "source": [
    "# Interact with workers"
   ]
  },
  {
   "cell_type": "markdown",
   "metadata": {
    "heading_collapsed": true,
    "hidden": true
   },
   "source": [
    "## reject assignments and ban workers"
   ]
  },
  {
   "cell_type": "code",
   "execution_count": 32,
   "metadata": {
    "collapsed": true,
    "hidden": true
   },
   "outputs": [],
   "source": [
    "def ban_bad_workers(mturk_connection, worker_ids):\n",
    "    for worker in worker_ids:\n",
    "        reason_for_block = \"\"\"\n",
    "        Your HITs contained many incorrect character descriptions.\n",
    "        \"\"\"\n",
    "        print('blocking ' + str(worker))\n",
    "        mturk_connection.block_worker(worker, reason_for_block)"
   ]
  },
  {
   "cell_type": "code",
   "execution_count": 13,
   "metadata": {
    "collapsed": true,
    "hidden": true
   },
   "outputs": [],
   "source": [
    "workers_to_ban = 'A300BK2S2PO3Q7'"
   ]
  },
  {
   "cell_type": "code",
   "execution_count": 33,
   "metadata": {
    "hidden": true
   },
   "outputs": [
    {
     "name": "stdout",
     "output_type": "stream",
     "text": [
      "blocking A300BK2S2PO3Q7\n"
     ]
    }
   ],
   "source": [
    "ban_bad_workers(amt_con.connection, [workers_to_ban])"
   ]
  },
  {
   "cell_type": "code",
   "execution_count": 14,
   "metadata": {
    "collapsed": true,
    "hidden": true
   },
   "outputs": [],
   "source": [
    "to_reject = unpickle_this('to_reject.pkl')"
   ]
  },
  {
   "cell_type": "code",
   "execution_count": 15,
   "metadata": {
    "collapsed": true,
    "hidden": true
   },
   "outputs": [],
   "source": [
    "def reject_assignments(mturk_connection, assignments_to_reject):\n",
    "    feedback_message = \"\"\"\n",
    "    Your HITs contained many incorrect character descriptions.\n",
    "    \"\"\"\n",
    "    reject_count = len(assignments_to_reject)\n",
    "    for assignment_id in assignments_to_reject:\n",
    "        try:\n",
    "            mturk_connection.reject_assignment(assignment_id, feedback_message)\n",
    "        except boto.mturk.connection.MTurkRequestError:\n",
    "            print('assignment ' + str(assignment_id) + ' already accepted or rejected')\n",
    "\n",
    "    return reject_count"
   ]
  },
  {
   "cell_type": "code",
   "execution_count": 31,
   "metadata": {
    "hidden": true
   },
   "outputs": [
    {
     "name": "stdout",
     "output_type": "stream",
     "text": [
      "assignment 37Q970SNZF81C57Q82CTMS6JCZ11S0 already accepted or rejected\n",
      "assignment 3ATTHHXXWBOK8SPNAJ3MDZ4X8GDXIV already accepted or rejected\n"
     ]
    },
    {
     "data": {
      "text/plain": [
       "150"
      ]
     },
     "execution_count": 31,
     "metadata": {},
     "output_type": "execute_result"
    }
   ],
   "source": [
    "reject_assignments(amt_con.connection, to_reject)"
   ]
  },
  {
   "cell_type": "markdown",
   "metadata": {
    "hidden": true
   },
   "source": [
    "## pay bonuses"
   ]
  },
  {
   "cell_type": "code",
   "execution_count": 16,
   "metadata": {
    "collapsed": true,
    "hidden": true,
    "run_control": {
     "frozen": false,
     "read_only": false
    }
   },
   "outputs": [],
   "source": [
    "subject = \"More  HITs are available\"\n",
    "message = \"\"\"\n",
    "Hello, \n",
    "\n",
    "\"\"\""
   ]
  },
  {
   "cell_type": "code",
   "execution_count": 15,
   "metadata": {
    "collapsed": true,
    "hidden": true,
    "run_control": {
     "frozen": false,
     "read_only": false
    }
   },
   "outputs": [],
   "source": [
    "# _ = mturk.notify_workers(good_workers[:20], subject, message)"
   ]
  },
  {
   "cell_type": "code",
   "execution_count": 46,
   "metadata": {
    "collapsed": true,
    "hidden": true
   },
   "outputs": [],
   "source": [
    "bonuses = unpickle_this('bonuses_to_pay.pkl')"
   ]
  },
  {
   "cell_type": "code",
   "execution_count": null,
   "metadata": {
    "collapsed": true,
    "hidden": true
   },
   "outputs": [],
   "source": []
  },
  {
   "cell_type": "code",
   "execution_count": 38,
   "metadata": {
    "hidden": true
   },
   "outputs": [
    {
     "data": {
      "text/plain": [
       "18.94"
      ]
     },
     "execution_count": 38,
     "metadata": {},
     "output_type": "execute_result"
    }
   ],
   "source": [
    "sum(bonuses.values()) * 0.01"
   ]
  },
  {
   "cell_type": "code",
   "execution_count": 53,
   "metadata": {
    "hidden": true,
    "run_control": {
     "frozen": false,
     "read_only": false
    }
   },
   "outputs": [],
   "source": [
    "def pay_bonuses(bonuses_to_pay):\n",
    "    total_payed = 0\n",
    "    bonus_reason_template = 'For Flinstones character labels written.'\n",
    "    for aid, vals in tqdm(bonuses_to_pay.items()):\n",
    "        n_chars = vals['count']\n",
    "        wid = vals['worker_id']\n",
    "        bonus_ammount = boto.mturk.price.Price(0.01 * n_chars)\n",
    "        total_payed += bonus_ammount.amount\n",
    "        bonus_reason = bonus_reason_template\n",
    "        amt_con.connection.grant_bonus(wid, aid, bonus_ammount, bonus_reason)\n",
    "    return total_payed"
   ]
  },
  {
   "cell_type": "code",
   "execution_count": 54,
   "metadata": {
    "hidden": true,
    "scrolled": true
   },
   "outputs": [
    {
     "name": "stderr",
     "output_type": "stream",
     "text": [
      "100%|██████████| 1306/1306 [05:30<00:00,  4.12it/s]\n"
     ]
    },
    {
     "data": {
      "text/plain": [
       "18.939999999999987"
      ]
     },
     "execution_count": 54,
     "metadata": {},
     "output_type": "execute_result"
    }
   ],
   "source": [
    "pay_bonuses(bonuses)"
   ]
  },
  {
   "cell_type": "code",
   "execution_count": null,
   "metadata": {
    "collapsed": true,
    "hidden": true
   },
   "outputs": [],
   "source": []
  },
  {
   "cell_type": "markdown",
   "metadata": {
    "heading_collapsed": true
   },
   "source": [
    "# Accepting and deleting HITs"
   ]
  },
  {
   "cell_type": "markdown",
   "metadata": {
    "hidden": true
   },
   "source": [
    "Uncomment only when ready to accept or delete hits"
   ]
  },
  {
   "cell_type": "markdown",
   "metadata": {
    "hidden": true
   },
   "source": [
    "reject assignments carefully"
   ]
  },
  {
   "cell_type": "code",
   "execution_count": 19,
   "metadata": {
    "hidden": true
   },
   "outputs": [
    {
     "data": {
      "text/plain": [
       "6222"
      ]
     },
     "execution_count": 19,
     "metadata": {},
     "output_type": "execute_result"
    }
   ],
   "source": [
    "assignments =[]\n",
    "for assignment_triple in list(results.values()):\n",
    "    assignments.extend(assignment_triple)\n",
    "\n",
    "len(assignments)"
   ]
  },
  {
   "cell_type": "code",
   "execution_count": 20,
   "metadata": {
    "hidden": true
   },
   "outputs": [],
   "source": [
    "assignments_to_accept = [asgmt for asgmt in assignments if asgmt.AssignmentId not in to_reject]"
   ]
  },
  {
   "cell_type": "code",
   "execution_count": 21,
   "metadata": {
    "hidden": true
   },
   "outputs": [
    {
     "data": {
      "text/plain": [
       "6072"
      ]
     },
     "execution_count": 21,
     "metadata": {},
     "output_type": "execute_result"
    }
   ],
   "source": [
    "len(assignments_to_accept)"
   ]
  },
  {
   "cell_type": "code",
   "execution_count": 27,
   "metadata": {
    "hidden": true
   },
   "outputs": [
    {
     "name": "stderr",
     "output_type": "stream",
     "text": [
      "100%|██████████| 6072/6072 [24:11<00:00,  4.72it/s]   \n"
     ]
    }
   ],
   "source": [
    "e_count = 0\n",
    "for assignment in tqdm(assignments_to_accept):\n",
    "    try:\n",
    "        amt_con.approve_assignment(assignment)\n",
    "    except boto.mturk.connection.MTurkRequestError as e:\n",
    "        e_count += 1"
   ]
  },
  {
   "cell_type": "code",
   "execution_count": null,
   "metadata": {
    "collapsed": true,
    "hidden": true
   },
   "outputs": [],
   "source": [
    "# _ = [amt_con.disable_hit(hit) for hit in hits_today]"
   ]
  },
  {
   "cell_type": "code",
   "execution_count": null,
   "metadata": {
    "collapsed": true,
    "hidden": true,
    "run_control": {
     "frozen": false,
     "read_only": false
    },
    "scrolled": false
   },
   "outputs": [],
   "source": [
    "# number_rejected_assignments, number_rejected_workers = amt_util.reject_assignments(mturk, workers_to_ban, combined_consensus_with_workerid_df)\n",
    "# print 'rejecting ' + str(number_rejected_assignments) + ' assignments' + ' from ' + str(number_rejected_workers) + ' workers'"
   ]
  },
  {
   "cell_type": "code",
   "execution_count": 604,
   "metadata": {
    "hidden": true
   },
   "outputs": [],
   "source": [
    "# amt_con.delete_all_hits()"
   ]
  }
 ],
 "metadata": {
  "kernelspec": {
   "display_name": "Python 2",
   "language": "python",
   "name": "python2"
  },
  "language_info": {
   "codemirror_mode": {
    "name": "ipython",
    "version": 2
   },
   "file_extension": ".py",
   "mimetype": "text/x-python",
   "name": "python",
   "nbconvert_exporter": "python",
   "pygments_lexer": "ipython2",
   "version": "2.7.13"
  }
 },
 "nbformat": 4,
 "nbformat_minor": 1
}

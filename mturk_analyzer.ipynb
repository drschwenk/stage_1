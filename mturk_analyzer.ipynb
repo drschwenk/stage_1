{
 "cells": [
  {
   "cell_type": "markdown",
   "metadata": {},
   "source": [
    "# Table of Contents\n",
    "* [load data](#load-data)\n",
    "* [process data](#process-data)\n",
    "\t* [bonuses](#bonuses)\n",
    "\t* [frame build](#frame-build)\n",
    "\t* [analysis](#analysis)\n",
    "\t* [building frames](#building-frames)\n",
    "* [bounding box clustering](#bounding-box-clustering)\n",
    "* [bonus cost estimate](#bonus-cost-estimate)\n",
    "* [HTML Review](#HTML-Review)\n",
    "* [hide](#hide)\n"
   ]
  },
  {
   "cell_type": "code",
   "execution_count": 136,
   "metadata": {
    "collapsed": true,
    "run_control": {
     "frozen": false,
     "read_only": false
    }
   },
   "outputs": [],
   "source": [
    "%%capture\n",
    "from __future__ import division\n",
    "import numpy as np\n",
    "import pandas as pd\n",
    "import scipy.stats as st\n",
    "import itertools\n",
    "import math\n",
    "from collections import Counter, defaultdict\n",
    "%load_ext autoreload\n",
    "%autoreload 2\n",
    "\n",
    "import matplotlib as mpl\n",
    "mpl.use(\"Agg\")\n",
    "import matplotlib.pylab as plt\n",
    "#%matplotlib notebook\n",
    "%matplotlib inline\n",
    "%load_ext base16_mplrc\n",
    "%base16_mplrc light default\n",
    "plt.rcParams['figure.figsize'] = (16.0, 10.0)\n",
    "\n",
    "import re\n",
    "import pickle\n",
    "import boto\n",
    "from copy import deepcopy\n",
    "import json\n",
    "import os\n",
    "import random\n",
    "import jinja2\n",
    "from tqdm import tqdm\n",
    "from IPython.core.display import HTML\n",
    "\n",
    "import PIL.Image as Image\n",
    "import requests\n",
    "\n",
    "from boto.mturk.qualification import PercentAssignmentsApprovedRequirement, Qualifications, Requirement\n",
    "\n",
    "from keysTkingdom import mturk_ai2\n",
    "from keysTkingdom import aws_tokes\n",
    "from keysTkingdom import mturk_aristo\n",
    "\n",
    "from amt_utils.mturk import pickle_this, unpickle_this\n",
    "\n",
    "import os\n",
    "import jinja2\n",
    "import argparse\n",
    "from jinja2 import Environment, FileSystemLoader\n",
    "\n",
    "j2env = jinja2.Environment()\n",
    "\n",
    "from amt_utils.bboxes import cluster_from_nms\n",
    "from amt_utils.bboxes import draw_animation_seq\n",
    "from amt_utils.bboxes import cluster_from_annos\n",
    "from amt_utils.bboxes import create_subtask_data\n",
    "from amt_utils.bboxes import draw_image_and_labels\n",
    "import warnings\n",
    "warnings.filterwarnings('ignore')"
   ]
  },
  {
   "cell_type": "markdown",
   "metadata": {
    "heading_collapsed": true
   },
   "source": [
    "# load data"
   ]
  },
  {
   "cell_type": "code",
   "execution_count": 2,
   "metadata": {
    "collapsed": true,
    "hidden": true,
    "run_control": {
     "frozen": false,
     "read_only": false
    }
   },
   "outputs": [],
   "source": [
    "data_paths = ['./turker_batch_{}.pkl'.format(i) for i in range(1,6)]\n",
    "\n",
    "turk_data_assemble = [unpickle_this(data_path) for data_path in data_paths]\n",
    "\n",
    "turk_data = {}\n",
    "_ = [turk_data.update(data_part) for data_part in turk_data_assemble]\n",
    "\n",
    "batch_2 = turk_data_assemble[1]\n",
    "batch_3 = turk_data_assemble[2]\n",
    "batch_4 = turk_data_assemble[3]\n",
    "batch_5 = turk_data_assemble[4]"
   ]
  },
  {
   "cell_type": "code",
   "execution_count": 113,
   "metadata": {
    "collapsed": true,
    "hidden": true
   },
   "outputs": [],
   "source": [
    "subtask_data = unpickle_this('./turker_batch_6_subtask.pkl')"
   ]
  },
  {
   "cell_type": "markdown",
   "metadata": {
    "heading_collapsed": true
   },
   "source": [
    "# process data"
   ]
  },
  {
   "cell_type": "code",
   "execution_count": 3,
   "metadata": {
    "code_folding": [],
    "collapsed": true,
    "hidden": true,
    "run_control": {
     "frozen": false,
     "read_only": false
    }
   },
   "outputs": [],
   "source": [
    "main_characters =  {\"fred\",\n",
    "             \"barney\",\n",
    "              \"wilma\",\n",
    "              \"betty\",\n",
    "              \"pebbles\",\n",
    "              \"bamm bamm\",\n",
    "              \"dino\",\n",
    "              \"mr slate\",\n",
    "              \"baby puss\",\n",
    "              \"hoppy\",\n",
    "              \"empty frame\",\n",
    "              \"no characters\"}\n",
    "\n",
    "def create_result(assmt):\n",
    "    result = json.loads(assmt.answers[0][0].fields[0])\n",
    "    result['h_id'] = assmt.HITId\n",
    "    result['worker_id'] = assmt.WorkerId\n",
    "    return result\n",
    "\n",
    "\n",
    "def all_main(char_set, main_chars=main_characters):\n",
    "    return not bool(char_set.difference(main_chars))"
   ]
  },
  {
   "cell_type": "code",
   "execution_count": 6,
   "metadata": {
    "collapsed": true,
    "hidden": true,
    "run_control": {
     "frozen": false,
     "read_only": false
    }
   },
   "outputs": [],
   "source": [
    "assignments =[]\n",
    "for assignment_triple in list(batch_4.values()):\n",
    "    assignments.extend(assignment_triple)\n",
    "\n",
    "assignment_results = [create_result(ar) for ar in assignments]\n",
    "characters_present = [{'h_id': anno['h_id'], 'w_id': anno['worker_id'], 'still_id': anno['stillID'], 'characters': set([ch['label'] for ch in json.loads(anno['characterBoxes'])])} for anno in assignment_results]"
   ]
  },
  {
   "cell_type": "code",
   "execution_count": 7,
   "metadata": {
    "hidden": true,
    "run_control": {
     "frozen": false,
     "read_only": false
    }
   },
   "outputs": [
    {
     "data": {
      "text/plain": [
       "6222"
      ]
     },
     "execution_count": 7,
     "metadata": {},
     "output_type": "execute_result"
    }
   ],
   "source": [
    "len(assignments)"
   ]
  },
  {
   "cell_type": "markdown",
   "metadata": {
    "heading_collapsed": true,
    "hidden": true
   },
   "source": [
    "## bonuses"
   ]
  },
  {
   "cell_type": "code",
   "execution_count": 8,
   "metadata": {
    "collapsed": true,
    "hidden": true,
    "run_control": {
     "frozen": false,
     "read_only": false
    }
   },
   "outputs": [],
   "source": [
    "reject_variations = {\n",
    "    \"otherchar\",\n",
    "    \"0ther\",\n",
    "    \"schwenk\",\n",
    "}"
   ]
  },
  {
   "cell_type": "code",
   "execution_count": 9,
   "metadata": {
    "collapsed": true,
    "hidden": true,
    "run_control": {
     "frozen": false,
     "read_only": false
    }
   },
   "outputs": [],
   "source": [
    "def filter_rejects(chars):\n",
    "    genuine_bonus = []\n",
    "    reject = []\n",
    "    for char in chars:\n",
    "        comp_string = ''.join(c for c in char if c.isalnum()).lower()\n",
    "        reject_chars = [char for var in reject_variations if var in char.replace(' ','')]\n",
    "        if reject_chars or len(char.replace(' ','')) < 3:\n",
    "            reject.extend(reject_chars)\n",
    "        else:\n",
    "            genuine_bonus.append(char)\n",
    "    return reject, genuine_bonus\n",
    "\n",
    "def assign_bonuses(assignments):\n",
    "    bonuses = {}\n",
    "    rejections = {}\n",
    "    worker_lookup = {}\n",
    "    for asgmt in assignments:\n",
    "        aid = asgmt.AssignmentId\n",
    "        worker_id = asgmt.WorkerId\n",
    "        worker_lookup[aid] = worker_id\n",
    "        result = create_result(asgmt)\n",
    "        bonus_chars = [char['label'] for char in json.loads(result['characterBoxes']) if char['label'] not in main_characters]\n",
    "        rejects, bonus_chars = filter_rejects(bonus_chars)\n",
    "        if rejects:\n",
    "            rejections[aid] = (rejects, bonus_chars)\n",
    "        elif bonus_chars:\n",
    "            bonuses[aid] = len(bonus_chars)\n",
    "#             bonuses[aid] = bonus_chars\n",
    "    return bonuses, rejections, worker_lookup"
   ]
  },
  {
   "cell_type": "code",
   "execution_count": 10,
   "metadata": {
    "hidden": true,
    "run_control": {
     "frozen": false,
     "read_only": false
    }
   },
   "outputs": [
    {
     "ename": "NameError",
     "evalue": "name 'asgmt_workers' is not defined",
     "output_type": "error",
     "traceback": [
      "\u001b[0;31m---------------------------------------------------------------------------\u001b[0m",
      "\u001b[0;31mNameError\u001b[0m                                 Traceback (most recent call last)",
      "\u001b[0;32m<ipython-input-10-d37cb62b3c39>\u001b[0m in \u001b[0;36m<module>\u001b[0;34m()\u001b[0m\n\u001b[0;32m----> 1\u001b[0;31m \u001b[0mworker_counts\u001b[0m \u001b[0;34m=\u001b[0m \u001b[0mpd\u001b[0m\u001b[0;34m.\u001b[0m\u001b[0mSeries\u001b[0m\u001b[0;34m(\u001b[0m\u001b[0mlist\u001b[0m\u001b[0;34m(\u001b[0m\u001b[0masgmt_workers\u001b[0m\u001b[0;34m.\u001b[0m\u001b[0mvalues\u001b[0m\u001b[0;34m(\u001b[0m\u001b[0;34m)\u001b[0m\u001b[0;34m)\u001b[0m\u001b[0;34m)\u001b[0m\u001b[0;34m.\u001b[0m\u001b[0mvalue_counts\u001b[0m\u001b[0;34m(\u001b[0m\u001b[0;34m)\u001b[0m\u001b[0;34m\u001b[0m\u001b[0m\n\u001b[0m",
      "\u001b[0;31mNameError\u001b[0m: name 'asgmt_workers' is not defined"
     ]
    }
   ],
   "source": [
    "worker_counts = pd.Series(list(asgmt_workers.values())).value_counts()"
   ]
  },
  {
   "cell_type": "code",
   "execution_count": 850,
   "metadata": {
    "hidden": true,
    "run_control": {
     "frozen": false,
     "read_only": false
    }
   },
   "outputs": [
    {
     "data": {
      "text/plain": [
       "40"
      ]
     },
     "execution_count": 850,
     "metadata": {},
     "output_type": "execute_result"
    }
   ],
   "source": [
    "sum(worker_counts > 50)"
   ]
  },
  {
   "cell_type": "code",
   "execution_count": 801,
   "metadata": {
    "collapsed": true,
    "hidden": true,
    "run_control": {
     "frozen": false,
     "read_only": false
    }
   },
   "outputs": [],
   "source": [
    "bonuses, to_reject, asgmt_workers = assign_bonuses(assignments)"
   ]
  },
  {
   "cell_type": "code",
   "execution_count": 743,
   "metadata": {
    "collapsed": true,
    "hidden": true,
    "run_control": {
     "frozen": false,
     "read_only": false
    }
   },
   "outputs": [],
   "source": [
    "# all_descriptions = []\n",
    "# for chars in bonuses.values():\n",
    "#     all_descriptions.extend(chars)\n",
    "\n",
    "all_rejections = []\n",
    "for chars in to_reject.values():\n",
    "    all_rejections.extend(chars[0])"
   ]
  },
  {
   "cell_type": "code",
   "execution_count": 744,
   "metadata": {
    "hidden": true,
    "run_control": {
     "frozen": false,
     "read_only": false
    }
   },
   "outputs": [
    {
     "data": {
      "text/plain": [
       "28.23"
      ]
     },
     "execution_count": 744,
     "metadata": {},
     "output_type": "execute_result"
    }
   ],
   "source": [
    "pd.Series(list(bonuses.values())).sum() * 0.01"
   ]
  },
  {
   "cell_type": "code",
   "execution_count": 723,
   "metadata": {
    "hidden": true,
    "run_control": {
     "frozen": false,
     "read_only": false
    },
    "scrolled": true
   },
   "outputs": [
    {
     "data": {
      "text/plain": [
       "old man                                           67\n",
       "man                                               45\n",
       "circus performer                                  30\n",
       "the man dress color is brown                      26\n",
       "the man was standing                              24\n",
       "bird                                              22\n",
       "construction worker                               20\n",
       "a man                                             17\n",
       "an old man                                        16\n",
       "police officer                                    15\n",
       "old lady                                          14\n",
       "doctor                                            14\n",
       "man with bow tie                                  14\n",
       "police                                            14\n",
       "the man dress color is blue                       14\n",
       "police man                                        13\n",
       "child                                             13\n",
       "girl                                              13\n",
       "construction worke                                13\n",
       "old granpa                                        13\n",
       "young girl                                        12\n",
       "cow                                               12\n",
       "man in the audience                               11\n",
       "little boy                                        11\n",
       "the man hair color was yellow                     10\n",
       "oldman                                            10\n",
       "driver                                            10\n",
       "elephant                                           9\n",
       "the man was driving                                9\n",
       "the girl was blue color dress                      9\n",
       "                                                  ..\n",
       "a man who push the rock                            1\n",
       "the girl hair colour is orange                     1\n",
       "the man was eating the flesh                       1\n",
       "purple shirt guy in blue glasses                   1\n",
       "bald man in blue outfit                            1\n",
       "peppys                                             1\n",
       "kid standing with yellow hair                      1\n",
       "the boy smiles                                     1\n",
       "man sit on the chair                               1\n",
       "a old man holding something                        1\n",
       "old women,bule cap                                 1\n",
       "she was sitting                                    1\n",
       "a man standing with fred and barney                1\n",
       "a man in blue shirt with wilma                     1\n",
       "young boy with book in hand                        1\n",
       "man with black tie                                 1\n",
       "the boy wear white gloves                          1\n",
       "bank robber in purple costume and hat              1\n",
       "man holding trophy                                 1\n",
       "a little boy with blue hat                         1\n",
       "man with black hair in green                       1\n",
       "angel                                              1\n",
       "hen                                                1\n",
       "man with open mouth                                1\n",
       "mail delivery person                               1\n",
       "a greenman standing with bamm bamm and pebbles     1\n",
       "contractor                                         1\n",
       "music  performer                                   1\n",
       "the women wearing glass                            1\n",
       "a man in blue shirt and purple hat                 1\n",
       "Length: 1744, dtype: int64"
      ]
     },
     "execution_count": 723,
     "metadata": {},
     "output_type": "execute_result"
    }
   ],
   "source": [
    "pd.Series(list(all_descriptions)).value_counts()"
   ]
  },
  {
   "cell_type": "code",
   "execution_count": 724,
   "metadata": {
    "collapsed": true,
    "hidden": true,
    "run_control": {
     "frozen": false,
     "read_only": false
    }
   },
   "outputs": [],
   "source": [
    "# pickle_this(bad_aids, 'to_reject.pkl')"
   ]
  },
  {
   "cell_type": "code",
   "execution_count": 693,
   "metadata": {
    "collapsed": true,
    "hidden": true,
    "run_control": {
     "frozen": false,
     "read_only": false
    }
   },
   "outputs": [],
   "source": [
    "# pd.Series(all_rejections).value_counts()"
   ]
  },
  {
   "cell_type": "code",
   "execution_count": 636,
   "metadata": {
    "collapsed": true,
    "hidden": true,
    "run_control": {
     "frozen": false,
     "read_only": false
    }
   },
   "outputs": [],
   "source": [
    "bad_aids = set(to_reject.keys())"
   ]
  },
  {
   "cell_type": "code",
   "execution_count": null,
   "metadata": {
    "collapsed": true,
    "hidden": true,
    "run_control": {
     "frozen": false,
     "read_only": false
    }
   },
   "outputs": [],
   "source": []
  },
  {
   "cell_type": "code",
   "execution_count": null,
   "metadata": {
    "collapsed": true,
    "hidden": true,
    "run_control": {
     "frozen": false,
     "read_only": false
    }
   },
   "outputs": [],
   "source": []
  },
  {
   "cell_type": "code",
   "execution_count": null,
   "metadata": {
    "collapsed": true,
    "hidden": true,
    "run_control": {
     "frozen": false,
     "read_only": false
    }
   },
   "outputs": [],
   "source": []
  },
  {
   "cell_type": "code",
   "execution_count": null,
   "metadata": {
    "collapsed": true,
    "hidden": true,
    "run_control": {
     "frozen": false,
     "read_only": false
    }
   },
   "outputs": [],
   "source": []
  },
  {
   "cell_type": "code",
   "execution_count": 637,
   "metadata": {
    "hidden": true,
    "run_control": {
     "frozen": false,
     "read_only": false
    }
   },
   "outputs": [
    {
     "data": {
      "text/plain": [
       "1"
      ]
     },
     "execution_count": 637,
     "metadata": {},
     "output_type": "execute_result"
    }
   ],
   "source": [
    "bad_workers = set([asgmt_workers[aid] for aid in bad_aids])\n",
    "len(bad_workers)\n",
    "\n",
    "bad_workers"
   ]
  },
  {
   "cell_type": "code",
   "execution_count": 691,
   "metadata": {
    "collapsed": true,
    "hidden": true,
    "run_control": {
     "frozen": false,
     "read_only": false
    }
   },
   "outputs": [],
   "source": [
    "worker_bonuses = defaultdict(int)\n",
    "for aid, char_count in bonuses.items():\n",
    "    worker_bonuses[aid] = {\n",
    "        'count': char_count,\n",
    "        'worker_id': asgmt_workers[aid]\n",
    "    }"
   ]
  },
  {
   "cell_type": "code",
   "execution_count": 694,
   "metadata": {
    "collapsed": true,
    "hidden": true,
    "run_control": {
     "frozen": false,
     "read_only": false
    }
   },
   "outputs": [],
   "source": [
    "pickle_this(worker_bonuses, 'bonuses_to_pay.pkl')"
   ]
  },
  {
   "cell_type": "markdown",
   "metadata": {
    "hidden": true
   },
   "source": [
    "## frame build"
   ]
  },
  {
   "cell_type": "code",
   "execution_count": 11,
   "metadata": {
    "collapsed": true,
    "hidden": true,
    "run_control": {
     "frozen": false,
     "read_only": false
    }
   },
   "outputs": [],
   "source": [
    "annotations_by_frame = defaultdict(list)\n",
    "for anno in sorted(assignment_results, key=lambda x: x['stillID']):\n",
    "    animation_id = anno['stillID'].rsplit('_', 1)[0]\n",
    "    annotations_by_frame[animation_id].append(anno)"
   ]
  },
  {
   "cell_type": "code",
   "execution_count": 804,
   "metadata": {
    "collapsed": true,
    "hidden": true,
    "run_control": {
     "frozen": false,
     "read_only": false
    }
   },
   "outputs": [],
   "source": [
    "with open('complete_clips.txt', 'a') as f:\n",
    "    import csv\n",
    "    cw = csv.writer(f, delimiter=' ')\n",
    "    cw.writerow(list(annotations_by_frame.keys()))"
   ]
  },
  {
   "cell_type": "markdown",
   "metadata": {
    "heading_collapsed": true,
    "hidden": true
   },
   "source": [
    "## analysis"
   ]
  },
  {
   "cell_type": "code",
   "execution_count": 12,
   "metadata": {
    "collapsed": true,
    "hidden": true,
    "run_control": {
     "frozen": false,
     "read_only": false
    }
   },
   "outputs": [],
   "source": [
    "char_df = pd.DataFrame(characters_present)\n",
    "char_df['aid'] = char_df['still_id'].apply(lambda x: x.rsplit('_', 1)[0])\n",
    "char_df['all_main'] = char_df['characters'].apply(lambda x: all_main(x))\n",
    "char_df['n_chars'] = char_df['characters'].apply(lambda x: len(x))\n",
    "all_chars = [c for char_list in char_df['characters'].apply(lambda x: list(x)).tolist() for c in char_list]"
   ]
  },
  {
   "cell_type": "code",
   "execution_count": 13,
   "metadata": {
    "collapsed": true,
    "hidden": true,
    "run_control": {
     "frozen": false,
     "read_only": false
    }
   },
   "outputs": [],
   "source": [
    "grouped_by_still = char_df.groupby('still_id')\n",
    "agg_df = grouped_by_still.aggregate(len)\n",
    "\n",
    "agged_on_mode = grouped_by_still.agg(lambda x: st.mode(x))"
   ]
  },
  {
   "cell_type": "code",
   "execution_count": 14,
   "metadata": {
    "collapsed": true,
    "hidden": true,
    "run_control": {
     "frozen": false,
     "read_only": false
    }
   },
   "outputs": [],
   "source": [
    "consensus_results_df = agged_on_mode.reset_index()\n",
    "\n",
    "consensus_results_df['count_mode'] = consensus_results_df['n_chars'].apply(lambda x: x[1][0])\n",
    "consensus_results_df['mode_count'] = consensus_results_df['characters'].apply(lambda x: x[1][0])\n",
    "\n",
    "consensus_results_df['all_agree'] = consensus_results_df['count_mode'] == 3\n",
    "consensus_results_df['two_agree'] = consensus_results_df['count_mode'] == 2\n",
    "\n",
    "char_count_df = consensus_results_df[consensus_results_df['count_mode'] == 3]\n",
    "\n",
    "agree_all_main = consensus_results_df['all_main'].apply(lambda x: x[1][0]) == 3 \n",
    "\n",
    "not_main =set(consensus_results_df[~agree_all_main]['still_id'].tolist())\n",
    "not_main_df = char_df[char_df['still_id'].isin(not_main)]\n",
    "\n",
    "\n",
    "all_agree = consensus_results_df[agree_all_main][consensus_results_df[agree_all_main]['all_agree']]\n",
    "disagree = consensus_results_df[agree_all_main][~consensus_results_df[agree_all_main]['all_agree']]\n",
    "\n",
    "all_agree_set = set(all_agree['still_id'].tolist())\n",
    "\n",
    "count_all_agree_set = set(consensus_results_df[consensus_results_df['count_mode'] == 3]['still_id'].tolist())\n",
    "count_two_agree_set = set(consensus_results_df[consensus_results_df['count_mode'] == 2]['still_id'].tolist())\n",
    "count_none_agree_set = set(consensus_results_df[consensus_results_df['count_mode'] == 1]['still_id'].tolist())\n",
    "\n",
    "conflict_images = set(disagree['still_id'].tolist())\n",
    "\n",
    "conflict_df = char_df[char_df['still_id'].isin(conflict_images)]"
   ]
  },
  {
   "cell_type": "code",
   "execution_count": 15,
   "metadata": {
    "hidden": true,
    "run_control": {
     "frozen": false,
     "read_only": false
    }
   },
   "outputs": [
    {
     "data": {
      "text/plain": [
       "5400"
      ]
     },
     "execution_count": 15,
     "metadata": {},
     "output_type": "execute_result"
    }
   ],
   "source": [
    "600 * 3 * 3"
   ]
  },
  {
   "cell_type": "code",
   "execution_count": 16,
   "metadata": {
    "hidden": true,
    "run_control": {
     "frozen": false,
     "read_only": false
    }
   },
   "outputs": [
    {
     "data": {
      "text/plain": [
       "311.1"
      ]
     },
     "execution_count": 16,
     "metadata": {},
     "output_type": "execute_result"
    }
   ],
   "source": [
    "char_df.shape[0] * 0.05"
   ]
  },
  {
   "cell_type": "code",
   "execution_count": 17,
   "metadata": {
    "collapsed": true,
    "hidden": true,
    "run_control": {
     "frozen": false,
     "read_only": false
    }
   },
   "outputs": [],
   "source": [
    "char_counts = pd.Series(all_chars).value_counts()"
   ]
  },
  {
   "cell_type": "code",
   "execution_count": 751,
   "metadata": {
    "hidden": true,
    "run_control": {
     "frozen": false,
     "read_only": false
    },
    "scrolled": true
   },
   "outputs": [
    {
     "data": {
      "text/plain": [
       "fred                                                 8747\n",
       "barney                                               5021\n",
       "wilma                                                3855\n",
       "empty frame                                          3795\n",
       "betty                                                2010\n",
       "mr slate                                              797\n",
       "dino                                                  616\n",
       "pebbles                                               593\n",
       "bamm bamm                                             218\n",
       "hoppy                                                 154\n",
       "old man                                                60\n",
       "baby puss                                              53\n",
       "man                                                    43\n",
       "circus performer                                       27\n",
       "the man dress color is brown                           26\n",
       "the man was standing                                   24\n",
       "bird                                                   21\n",
       "construction worker                                    18\n",
       "a man                                                  17\n",
       "an old man                                             16\n",
       "police officer                                         15\n",
       "doctor                                                 14\n",
       "man with bow tie                                       14\n",
       "old lady                                               14\n",
       "the man dress color is blue                            13\n",
       "girl                                                   13\n",
       "police                                                 12\n",
       "old granpa                                             11\n",
       "police man                                             11\n",
       "little boy                                             10\n",
       "                                                     ... \n",
       "fred in a wig look-alike                                1\n",
       "men,wearing blue colour dress                           1\n",
       "bicycle riding child                                    1\n",
       "young boy with book in hand                             1\n",
       "a little boy talking with pebbles                       1\n",
       "contractor                                              1\n",
       "a greenman standing with bamm bamm and pebbles          1\n",
       "mail delivery person                                    1\n",
       "a man in blue shirt with wilma                          1\n",
       "a old man wearing pink shirt and green coat             1\n",
       "man in sunglasses                                       1\n",
       "a man smoking                                           1\n",
       "rubberman                                               1\n",
       "heri                                                    1\n",
       "old women,bule cap                                      1\n",
       "newspaper                                               1\n",
       "she was sitting                                         1\n",
       "the girl hair is blue                                   1\n",
       "man with red cap and blue shirt                         1\n",
       "man with open mouth                                     1\n",
       "blonde haired lady with fine purple and pink coat       1\n",
       "the boy wear white gloves                               1\n",
       "this is elephant                                        1\n",
       "man sit on the chair                                    1\n",
       "a ckrack man                                            1\n",
       "man holding trophy                                      1\n",
       "man with black hair in green                            1\n",
       "angel                                                   1\n",
       "the man chain in hand                                   1\n",
       "a man in blue shirt and purple hat                      1\n",
       "Length: 1761, dtype: int64"
      ]
     },
     "execution_count": 751,
     "metadata": {},
     "output_type": "execute_result"
    }
   ],
   "source": [
    "char_counts"
   ]
  },
  {
   "cell_type": "code",
   "execution_count": 752,
   "metadata": {
    "hidden": true,
    "run_control": {
     "frozen": false,
     "read_only": false
    }
   },
   "outputs": [
    {
     "data": {
      "text/plain": [
       "2458"
      ]
     },
     "execution_count": 752,
     "metadata": {},
     "output_type": "execute_result"
    }
   ],
   "source": [
    "char_counts[char_counts < 16].sum()"
   ]
  },
  {
   "cell_type": "code",
   "execution_count": 753,
   "metadata": {
    "hidden": true,
    "run_control": {
     "frozen": false,
     "read_only": false
    }
   },
   "outputs": [
    {
     "data": {
      "text/plain": [
       "6.44"
      ]
     },
     "execution_count": 753,
     "metadata": {},
     "output_type": "execute_result"
    }
   ],
   "source": [
    "322 * 0.02"
   ]
  },
  {
   "cell_type": "code",
   "execution_count": 754,
   "metadata": {
    "collapsed": true,
    "hidden": true,
    "run_control": {
     "frozen": false,
     "read_only": false
    }
   },
   "outputs": [],
   "source": [
    "tes = set([])"
   ]
  },
  {
   "cell_type": "code",
   "execution_count": 755,
   "metadata": {
    "hidden": true,
    "run_control": {
     "frozen": false,
     "read_only": false
    }
   },
   "outputs": [
    {
     "data": {
      "text/plain": [
       "False"
      ]
     },
     "execution_count": 755,
     "metadata": {},
     "output_type": "execute_result"
    }
   ],
   "source": [
    "bool(tes)"
   ]
  },
  {
   "cell_type": "code",
   "execution_count": 757,
   "metadata": {
    "collapsed": true,
    "hidden": true,
    "run_control": {
     "frozen": false,
     "read_only": false
    },
    "scrolled": true
   },
   "outputs": [],
   "source": [
    "#  char_df['characters'].apply(lambda x:x.difference(set(empty_characters)))"
   ]
  },
  {
   "cell_type": "code",
   "execution_count": 758,
   "metadata": {
    "collapsed": true,
    "hidden": true,
    "run_control": {
     "frozen": false,
     "read_only": false
    }
   },
   "outputs": [],
   "source": [
    "char_df['empty'] = ~char_df['characters'].apply(lambda x:bool(x.difference(set(empty_characters))))"
   ]
  },
  {
   "cell_type": "code",
   "execution_count": null,
   "metadata": {
    "collapsed": true,
    "hidden": true,
    "run_control": {
     "frozen": false,
     "read_only": false
    }
   },
   "outputs": [],
   "source": []
  },
  {
   "cell_type": "code",
   "execution_count": 759,
   "metadata": {
    "collapsed": true,
    "hidden": true,
    "run_control": {
     "frozen": false,
     "read_only": false
    }
   },
   "outputs": [],
   "source": [
    "char_df['nonmain_characters'] = char_df['characters'].apply(lambda x: len(x.difference(set(main_characters))))"
   ]
  },
  {
   "cell_type": "code",
   "execution_count": 760,
   "metadata": {
    "collapsed": true,
    "hidden": true,
    "run_control": {
     "frozen": false,
     "read_only": false
    }
   },
   "outputs": [],
   "source": [
    "grouped_by_aid = char_df.groupby('aid')"
   ]
  },
  {
   "cell_type": "code",
   "execution_count": 761,
   "metadata": {
    "hidden": true,
    "run_control": {
     "frozen": false,
     "read_only": false
    }
   },
   "outputs": [
    {
     "data": {
      "text/plain": [
       "1326"
      ]
     },
     "execution_count": 761,
     "metadata": {},
     "output_type": "execute_result"
    }
   ],
   "source": [
    "grouped_by_aid.agg(max)['nonmain_characters'].sum()"
   ]
  },
  {
   "cell_type": "code",
   "execution_count": 762,
   "metadata": {
    "hidden": true,
    "run_control": {
     "frozen": false,
     "read_only": false
    }
   },
   "outputs": [
    {
     "data": {
      "text/plain": [
       "(2152, 8)"
      ]
     },
     "execution_count": 762,
     "metadata": {},
     "output_type": "execute_result"
    }
   ],
   "source": [
    "grouped_by_aid.agg(max).shape"
   ]
  },
  {
   "cell_type": "code",
   "execution_count": 763,
   "metadata": {
    "hidden": true,
    "run_control": {
     "frozen": false,
     "read_only": false
    }
   },
   "outputs": [
    {
     "data": {
      "text/plain": [
       "238.68000000000001"
      ]
     },
     "execution_count": 763,
     "metadata": {},
     "output_type": "execute_result"
    }
   ],
   "source": [
    "grouped_by_aid.agg(max)['nonmain_characters'].sum() * 3 * 3  * 0.02"
   ]
  },
  {
   "cell_type": "code",
   "execution_count": 764,
   "metadata": {
    "hidden": true,
    "run_control": {
     "frozen": false,
     "read_only": false
    }
   },
   "outputs": [
    {
     "data": {
      "text/plain": [
       "774.16"
      ]
     },
     "execution_count": 764,
     "metadata": {},
     "output_type": "execute_result"
    }
   ],
   "source": [
    "char_df.shape[0] * 0.04"
   ]
  },
  {
   "cell_type": "code",
   "execution_count": 765,
   "metadata": {
    "hidden": true,
    "run_control": {
     "frozen": false,
     "read_only": false
    }
   },
   "outputs": [
    {
     "data": {
      "text/html": [
       "<div>\n",
       "<style>\n",
       "    .dataframe thead tr:only-child th {\n",
       "        text-align: right;\n",
       "    }\n",
       "\n",
       "    .dataframe thead th {\n",
       "        text-align: left;\n",
       "    }\n",
       "\n",
       "    .dataframe tbody tr th {\n",
       "        vertical-align: top;\n",
       "    }\n",
       "</style>\n",
       "<table border=\"1\" class=\"dataframe\">\n",
       "  <thead>\n",
       "    <tr style=\"text-align: right;\">\n",
       "      <th></th>\n",
       "      <th>characters</th>\n",
       "      <th>h_id</th>\n",
       "      <th>still_id</th>\n",
       "      <th>w_id</th>\n",
       "      <th>all_main</th>\n",
       "      <th>n_chars</th>\n",
       "      <th>empty</th>\n",
       "      <th>nonmain_characters</th>\n",
       "    </tr>\n",
       "    <tr>\n",
       "      <th>aid</th>\n",
       "      <th></th>\n",
       "      <th></th>\n",
       "      <th></th>\n",
       "      <th></th>\n",
       "      <th></th>\n",
       "      <th></th>\n",
       "      <th></th>\n",
       "      <th></th>\n",
       "    </tr>\n",
       "  </thead>\n",
       "  <tbody>\n",
       "    <tr>\n",
       "      <th>s_01_e_17_shot_012386_012460</th>\n",
       "      <td>{empty frame}</td>\n",
       "      <td>3XH7ZM9YX3U4DBCE7OMFM4OL31XR9P</td>\n",
       "      <td>s_01_e_17_shot_012386_012460_70.png</td>\n",
       "      <td>ATUR98N8W23Q3</td>\n",
       "      <td>True</td>\n",
       "      <td>1</td>\n",
       "      <td>True</td>\n",
       "      <td>0</td>\n",
       "    </tr>\n",
       "    <tr>\n",
       "      <th>s_02_e_02_shot_023131_023205</th>\n",
       "      <td>{empty frame}</td>\n",
       "      <td>3RBI0I35XF3RVAZK4ADZ3NEW6X63YS</td>\n",
       "      <td>s_02_e_02_shot_023131_023205_70.png</td>\n",
       "      <td>AVQND8233HQWK</td>\n",
       "      <td>True</td>\n",
       "      <td>1</td>\n",
       "      <td>True</td>\n",
       "      <td>0</td>\n",
       "    </tr>\n",
       "    <tr>\n",
       "      <th>s_02_e_04_shot_003058_003132</th>\n",
       "      <td>{empty frame}</td>\n",
       "      <td>3VDVA3ILIEFVZG05N0DA8USV3GX1GT</td>\n",
       "      <td>s_02_e_04_shot_003058_003132_70.png</td>\n",
       "      <td>A3UE49REX108ZE</td>\n",
       "      <td>True</td>\n",
       "      <td>1</td>\n",
       "      <td>True</td>\n",
       "      <td>0</td>\n",
       "    </tr>\n",
       "    <tr>\n",
       "      <th>s_02_e_04_shot_032164_032238</th>\n",
       "      <td>{empty frame}</td>\n",
       "      <td>3T6EIBTM9MOQJD02XJETN9AV9FSAAG</td>\n",
       "      <td>s_02_e_04_shot_032164_032238_70.png</td>\n",
       "      <td>AWDSIX3ULD32V</td>\n",
       "      <td>True</td>\n",
       "      <td>1</td>\n",
       "      <td>True</td>\n",
       "      <td>0</td>\n",
       "    </tr>\n",
       "    <tr>\n",
       "      <th>s_02_e_04_shot_041246_041320</th>\n",
       "      <td>{empty frame}</td>\n",
       "      <td>3WYZV0QBFKD7Y0DNE7632S5ZSIMBXG</td>\n",
       "      <td>s_02_e_04_shot_041246_041320_70.png</td>\n",
       "      <td>ASKV5KO5CV616</td>\n",
       "      <td>True</td>\n",
       "      <td>1</td>\n",
       "      <td>True</td>\n",
       "      <td>0</td>\n",
       "    </tr>\n",
       "    <tr>\n",
       "      <th>s_02_e_06_shot_005960_006034</th>\n",
       "      <td>{empty frame}</td>\n",
       "      <td>3Y3N5A7N4H9SHW7UASIEZMN26ONYM3</td>\n",
       "      <td>s_02_e_06_shot_005960_006034_70.png</td>\n",
       "      <td>AF1HT6VL272QZ</td>\n",
       "      <td>True</td>\n",
       "      <td>1</td>\n",
       "      <td>True</td>\n",
       "      <td>0</td>\n",
       "    </tr>\n",
       "    <tr>\n",
       "      <th>s_02_e_06_shot_038544_038618</th>\n",
       "      <td>{empty frame}</td>\n",
       "      <td>3RWB1RTQDKNJNTDPP4CCHDTVIEVP8C</td>\n",
       "      <td>s_02_e_06_shot_038544_038618_70.png</td>\n",
       "      <td>A2X7BE2FSPUKCK</td>\n",
       "      <td>True</td>\n",
       "      <td>1</td>\n",
       "      <td>True</td>\n",
       "      <td>0</td>\n",
       "    </tr>\n",
       "    <tr>\n",
       "      <th>s_02_e_08_shot_000269_000343</th>\n",
       "      <td>{empty frame}</td>\n",
       "      <td>3PGQRAZX03KVFRKZUPE0BVM8YC0YS8</td>\n",
       "      <td>s_02_e_08_shot_000269_000343_70.png</td>\n",
       "      <td>AEBETUY5OD68H</td>\n",
       "      <td>True</td>\n",
       "      <td>1</td>\n",
       "      <td>True</td>\n",
       "      <td>0</td>\n",
       "    </tr>\n",
       "    <tr>\n",
       "      <th>s_02_e_09_shot_029359_029433</th>\n",
       "      <td>{empty frame}</td>\n",
       "      <td>3VDI8GSXAGTDAGKQMLMPN4F3HM28GJ</td>\n",
       "      <td>s_02_e_09_shot_029359_029433_70.png</td>\n",
       "      <td>AEF601SQFOSBL</td>\n",
       "      <td>True</td>\n",
       "      <td>1</td>\n",
       "      <td>True</td>\n",
       "      <td>0</td>\n",
       "    </tr>\n",
       "    <tr>\n",
       "      <th>s_02_e_13_shot_033462_033536</th>\n",
       "      <td>{empty frame}</td>\n",
       "      <td>3WGCNLZJKG8SNWQELAC229PYQPM1DQ</td>\n",
       "      <td>s_02_e_13_shot_033462_033536_70.png</td>\n",
       "      <td>ASKV5KO5CV616</td>\n",
       "      <td>True</td>\n",
       "      <td>1</td>\n",
       "      <td>True</td>\n",
       "      <td>0</td>\n",
       "    </tr>\n",
       "    <tr>\n",
       "      <th>s_02_e_16_shot_002640_002714</th>\n",
       "      <td>{empty frame}</td>\n",
       "      <td>3L2OEKSTWAADW75QGR8VU4M7MIT8YI</td>\n",
       "      <td>s_02_e_16_shot_002640_002714_70.png</td>\n",
       "      <td>AWDSIX3ULD32V</td>\n",
       "      <td>True</td>\n",
       "      <td>1</td>\n",
       "      <td>True</td>\n",
       "      <td>0</td>\n",
       "    </tr>\n",
       "    <tr>\n",
       "      <th>s_02_e_28_shot_022022_022096</th>\n",
       "      <td>{empty frame}</td>\n",
       "      <td>3WUVMVA7OC3RKL8A9BUS4214I0YAZG</td>\n",
       "      <td>s_02_e_28_shot_022022_022096_70.png</td>\n",
       "      <td>A3R6KO03P9QLNO</td>\n",
       "      <td>True</td>\n",
       "      <td>1</td>\n",
       "      <td>True</td>\n",
       "      <td>0</td>\n",
       "    </tr>\n",
       "    <tr>\n",
       "      <th>s_03_e_08_shot_016203_016277</th>\n",
       "      <td>{empty frame}</td>\n",
       "      <td>3PA41K45VO4FNF86FZK63DX07US7PA</td>\n",
       "      <td>s_03_e_08_shot_016203_016277_70.png</td>\n",
       "      <td>AURAZWWGQBQKW</td>\n",
       "      <td>True</td>\n",
       "      <td>1</td>\n",
       "      <td>True</td>\n",
       "      <td>0</td>\n",
       "    </tr>\n",
       "    <tr>\n",
       "      <th>s_03_e_09_shot_013150_013224</th>\n",
       "      <td>{empty frame}</td>\n",
       "      <td>3Z56AA6EK50QYCXO49NMGV397EX6ME</td>\n",
       "      <td>s_03_e_09_shot_013150_013224_70.png</td>\n",
       "      <td>ASKV5KO5CV616</td>\n",
       "      <td>True</td>\n",
       "      <td>1</td>\n",
       "      <td>True</td>\n",
       "      <td>0</td>\n",
       "    </tr>\n",
       "    <tr>\n",
       "      <th>s_03_e_12_shot_035255_035329</th>\n",
       "      <td>{empty frame}</td>\n",
       "      <td>3S829FDFT310DXB7S3X9XITZV3ZDXQ</td>\n",
       "      <td>s_03_e_12_shot_035255_035329_70.png</td>\n",
       "      <td>ASKV5KO5CV616</td>\n",
       "      <td>True</td>\n",
       "      <td>1</td>\n",
       "      <td>True</td>\n",
       "      <td>0</td>\n",
       "    </tr>\n",
       "    <tr>\n",
       "      <th>s_03_e_22_shot_000880_000954</th>\n",
       "      <td>{empty frame}</td>\n",
       "      <td>3ZZAYRN1I7RK0DTCD2ASJ9KSMLFTOH</td>\n",
       "      <td>s_03_e_22_shot_000880_000954_70.png</td>\n",
       "      <td>AJR1S4APF01FN</td>\n",
       "      <td>True</td>\n",
       "      <td>1</td>\n",
       "      <td>True</td>\n",
       "      <td>0</td>\n",
       "    </tr>\n",
       "    <tr>\n",
       "      <th>s_03_e_22_shot_033900_033974</th>\n",
       "      <td>{empty frame}</td>\n",
       "      <td>3YCT0L9OMN913SGLNN5PUFO1USXSND</td>\n",
       "      <td>s_03_e_22_shot_033900_033974_70.png</td>\n",
       "      <td>AJR1S4APF01FN</td>\n",
       "      <td>True</td>\n",
       "      <td>1</td>\n",
       "      <td>True</td>\n",
       "      <td>0</td>\n",
       "    </tr>\n",
       "    <tr>\n",
       "      <th>s_03_e_22_shot_044495_044569</th>\n",
       "      <td>{empty frame}</td>\n",
       "      <td>3ZLW647WAMV1UP6DBP64UJDRRH7234</td>\n",
       "      <td>s_03_e_22_shot_044495_044569_70.png</td>\n",
       "      <td>AA7BTDZQNHW5</td>\n",
       "      <td>True</td>\n",
       "      <td>1</td>\n",
       "      <td>True</td>\n",
       "      <td>0</td>\n",
       "    </tr>\n",
       "    <tr>\n",
       "      <th>s_03_e_27_shot_024079_024153</th>\n",
       "      <td>{empty frame}</td>\n",
       "      <td>3RWB1RTQDKNJNTDPP4CCHDTVIDR8PP</td>\n",
       "      <td>s_03_e_27_shot_024079_024153_70.png</td>\n",
       "      <td>ATUR98N8W23Q3</td>\n",
       "      <td>True</td>\n",
       "      <td>1</td>\n",
       "      <td>True</td>\n",
       "      <td>0</td>\n",
       "    </tr>\n",
       "    <tr>\n",
       "      <th>s_04_e_12_shot_028754_028828</th>\n",
       "      <td>{empty frame}</td>\n",
       "      <td>3ZURAPD289NPLG4ACG7SQ9SJ2221F1</td>\n",
       "      <td>s_04_e_12_shot_028754_028828_70.png</td>\n",
       "      <td>AF1HT6VL272QZ</td>\n",
       "      <td>True</td>\n",
       "      <td>1</td>\n",
       "      <td>True</td>\n",
       "      <td>0</td>\n",
       "    </tr>\n",
       "    <tr>\n",
       "      <th>s_04_e_18_shot_001846_001920</th>\n",
       "      <td>{empty frame}</td>\n",
       "      <td>3KLL7H3EGE1PLOBEEKFH0IBC7KKHV0</td>\n",
       "      <td>s_04_e_18_shot_001846_001920_70.png</td>\n",
       "      <td>ASKV5KO5CV616</td>\n",
       "      <td>True</td>\n",
       "      <td>1</td>\n",
       "      <td>True</td>\n",
       "      <td>0</td>\n",
       "    </tr>\n",
       "    <tr>\n",
       "      <th>s_04_e_21_shot_023164_023238</th>\n",
       "      <td>{empty frame}</td>\n",
       "      <td>3W5PY7V3UQ72GO197V5MJUVL2USJYK</td>\n",
       "      <td>s_04_e_21_shot_023164_023238_70.png</td>\n",
       "      <td>AURAZWWGQBQKW</td>\n",
       "      <td>True</td>\n",
       "      <td>1</td>\n",
       "      <td>True</td>\n",
       "      <td>0</td>\n",
       "    </tr>\n",
       "    <tr>\n",
       "      <th>s_04_e_23_shot_031636_031710</th>\n",
       "      <td>{empty frame}</td>\n",
       "      <td>3TCFMTM8HFO5KMSYOLSL6QYUTXV12D</td>\n",
       "      <td>s_04_e_23_shot_031636_031710_70.png</td>\n",
       "      <td>AJR1S4APF01FN</td>\n",
       "      <td>True</td>\n",
       "      <td>1</td>\n",
       "      <td>True</td>\n",
       "      <td>0</td>\n",
       "    </tr>\n",
       "    <tr>\n",
       "      <th>s_05_e_03_shot_042669_042743</th>\n",
       "      <td>{empty frame}</td>\n",
       "      <td>3XJOUITW8VRNLP6SSF2W8EFS1MYTQQ</td>\n",
       "      <td>s_05_e_03_shot_042669_042743_70.png</td>\n",
       "      <td>AWDSIX3ULD32V</td>\n",
       "      <td>True</td>\n",
       "      <td>1</td>\n",
       "      <td>True</td>\n",
       "      <td>0</td>\n",
       "    </tr>\n",
       "    <tr>\n",
       "      <th>s_05_e_04_shot_010921_010995</th>\n",
       "      <td>{empty frame}</td>\n",
       "      <td>3XJOUITW8VRNLP6SSF2W8EFS1N5QTW</td>\n",
       "      <td>s_05_e_04_shot_010921_010995_70.png</td>\n",
       "      <td>AEBETUY5OD68H</td>\n",
       "      <td>True</td>\n",
       "      <td>1</td>\n",
       "      <td>True</td>\n",
       "      <td>0</td>\n",
       "    </tr>\n",
       "    <tr>\n",
       "      <th>s_05_e_06_shot_014509_014583</th>\n",
       "      <td>{empty frame}</td>\n",
       "      <td>3UUSLRKAUM36YI5GAQTB3JGBTAI7DN</td>\n",
       "      <td>s_05_e_06_shot_014509_014583_70.png</td>\n",
       "      <td>ASLY4WV7FCUDE</td>\n",
       "      <td>True</td>\n",
       "      <td>1</td>\n",
       "      <td>True</td>\n",
       "      <td>0</td>\n",
       "    </tr>\n",
       "    <tr>\n",
       "      <th>s_05_e_11_shot_026125_026199</th>\n",
       "      <td>{empty frame}</td>\n",
       "      <td>3SZYX62S5H0BU5QNVKBS57SJGUR57M</td>\n",
       "      <td>s_05_e_11_shot_026125_026199_70.png</td>\n",
       "      <td>ASKV5KO5CV616</td>\n",
       "      <td>True</td>\n",
       "      <td>1</td>\n",
       "      <td>True</td>\n",
       "      <td>0</td>\n",
       "    </tr>\n",
       "    <tr>\n",
       "      <th>s_06_e_01_shot_034298_034372</th>\n",
       "      <td>{empty frame}</td>\n",
       "      <td>3RDTX9JRTZ1UVSSZYAO9HNXL2P4797</td>\n",
       "      <td>s_06_e_01_shot_034298_034372_70.png</td>\n",
       "      <td>ATUR98N8W23Q3</td>\n",
       "      <td>True</td>\n",
       "      <td>1</td>\n",
       "      <td>True</td>\n",
       "      <td>0</td>\n",
       "    </tr>\n",
       "    <tr>\n",
       "      <th>s_06_e_02_shot_038302_038376</th>\n",
       "      <td>{empty frame}</td>\n",
       "      <td>3YGYP136429P2DG88Y5K45J58QGNRM</td>\n",
       "      <td>s_06_e_02_shot_038302_038376_70.png</td>\n",
       "      <td>ATUR98N8W23Q3</td>\n",
       "      <td>True</td>\n",
       "      <td>1</td>\n",
       "      <td>True</td>\n",
       "      <td>0</td>\n",
       "    </tr>\n",
       "    <tr>\n",
       "      <th>s_06_e_05_shot_030026_030100</th>\n",
       "      <td>{empty frame}</td>\n",
       "      <td>3XAOZ9UYR0RMC5UJQWIM28WX939Q1G</td>\n",
       "      <td>s_06_e_05_shot_030026_030100_70.png</td>\n",
       "      <td>AVQND8233HQWK</td>\n",
       "      <td>True</td>\n",
       "      <td>1</td>\n",
       "      <td>True</td>\n",
       "      <td>0</td>\n",
       "    </tr>\n",
       "    <tr>\n",
       "      <th>s_06_e_09_shot_013497_013571</th>\n",
       "      <td>{empty frame}</td>\n",
       "      <td>3QTFNPMJC7IY442ZIFZXQ8L4H81NZJ</td>\n",
       "      <td>s_06_e_09_shot_013497_013571_70.png</td>\n",
       "      <td>AWDSIX3ULD32V</td>\n",
       "      <td>True</td>\n",
       "      <td>1</td>\n",
       "      <td>True</td>\n",
       "      <td>0</td>\n",
       "    </tr>\n",
       "    <tr>\n",
       "      <th>s_06_e_10_shot_000119_000193</th>\n",
       "      <td>{empty frame}</td>\n",
       "      <td>3Z3R5YC0P4NQU0GJEZR2WFBEULWTF5</td>\n",
       "      <td>s_06_e_10_shot_000119_000193_70.png</td>\n",
       "      <td>A9ALF1SODWQE5</td>\n",
       "      <td>True</td>\n",
       "      <td>1</td>\n",
       "      <td>True</td>\n",
       "      <td>0</td>\n",
       "    </tr>\n",
       "    <tr>\n",
       "      <th>s_06_e_16_shot_021208_021282</th>\n",
       "      <td>{empty frame}</td>\n",
       "      <td>3YCT0L9OMN913SGLNN5PUFO1USVSNB</td>\n",
       "      <td>s_06_e_16_shot_021208_021282_70.png</td>\n",
       "      <td>AJR1S4APF01FN</td>\n",
       "      <td>True</td>\n",
       "      <td>1</td>\n",
       "      <td>True</td>\n",
       "      <td>0</td>\n",
       "    </tr>\n",
       "    <tr>\n",
       "      <th>s_06_e_25_shot_022852_022926</th>\n",
       "      <td>{empty frame}</td>\n",
       "      <td>3SBX2M1TKEN344R2DE1O0630LOO4QE</td>\n",
       "      <td>s_06_e_25_shot_022852_022926_70.png</td>\n",
       "      <td>AJR1S4APF01FN</td>\n",
       "      <td>True</td>\n",
       "      <td>1</td>\n",
       "      <td>True</td>\n",
       "      <td>0</td>\n",
       "    </tr>\n",
       "  </tbody>\n",
       "</table>\n",
       "</div>"
      ],
      "text/plain": [
       "                                 characters                            h_id  \\\n",
       "aid                                                                           \n",
       "s_01_e_17_shot_012386_012460  {empty frame}  3XH7ZM9YX3U4DBCE7OMFM4OL31XR9P   \n",
       "s_02_e_02_shot_023131_023205  {empty frame}  3RBI0I35XF3RVAZK4ADZ3NEW6X63YS   \n",
       "s_02_e_04_shot_003058_003132  {empty frame}  3VDVA3ILIEFVZG05N0DA8USV3GX1GT   \n",
       "s_02_e_04_shot_032164_032238  {empty frame}  3T6EIBTM9MOQJD02XJETN9AV9FSAAG   \n",
       "s_02_e_04_shot_041246_041320  {empty frame}  3WYZV0QBFKD7Y0DNE7632S5ZSIMBXG   \n",
       "s_02_e_06_shot_005960_006034  {empty frame}  3Y3N5A7N4H9SHW7UASIEZMN26ONYM3   \n",
       "s_02_e_06_shot_038544_038618  {empty frame}  3RWB1RTQDKNJNTDPP4CCHDTVIEVP8C   \n",
       "s_02_e_08_shot_000269_000343  {empty frame}  3PGQRAZX03KVFRKZUPE0BVM8YC0YS8   \n",
       "s_02_e_09_shot_029359_029433  {empty frame}  3VDI8GSXAGTDAGKQMLMPN4F3HM28GJ   \n",
       "s_02_e_13_shot_033462_033536  {empty frame}  3WGCNLZJKG8SNWQELAC229PYQPM1DQ   \n",
       "s_02_e_16_shot_002640_002714  {empty frame}  3L2OEKSTWAADW75QGR8VU4M7MIT8YI   \n",
       "s_02_e_28_shot_022022_022096  {empty frame}  3WUVMVA7OC3RKL8A9BUS4214I0YAZG   \n",
       "s_03_e_08_shot_016203_016277  {empty frame}  3PA41K45VO4FNF86FZK63DX07US7PA   \n",
       "s_03_e_09_shot_013150_013224  {empty frame}  3Z56AA6EK50QYCXO49NMGV397EX6ME   \n",
       "s_03_e_12_shot_035255_035329  {empty frame}  3S829FDFT310DXB7S3X9XITZV3ZDXQ   \n",
       "s_03_e_22_shot_000880_000954  {empty frame}  3ZZAYRN1I7RK0DTCD2ASJ9KSMLFTOH   \n",
       "s_03_e_22_shot_033900_033974  {empty frame}  3YCT0L9OMN913SGLNN5PUFO1USXSND   \n",
       "s_03_e_22_shot_044495_044569  {empty frame}  3ZLW647WAMV1UP6DBP64UJDRRH7234   \n",
       "s_03_e_27_shot_024079_024153  {empty frame}  3RWB1RTQDKNJNTDPP4CCHDTVIDR8PP   \n",
       "s_04_e_12_shot_028754_028828  {empty frame}  3ZURAPD289NPLG4ACG7SQ9SJ2221F1   \n",
       "s_04_e_18_shot_001846_001920  {empty frame}  3KLL7H3EGE1PLOBEEKFH0IBC7KKHV0   \n",
       "s_04_e_21_shot_023164_023238  {empty frame}  3W5PY7V3UQ72GO197V5MJUVL2USJYK   \n",
       "s_04_e_23_shot_031636_031710  {empty frame}  3TCFMTM8HFO5KMSYOLSL6QYUTXV12D   \n",
       "s_05_e_03_shot_042669_042743  {empty frame}  3XJOUITW8VRNLP6SSF2W8EFS1MYTQQ   \n",
       "s_05_e_04_shot_010921_010995  {empty frame}  3XJOUITW8VRNLP6SSF2W8EFS1N5QTW   \n",
       "s_05_e_06_shot_014509_014583  {empty frame}  3UUSLRKAUM36YI5GAQTB3JGBTAI7DN   \n",
       "s_05_e_11_shot_026125_026199  {empty frame}  3SZYX62S5H0BU5QNVKBS57SJGUR57M   \n",
       "s_06_e_01_shot_034298_034372  {empty frame}  3RDTX9JRTZ1UVSSZYAO9HNXL2P4797   \n",
       "s_06_e_02_shot_038302_038376  {empty frame}  3YGYP136429P2DG88Y5K45J58QGNRM   \n",
       "s_06_e_05_shot_030026_030100  {empty frame}  3XAOZ9UYR0RMC5UJQWIM28WX939Q1G   \n",
       "s_06_e_09_shot_013497_013571  {empty frame}  3QTFNPMJC7IY442ZIFZXQ8L4H81NZJ   \n",
       "s_06_e_10_shot_000119_000193  {empty frame}  3Z3R5YC0P4NQU0GJEZR2WFBEULWTF5   \n",
       "s_06_e_16_shot_021208_021282  {empty frame}  3YCT0L9OMN913SGLNN5PUFO1USVSNB   \n",
       "s_06_e_25_shot_022852_022926  {empty frame}  3SBX2M1TKEN344R2DE1O0630LOO4QE   \n",
       "\n",
       "                                                         still_id  \\\n",
       "aid                                                                 \n",
       "s_01_e_17_shot_012386_012460  s_01_e_17_shot_012386_012460_70.png   \n",
       "s_02_e_02_shot_023131_023205  s_02_e_02_shot_023131_023205_70.png   \n",
       "s_02_e_04_shot_003058_003132  s_02_e_04_shot_003058_003132_70.png   \n",
       "s_02_e_04_shot_032164_032238  s_02_e_04_shot_032164_032238_70.png   \n",
       "s_02_e_04_shot_041246_041320  s_02_e_04_shot_041246_041320_70.png   \n",
       "s_02_e_06_shot_005960_006034  s_02_e_06_shot_005960_006034_70.png   \n",
       "s_02_e_06_shot_038544_038618  s_02_e_06_shot_038544_038618_70.png   \n",
       "s_02_e_08_shot_000269_000343  s_02_e_08_shot_000269_000343_70.png   \n",
       "s_02_e_09_shot_029359_029433  s_02_e_09_shot_029359_029433_70.png   \n",
       "s_02_e_13_shot_033462_033536  s_02_e_13_shot_033462_033536_70.png   \n",
       "s_02_e_16_shot_002640_002714  s_02_e_16_shot_002640_002714_70.png   \n",
       "s_02_e_28_shot_022022_022096  s_02_e_28_shot_022022_022096_70.png   \n",
       "s_03_e_08_shot_016203_016277  s_03_e_08_shot_016203_016277_70.png   \n",
       "s_03_e_09_shot_013150_013224  s_03_e_09_shot_013150_013224_70.png   \n",
       "s_03_e_12_shot_035255_035329  s_03_e_12_shot_035255_035329_70.png   \n",
       "s_03_e_22_shot_000880_000954  s_03_e_22_shot_000880_000954_70.png   \n",
       "s_03_e_22_shot_033900_033974  s_03_e_22_shot_033900_033974_70.png   \n",
       "s_03_e_22_shot_044495_044569  s_03_e_22_shot_044495_044569_70.png   \n",
       "s_03_e_27_shot_024079_024153  s_03_e_27_shot_024079_024153_70.png   \n",
       "s_04_e_12_shot_028754_028828  s_04_e_12_shot_028754_028828_70.png   \n",
       "s_04_e_18_shot_001846_001920  s_04_e_18_shot_001846_001920_70.png   \n",
       "s_04_e_21_shot_023164_023238  s_04_e_21_shot_023164_023238_70.png   \n",
       "s_04_e_23_shot_031636_031710  s_04_e_23_shot_031636_031710_70.png   \n",
       "s_05_e_03_shot_042669_042743  s_05_e_03_shot_042669_042743_70.png   \n",
       "s_05_e_04_shot_010921_010995  s_05_e_04_shot_010921_010995_70.png   \n",
       "s_05_e_06_shot_014509_014583  s_05_e_06_shot_014509_014583_70.png   \n",
       "s_05_e_11_shot_026125_026199  s_05_e_11_shot_026125_026199_70.png   \n",
       "s_06_e_01_shot_034298_034372  s_06_e_01_shot_034298_034372_70.png   \n",
       "s_06_e_02_shot_038302_038376  s_06_e_02_shot_038302_038376_70.png   \n",
       "s_06_e_05_shot_030026_030100  s_06_e_05_shot_030026_030100_70.png   \n",
       "s_06_e_09_shot_013497_013571  s_06_e_09_shot_013497_013571_70.png   \n",
       "s_06_e_10_shot_000119_000193  s_06_e_10_shot_000119_000193_70.png   \n",
       "s_06_e_16_shot_021208_021282  s_06_e_16_shot_021208_021282_70.png   \n",
       "s_06_e_25_shot_022852_022926  s_06_e_25_shot_022852_022926_70.png   \n",
       "\n",
       "                                        w_id  all_main  n_chars  empty  \\\n",
       "aid                                                                      \n",
       "s_01_e_17_shot_012386_012460   ATUR98N8W23Q3      True        1   True   \n",
       "s_02_e_02_shot_023131_023205   AVQND8233HQWK      True        1   True   \n",
       "s_02_e_04_shot_003058_003132  A3UE49REX108ZE      True        1   True   \n",
       "s_02_e_04_shot_032164_032238   AWDSIX3ULD32V      True        1   True   \n",
       "s_02_e_04_shot_041246_041320   ASKV5KO5CV616      True        1   True   \n",
       "s_02_e_06_shot_005960_006034   AF1HT6VL272QZ      True        1   True   \n",
       "s_02_e_06_shot_038544_038618  A2X7BE2FSPUKCK      True        1   True   \n",
       "s_02_e_08_shot_000269_000343   AEBETUY5OD68H      True        1   True   \n",
       "s_02_e_09_shot_029359_029433   AEF601SQFOSBL      True        1   True   \n",
       "s_02_e_13_shot_033462_033536   ASKV5KO5CV616      True        1   True   \n",
       "s_02_e_16_shot_002640_002714   AWDSIX3ULD32V      True        1   True   \n",
       "s_02_e_28_shot_022022_022096  A3R6KO03P9QLNO      True        1   True   \n",
       "s_03_e_08_shot_016203_016277   AURAZWWGQBQKW      True        1   True   \n",
       "s_03_e_09_shot_013150_013224   ASKV5KO5CV616      True        1   True   \n",
       "s_03_e_12_shot_035255_035329   ASKV5KO5CV616      True        1   True   \n",
       "s_03_e_22_shot_000880_000954   AJR1S4APF01FN      True        1   True   \n",
       "s_03_e_22_shot_033900_033974   AJR1S4APF01FN      True        1   True   \n",
       "s_03_e_22_shot_044495_044569    AA7BTDZQNHW5      True        1   True   \n",
       "s_03_e_27_shot_024079_024153   ATUR98N8W23Q3      True        1   True   \n",
       "s_04_e_12_shot_028754_028828   AF1HT6VL272QZ      True        1   True   \n",
       "s_04_e_18_shot_001846_001920   ASKV5KO5CV616      True        1   True   \n",
       "s_04_e_21_shot_023164_023238   AURAZWWGQBQKW      True        1   True   \n",
       "s_04_e_23_shot_031636_031710   AJR1S4APF01FN      True        1   True   \n",
       "s_05_e_03_shot_042669_042743   AWDSIX3ULD32V      True        1   True   \n",
       "s_05_e_04_shot_010921_010995   AEBETUY5OD68H      True        1   True   \n",
       "s_05_e_06_shot_014509_014583   ASLY4WV7FCUDE      True        1   True   \n",
       "s_05_e_11_shot_026125_026199   ASKV5KO5CV616      True        1   True   \n",
       "s_06_e_01_shot_034298_034372   ATUR98N8W23Q3      True        1   True   \n",
       "s_06_e_02_shot_038302_038376   ATUR98N8W23Q3      True        1   True   \n",
       "s_06_e_05_shot_030026_030100   AVQND8233HQWK      True        1   True   \n",
       "s_06_e_09_shot_013497_013571   AWDSIX3ULD32V      True        1   True   \n",
       "s_06_e_10_shot_000119_000193   A9ALF1SODWQE5      True        1   True   \n",
       "s_06_e_16_shot_021208_021282   AJR1S4APF01FN      True        1   True   \n",
       "s_06_e_25_shot_022852_022926   AJR1S4APF01FN      True        1   True   \n",
       "\n",
       "                              nonmain_characters  \n",
       "aid                                               \n",
       "s_01_e_17_shot_012386_012460                   0  \n",
       "s_02_e_02_shot_023131_023205                   0  \n",
       "s_02_e_04_shot_003058_003132                   0  \n",
       "s_02_e_04_shot_032164_032238                   0  \n",
       "s_02_e_04_shot_041246_041320                   0  \n",
       "s_02_e_06_shot_005960_006034                   0  \n",
       "s_02_e_06_shot_038544_038618                   0  \n",
       "s_02_e_08_shot_000269_000343                   0  \n",
       "s_02_e_09_shot_029359_029433                   0  \n",
       "s_02_e_13_shot_033462_033536                   0  \n",
       "s_02_e_16_shot_002640_002714                   0  \n",
       "s_02_e_28_shot_022022_022096                   0  \n",
       "s_03_e_08_shot_016203_016277                   0  \n",
       "s_03_e_09_shot_013150_013224                   0  \n",
       "s_03_e_12_shot_035255_035329                   0  \n",
       "s_03_e_22_shot_000880_000954                   0  \n",
       "s_03_e_22_shot_033900_033974                   0  \n",
       "s_03_e_22_shot_044495_044569                   0  \n",
       "s_03_e_27_shot_024079_024153                   0  \n",
       "s_04_e_12_shot_028754_028828                   0  \n",
       "s_04_e_18_shot_001846_001920                   0  \n",
       "s_04_e_21_shot_023164_023238                   0  \n",
       "s_04_e_23_shot_031636_031710                   0  \n",
       "s_05_e_03_shot_042669_042743                   0  \n",
       "s_05_e_04_shot_010921_010995                   0  \n",
       "s_05_e_06_shot_014509_014583                   0  \n",
       "s_05_e_11_shot_026125_026199                   0  \n",
       "s_06_e_01_shot_034298_034372                   0  \n",
       "s_06_e_02_shot_038302_038376                   0  \n",
       "s_06_e_05_shot_030026_030100                   0  \n",
       "s_06_e_09_shot_013497_013571                   0  \n",
       "s_06_e_10_shot_000119_000193                   0  \n",
       "s_06_e_16_shot_021208_021282                   0  \n",
       "s_06_e_25_shot_022852_022926                   0  "
      ]
     },
     "execution_count": 765,
     "metadata": {},
     "output_type": "execute_result"
    }
   ],
   "source": [
    "grouped_by_aid.agg(max)[grouped_by_aid.agg(min)['empty'] == True]"
   ]
  },
  {
   "cell_type": "code",
   "execution_count": 767,
   "metadata": {
    "hidden": true,
    "run_control": {
     "frozen": false,
     "read_only": false
    }
   },
   "outputs": [
    {
     "data": {
      "text/plain": [
       "34"
      ]
     },
     "execution_count": 767,
     "metadata": {},
     "output_type": "execute_result"
    }
   ],
   "source": [
    "grouped_by_aid.agg(min)['empty'].sum()"
   ]
  },
  {
   "cell_type": "code",
   "execution_count": 667,
   "metadata": {
    "hidden": true,
    "run_control": {
     "frozen": false,
     "read_only": false
    }
   },
   "outputs": [
    {
     "data": {
      "text/plain": [
       "(700, 8)"
      ]
     },
     "execution_count": 667,
     "metadata": {},
     "output_type": "execute_result"
    }
   ],
   "source": [
    "grouped_by_aid.agg(max).shape"
   ]
  },
  {
   "cell_type": "code",
   "execution_count": null,
   "metadata": {
    "collapsed": true,
    "hidden": true,
    "run_control": {
     "frozen": false,
     "read_only": false
    }
   },
   "outputs": [],
   "source": []
  },
  {
   "cell_type": "markdown",
   "metadata": {
    "heading_collapsed": true,
    "hidden": true
   },
   "source": [
    "## building frames"
   ]
  },
  {
   "cell_type": "code",
   "execution_count": 18,
   "metadata": {
    "hidden": true,
    "run_control": {
     "frozen": false,
     "read_only": false
    }
   },
   "outputs": [
    {
     "name": "stdout",
     "output_type": "stream",
     "text": [
      "322 72 306\n"
     ]
    }
   ],
   "source": [
    "all_main_annotations_by_frame = {}\n",
    "no_main_annotations_by_frame = {}\n",
    "mixed_all_frames = {}\n",
    "\n",
    "\n",
    "for aid, annos in annotations_by_frame.items():\n",
    "    still_ids = [still['stillID'] for still in annos]\n",
    "    annos = [anno for anno in annos]\n",
    "    if len([sid for sid in still_ids if sid in all_agree_set]) == 9:\n",
    "        all_main_annotations_by_frame[aid] = annos\n",
    "    elif len([sid for sid in still_ids if sid in not_main]) == 9:\n",
    "        no_main_annotations_by_frame[aid] = annos\n",
    "    else: \n",
    "        mixed_all_frames[aid] = annos\n",
    "\n",
    "print(len(all_main_annotations_by_frame), len(no_main_annotations_by_frame), len(mixed_all_frames))"
   ]
  },
  {
   "cell_type": "markdown",
   "metadata": {},
   "source": [
    "# process subtask"
   ]
  },
  {
   "cell_type": "code",
   "execution_count": 120,
   "metadata": {},
   "outputs": [
    {
     "data": {
      "text/plain": [
       "{'characterBoxes': '[{\"left\":177,\"top\":78,\"width\":193,\"height\":324,\"label\":\"s_02_e_06_shot_006125_006199_char_0_taskb.png\"},{\"left\":828,\"top\":78,\"width\":199,\"height\":323,\"label\":\"s_02_e_06_shot_006125_006199_char_0_taskb.png\"}]',\n",
       " 'h_id': '3JTPR5MTZTCZPKX7EE019CX5MFV5KY',\n",
       " 'stillID': 's_02_e_06_shot_006125_006199_taskb.png',\n",
       " 'worker_id': 'A1MT1OXZGY8RJ2'}"
      ]
     },
     "execution_count": 120,
     "metadata": {},
     "output_type": "execute_result"
    }
   ],
   "source": [
    "subtask_results[0]"
   ]
  },
  {
   "cell_type": "code",
   "execution_count": 121,
   "metadata": {},
   "outputs": [],
   "source": [
    "subtask_assignments =[]\n",
    "for assignment_triple in list(subtask_data.values()):\n",
    "    subtask_assignments.extend(assignment_triple)\n",
    "\n",
    "subtask_results = [create_result(ar) for ar in subtask_assignments]\n",
    "characters_boxes = [{'h_id': anno['h_id'], 'w_id': anno['worker_id'], 'still_id': anno['stillID'], 'characters': set([ch['label'] for ch in json.loads(anno['characterBoxes'])])} for anno in subtask_results]"
   ]
  },
  {
   "cell_type": "code",
   "execution_count": 124,
   "metadata": {
    "collapsed": true
   },
   "outputs": [],
   "source": [
    "subtask_by_frame = defaultdict(list)\n",
    "for anno in sorted(subtask_results, key=lambda x: x['stillID']):\n",
    "    animation_id = anno['stillID'].rsplit('_', 1)[0]\n",
    "    subtask_by_frame[animation_id].append(anno)"
   ]
  },
  {
   "cell_type": "code",
   "execution_count": 146,
   "metadata": {},
   "outputs": [],
   "source": [
    "# for aid, animation_annos in list(subtask_by_frame.items())[:1]:\n",
    "#     three_frame_img, consensus_boxes, labels = draw_animation_seq(animation_annos, cluster_from_nms)"
   ]
  },
  {
   "cell_type": "code",
   "execution_count": 188,
   "metadata": {},
   "outputs": [],
   "source": []
  },
  {
   "cell_type": "code",
   "execution_count": 174,
   "metadata": {
    "collapsed": true
   },
   "outputs": [],
   "source": [
    "frame_origin = (0, 0)\n",
    "frame_size = (640, 480)\n",
    "frame_o2 = (640, 0)\n",
    "frame_ext = (1280, 480)"
   ]
  },
  {
   "cell_type": "code",
   "execution_count": 247,
   "metadata": {},
   "outputs": [
    {
     "data": {
      "text/plain": [
       "189"
      ]
     },
     "execution_count": 247,
     "metadata": {},
     "output_type": "execute_result"
    }
   ],
   "source": [
    "len(subtask_by_frame)"
   ]
  },
  {
   "cell_type": "code",
   "execution_count": 253,
   "metadata": {},
   "outputs": [
    {
     "name": "stderr",
     "output_type": "stream",
     "text": [
      " 21%|██        | 39/189 [00:41<02:57,  1.19s/it]"
     ]
    },
    {
     "name": "stdout",
     "output_type": "stream",
     "text": [
      "s_01_e_16_shot_029216_029290\n"
     ]
    },
    {
     "name": "stderr",
     "output_type": "stream",
     "text": [
      " 47%|████▋     | 89/189 [01:35<01:43,  1.03s/it]"
     ]
    },
    {
     "name": "stdout",
     "output_type": "stream",
     "text": [
      "s_02_e_08_shot_022319_022393\n"
     ]
    },
    {
     "name": "stderr",
     "output_type": "stream",
     "text": [
      " 50%|████▉     | 94/189 [01:38<01:20,  1.18it/s]"
     ]
    },
    {
     "name": "stdout",
     "output_type": "stream",
     "text": [
      "s_02_e_09_shot_013583_013657\n"
     ]
    },
    {
     "name": "stderr",
     "output_type": "stream",
     "text": [
      " 52%|█████▏    | 99/189 [01:41<01:19,  1.13it/s]"
     ]
    },
    {
     "name": "stdout",
     "output_type": "stream",
     "text": [
      "s_02_e_10_shot_031152_031226\n"
     ]
    },
    {
     "name": "stderr",
     "output_type": "stream",
     "text": [
      " 61%|██████    | 115/189 [01:58<01:24,  1.15s/it]"
     ]
    },
    {
     "name": "stdout",
     "output_type": "stream",
     "text": [
      "s_02_e_14_shot_040392_040466\n"
     ]
    },
    {
     "name": "stderr",
     "output_type": "stream",
     "text": [
      " 97%|█████████▋| 183/189 [03:10<00:07,  1.18s/it]"
     ]
    },
    {
     "name": "stdout",
     "output_type": "stream",
     "text": [
      "s_02_e_31_shot_030424_030498\n"
     ]
    },
    {
     "name": "stderr",
     "output_type": "stream",
     "text": [
      " 98%|█████████▊| 186/189 [03:12<00:02,  1.05it/s]"
     ]
    },
    {
     "name": "stdout",
     "output_type": "stream",
     "text": [
      "s_02_e_32_shot_005258_005332\n"
     ]
    },
    {
     "name": "stderr",
     "output_type": "stream",
     "text": [
      "100%|██████████| 189/189 [03:13<00:00,  1.29it/s]\n"
     ]
    }
   ],
   "source": [
    "subtask_rev_seq = []\n",
    "for aid, animation_annos in tqdm(list(subtask_by_frame.items())):\n",
    "    try:\n",
    "        middle_frame_annos = annotations_by_frame[aid][3:6]\n",
    "        full_original_annos = annotations_by_frame[aid]\n",
    "        two_frame_image, con_boxes, labels = draw_image_and_labels(animation_annos, cluster_from_nms, 1, 3, './subtask_data/frames/')\n",
    "        three_frame_img, consensus_boxes, labels_orig = draw_animation_seq(full_original_annos, cluster_from_nms)\n",
    "        single_frame_image, single_con_boxes, labels = draw_image_and_labels(middle_frame_annos, cluster_from_nms, 1, 3)\n",
    "        left_image = two_frame_image.crop(frame_origin + frame_size)\n",
    "        right_image = two_frame_image.crop(frame_o2 + frame_ext)\n",
    "        imgs_comb = Image.fromarray(np.hstack([left_image, single_frame_image, right_image]))\n",
    "        o_img_path = os.path.join(img_dir, aid) + '_rev.png'\n",
    "        new_img_path = os.path.join(img_dir, aid) + 'subtask_rev.png'\n",
    "        three_frame_img.save(os.path.join(rev_dir, o_img_path))\n",
    "        imgs_comb.save(os.path.join(rev_dir, new_img_path))\n",
    "        subtask_rev_seq.append((aid, o_img_path, new_img_path))\n",
    "    except:\n",
    "        print(aid)"
   ]
  },
  {
   "cell_type": "code",
   "execution_count": 254,
   "metadata": {
    "collapsed": true
   },
   "outputs": [],
   "source": [
    "page_html = generate_subtask_review(subtask_rev_seq)"
   ]
  },
  {
   "cell_type": "markdown",
   "metadata": {
    "heading_collapsed": true
   },
   "source": [
    "# bounding box clustering"
   ]
  },
  {
   "cell_type": "code",
   "execution_count": 19,
   "metadata": {
    "collapsed": true,
    "hidden": true,
    "run_control": {
     "frozen": false,
     "read_only": false
    }
   },
   "outputs": [],
   "source": [
    "rev_dir = 'review_results'\n",
    "img_dir = 'review_frames'"
   ]
  },
  {
   "cell_type": "code",
   "execution_count": 20,
   "metadata": {
    "hidden": true,
    "run_control": {
     "frozen": false,
     "read_only": false
    }
   },
   "outputs": [
    {
     "data": {
      "text/plain": [
       "700"
      ]
     },
     "execution_count": 20,
     "metadata": {},
     "output_type": "execute_result"
    }
   ],
   "source": [
    "len(annotations_by_frame)"
   ]
  },
  {
   "cell_type": "code",
   "execution_count": 50,
   "metadata": {
    "hidden": true,
    "run_control": {
     "frozen": false,
     "read_only": false
    },
    "scrolled": true
   },
   "outputs": [
    {
     "name": "stderr",
     "output_type": "stream",
     "text": [
      "100%|██████████| 50/50 [00:24<00:00,  2.10it/s]\n"
     ]
    }
   ],
   "source": [
    "review_seq = {}\n",
    "error_frames = []\n",
    "for aid, animation_annos in tqdm(list(annotations_by_frame.items())[:]):\n",
    "    try:\n",
    "        three_frame_img, consensus_boxes, labels = draw_animation_seq(animation_annos, cluster_from_nms)\n",
    "        avg_votes = np.mean([box['votes'] for frame in consensus_boxes for box in frame])\n",
    "        possible_labels = [c['possible_labels'] for c in sorted(labels, key=lambda x: x['box'][0])]\n",
    "        chosen_labels = [c['chosen_labels'] for c in sorted(labels, key=lambda x: x['box'][0])]\n",
    "        review_seq[aid] = {'votes': avg_votes, 'possible_labels': possible_labels, 'chosen_labels': chosen_labels}\n",
    "        img_path = os.path.join(rev_dir, img_dir, aid) + '_rev.png'\n",
    "        three_frame_img.save(img_path)\n",
    "    except:\n",
    "        error_frames.append(aid)\n",
    "\n",
    "rev_page = generate_review_page('bbox_review_new_8_7_small.html')"
   ]
  },
  {
   "cell_type": "code",
   "execution_count": null,
   "metadata": {
    "collapsed": true,
    "hidden": true,
    "run_control": {
     "frozen": false,
     "read_only": false
    }
   },
   "outputs": [],
   "source": []
  },
  {
   "cell_type": "code",
   "execution_count": 111,
   "metadata": {
    "hidden": true
   },
   "outputs": [
    {
     "name": "stderr",
     "output_type": "stream",
     "text": [
      "100%|██████████| 200/200 [01:31<00:00,  2.79it/s]\n"
     ]
    }
   ],
   "source": [
    "subtask_stills = {}\n",
    "for aid, animation_annos in tqdm(list(annotations_by_frame.items())[0:200]):\n",
    "    two_frame_img, char_crops = create_subtask_data(animation_annos, cluster_from_nms)\n",
    "    if char_crops:\n",
    "        two_frame_img.save('./subtask_data/frames/' + aid + '_taskb.png')\n",
    "        n_chars = len([char_image.save('./subtask_data/char_crops/' + aid + '_char_' + str(charn) +'_taskb.png') for charn, char_image in enumerate(char_crops)])\n",
    "        subtask_stills[aid + '_taskb.png'] = n_chars"
   ]
  },
  {
   "cell_type": "code",
   "execution_count": 112,
   "metadata": {
    "collapsed": true,
    "hidden": true
   },
   "outputs": [],
   "source": [
    "pickle_this(subtask_stills, 'subtask_stills_to_anno.pkl')"
   ]
  },
  {
   "cell_type": "code",
   "execution_count": 77,
   "metadata": {
    "collapsed": true,
    "hidden": true
   },
   "outputs": [],
   "source": [
    "def crop_character_box(img, char):\n",
    "    crop = img.crop(char['box'])\n",
    "    return crop"
   ]
  },
  {
   "cell_type": "markdown",
   "metadata": {
    "collapsed": true,
    "heading_collapsed": true,
    "hidden": true,
    "run_control": {
     "frozen": false,
     "read_only": false
    }
   },
   "source": [
    "## debug"
   ]
  },
  {
   "cell_type": "code",
   "execution_count": null,
   "metadata": {
    "collapsed": true,
    "hidden": true,
    "run_control": {
     "frozen": false,
     "read_only": false
    }
   },
   "outputs": [],
   "source": [
    "# review_seq = {}\n",
    "# error_frames = []\n",
    "# n = 0\n",
    "# for aid, animation_annos in list(debug_sample.items()):\n",
    "#     print(aid)\n",
    "# #     try:\n",
    "#     three_frame_img, consensus_boxes = draw_animation_seq(animation_annos, cluster_from_nms)\n",
    "#     avg_votes = np.mean([box['votes'] for frame in consensus_boxes for box in frame])\n",
    "#     possible_labels = [c['possible_labels'] for c in sorted(labels, key=lambda x: x['box'][0])]\n",
    "#     chosen_labels = [c['chosen_labels'] for c in sorted(labels, key=lambda x: x['box'][0])]\n",
    "#     review_seq[aid] = {'votes': avg_votes, 'possible_labels': possible_labels, 'chosen_labels': chosen_labels}\n",
    "#     img_path = os.path.join(rev_dir, img_dir, aid) + '_rev.png'\n",
    "#     three_frame_img.save(img_path)\n",
    "# #     except IndexError:\n",
    "# #         error_frames.append(aid)\n",
    "\n",
    "# rev_page = generate_review_page('bbox_review_new_8_7_debug.html')\n",
    "# rev_page = rev_page.replace('review_frames', 'review_results/review_frames').replace('.png', '.png?arg' + str(random.randint(0, 100000000)))\n",
    "# HTML(rev_page)"
   ]
  },
  {
   "cell_type": "code",
   "execution_count": 23,
   "metadata": {
    "hidden": true,
    "run_control": {
     "frozen": false,
     "read_only": false
    }
   },
   "outputs": [
    {
     "data": {
      "text/plain": [
       "1.4589501669744"
      ]
     },
     "execution_count": 23,
     "metadata": {},
     "output_type": "execute_result"
    }
   ],
   "source": [
    "0.911843854359 * 1.6"
   ]
  },
  {
   "cell_type": "code",
   "execution_count": null,
   "metadata": {
    "collapsed": true,
    "hidden": true,
    "run_control": {
     "frozen": false,
     "read_only": false
    }
   },
   "outputs": [],
   "source": []
  },
  {
   "cell_type": "code",
   "execution_count": 29,
   "metadata": {
    "collapsed": true,
    "hidden": true,
    "run_control": {
     "frozen": false,
     "read_only": false
    }
   },
   "outputs": [],
   "source": [
    "debug_clips = ['s_01_e_06_shot_020535_020609', 's_01_e_05_shot_009896_009970', 's_01_e_06_shot_025311_025385', 's_01_e_07_shot_014729_014803', 's_01_e_06_shot_032983_033057']\n",
    "debug_clips = ['s_01_e_04_shot_016588_016662', 's_01_e_05_shot_009896_009970', 's_01_e_06_shot_020535_020609', 's_01_e_01_shot_022792_022866']\n",
    "debug_clips = ['s_01_e_06_shot_020535_020609']\n",
    "debug_clips += ['s_01_e_01_shot_022792_022866']\n",
    "debug_clips += ['s_01_e_05_shot_002673_002747']\n",
    "debug_clips += ['s_01_e_06_shot_007192_007266']\n",
    "debug_clips += ['s_01_e_05_shot_004222_004296']\n",
    "\n",
    "debug_sample = {debug_clip: annotations_by_frame[debug_clip] for debug_clip in debug_clips}"
   ]
  },
  {
   "cell_type": "code",
   "execution_count": 30,
   "metadata": {
    "collapsed": true,
    "hidden": true,
    "run_control": {
     "frozen": false,
     "read_only": false
    }
   },
   "outputs": [],
   "source": [
    "error_clip = list(annotations_by_frame.values())[0]\n",
    "\n",
    "three_frames = [s3_base_path + error_clip[i]['stillID'] for i in [0, 6]]\n",
    "imgs_comb = np.hstack([Image.open(requests.get(image_url, stream=True).raw) for image_url in three_frames])\n",
    "test_image = Image.fromarray(imgs_comb)"
   ]
  },
  {
   "cell_type": "code",
   "execution_count": 26,
   "metadata": {
    "hidden": true,
    "run_control": {
     "frozen": false,
     "read_only": false
    }
   },
   "outputs": [
    {
     "ename": "NameError",
     "evalue": "name 'test_image' is not defined",
     "output_type": "error",
     "traceback": [
      "\u001b[0;31m---------------------------------------------------------------------------\u001b[0m",
      "\u001b[0;31mNameError\u001b[0m                                 Traceback (most recent call last)",
      "\u001b[0;32m<ipython-input-26-e96abd8a6ff0>\u001b[0m in \u001b[0;36m<module>\u001b[0;34m()\u001b[0m\n\u001b[0;32m----> 1\u001b[0;31m \u001b[0mtest_image\u001b[0m\u001b[0;34m.\u001b[0m\u001b[0msize\u001b[0m\u001b[0;34m\u001b[0m\u001b[0m\n\u001b[0m",
      "\u001b[0;31mNameError\u001b[0m: name 'test_image' is not defined"
     ]
    }
   ],
   "source": [
    "test_image.size"
   ]
  },
  {
   "cell_type": "code",
   "execution_count": 996,
   "metadata": {
    "hidden": true,
    "run_control": {
     "frozen": false,
     "read_only": false
    }
   },
   "outputs": [
    {
     "data": {
      "text/plain": [
       "[]"
      ]
     },
     "execution_count": 996,
     "metadata": {},
     "output_type": "execute_result"
    }
   ],
   "source": [
    "annotations_by_frame['s_01_e_19_shot_025542_025616']"
   ]
  },
  {
   "cell_type": "code",
   "execution_count": null,
   "metadata": {
    "collapsed": true,
    "hidden": true,
    "run_control": {
     "frozen": false,
     "read_only": false
    }
   },
   "outputs": [],
   "source": []
  },
  {
   "cell_type": "code",
   "execution_count": null,
   "metadata": {
    "collapsed": true,
    "hidden": true,
    "run_control": {
     "frozen": false,
     "read_only": false
    }
   },
   "outputs": [],
   "source": []
  },
  {
   "cell_type": "code",
   "execution_count": null,
   "metadata": {
    "collapsed": true,
    "hidden": true,
    "run_control": {
     "frozen": false,
     "read_only": false
    }
   },
   "outputs": [],
   "source": []
  },
  {
   "cell_type": "code",
   "execution_count": null,
   "metadata": {
    "collapsed": true,
    "hidden": true,
    "run_control": {
     "frozen": false,
     "read_only": false
    }
   },
   "outputs": [],
   "source": []
  },
  {
   "cell_type": "markdown",
   "metadata": {
    "heading_collapsed": true
   },
   "source": [
    "# bonus cost estimate"
   ]
  },
  {
   "cell_type": "code",
   "execution_count": 197,
   "metadata": {
    "collapsed": true,
    "hidden": true,
    "run_control": {
     "frozen": false,
     "read_only": false
    }
   },
   "outputs": [],
   "source": [
    "main_characters = [\n",
    "    \"Fred\",\n",
    "    \"Wilma\",\n",
    "    \"Mr Slate\",\n",
    "    \"Barney\",\n",
    "    \"Betty\",\n",
    "    \"Pebbles\",\n",
    "    \"Dino\",\n",
    "    \"Baby Puss\",\n",
    "    \"Hoppy\",\n",
    "    \"Bamm Bamm\",\n",
    "]\n",
    "\n",
    "empty_characters = ['no characters', 'empty frame']\n",
    "main_characters += empty_characters\n",
    "main_characters = [char.lower() for char in main_characters]"
   ]
  },
  {
   "cell_type": "code",
   "execution_count": 183,
   "metadata": {
    "collapsed": true,
    "hidden": true,
    "run_control": {
     "frozen": false,
     "read_only": false
    }
   },
   "outputs": [],
   "source": [
    "frame_cost = 0\n",
    "bonus_cost = 0\n",
    "for anno in list(review_seq.values()):\n",
    "    frame_cost += 0.05 * 3\n",
    "#     print(anno)\n",
    "    bonus_cost += len([char for char in anno['chosen_labels'] if char not in main_characters]) * 0.03"
   ]
  },
  {
   "cell_type": "code",
   "execution_count": 184,
   "metadata": {
    "hidden": true,
    "run_control": {
     "frozen": false,
     "read_only": false
    }
   },
   "outputs": [
    {
     "name": "stdout",
     "output_type": "stream",
     "text": [
      "80.25000000000018 3.659999999999995\n"
     ]
    },
    {
     "data": {
      "text/plain": [
       "83.91000000000018"
      ]
     },
     "execution_count": 184,
     "metadata": {},
     "output_type": "execute_result"
    }
   ],
   "source": [
    "print(frame_cost, bonus_cost)\n",
    "frame_cost + bonus_cost"
   ]
  },
  {
   "cell_type": "code",
   "execution_count": 200,
   "metadata": {
    "collapsed": true,
    "hidden": true,
    "run_control": {
     "frozen": false,
     "read_only": false
    }
   },
   "outputs": [],
   "source": [
    "frame_count = []\n",
    "for anno in list(review_seq.values()):\n",
    "    frame_count += len([char for char in anno['chosen_labels'] if char not in empty_characters])"
   ]
  },
  {
   "cell_type": "code",
   "execution_count": 201,
   "metadata": {
    "hidden": true,
    "run_control": {
     "frozen": false,
     "read_only": false
    }
   },
   "outputs": [
    {
     "data": {
      "text/plain": [
       "787"
      ]
     },
     "execution_count": 201,
     "metadata": {},
     "output_type": "execute_result"
    }
   ],
   "source": [
    "frame_count"
   ]
  },
  {
   "cell_type": "markdown",
   "metadata": {},
   "source": [
    "# HTML Review"
   ]
  },
  {
   "cell_type": "code",
   "execution_count": 241,
   "metadata": {
    "code_folding": [],
    "collapsed": true,
    "run_control": {
     "frozen": false,
     "read_only": false
    }
   },
   "outputs": [],
   "source": [
    "review_page_html = \"\"\"\n",
    "<!DOCTYPE html>\n",
    "<html>\n",
    "  <head>\n",
    "    <style type=\"text/css\">\n",
    "       .container {\n",
    "          }\n",
    "    </style>\n",
    "  </head>\n",
    "  <body style=max-width: 100px>\n",
    "    <div class=\"container\">\n",
    "      <ul>\n",
    "        {% for clip in clips %}\n",
    "        <h2>clip: {{clip[0]}}</h2>\n",
    "        <h3>score: {{clip[2]}}      rank: {{clip[3]}}</h3>\n",
    "        <p>{{clip[1]}}</p>\n",
    "        <p>{{clip[4]}}</p>\n",
    "        <p>{{clip[5]}}</p>\n",
    "        {% endfor %}\n",
    "      </ul>\n",
    "    </div>\n",
    "    <script src=\"http://code.jquery.com/jquery-1.10.2.min.js\"></script>\n",
    "    <script src=\"http://netdna.bootstrapcdn.com/bootstrap/3.0.0/js/bootstrap.min.js\"></script>\n",
    "  </body>\n",
    "</html>\n",
    "\"\"\"\n",
    "\n",
    "\n",
    "review_subtask_comp = \"\"\"\n",
    "<!DOCTYPE html>\n",
    "<html>\n",
    "  <head>\n",
    "    <style type=\"text/css\">\n",
    "       .container {\n",
    "          }\n",
    "    </style>\n",
    "  </head>\n",
    "  <body style=max-width: 100px>\n",
    "    <div class=\"container\">\n",
    "      <ul>\n",
    "        {% for clip in clips %}\n",
    "        <h2>clip: {{clip[0]}}</h2>\n",
    "        <h4>original 3 frames:</h4>\n",
    "        <p>{{clip[1]}}</p>\n",
    "        <h4>new frames + original middle:</h4>\n",
    "        <p>{{clip[2]}}</p>\n",
    "        {% endfor %}\n",
    "      </ul>\n",
    "    </div>\n",
    "    <script src=\"http://code.jquery.com/jquery-1.10.2.min.js\"></script>\n",
    "    <script src=\"http://netdna.bootstrapcdn.com/bootstrap/3.0.0/js/bootstrap.min.js\"></script>\n",
    "  </body>\n",
    "</html>\n",
    "\"\"\""
   ]
  },
  {
   "cell_type": "code",
   "execution_count": 255,
   "metadata": {
    "code_folding": [
     14
    ],
    "collapsed": true,
    "run_control": {
     "frozen": false,
     "read_only": false
    }
   },
   "outputs": [],
   "source": [
    "s3_base_path = 'https://s3-us-west-2.amazonaws.com/ai2-vision-animation-gan/annotation_data/still_frames/'\n",
    "\n",
    "\n",
    "def make_uri(clip_id, s3_base='review_frames', file_ext='_rev.png'):\n",
    "    s3_uri = s3_base + clip_id + file_ext\n",
    "    image_tag = '<img src=\"' + s3_uri +'\" width=800px>'\n",
    "    return image_tag\n",
    "\n",
    "def make_comp_uri(clip_id, s3_base=s3_base_path):\n",
    "    s3_uri = s3_base + clip_id\n",
    "    image_tag = '<img src=\"' + s3_uri +'\" width=800px>'\n",
    "    return image_tag\n",
    "\n",
    "\n",
    "def generate_review_page(out_page='bbox_review.html'):\n",
    "    images_sorted_by_conf = [make_uri(img[0]) for img in sorted(review_seq.items(), key=lambda x: x[1]['votes'])]\n",
    "    sorted_clip_ids = [img[0] for img in sorted(review_seq.items(), key=lambda x: x[1]['votes'])]\n",
    "    votes = [img[1]['votes'] for img in sorted(review_seq.items(), key=lambda x: x[1]['votes'])]\n",
    "    chosen_labels = [img[1]['chosen_labels'] for img in sorted(review_seq.items(), key=lambda x: x[1]['votes'])]\n",
    "    possible_labels = [img[1]['possible_labels'] for img in sorted(review_seq.items(), key=lambda x: x[1]['votes'])]\n",
    "    \n",
    "    send_to_template = zip(sorted_clip_ids, images_sorted_by_conf, votes, range(1, len(votes) + 1)[::-1], chosen_labels, possible_labels)\n",
    "    env = Environment()\n",
    "    template =  j2env.from_string(review_page_html)\n",
    "    html_dir = './review_results/' \n",
    "    html_out_file = os.path.join(html_dir, out_page)\n",
    "    if not os.path.exists(html_dir):\n",
    "        os.makedirs(html_dir)\n",
    "    page_html =  template.render(clips = send_to_template)\n",
    "    \n",
    "    with open(html_out_file, 'w') as f:\n",
    "        f.write(page_html.encode('ascii', 'ignore').decode('utf-8'))\n",
    "    return page_html\n",
    "\n",
    "\n",
    "def generate_subtask_review(rev_seq, out_page='review_subtask_comp.html'):\n",
    "    env = Environment()\n",
    "    rev_seq = [(rev[0], make_comp_uri(rev[1]), make_comp_uri(rev[2])) for rev in rev_seq]\n",
    "    template =  j2env.from_string(review_subtask_comp)\n",
    "    html_dir = './review_results/' \n",
    "    html_out_file = os.path.join(html_dir, out_page)\n",
    "    if not os.path.exists(html_dir):\n",
    "        os.makedirs(html_dir)\n",
    "    page_html =  template.render(clips = rev_seq)\n",
    "    \n",
    "    with open(html_out_file, 'w') as f:\n",
    "        f.write(page_html.encode('ascii', 'ignore').decode('utf-8'))\n",
    "        \n",
    "    return page_html"
   ]
  },
  {
   "cell_type": "code",
   "execution_count": 256,
   "metadata": {
    "run_control": {
     "frozen": false,
     "read_only": false
    }
   },
   "outputs": [],
   "source": [
    "page_html = generate_subtask_review(subtask_rev_seq)"
   ]
  },
  {
   "cell_type": "markdown",
   "metadata": {
    "collapsed": true,
    "heading_collapsed": true,
    "run_control": {
     "frozen": false,
     "read_only": false
    }
   },
   "source": [
    "# hide"
   ]
  },
  {
   "cell_type": "code",
   "execution_count": null,
   "metadata": {
    "collapsed": true,
    "hidden": true,
    "run_control": {
     "frozen": false,
     "read_only": false
    }
   },
   "outputs": [],
   "source": [
    "vote_series = pd.Series([vote for vote in review_seq.values()])"
   ]
  },
  {
   "cell_type": "code",
   "execution_count": 13,
   "metadata": {
    "collapsed": true,
    "hidden": true,
    "run_control": {
     "frozen": false,
     "read_only": false
    }
   },
   "outputs": [],
   "source": [
    "# assignments =[]\n",
    "# for assignment_triple in list(results.values()):\n",
    "#     assignments.extend(assignment_triple)\n",
    "\n",
    "# assignment_results = [create_result(ar) for ar in assignments]\n",
    "\n",
    "# characters_present = [{'h_id': anno['h_id'], 'w_id': anno['worker_id'], 'still_id': anno['stillID'], 'characters': set([ch['label'] for ch in json.loads(anno['characterBoxes'])])} for anno in assignment_results]\n",
    "\n",
    "# main_characters =  {\"fred\",\n",
    "#              \"barney\",\n",
    "#               \"wilma\",\n",
    "#               \"betty\",\n",
    "#               \"pebbles\",\n",
    "#               \"bamm bamm\",\n",
    "#               \"dino\",\n",
    "#               \"mr slate\",\n",
    "#               \"baby puss\",\n",
    "#               \"hoppy\",\n",
    "#               \"no characters\"}\n",
    "\n",
    "# def all_main(char_set, main_chars=main_characters):\n",
    "#     return not bool(char_set.difference(main_chars))\n",
    "\n",
    "# char_df = pd.DataFrame(characters_present)\n",
    "\n",
    "# char_df['all_main'] = char_df['characters'].apply(lambda x: all_main(x))\n",
    "\n",
    "# all_chars = [c for char_list in char_df['characters'].apply(lambda x: list(x)).tolist() for c in char_list]\n",
    "# char_counts = pd.Series(all_chars).value_counts()\n",
    "\n",
    "# # char_counts.hist(bins = 30, log=True)\n",
    "\n",
    "# char_df['n_chars'] = char_df['characters'].apply(lambda x: len(x))\n",
    "\n",
    "# prolific_workers = char_df['w_id'].value_counts().index.tolist()[:5]\n",
    "\n",
    "# grouped_by_still = char_df.groupby('still_id')\n",
    "\n",
    "# agg_df = grouped_by_still.aggregate(len)\n",
    "\n",
    "# import scipy\n",
    "\n",
    "# agged_on_mode = grouped_by_still.agg(lambda x: scipy.stats.mode(x))\n",
    "# consensus_results_df = agged_on_mode.reset_index()\n",
    "\n",
    "# consensus_results_df['count_mode'] = consensus_results_df['n_chars'].apply(lambda x: x[1][0])\n",
    "\n",
    "# consensus_results_df\n",
    "\n",
    "# consensus_results_df['mode_count'] = consensus_results_df['characters'].apply(lambda x: x[1][0])\n",
    "\n",
    "# consensus_results_df['all_agree'] = consensus_results_df['count_mode'] == 3\n",
    "# consensus_results_df['two_agree'] = consensus_results_df['count_mode'] == 2"
   ]
  },
  {
   "cell_type": "code",
   "execution_count": 14,
   "metadata": {
    "collapsed": true,
    "hidden": true,
    "run_control": {
     "frozen": false,
     "read_only": false
    }
   },
   "outputs": [],
   "source": [
    "# char_count_df = consensus_results_df[consensus_results_df['count_mode'] == 3]\n",
    "\n",
    "# # consensus_results_df[agree_all_main]['characters'].apply(lambda x: x[1][0]).value_counts()\n",
    "\n",
    "# not_main =set(consensus_results_df[~agree_all_main]['still_id'].tolist())\n",
    "\n",
    "# not_main_df = char_df[char_df['still_id'].isin(not_main)]\n",
    "\n",
    "# consensus_results_df.head(1)\n",
    "\n",
    "# agree_all_main = consensus_results_df['all_main'].apply(lambda x: x[1][0]) == 3 \n",
    "\n",
    "# all_agree = consensus_results_df[agree_all_main][consensus_results_df[agree_all_main]['all_agree']]\n",
    "# disagree = consensus_results_df[agree_all_main][~consensus_results_df[agree_all_main]['all_agree']]\n",
    "\n",
    "\n",
    "\n",
    "\n",
    "\n",
    "\n",
    "\n",
    "# all_agree_set = set(all_agree['still_id'].tolist())\n",
    "\n",
    "# count_all_agree_set = set(consensus_results_df[consensus_results_df['count_mode'] == 3]['still_id'].tolist())\n",
    "# count_two_agree_set = set(consensus_results_df[consensus_results_df['count_mode'] == 2]['still_id'].tolist())\n",
    "# count_none_agree_set = set(consensus_results_df[consensus_results_df['count_mode'] == 1]['still_id'].tolist())\n",
    "\n",
    "# conflict_images = set(disagree['still_id'].tolist())\n",
    "\n",
    "# conflict_df = char_df[char_df['still_id'].isin(conflict_images)]\n",
    "\n",
    "# import PIL.Image as Image\n",
    "# import requests\n",
    "\n",
    "# image_n = 10\n",
    "\n",
    "# consensus_results_df.iloc[image_n * 9: image_n * 9 + 3]\n",
    "\n",
    "# s3_base_path = 'https://s3-us-west-2.amazonaws.com/ai2-vision-animation-gan/annotation_data/still_frames/'\n",
    "\n",
    "# image_url = s3_base_path + consensus_results_df['still_id'].iloc[image_n *  9]\n",
    "# Image.open(requests.get(image_url, stream=True).raw)"
   ]
  },
  {
   "cell_type": "code",
   "execution_count": null,
   "metadata": {
    "collapsed": true,
    "hidden": true,
    "run_control": {
     "frozen": false,
     "read_only": false
    }
   },
   "outputs": [],
   "source": []
  }
 ],
 "metadata": {
  "kernelspec": {
   "display_name": "Python 3",
   "language": "python",
   "name": "python3"
  },
  "language_info": {
   "codemirror_mode": {
    "name": "ipython",
    "version": 3
   },
   "file_extension": ".py",
   "mimetype": "text/x-python",
   "name": "python",
   "nbconvert_exporter": "python",
   "pygments_lexer": "ipython3",
   "version": "3.6.2"
  }
 },
 "nbformat": 4,
 "nbformat_minor": 1
}

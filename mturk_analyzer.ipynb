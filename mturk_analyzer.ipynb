{
 "cells": [
  {
   "cell_type": "markdown",
   "metadata": {
    "heading_collapsed": true
   },
   "source": [
    "# Table of Contents\n",
    "* [load data](#load-data)\n",
    "* [process data](#process-data)\n",
    "\t* [bonuses](#bonuses)\n",
    "\t* [frame build](#frame-build)\n",
    "\t* [analysis](#analysis)\n",
    "\t* [building frames](#building-frames)\n",
    "* [bounding box clustering](#bounding-box-clustering)\n",
    "* [bonus cost estimate](#bonus-cost-estimate)\n",
    "* [HTML Review](#HTML-Review)\n",
    "* [hide](#hide)\n"
   ]
  },
  {
   "cell_type": "code",
   "execution_count": 16,
   "metadata": {
    "hidden": true,
    "run_control": {
     "frozen": false,
     "read_only": false
    }
   },
   "outputs": [],
   "source": [
    "%%capture\n",
    "from __future__ import division\n",
    "import numpy as np\n",
    "import pandas as pd\n",
    "import scipy.stats as st\n",
    "import itertools\n",
    "import math\n",
    "from collections import Counter, defaultdict\n",
    "%load_ext autoreload\n",
    "%autoreload 2\n",
    "\n",
    "import matplotlib as mpl\n",
    "mpl.use(\"Agg\")\n",
    "import matplotlib.pylab as plt\n",
    "#%matplotlib notebook\n",
    "%matplotlib inline\n",
    "%load_ext base16_mplrc\n",
    "%base16_mplrc light default\n",
    "plt.rcParams['figure.figsize'] = (16.0, 10.0)\n",
    "\n",
    "import re\n",
    "import pickle\n",
    "import boto\n",
    "from copy import deepcopy\n",
    "import json\n",
    "import os\n",
    "import random\n",
    "import jinja2\n",
    "from tqdm import tqdm\n",
    "from IPython.core.display import HTML\n",
    "\n",
    "import PIL.Image as Image\n",
    "import requests\n",
    "\n",
    "from boto.mturk.qualification import PercentAssignmentsApprovedRequirement, Qualifications, Requirement\n",
    "\n",
    "from keysTkingdom import mturk_ai2\n",
    "from keysTkingdom import aws_tokes\n",
    "from keysTkingdom import mturk_aristo\n",
    "\n",
    "from amt_utils.mturk import pickle_this, unpickle_this\n",
    "\n",
    "import os\n",
    "import jinja2\n",
    "import argparse\n",
    "from jinja2 import Environment, FileSystemLoader\n",
    "\n",
    "j2env = jinja2.Environment()\n",
    "\n",
    "from amt_utils.bboxes import cluster_from_nms\n",
    "from amt_utils.bboxes import draw_animation_seq\n",
    "from amt_utils.bboxes import cluster_from_annos\n",
    "from amt_utils.bboxes import create_subtask_data\n",
    "from amt_utils.bboxes import draw_image_and_labels\n",
    "import warnings\n",
    "warnings.filterwarnings('ignore')"
   ]
  },
  {
   "cell_type": "markdown",
   "metadata": {},
   "source": [
    "# load and basic processing"
   ]
  },
  {
   "cell_type": "code",
   "execution_count": 3,
   "metadata": {},
   "outputs": [],
   "source": [
    "prod_batch_2 = unpickle_this('prod_batch_2_10_11.pkl')"
   ]
  },
  {
   "cell_type": "code",
   "execution_count": 19,
   "metadata": {
    "code_folding": [],
    "run_control": {
     "frozen": false,
     "read_only": false
    }
   },
   "outputs": [],
   "source": [
    "main_characters =  {\"fred\",\n",
    "             \"barney\",\n",
    "              \"wilma\",\n",
    "              \"betty\",\n",
    "              \"pebbles\",\n",
    "              \"bamm bamm\",\n",
    "              \"dino\",\n",
    "              \"mr slate\",\n",
    "              \"baby puss\",\n",
    "              \"hoppy\",\n",
    "              \"empty frame\",\n",
    "              \"no characters\"}\n",
    "\n",
    "def create_result(assmt):\n",
    "    result = json.loads(assmt.answers[0][0].fields[0])\n",
    "    result['h_id'] = assmt.HITId\n",
    "    result['worker_id'] = assmt.WorkerId\n",
    "    return result\n",
    "\n",
    "\n",
    "def all_main(char_set, main_chars=main_characters):\n",
    "    return not bool(char_set.difference(main_chars))"
   ]
  },
  {
   "cell_type": "code",
   "execution_count": 20,
   "metadata": {
    "run_control": {
     "frozen": false,
     "read_only": false
    }
   },
   "outputs": [],
   "source": [
    "assignments =[]\n",
    "for assignment_triple in list(prod_batch_2.values()):\n",
    "    assignments.extend(assignment_triple)\n",
    "\n",
    "assignment_results = [create_result(ar) for ar in assignments]\n",
    "characters_present = [{'h_id': anno['h_id'], 'w_id': anno['worker_id'], 'still_id': anno['stillID'], 'characters': set([ch['label'] for ch in json.loads(anno['characterBoxes'])])} for anno in assignment_results]"
   ]
  },
  {
   "cell_type": "code",
   "execution_count": 21,
   "metadata": {
    "run_control": {
     "frozen": false,
     "read_only": false
    }
   },
   "outputs": [
    {
     "data": {
      "text/plain": [
       "29823"
      ]
     },
     "execution_count": 21,
     "metadata": {},
     "output_type": "execute_result"
    }
   ],
   "source": [
    "len(assignments) "
   ]
  },
  {
   "cell_type": "code",
   "execution_count": 22,
   "metadata": {
    "run_control": {
     "frozen": false,
     "read_only": false
    }
   },
   "outputs": [],
   "source": [
    "annotations_by_frame = defaultdict(list)\n",
    "for anno in sorted(assignment_results, key=lambda x: x['stillID']):\n",
    "    animation_id = anno['stillID'].rsplit('_', 1)[0]\n",
    "    annotations_by_frame[animation_id].append(anno)"
   ]
  },
  {
   "cell_type": "markdown",
   "metadata": {
    "heading_collapsed": true
   },
   "source": [
    "## bonuses"
   ]
  },
  {
   "cell_type": "code",
   "execution_count": 35,
   "metadata": {
    "collapsed": true,
    "hidden": true,
    "run_control": {
     "frozen": false,
     "read_only": false
    }
   },
   "outputs": [],
   "source": [
    "reject_variations = {\n",
    "    \"otherchar\",\n",
    "    \"0ther\",\n",
    "    \"schwenk\",\n",
    "}"
   ]
  },
  {
   "cell_type": "code",
   "execution_count": 36,
   "metadata": {
    "collapsed": true,
    "hidden": true,
    "run_control": {
     "frozen": false,
     "read_only": false
    }
   },
   "outputs": [],
   "source": [
    "def filter_rejects(chars):\n",
    "    genuine_bonus = []\n",
    "    reject = []\n",
    "    for char in chars:\n",
    "        comp_string = ''.join(c for c in char if c.isalnum()).lower()\n",
    "        reject_chars = [char for var in reject_variations if var in char.replace(' ','')]\n",
    "        if reject_chars or len(char.replace(' ','')) < 3:\n",
    "            reject.extend(reject_chars)\n",
    "        else:\n",
    "            genuine_bonus.append(char)\n",
    "    return reject, genuine_bonus\n",
    "\n",
    "def assign_bonuses(assignments):\n",
    "    bonuses = {}\n",
    "    rejections = {}\n",
    "    worker_lookup = {}\n",
    "    all_descriptions = []\n",
    "    for asgmt in assignments:\n",
    "        aid = asgmt.AssignmentId\n",
    "        worker_id = asgmt.WorkerId\n",
    "        worker_lookup[aid] = worker_id\n",
    "        result = create_result(asgmt)\n",
    "        all_descriptions.extend([char['label'] for char in json.loads(result['characterBoxes'])])\n",
    "        bonus_chars = [char['label'] for char in json.loads(result['characterBoxes']) if char['label'] not in main_characters]\n",
    "        rejects, bonus_chars = filter_rejects(bonus_chars)\n",
    "        if rejects:\n",
    "            rejections[aid] = (rejects, bonus_chars)\n",
    "        elif bonus_chars:\n",
    "            bonuses[aid] = len(bonus_chars)\n",
    "#             bonuses[aid] = bonus_chars\n",
    "    return bonuses, rejections, worker_lookup, all_descriptions"
   ]
  },
  {
   "cell_type": "code",
   "execution_count": 40,
   "metadata": {
    "collapsed": true,
    "hidden": true,
    "run_control": {
     "frozen": false,
     "read_only": false
    }
   },
   "outputs": [],
   "source": [
    "worker_counts = pd.Series(list(asgmt_workers.values())).value_counts()"
   ]
  },
  {
   "cell_type": "code",
   "execution_count": 41,
   "metadata": {
    "hidden": true,
    "run_control": {
     "frozen": false,
     "read_only": false
    }
   },
   "outputs": [
    {
     "data": {
      "text/plain": [
       "76"
      ]
     },
     "execution_count": 41,
     "metadata": {},
     "output_type": "execute_result"
    }
   ],
   "source": [
    "sum(worker_counts > 50)"
   ]
  },
  {
   "cell_type": "code",
   "execution_count": 42,
   "metadata": {
    "collapsed": true,
    "hidden": true,
    "run_control": {
     "frozen": false,
     "read_only": false
    }
   },
   "outputs": [],
   "source": [
    "bonuses, to_reject, asgmt_workers, all_descriptions = assign_bonuses(assignments)"
   ]
  },
  {
   "cell_type": "code",
   "execution_count": 43,
   "metadata": {
    "collapsed": true,
    "hidden": true,
    "run_control": {
     "frozen": false,
     "read_only": false
    }
   },
   "outputs": [],
   "source": [
    "all_rejections = []\n",
    "for chars in to_reject.values():\n",
    "    all_rejections.extend(chars[0])"
   ]
  },
  {
   "cell_type": "code",
   "execution_count": 45,
   "metadata": {
    "hidden": true,
    "run_control": {
     "frozen": false,
     "read_only": false
    }
   },
   "outputs": [
    {
     "data": {
      "text/plain": [
       "28.300000000000001"
      ]
     },
     "execution_count": 45,
     "metadata": {},
     "output_type": "execute_result"
    }
   ],
   "source": [
    "pd.Series(list(bonuses.values())).sum() * 0.01"
   ]
  },
  {
   "cell_type": "code",
   "execution_count": 46,
   "metadata": {
    "hidden": true,
    "run_control": {
     "frozen": false,
     "read_only": false
    },
    "scrolled": true
   },
   "outputs": [
    {
     "data": {
      "text/plain": [
       "fred                                                             8902\n",
       "barney                                                           5101\n",
       "empty frame                                                      4445\n",
       "wilma                                                            3879\n",
       "betty                                                            2034\n",
       "mr slate                                                          817\n",
       "dino                                                              624\n",
       "pebbles                                                           603\n",
       "bamm bamm                                                         233\n",
       "hoppy                                                             154\n",
       "old man                                                            67\n",
       "baby puss                                                          56\n",
       "man                                                                45\n",
       "circus performer                                                   30\n",
       "the man dress color is brown                                       26\n",
       "the man was standing                                               24\n",
       "bird                                                               22\n",
       "construction worker                                                20\n",
       "a man                                                              17\n",
       "an old man                                                         16\n",
       "police officer                                                     15\n",
       "the man dress color is blue                                        14\n",
       "old lady                                                           14\n",
       "doctor                                                             14\n",
       "man with bow tie                                                   14\n",
       "police                                                             14\n",
       "old granpa                                                         13\n",
       "girl                                                               13\n",
       "construction worke                                                 13\n",
       "police man                                                         13\n",
       "                                                                 ... \n",
       "man wearing blue dress, light blue dotted scarf and white hat       1\n",
       "totaish                                                             1\n",
       "child girl                                                          1\n",
       "the boy wear violet dress                                           1\n",
       "the man was stsnding                                                1\n",
       "man standing on the stage with two bones, one in each hand          1\n",
       "policeman1                                                          1\n",
       "lady instructor                                                     1\n",
       "sailor                                                              1\n",
       "bodyguard                                                           1\n",
       "the boy drive a vehicle                                             1\n",
       "a lady with stand                                                   1\n",
       "owner                                                               1\n",
       "beey                                                                1\n",
       "man with purple hair                                                1\n",
       "a man in blue shirt and purple hat                                  1\n",
       "man on set                                                          1\n",
       "baby with her mother                                                1\n",
       "brown hat wearing man with white mustache and hair                  1\n",
       "constrution worker                                                  1\n",
       "card player 2                                                       1\n",
       "old man running and wearing a blue cowboy hat                       1\n",
       "an elephant learning roller skatting                                1\n",
       "man with white hair & moustache                                     1\n",
       "the boy wear white gloves                                           1\n",
       "the girl hair colour is orange                                      1\n",
       "wilma was driving                                                   1\n",
       "a man with a sun glass                                              1\n",
       "grocery shopper                                                     1\n",
       "the baby is cute                                                    1\n",
       "Length: 1768, dtype: int64"
      ]
     },
     "execution_count": 46,
     "metadata": {},
     "output_type": "execute_result"
    }
   ],
   "source": [
    "pd.Series(list(all_descriptions)).value_counts()"
   ]
  },
  {
   "cell_type": "code",
   "execution_count": 724,
   "metadata": {
    "collapsed": true,
    "hidden": true,
    "run_control": {
     "frozen": false,
     "read_only": false
    }
   },
   "outputs": [],
   "source": [
    "# pickle_this(bad_aids, 'to_reject.pkl')"
   ]
  },
  {
   "cell_type": "code",
   "execution_count": 693,
   "metadata": {
    "collapsed": true,
    "hidden": true,
    "run_control": {
     "frozen": false,
     "read_only": false
    }
   },
   "outputs": [],
   "source": [
    "# pd.Series(all_rejections).value_counts()"
   ]
  },
  {
   "cell_type": "code",
   "execution_count": 39,
   "metadata": {
    "collapsed": true,
    "hidden": true,
    "run_control": {
     "frozen": false,
     "read_only": false
    }
   },
   "outputs": [],
   "source": [
    "bad_aids = set(to_reject.keys())"
   ]
  },
  {
   "cell_type": "code",
   "execution_count": 41,
   "metadata": {
    "hidden": true,
    "run_control": {
     "frozen": false,
     "read_only": false
    }
   },
   "outputs": [
    {
     "data": {
      "text/plain": [
       "set()"
      ]
     },
     "execution_count": 41,
     "metadata": {},
     "output_type": "execute_result"
    }
   ],
   "source": [
    "bad_workers = set([asgmt_workers[aid] for aid in bad_aids])\n",
    "len(bad_workers)\n",
    "\n",
    "bad_workers"
   ]
  },
  {
   "cell_type": "code",
   "execution_count": 49,
   "metadata": {
    "collapsed": true,
    "hidden": true,
    "run_control": {
     "frozen": false,
     "read_only": false
    }
   },
   "outputs": [],
   "source": [
    "worker_bonuses = defaultdict(int)\n",
    "for aid, char_count in bonuses.items():\n",
    "    worker_bonuses[aid] = {\n",
    "        'count': char_count,\n",
    "        'worker_id': asgmt_workers[aid]\n",
    "    }"
   ]
  },
  {
   "cell_type": "code",
   "execution_count": 50,
   "metadata": {
    "collapsed": true,
    "hidden": true,
    "run_control": {
     "frozen": false,
     "read_only": false
    }
   },
   "outputs": [],
   "source": [
    "pickle_this(worker_bonuses, 'bonuses_to_pay_2.pkl')"
   ]
  },
  {
   "cell_type": "markdown",
   "metadata": {
    "heading_collapsed": true
   },
   "source": [
    "# analysis"
   ]
  },
  {
   "cell_type": "code",
   "execution_count": 23,
   "metadata": {
    "hidden": true,
    "run_control": {
     "frozen": false,
     "read_only": false
    }
   },
   "outputs": [],
   "source": [
    "char_df = pd.DataFrame(characters_present)\n",
    "char_df['aid'] = char_df['still_id'].apply(lambda x: x.rsplit('_', 1)[0])\n",
    "char_df['all_main'] = char_df['characters'].apply(lambda x: all_main(x))\n",
    "char_df['n_chars'] = char_df['characters'].apply(lambda x: len(x))\n",
    "all_chars = [c for char_list in char_df['characters'].apply(lambda x: list(x)).tolist() for c in char_list]"
   ]
  },
  {
   "cell_type": "code",
   "execution_count": 24,
   "metadata": {
    "hidden": true,
    "run_control": {
     "frozen": false,
     "read_only": false
    }
   },
   "outputs": [],
   "source": [
    "grouped_by_still = char_df.groupby('still_id')\n",
    "agg_df = grouped_by_still.aggregate(len)\n",
    "agged_on_mode = grouped_by_still.agg(lambda x: st.mode(x))"
   ]
  },
  {
   "cell_type": "code",
   "execution_count": 25,
   "metadata": {
    "hidden": true,
    "run_control": {
     "frozen": false,
     "read_only": false
    }
   },
   "outputs": [],
   "source": [
    "consensus_results_df = agged_on_mode.reset_index()\n",
    "\n",
    "consensus_results_df['count_mode'] = consensus_results_df['n_chars'].apply(lambda x: x[1][0])\n",
    "consensus_results_df['mode_count'] = consensus_results_df['characters'].apply(lambda x: x[1][0])\n",
    "\n",
    "consensus_results_df['all_agree'] = consensus_results_df['count_mode'] == 3\n",
    "consensus_results_df['two_agree'] = consensus_results_df['count_mode'] == 2\n",
    "\n",
    "char_count_df = consensus_results_df[consensus_results_df['count_mode'] == 3]\n",
    "\n",
    "agree_all_main = consensus_results_df['all_main'].apply(lambda x: x[1][0]) == 3 \n",
    "\n",
    "not_main =set(consensus_results_df[~agree_all_main]['still_id'].tolist())\n",
    "not_main_df = char_df[char_df['still_id'].isin(not_main)]\n",
    "\n",
    "\n",
    "all_agree = consensus_results_df[agree_all_main][consensus_results_df[agree_all_main]['all_agree']]\n",
    "disagree = consensus_results_df[agree_all_main][~consensus_results_df[agree_all_main]['all_agree']]\n",
    "\n",
    "all_agree_set = set(all_agree['still_id'].tolist())\n",
    "\n",
    "count_all_agree_set = set(consensus_results_df[consensus_results_df['count_mode'] == 3]['still_id'].tolist())\n",
    "count_two_agree_set = set(consensus_results_df[consensus_results_df['count_mode'] == 2]['still_id'].tolist())\n",
    "count_none_agree_set = set(consensus_results_df[consensus_results_df['count_mode'] == 1]['still_id'].tolist())\n",
    "\n",
    "conflict_images = set(disagree['still_id'].tolist())\n",
    "\n",
    "conflict_df = char_df[char_df['still_id'].isin(conflict_images)]"
   ]
  },
  {
   "cell_type": "code",
   "execution_count": 14,
   "metadata": {
    "hidden": true,
    "run_control": {
     "frozen": false,
     "read_only": false
    }
   },
   "outputs": [],
   "source": [
    "# char_df['empty'] = ~char_df['characters'].apply(lambda x:bool(x.difference(set(empty_characters))))"
   ]
  },
  {
   "cell_type": "code",
   "execution_count": 759,
   "metadata": {
    "collapsed": true,
    "hidden": true,
    "run_control": {
     "frozen": false,
     "read_only": false
    }
   },
   "outputs": [],
   "source": [
    "char_df['nonmain_characters'] = char_df['characters'].apply(lambda x: len(x.difference(set(main_characters))))"
   ]
  },
  {
   "cell_type": "markdown",
   "metadata": {
    "heading_collapsed": true,
    "hidden": true
   },
   "source": [
    "### hide"
   ]
  },
  {
   "cell_type": "code",
   "execution_count": 760,
   "metadata": {
    "collapsed": true,
    "hidden": true,
    "run_control": {
     "frozen": false,
     "read_only": false
    }
   },
   "outputs": [],
   "source": [
    "grouped_by_aid = char_df.groupby('aid')"
   ]
  },
  {
   "cell_type": "code",
   "execution_count": 761,
   "metadata": {
    "hidden": true,
    "run_control": {
     "frozen": false,
     "read_only": false
    }
   },
   "outputs": [
    {
     "data": {
      "text/plain": [
       "1326"
      ]
     },
     "execution_count": 761,
     "metadata": {},
     "output_type": "execute_result"
    }
   ],
   "source": [
    "grouped_by_aid.agg(max)['nonmain_characters'].sum()"
   ]
  },
  {
   "cell_type": "code",
   "execution_count": 762,
   "metadata": {
    "hidden": true,
    "run_control": {
     "frozen": false,
     "read_only": false
    }
   },
   "outputs": [
    {
     "data": {
      "text/plain": [
       "(2152, 8)"
      ]
     },
     "execution_count": 762,
     "metadata": {},
     "output_type": "execute_result"
    }
   ],
   "source": [
    "grouped_by_aid.agg(max).shape"
   ]
  },
  {
   "cell_type": "code",
   "execution_count": 763,
   "metadata": {
    "hidden": true,
    "run_control": {
     "frozen": false,
     "read_only": false
    }
   },
   "outputs": [
    {
     "data": {
      "text/plain": [
       "238.68000000000001"
      ]
     },
     "execution_count": 763,
     "metadata": {},
     "output_type": "execute_result"
    }
   ],
   "source": [
    "grouped_by_aid.agg(max)['nonmain_characters'].sum() * 3 * 3  * 0.02"
   ]
  },
  {
   "cell_type": "code",
   "execution_count": 764,
   "metadata": {
    "hidden": true,
    "run_control": {
     "frozen": false,
     "read_only": false
    }
   },
   "outputs": [
    {
     "data": {
      "text/plain": [
       "774.16"
      ]
     },
     "execution_count": 764,
     "metadata": {},
     "output_type": "execute_result"
    }
   ],
   "source": [
    "char_df.shape[0] * 0.04"
   ]
  },
  {
   "cell_type": "code",
   "execution_count": 45,
   "metadata": {
    "collapsed": true,
    "hidden": true,
    "run_control": {
     "frozen": false,
     "read_only": false
    }
   },
   "outputs": [],
   "source": [
    "# grouped_by_aid.agg(max)[grouped_by_aid.agg(min)['empty'] == True]"
   ]
  },
  {
   "cell_type": "code",
   "execution_count": 767,
   "metadata": {
    "hidden": true,
    "run_control": {
     "frozen": false,
     "read_only": false
    }
   },
   "outputs": [
    {
     "data": {
      "text/plain": [
       "34"
      ]
     },
     "execution_count": 767,
     "metadata": {},
     "output_type": "execute_result"
    }
   ],
   "source": [
    "grouped_by_aid.agg(min)['empty'].sum()"
   ]
  },
  {
   "cell_type": "code",
   "execution_count": 667,
   "metadata": {
    "hidden": true,
    "run_control": {
     "frozen": false,
     "read_only": false
    }
   },
   "outputs": [
    {
     "data": {
      "text/plain": [
       "(700, 8)"
      ]
     },
     "execution_count": 667,
     "metadata": {},
     "output_type": "execute_result"
    }
   ],
   "source": [
    "grouped_by_aid.agg(max).shape"
   ]
  },
  {
   "cell_type": "markdown",
   "metadata": {},
   "source": [
    "# Flaw detection/ vid selection"
   ]
  },
  {
   "cell_type": "markdown",
   "metadata": {},
   "source": [
    "## code "
   ]
  },
  {
   "cell_type": "code",
   "execution_count": 30,
   "metadata": {},
   "outputs": [],
   "source": [
    "def make_standard_fig(fig_plt, fig_labels=None, outfile='', main_color=None, label_color = '0.25', save_fig=False):\n",
    "    if fig_labels:\n",
    "        if 'fig_title' in fig_labels:\n",
    "            plt.title(fig_labels['fig_title'], fontsize=35, verticalalignment='bottom', color=label_color)\n",
    "        if 'y_label' in fig_labels:\n",
    "            plt.ylabel(fig_labels['y_label'], fontsize=35, labelpad=10, color=label_color)\n",
    "        if 'x_label' in fig_labels:\n",
    "            plt.xlabel(fig_labels['x_label'], fontsize=30, labelpad=10, color=label_color)\n",
    "    plt.tick_params(axis='x', which='major', labelsize=28)\n",
    "    plt.tick_params(axis='y', which='major', labelsize=23)\n",
    "    if outfile:\n",
    "        plt.savefig(outfile, bbox_inches='tight')\n",
    "\n",
    "def compute_raw_anno_stats(raw_anno):\n",
    "    total_box_count = 0\n",
    "    empty_frame_count = 0\n",
    "    other_char_labels = 0\n",
    "    main_char_labels = 0\n",
    "    for anno in raw_anno:\n",
    "        for char in json.loads(anno['characterBoxes']):\n",
    "            total_box_count += 1\n",
    "            if char['label'] == 'empty frame':\n",
    "                empty_frame_count += 1\n",
    "            elif char['label'] in main_characters:\n",
    "                main_char_labels += 1\n",
    "            else:\n",
    "                other_char_labels += 1\n",
    "    return {'total_boxes': total_box_count, 'empty_frame_count' : empty_frame_count, 'main_char_labels': main_char_labels, 'other_char_labels': other_char_labels}\n",
    "\n",
    "def classify_vids(stage_1a_annotations):\n",
    "    vid_bins = {\n",
    "        'bin_01_vids': [],\n",
    "        'bin_02_vids': [],\n",
    "        'bin_03_vids': [],\n",
    "        'bin_04_vids': [], \n",
    "        'bin_05_vids': [],\n",
    "        'bin_06_vids': [],\n",
    "        'bin_07_vids': [],\n",
    "        'bin_08_vids': [],\n",
    "        'bin_09_vids': [],\n",
    "        'bin_10_vids': [],\n",
    "        'bin_11_vids': [],\n",
    "    }\n",
    "\n",
    "    for aid, animation_annos in tqdm(list(stage_1a_annotations.items())):\n",
    "        try:\n",
    "            consensus_boxes, labels = cluster_and_label(animation_annos, cluster_from_nms)\n",
    "            label_choices = select_labels(consensus_boxes, labels)\n",
    "            raw_anno_stats = compute_raw_anno_stats(animation_annos)\n",
    "            box_remainders = max(raw_anno_stats['total_boxes'] - (len(consensus_boxes) * 3), 0)\n",
    "            vote_counts = set([box['votes'] for box in consensus_boxes])\n",
    "            con_box_votes = set([box['votes'] for box in consensus_boxes])\n",
    "            con_box_idxs = set([box['idx'] for box in consensus_boxes])  \n",
    "            other_main_box_votes = [box['label'] for box in labels if 'votes' in box.keys() and box['idx'] not in con_box_idxs if box['label'] in main_characters]\n",
    "            other_minor_box_votes = [box['label'] for box in labels if 'votes' in box.keys() and box['idx'] not in con_box_idxs if box['label'] not in main_characters]\n",
    "            if box_remainders == 0 and vote_counts == set([3]):\n",
    "                vid_bins['bin_01_vids'].append(aid)\n",
    "            elif box_remainders == 0  and vote_counts == set([3, 2]):\n",
    "                vid_bins['bin_09_vids'].append(aid)\n",
    "            elif not other_main_box_votes and not other_minor_box_votes and not raw_anno_stats['empty_frame_count']:\n",
    "                    vid_bins['bin_11_vids'].append(aid)\n",
    "            else:\n",
    "                if raw_anno_stats['empty_frame_count'] == 0:\n",
    "                    if not other_main_box_votes:\n",
    "                        if len(other_minor_box_votes) == 1:\n",
    "                            vid_bins['bin_06_vids'].append(aid)\n",
    "                        elif len(other_minor_box_votes) >= 2:\n",
    "                            vid_bins['bin_07_vids'].append(aid)\n",
    "                    elif not other_minor_box_votes:\n",
    "                        if len(other_main_box_votes) == 1:\n",
    "                            vid_bins['bin_04_vids'].append(aid)\n",
    "                        elif len(other_main_box_votes) >= 2:\n",
    "                            vid_bins['bin_05_vids'].append(aid)\n",
    "                    else:\n",
    "                        if len(other_main_box_votes + other_minor_box_votes) >= 2:\n",
    "                            vid_bins['bin_08_vids'].append(aid)\n",
    "                else:\n",
    "                    if not other_main_box_votes and not other_minor_box_votes:\n",
    "                        if raw_anno_stats['total_boxes'] == raw_anno_stats['empty_frame_count']:\n",
    "                            vid_bins['bin_10_vids'].append(aid)\n",
    "                        elif raw_anno_stats['empty_frame_count'] == 1:\n",
    "                            vid_bins['bin_02_vids'].append(aid)\n",
    "                        elif raw_anno_stats['empty_frame_count'] >= 2:\n",
    "                            vid_bins['bin_03_vids'].append(aid)\n",
    "                    else:\n",
    "                        other_flaws = len(other_main_box_votes + other_main_box_votes) + raw_anno_stats['empty_frame_count']\n",
    "                        vid_bins['bin_08_vids'].append(aid)\n",
    "        except IndexError:\n",
    "            vid_bins['bin_08_vids'].append(aid)\n",
    "        return vid_bins"
   ]
  },
  {
   "cell_type": "markdown",
   "metadata": {},
   "source": [
    "## run"
   ]
  },
  {
   "cell_type": "code",
   "execution_count": 34,
   "metadata": {},
   "outputs": [],
   "source": [
    "# vid_bin_assignments = classify_vids(annotations_by_frame)"
   ]
  },
  {
   "cell_type": "code",
   "execution_count": null,
   "metadata": {},
   "outputs": [],
   "source": []
  },
  {
   "cell_type": "code",
   "execution_count": null,
   "metadata": {},
   "outputs": [],
   "source": []
  },
  {
   "cell_type": "markdown",
   "metadata": {
    "heading_collapsed": true
   },
   "source": [
    "# create subtask data"
   ]
  },
  {
   "cell_type": "code",
   "execution_count": 14,
   "metadata": {
    "collapsed": true,
    "hidden": true,
    "run_control": {
     "frozen": false,
     "read_only": false
    }
   },
   "outputs": [],
   "source": [
    "from amt_utils.bboxes import create_subtask_data\n",
    "from amt_utils.bboxes import cluster_from_nms"
   ]
  },
  {
   "cell_type": "code",
   "execution_count": 19,
   "metadata": {
    "hidden": true,
    "run_control": {
     "frozen": false,
     "read_only": false
    }
   },
   "outputs": [
    {
     "name": "stderr",
     "output_type": "stream",
     "text": [
      " 37%|███▋      | 183/500 [01:20<02:04,  2.54it/s]"
     ]
    },
    {
     "name": "stdout",
     "output_type": "stream",
     "text": [
      "s_04_e_13_shot_029190_029264\n"
     ]
    },
    {
     "name": "stderr",
     "output_type": "stream",
     "text": [
      "100%|██████████| 500/500 [03:33<00:00,  2.09it/s]\n"
     ]
    }
   ],
   "source": [
    "subtask_stills = {}\n",
    "for aid, animation_annos in tqdm(list(annotations_by_frame.items())[200:]):\n",
    "    try:\n",
    "        two_frame_img, char_crops = create_subtask_data(animation_annos, cluster_from_nms)\n",
    "        if char_crops:\n",
    "            two_frame_img.save('./subtask_data/frames/' + aid + '_taskb.png')\n",
    "            n_chars = len([char_image.save('./subtask_data/char_crops/' + aid + '_char_' + str(charn) +'_taskb.png') for charn, char_image in enumerate(char_crops)])\n",
    "            subtask_stills[aid + '_taskb.png'] = n_chars\n",
    "    except:\n",
    "        print(aid)"
   ]
  },
  {
   "cell_type": "code",
   "execution_count": 33,
   "metadata": {
    "hidden": true,
    "run_control": {
     "frozen": false,
     "read_only": false
    }
   },
   "outputs": [],
   "source": [
    "# pickle_this(subtask_stills, 'subtask_stills_to_anno_1.pkl')"
   ]
  },
  {
   "cell_type": "markdown",
   "metadata": {
    "heading_collapsed": true
   },
   "source": [
    "# bounding box clustering"
   ]
  },
  {
   "cell_type": "code",
   "execution_count": 19,
   "metadata": {
    "collapsed": true,
    "hidden": true,
    "run_control": {
     "frozen": false,
     "read_only": false
    }
   },
   "outputs": [],
   "source": [
    "rev_dir = 'review_results'\n",
    "img_dir = 'review_frames'"
   ]
  },
  {
   "cell_type": "code",
   "execution_count": 76,
   "metadata": {
    "hidden": true,
    "run_control": {
     "frozen": false,
     "read_only": false
    }
   },
   "outputs": [
    {
     "ename": "NameError",
     "evalue": "name 'annotations_by_frame' is not defined",
     "output_type": "error",
     "traceback": [
      "\u001b[0;31m---------------------------------------------------------------------------\u001b[0m",
      "\u001b[0;31mNameError\u001b[0m                                 Traceback (most recent call last)",
      "\u001b[0;32m<ipython-input-76-2412e17822c0>\u001b[0m in \u001b[0;36m<module>\u001b[0;34m()\u001b[0m\n\u001b[0;32m----> 1\u001b[0;31m \u001b[0mlen\u001b[0m\u001b[0;34m(\u001b[0m\u001b[0mannotations_by_frame\u001b[0m\u001b[0;34m)\u001b[0m\u001b[0;34m\u001b[0m\u001b[0m\n\u001b[0m",
      "\u001b[0;31mNameError\u001b[0m: name 'annotations_by_frame' is not defined"
     ]
    }
   ],
   "source": [
    "len(annotations_by_frame)"
   ]
  },
  {
   "cell_type": "code",
   "execution_count": 50,
   "metadata": {
    "hidden": true,
    "run_control": {
     "frozen": false,
     "read_only": false
    },
    "scrolled": true
   },
   "outputs": [
    {
     "name": "stderr",
     "output_type": "stream",
     "text": [
      "100%|██████████| 50/50 [00:24<00:00,  2.10it/s]\n"
     ]
    }
   ],
   "source": [
    "review_seq = {}\n",
    "error_frames = []\n",
    "for aid, animation_annos in tqdm(list(annotations_by_frame.items())[:]):\n",
    "    try:\n",
    "        three_frame_img, consensus_boxes, labels = draw_animation_seq(animation_annos, cluster_from_nms)\n",
    "        avg_votes = np.mean([box['votes'] for frame in consensus_boxes for box in frame])\n",
    "        possible_labels = [c['possible_labels'] for c in sorted(labels, key=lambda x: x['box'][0])]\n",
    "        chosen_labels = [c['chosen_labels'] for c in sorted(labels, key=lambda x: x['box'][0])]\n",
    "        review_seq[aid] = {'votes': avg_votes, 'possible_labels': possible_labels, 'chosen_labels': chosen_labels}\n",
    "        img_path = os.path.join(rev_dir, img_dir, aid) + '_rev.png'\n",
    "        three_frame_img.save(img_path)\n",
    "    except:\n",
    "        error_frames.append(aid)\n",
    "\n",
    "rev_page = generate_review_page('bbox_review_new_8_7_small.html')"
   ]
  },
  {
   "cell_type": "code",
   "execution_count": null,
   "metadata": {
    "collapsed": true,
    "hidden": true,
    "run_control": {
     "frozen": false,
     "read_only": false
    }
   },
   "outputs": [],
   "source": []
  },
  {
   "cell_type": "code",
   "execution_count": null,
   "metadata": {
    "collapsed": true,
    "hidden": true,
    "run_control": {
     "frozen": false,
     "read_only": false
    }
   },
   "outputs": [],
   "source": [
    "len(annt)"
   ]
  },
  {
   "cell_type": "code",
   "execution_count": 111,
   "metadata": {
    "hidden": true,
    "run_control": {
     "frozen": false,
     "marked": true,
     "read_only": false
    }
   },
   "outputs": [
    {
     "name": "stderr",
     "output_type": "stream",
     "text": [
      "100%|██████████| 200/200 [01:31<00:00,  2.79it/s]\n"
     ]
    }
   ],
   "source": [
    "subtask_stills = {}\n",
    "for aid, animation_annos in tqdm(list(annotations_by_frame.items())[0:200]):\n",
    "    two_frame_img, char_crops = create_subtask_data(animation_annos, cluster_from_nms)\n",
    "    if char_crops:\n",
    "        two_frame_img.save('./subtask_data/frames/' + aid + '_taskb.png')\n",
    "        n_chars = len([char_image.save('./subtask_data/char_crops/' + aid + '_char_' + str(charn) +'_taskb.png') for charn, char_image in enumerate(char_crops)])\n",
    "        subtask_stills[aid + '_taskb.png'] = n_chars"
   ]
  },
  {
   "cell_type": "code",
   "execution_count": 112,
   "metadata": {
    "collapsed": true,
    "hidden": true,
    "run_control": {
     "frozen": false,
     "read_only": false
    }
   },
   "outputs": [],
   "source": [
    "pickle_this(subtask_stills, 'subtask_stills_to_anno.pkl')"
   ]
  },
  {
   "cell_type": "code",
   "execution_count": 77,
   "metadata": {
    "collapsed": true,
    "hidden": true,
    "run_control": {
     "frozen": false,
     "read_only": false
    }
   },
   "outputs": [],
   "source": [
    "def crop_character_box(img, char):\n",
    "    crop = img.crop(char['box'])\n",
    "    return crop"
   ]
  },
  {
   "cell_type": "markdown",
   "metadata": {
    "collapsed": true,
    "heading_collapsed": true,
    "hidden": true,
    "run_control": {
     "frozen": false,
     "read_only": false
    }
   },
   "source": [
    "## debug"
   ]
  },
  {
   "cell_type": "code",
   "execution_count": null,
   "metadata": {
    "collapsed": true,
    "hidden": true,
    "run_control": {
     "frozen": false,
     "read_only": false
    }
   },
   "outputs": [],
   "source": [
    "# review_seq = {}\n",
    "# error_frames = []\n",
    "# n = 0\n",
    "# for aid, animation_annos in list(debug_sample.items()):\n",
    "#     print(aid)\n",
    "# #     try:\n",
    "#     three_frame_img, consensus_boxes = draw_animation_seq(animation_annos, cluster_from_nms)\n",
    "#     avg_votes = np.mean([box['votes'] for frame in consensus_boxes for box in frame])\n",
    "#     possible_labels = [c['possible_labels'] for c in sorted(labels, key=lambda x: x['box'][0])]\n",
    "#     chosen_labels = [c['chosen_labels'] for c in sorted(labels, key=lambda x: x['box'][0])]\n",
    "#     review_seq[aid] = {'votes': avg_votes, 'possible_labels': possible_labels, 'chosen_labels': chosen_labels}\n",
    "#     img_path = os.path.join(rev_dir, img_dir, aid) + '_rev.png'\n",
    "#     three_frame_img.save(img_path)\n",
    "# #     except IndexError:\n",
    "# #         error_frames.append(aid)\n",
    "\n",
    "# rev_page = generate_review_page('bbox_review_new_8_7_debug.html')\n",
    "# rev_page = rev_page.replace('review_frames', 'review_results/review_frames').replace('.png', '.png?arg' + str(random.randint(0, 100000000)))\n",
    "# HTML(rev_page)"
   ]
  },
  {
   "cell_type": "code",
   "execution_count": 23,
   "metadata": {
    "hidden": true,
    "run_control": {
     "frozen": false,
     "read_only": false
    }
   },
   "outputs": [
    {
     "data": {
      "text/plain": [
       "1.4589501669744"
      ]
     },
     "execution_count": 23,
     "metadata": {},
     "output_type": "execute_result"
    }
   ],
   "source": [
    "0.911843854359 * 1.6"
   ]
  },
  {
   "cell_type": "code",
   "execution_count": null,
   "metadata": {
    "collapsed": true,
    "hidden": true,
    "run_control": {
     "frozen": false,
     "read_only": false
    }
   },
   "outputs": [],
   "source": []
  },
  {
   "cell_type": "code",
   "execution_count": 29,
   "metadata": {
    "collapsed": true,
    "hidden": true,
    "run_control": {
     "frozen": false,
     "read_only": false
    }
   },
   "outputs": [],
   "source": [
    "debug_clips = ['s_01_e_06_shot_020535_020609', 's_01_e_05_shot_009896_009970', 's_01_e_06_shot_025311_025385', 's_01_e_07_shot_014729_014803', 's_01_e_06_shot_032983_033057']\n",
    "debug_clips = ['s_01_e_04_shot_016588_016662', 's_01_e_05_shot_009896_009970', 's_01_e_06_shot_020535_020609', 's_01_e_01_shot_022792_022866']\n",
    "debug_clips = ['s_01_e_06_shot_020535_020609']\n",
    "debug_clips += ['s_01_e_01_shot_022792_022866']\n",
    "debug_clips += ['s_01_e_05_shot_002673_002747']\n",
    "debug_clips += ['s_01_e_06_shot_007192_007266']\n",
    "debug_clips += ['s_01_e_05_shot_004222_004296']\n",
    "\n",
    "debug_sample = {debug_clip: annotations_by_frame[debug_clip] for debug_clip in debug_clips}"
   ]
  },
  {
   "cell_type": "code",
   "execution_count": 30,
   "metadata": {
    "collapsed": true,
    "hidden": true,
    "run_control": {
     "frozen": false,
     "read_only": false
    }
   },
   "outputs": [],
   "source": [
    "error_clip = list(annotations_by_frame.values())[0]\n",
    "\n",
    "three_frames = [s3_base_path + error_clip[i]['stillID'] for i in [0, 6]]\n",
    "imgs_comb = np.hstack([Image.open(requests.get(image_url, stream=True).raw) for image_url in three_frames])\n",
    "test_image = Image.fromarray(imgs_comb)"
   ]
  },
  {
   "cell_type": "code",
   "execution_count": 26,
   "metadata": {
    "hidden": true,
    "run_control": {
     "frozen": false,
     "read_only": false
    }
   },
   "outputs": [
    {
     "ename": "NameError",
     "evalue": "name 'test_image' is not defined",
     "output_type": "error",
     "traceback": [
      "\u001b[0;31m---------------------------------------------------------------------------\u001b[0m",
      "\u001b[0;31mNameError\u001b[0m                                 Traceback (most recent call last)",
      "\u001b[0;32m<ipython-input-26-e96abd8a6ff0>\u001b[0m in \u001b[0;36m<module>\u001b[0;34m()\u001b[0m\n\u001b[0;32m----> 1\u001b[0;31m \u001b[0mtest_image\u001b[0m\u001b[0;34m.\u001b[0m\u001b[0msize\u001b[0m\u001b[0;34m\u001b[0m\u001b[0m\n\u001b[0m",
      "\u001b[0;31mNameError\u001b[0m: name 'test_image' is not defined"
     ]
    }
   ],
   "source": [
    "test_image.size"
   ]
  },
  {
   "cell_type": "code",
   "execution_count": 996,
   "metadata": {
    "hidden": true,
    "run_control": {
     "frozen": false,
     "read_only": false
    }
   },
   "outputs": [
    {
     "data": {
      "text/plain": [
       "[]"
      ]
     },
     "execution_count": 996,
     "metadata": {},
     "output_type": "execute_result"
    }
   ],
   "source": [
    "annotations_by_frame['s_01_e_19_shot_025542_025616']"
   ]
  },
  {
   "cell_type": "code",
   "execution_count": null,
   "metadata": {
    "collapsed": true,
    "hidden": true,
    "run_control": {
     "frozen": false,
     "read_only": false
    }
   },
   "outputs": [],
   "source": []
  },
  {
   "cell_type": "code",
   "execution_count": null,
   "metadata": {
    "collapsed": true,
    "hidden": true,
    "run_control": {
     "frozen": false,
     "read_only": false
    }
   },
   "outputs": [],
   "source": []
  },
  {
   "cell_type": "code",
   "execution_count": null,
   "metadata": {
    "collapsed": true,
    "hidden": true,
    "run_control": {
     "frozen": false,
     "read_only": false
    }
   },
   "outputs": [],
   "source": []
  },
  {
   "cell_type": "code",
   "execution_count": null,
   "metadata": {
    "collapsed": true,
    "hidden": true,
    "run_control": {
     "frozen": false,
     "read_only": false
    }
   },
   "outputs": [],
   "source": []
  },
  {
   "cell_type": "markdown",
   "metadata": {
    "heading_collapsed": true
   },
   "source": [
    "# bonus cost estimate"
   ]
  },
  {
   "cell_type": "code",
   "execution_count": 197,
   "metadata": {
    "collapsed": true,
    "hidden": true,
    "run_control": {
     "frozen": false,
     "read_only": false
    }
   },
   "outputs": [],
   "source": [
    "main_characters = [\n",
    "    \"Fred\",\n",
    "    \"Wilma\",\n",
    "    \"Mr Slate\",\n",
    "    \"Barney\",\n",
    "    \"Betty\",\n",
    "    \"Pebbles\",\n",
    "    \"Dino\",\n",
    "    \"Baby Puss\",\n",
    "    \"Hoppy\",\n",
    "    \"Bamm Bamm\",\n",
    "]\n",
    "\n",
    "empty_characters = ['no characters', 'empty frame']\n",
    "main_characters += empty_characters\n",
    "main_characters = [char.lower() for char in main_characters]"
   ]
  },
  {
   "cell_type": "code",
   "execution_count": 183,
   "metadata": {
    "collapsed": true,
    "hidden": true,
    "run_control": {
     "frozen": false,
     "read_only": false
    }
   },
   "outputs": [],
   "source": [
    "frame_cost = 0\n",
    "bonus_cost = 0\n",
    "for anno in list(review_seq.values()):\n",
    "    frame_cost += 0.05 * 3\n",
    "#     print(anno)\n",
    "    bonus_cost += len([char for char in anno['chosen_labels'] if char not in main_characters]) * 0.03"
   ]
  },
  {
   "cell_type": "code",
   "execution_count": 184,
   "metadata": {
    "hidden": true,
    "run_control": {
     "frozen": false,
     "read_only": false
    }
   },
   "outputs": [
    {
     "name": "stdout",
     "output_type": "stream",
     "text": [
      "80.25000000000018 3.659999999999995\n"
     ]
    },
    {
     "data": {
      "text/plain": [
       "83.91000000000018"
      ]
     },
     "execution_count": 184,
     "metadata": {},
     "output_type": "execute_result"
    }
   ],
   "source": [
    "print(frame_cost, bonus_cost)\n",
    "frame_cost + bonus_cost"
   ]
  },
  {
   "cell_type": "code",
   "execution_count": 200,
   "metadata": {
    "collapsed": true,
    "hidden": true,
    "run_control": {
     "frozen": false,
     "read_only": false
    }
   },
   "outputs": [],
   "source": [
    "frame_count = []\n",
    "for anno in list(review_seq.values()):\n",
    "    frame_count += len([char for char in anno['chosen_labels'] if char not in empty_characters])"
   ]
  },
  {
   "cell_type": "code",
   "execution_count": 201,
   "metadata": {
    "hidden": true,
    "run_control": {
     "frozen": false,
     "read_only": false
    }
   },
   "outputs": [
    {
     "data": {
      "text/plain": [
       "787"
      ]
     },
     "execution_count": 201,
     "metadata": {},
     "output_type": "execute_result"
    }
   ],
   "source": [
    "frame_count"
   ]
  },
  {
   "cell_type": "markdown",
   "metadata": {
    "heading_collapsed": true
   },
   "source": [
    "# HTML Review"
   ]
  },
  {
   "cell_type": "code",
   "execution_count": 241,
   "metadata": {
    "code_folding": [],
    "collapsed": true,
    "hidden": true,
    "run_control": {
     "frozen": false,
     "read_only": false
    }
   },
   "outputs": [],
   "source": [
    "review_page_html = \"\"\"\n",
    "<!DOCTYPE html>\n",
    "<html>\n",
    "  <head>\n",
    "    <style type=\"text/css\">\n",
    "       .container {\n",
    "          }\n",
    "    </style>\n",
    "  </head>\n",
    "  <body style=max-width: 100px>\n",
    "    <div class=\"container\">\n",
    "      <ul>\n",
    "        {% for clip in clips %}\n",
    "        <h2>clip: {{clip[0]}}</h2>\n",
    "        <h3>score: {{clip[2]}}      rank: {{clip[3]}}</h3>\n",
    "        <p>{{clip[1]}}</p>\n",
    "        <p>{{clip[4]}}</p>\n",
    "        <p>{{clip[5]}}</p>\n",
    "        {% endfor %}\n",
    "      </ul>\n",
    "    </div>\n",
    "    <script src=\"http://code.jquery.com/jquery-1.10.2.min.js\"></script>\n",
    "    <script src=\"http://netdna.bootstrapcdn.com/bootstrap/3.0.0/js/bootstrap.min.js\"></script>\n",
    "  </body>\n",
    "</html>\n",
    "\"\"\"\n",
    "\n",
    "\n",
    "review_subtask_comp = \"\"\"\n",
    "<!DOCTYPE html>\n",
    "<html>\n",
    "  <head>\n",
    "    <style type=\"text/css\">\n",
    "       .container {\n",
    "          }\n",
    "    </style>\n",
    "  </head>\n",
    "  <body style=max-width: 100px>\n",
    "    <div class=\"container\">\n",
    "      <ul>\n",
    "        {% for clip in clips %}\n",
    "        <h2>clip: {{clip[0]}}</h2>\n",
    "        <h4>original 3 frames:</h4>\n",
    "        <p>{{clip[1]}}</p>\n",
    "        <h4>new frames + original middle:</h4>\n",
    "        <p>{{clip[2]}}</p>\n",
    "        {% endfor %}\n",
    "      </ul>\n",
    "    </div>\n",
    "    <script src=\"http://code.jquery.com/jquery-1.10.2.min.js\"></script>\n",
    "    <script src=\"http://netdna.bootstrapcdn.com/bootstrap/3.0.0/js/bootstrap.min.js\"></script>\n",
    "  </body>\n",
    "</html>\n",
    "\"\"\""
   ]
  },
  {
   "cell_type": "code",
   "execution_count": 255,
   "metadata": {
    "code_folding": [
     14
    ],
    "collapsed": true,
    "hidden": true,
    "run_control": {
     "frozen": false,
     "read_only": false
    }
   },
   "outputs": [],
   "source": [
    "s3_base_path = 'https://s3-us-west-2.amazonaws.com/ai2-vision-animation-gan/annotation_data/still_frames/'\n",
    "\n",
    "\n",
    "def make_uri(clip_id, s3_base='review_frames', file_ext='_rev.png'):\n",
    "    s3_uri = s3_base + clip_id + file_ext\n",
    "    image_tag = '<img src=\"' + s3_uri +'\" width=800px>'\n",
    "    return image_tag\n",
    "\n",
    "def make_comp_uri(clip_id, s3_base=s3_base_path):\n",
    "    s3_uri = s3_base + clip_id\n",
    "    image_tag = '<img src=\"' + s3_uri +'\" width=800px>'\n",
    "    return image_tag\n",
    "\n",
    "\n",
    "def generate_review_page(out_page='bbox_review.html'):\n",
    "    images_sorted_by_conf = [make_uri(img[0]) for img in sorted(review_seq.items(), key=lambda x: x[1]['votes'])]\n",
    "    sorted_clip_ids = [img[0] for img in sorted(review_seq.items(), key=lambda x: x[1]['votes'])]\n",
    "    votes = [img[1]['votes'] for img in sorted(review_seq.items(), key=lambda x: x[1]['votes'])]\n",
    "    chosen_labels = [img[1]['chosen_labels'] for img in sorted(review_seq.items(), key=lambda x: x[1]['votes'])]\n",
    "    possible_labels = [img[1]['possible_labels'] for img in sorted(review_seq.items(), key=lambda x: x[1]['votes'])]\n",
    "    \n",
    "    send_to_template = zip(sorted_clip_ids, images_sorted_by_conf, votes, range(1, len(votes) + 1)[::-1], chosen_labels, possible_labels)\n",
    "    env = Environment()\n",
    "    template =  j2env.from_string(review_page_html)\n",
    "    html_dir = './review_results/' \n",
    "    html_out_file = os.path.join(html_dir, out_page)\n",
    "    if not os.path.exists(html_dir):\n",
    "        os.makedirs(html_dir)\n",
    "    page_html =  template.render(clips = send_to_template)\n",
    "    \n",
    "    with open(html_out_file, 'w') as f:\n",
    "        f.write(page_html.encode('ascii', 'ignore').decode('utf-8'))\n",
    "    return page_html\n",
    "\n",
    "\n",
    "def generate_subtask_review(rev_seq, out_page='review_subtask_comp.html'):\n",
    "    env = Environment()\n",
    "    rev_seq = [(rev[0], make_comp_uri(rev[1]), make_comp_uri(rev[2])) for rev in rev_seq]\n",
    "    template =  j2env.from_string(review_subtask_comp)\n",
    "    html_dir = './review_results/' \n",
    "    html_out_file = os.path.join(html_dir, out_page)\n",
    "    if not os.path.exists(html_dir):\n",
    "        os.makedirs(html_dir)\n",
    "    page_html =  template.render(clips = rev_seq)\n",
    "    \n",
    "    with open(html_out_file, 'w') as f:\n",
    "        f.write(page_html.encode('ascii', 'ignore').decode('utf-8'))\n",
    "        \n",
    "    return page_html"
   ]
  },
  {
   "cell_type": "code",
   "execution_count": 256,
   "metadata": {
    "collapsed": true,
    "hidden": true,
    "run_control": {
     "frozen": false,
     "read_only": false
    }
   },
   "outputs": [],
   "source": [
    "page_html = generate_subtask_review(subtask_rev_seq)"
   ]
  },
  {
   "cell_type": "markdown",
   "metadata": {
    "collapsed": true,
    "heading_collapsed": true,
    "run_control": {
     "frozen": false,
     "read_only": false
    }
   },
   "source": [
    "# hide"
   ]
  },
  {
   "cell_type": "code",
   "execution_count": null,
   "metadata": {
    "collapsed": true,
    "hidden": true,
    "run_control": {
     "frozen": false,
     "read_only": false
    }
   },
   "outputs": [],
   "source": [
    "vote_series = pd.Series([vote for vote in review_seq.values()])"
   ]
  },
  {
   "cell_type": "code",
   "execution_count": 13,
   "metadata": {
    "collapsed": true,
    "hidden": true,
    "run_control": {
     "frozen": false,
     "read_only": false
    }
   },
   "outputs": [],
   "source": [
    "# assignments =[]\n",
    "# for assignment_triple in list(results.values()):\n",
    "#     assignments.extend(assignment_triple)\n",
    "\n",
    "# assignment_results = [create_result(ar) for ar in assignments]\n",
    "\n",
    "# characters_present = [{'h_id': anno['h_id'], 'w_id': anno['worker_id'], 'still_id': anno['stillID'], 'characters': set([ch['label'] for ch in json.loads(anno['characterBoxes'])])} for anno in assignment_results]\n",
    "\n",
    "# main_characters =  {\"fred\",\n",
    "#              \"barney\",\n",
    "#               \"wilma\",\n",
    "#               \"betty\",\n",
    "#               \"pebbles\",\n",
    "#               \"bamm bamm\",\n",
    "#               \"dino\",\n",
    "#               \"mr slate\",\n",
    "#               \"baby puss\",\n",
    "#               \"hoppy\",\n",
    "#               \"no characters\"}\n",
    "\n",
    "# def all_main(char_set, main_chars=main_characters):\n",
    "#     return not bool(char_set.difference(main_chars))\n",
    "\n",
    "# char_df = pd.DataFrame(characters_present)\n",
    "\n",
    "# char_df['all_main'] = char_df['characters'].apply(lambda x: all_main(x))\n",
    "\n",
    "# all_chars = [c for char_list in char_df['characters'].apply(lambda x: list(x)).tolist() for c in char_list]\n",
    "# char_counts = pd.Series(all_chars).value_counts()\n",
    "\n",
    "# # char_counts.hist(bins = 30, log=True)\n",
    "\n",
    "# char_df['n_chars'] = char_df['characters'].apply(lambda x: len(x))\n",
    "\n",
    "# prolific_workers = char_df['w_id'].value_counts().index.tolist()[:5]\n",
    "\n",
    "# grouped_by_still = char_df.groupby('still_id')\n",
    "\n",
    "# agg_df = grouped_by_still.aggregate(len)\n",
    "\n",
    "# import scipy\n",
    "\n",
    "# agged_on_mode = grouped_by_still.agg(lambda x: scipy.stats.mode(x))\n",
    "# consensus_results_df = agged_on_mode.reset_index()\n",
    "\n",
    "# consensus_results_df['count_mode'] = consensus_results_df['n_chars'].apply(lambda x: x[1][0])\n",
    "\n",
    "# consensus_results_df\n",
    "\n",
    "# consensus_results_df['mode_count'] = consensus_results_df['characters'].apply(lambda x: x[1][0])\n",
    "\n",
    "# consensus_results_df['all_agree'] = consensus_results_df['count_mode'] == 3\n",
    "# consensus_results_df['two_agree'] = consensus_results_df['count_mode'] == 2"
   ]
  },
  {
   "cell_type": "code",
   "execution_count": 87,
   "metadata": {
    "collapsed": true,
    "hidden": true,
    "run_control": {
     "frozen": false,
     "read_only": false
    }
   },
   "outputs": [],
   "source": [
    "# all_main_annotations_by_frame = {}\n",
    "# no_main_annotations_by_frame = {}\n",
    "# mixed_all_frames = {}\n",
    "\n",
    "\n",
    "# for aid, annos in annotations_by_frame.items():\n",
    "#     still_ids = [still['stillID'] for still in annos]\n",
    "#     annos = [anno for anno in annos]\n",
    "#     if len([sid for sid in still_ids if sid in all_agree_set]) == 9:\n",
    "#         all_main_annotations_by_frame[aid] = annos\n",
    "#     elif len([sid for sid in still_ids if sid in not_main]) == 9:\n",
    "#         no_main_annotations_by_frame[aid] = annos\n",
    "#     else: \n",
    "#         mixed_all_frames[aid] = annos\n",
    "\n",
    "# print(len(all_main_annotations_by_frame), len(no_main_annotations_by_frame), len(mixed_all_frames))"
   ]
  },
  {
   "cell_type": "code",
   "execution_count": 14,
   "metadata": {
    "collapsed": true,
    "hidden": true,
    "run_control": {
     "frozen": false,
     "read_only": false
    }
   },
   "outputs": [],
   "source": [
    "# char_count_df = consensus_results_df[consensus_results_df['count_mode'] == 3]\n",
    "\n",
    "# # consensus_results_df[agree_all_main]['characters'].apply(lambda x: x[1][0]).value_counts()\n",
    "\n",
    "# not_main =set(consensus_results_df[~agree_all_main]['still_id'].tolist())\n",
    "\n",
    "# not_main_df = char_df[char_df['still_id'].isin(not_main)]\n",
    "\n",
    "# consensus_results_df.head(1)\n",
    "\n",
    "# agree_all_main = consensus_results_df['all_main'].apply(lambda x: x[1][0]) == 3 \n",
    "\n",
    "# all_agree = consensus_results_df[agree_all_main][consensus_results_df[agree_all_main]['all_agree']]\n",
    "# disagree = consensus_results_df[agree_all_main][~consensus_results_df[agree_all_main]['all_agree']]\n",
    "\n",
    "\n",
    "\n",
    "\n",
    "\n",
    "\n",
    "\n",
    "# all_agree_set = set(all_agree['still_id'].tolist())\n",
    "\n",
    "# count_all_agree_set = set(consensus_results_df[consensus_results_df['count_mode'] == 3]['still_id'].tolist())\n",
    "# count_two_agree_set = set(consensus_results_df[consensus_results_df['count_mode'] == 2]['still_id'].tolist())\n",
    "# count_none_agree_set = set(consensus_results_df[consensus_results_df['count_mode'] == 1]['still_id'].tolist())\n",
    "\n",
    "# conflict_images = set(disagree['still_id'].tolist())\n",
    "\n",
    "# conflict_df = char_df[char_df['still_id'].isin(conflict_images)]\n",
    "\n",
    "# import PIL.Image as Image\n",
    "# import requests\n",
    "\n",
    "# image_n = 10\n",
    "\n",
    "# consensus_results_df.iloc[image_n * 9: image_n * 9 + 3]\n",
    "\n",
    "# s3_base_path = 'https://s3-us-west-2.amazonaws.com/ai2-vision-animation-gan/annotation_data/still_frames/'\n",
    "\n",
    "# image_url = s3_base_path + consensus_results_df['still_id'].iloc[image_n *  9]\n",
    "# Image.open(requests.get(image_url, stream=True).raw)"
   ]
  },
  {
   "cell_type": "code",
   "execution_count": null,
   "metadata": {
    "collapsed": true,
    "hidden": true,
    "run_control": {
     "frozen": false,
     "read_only": false
    }
   },
   "outputs": [],
   "source": []
  }
 ],
 "metadata": {
  "kernelspec": {
   "display_name": "Python 3",
   "language": "python",
   "name": "python3"
  },
  "language_info": {
   "codemirror_mode": {
    "name": "ipython",
    "version": 3
   },
   "file_extension": ".py",
   "mimetype": "text/x-python",
   "name": "python",
   "nbconvert_exporter": "python",
   "pygments_lexer": "ipython3",
   "version": "3.6.3"
  }
 },
 "nbformat": 4,
 "nbformat_minor": 1
}

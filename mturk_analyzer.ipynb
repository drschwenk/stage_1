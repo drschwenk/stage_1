{
 "cells": [
  {
   "cell_type": "markdown",
   "metadata": {
    "heading_collapsed": true
   },
   "source": [
    "# Table of Contents\n",
    "* [load data](#load-data)\n",
    "* [process data](#process-data)\n",
    "\t* [analysis](#analysis)\n",
    "\t* [building frames](#building-frames)\n",
    "* [bounding box clustering](#bounding-box-clustering)\n",
    "\t* [code](#code)\n",
    "\t* [run](#run)\n",
    "* [HTML Review](#HTML-Review)\n",
    "* [hide](#hide)\n"
   ]
  },
  {
   "cell_type": "code",
   "execution_count": 88,
   "metadata": {
    "collapsed": true,
    "hidden": true,
    "run_control": {
     "frozen": false,
     "read_only": false
    }
   },
   "outputs": [],
   "source": [
    "%%capture\n",
    "from __future__ import division\n",
    "import numpy as np\n",
    "import pandas as pd\n",
    "import scipy.stats as st\n",
    "import itertools\n",
    "import math\n",
    "from collections import Counter, defaultdict\n",
    "%load_ext autoreload\n",
    "%autoreload 2\n",
    "\n",
    "import matplotlib as mpl\n",
    "mpl.use(\"Agg\")\n",
    "import matplotlib.pylab as plt\n",
    "#%matplotlib notebook\n",
    "%matplotlib inline\n",
    "%load_ext base16_mplrc\n",
    "%base16_mplrc light default\n",
    "plt.rcParams['figure.figsize'] = (16.0, 10.0)\n",
    "\n",
    "import re\n",
    "import pickle\n",
    "import boto\n",
    "from copy import deepcopy\n",
    "import json\n",
    "import os\n",
    "import random\n",
    "import jinja2\n",
    "from tqdm import tqdm\n",
    "from IPython.core.display import HTML\n",
    "\n",
    "from boto.mturk.qualification import PercentAssignmentsApprovedRequirement, Qualifications, Requirement\n",
    "\n",
    "from keysTkingdom import mturk_ai2\n",
    "from keysTkingdom import aws_tokes\n",
    "from keysTkingdom import mturk_aristo\n",
    "\n",
    "from amt_utils.mturk import pickle_this, unpickle_this\n",
    "\n",
    "import os\n",
    "import jinja2\n",
    "import argparse\n",
    "from jinja2 import Environment, FileSystemLoader\n",
    "\n",
    "j2env = jinja2.Environment()\n",
    "\n",
    "from amt_utils.bboxes import test_nms\n",
    "from amt_utils.bboxes import cluster_from_nms\n",
    "from amt_utils.bboxes import draw_animation_seq\n",
    "from amt_utils.bboxes import cluster_from_annos\n",
    "\n",
    "import warnings\n",
    "warnings.filterwarnings('ignore')"
   ]
  },
  {
   "cell_type": "markdown",
   "metadata": {
    "heading_collapsed": true
   },
   "source": [
    "# load data"
   ]
  },
  {
   "cell_type": "code",
   "execution_count": 62,
   "metadata": {
    "collapsed": true,
    "hidden": true,
    "run_control": {
     "frozen": false,
     "read_only": false
    }
   },
   "outputs": [],
   "source": [
    "data_paths = ['./turker_batch_{}.pkl'.format(i) for i in range(1,4)]\n",
    "\n",
    "turk_data_assemble = [unpickle_this(data_path) for data_path in data_paths]\n",
    "\n",
    "turk_data = {}\n",
    "_ = [turk_data.update(data_part) for data_part in turk_data_assemble]"
   ]
  },
  {
   "cell_type": "code",
   "execution_count": 66,
   "metadata": {
    "hidden": true,
    "run_control": {
     "frozen": false,
     "read_only": false
    }
   },
   "outputs": [],
   "source": [
    "batch_2 = turk_data_assemble[1]\n",
    "batch_3 = turk_data_assemble[2]"
   ]
  },
  {
   "cell_type": "markdown",
   "metadata": {},
   "source": [
    "# process data"
   ]
  },
  {
   "cell_type": "markdown",
   "metadata": {},
   "source": [
    "this picks up more refined data from another notebook"
   ]
  },
  {
   "cell_type": "code",
   "execution_count": 91,
   "metadata": {
    "code_folding": [],
    "collapsed": true,
    "run_control": {
     "frozen": false,
     "read_only": false
    }
   },
   "outputs": [],
   "source": [
    "main_characters =  {\"fred\",\n",
    "             \"barney\",\n",
    "              \"wilma\",\n",
    "              \"betty\",\n",
    "              \"pebbles\",\n",
    "              \"bamm bamm\",\n",
    "              \"dino\",\n",
    "              \"mr slate\",\n",
    "              \"baby puss\",\n",
    "              \"hoppy\",\n",
    "              \"no characters\"}\n",
    "\n",
    "\n",
    "def create_result(assmt):\n",
    "    result = json.loads(assmt.answers[0][0].fields[0])\n",
    "    result['h_id'] = assmt.HITId\n",
    "    result['worker_id'] = assmt.WorkerId\n",
    "    return result\n",
    "\n",
    "\n",
    "def all_main(char_set, main_chars=main_characters):\n",
    "    return not bool(char_set.difference(main_chars))"
   ]
  },
  {
   "cell_type": "code",
   "execution_count": 92,
   "metadata": {
    "collapsed": true,
    "run_control": {
     "frozen": false,
     "read_only": false
    }
   },
   "outputs": [],
   "source": [
    "assignments =[]\n",
    "for assignment_triple in list(batch_3.values()):\n",
    "    assignments.extend(assignment_triple)\n",
    "\n",
    "assignment_results = [create_result(ar) for ar in assignments]\n",
    "characters_present = [{'h_id': anno['h_id'], 'w_id': anno['worker_id'], 'still_id': anno['stillID'], 'characters': set([ch['label'] for ch in json.loads(anno['characterBoxes'])])} for anno in assignment_results]"
   ]
  },
  {
   "cell_type": "markdown",
   "metadata": {},
   "source": [
    "## analysis"
   ]
  },
  {
   "cell_type": "code",
   "execution_count": 33,
   "metadata": {
    "collapsed": true,
    "run_control": {
     "frozen": false,
     "read_only": false
    }
   },
   "outputs": [],
   "source": [
    "char_df = pd.DataFrame(characters_present)\n",
    "char_df['all_main'] = char_df['characters'].apply(lambda x: all_main(x))\n",
    "char_df['n_chars'] = char_df['characters'].apply(lambda x: len(x))\n",
    "all_chars = [c for char_list in char_df['characters'].apply(lambda x: list(x)).tolist() for c in char_list]"
   ]
  },
  {
   "cell_type": "code",
   "execution_count": 34,
   "metadata": {
    "run_control": {
     "frozen": false,
     "read_only": false
    }
   },
   "outputs": [],
   "source": [
    "grouped_by_still = char_df.groupby('still_id')\n",
    "agg_df = grouped_by_still.aggregate(len)\n",
    "\n",
    "agged_on_mode = grouped_by_still.agg(lambda x: st.mode(x))"
   ]
  },
  {
   "cell_type": "code",
   "execution_count": 35,
   "metadata": {
    "collapsed": true,
    "run_control": {
     "frozen": false,
     "read_only": false
    }
   },
   "outputs": [],
   "source": [
    "consensus_results_df = agged_on_mode.reset_index()\n",
    "\n",
    "consensus_results_df['count_mode'] = consensus_results_df['n_chars'].apply(lambda x: x[1][0])\n",
    "consensus_results_df['mode_count'] = consensus_results_df['characters'].apply(lambda x: x[1][0])\n",
    "\n",
    "consensus_results_df['all_agree'] = consensus_results_df['count_mode'] == 3\n",
    "consensus_results_df['two_agree'] = consensus_results_df['count_mode'] == 2\n",
    "\n",
    "char_count_df = consensus_results_df[consensus_results_df['count_mode'] == 3]\n",
    "\n",
    "agree_all_main = consensus_results_df['all_main'].apply(lambda x: x[1][0]) == 3 \n",
    "\n",
    "not_main =set(consensus_results_df[~agree_all_main]['still_id'].tolist())\n",
    "not_main_df = char_df[char_df['still_id'].isin(not_main)]\n",
    "\n",
    "\n",
    "all_agree = consensus_results_df[agree_all_main][consensus_results_df[agree_all_main]['all_agree']]\n",
    "disagree = consensus_results_df[agree_all_main][~consensus_results_df[agree_all_main]['all_agree']]\n",
    "\n",
    "all_agree_set = set(all_agree['still_id'].tolist())\n",
    "\n",
    "count_all_agree_set = set(consensus_results_df[consensus_results_df['count_mode'] == 3]['still_id'].tolist())\n",
    "count_two_agree_set = set(consensus_results_df[consensus_results_df['count_mode'] == 2]['still_id'].tolist())\n",
    "count_none_agree_set = set(consensus_results_df[consensus_results_df['count_mode'] == 1]['still_id'].tolist())\n",
    "\n",
    "conflict_images = set(disagree['still_id'].tolist())\n",
    "\n",
    "conflict_df = char_df[char_df['still_id'].isin(conflict_images)]"
   ]
  },
  {
   "cell_type": "markdown",
   "metadata": {
    "heading_collapsed": true
   },
   "source": [
    "## building frames"
   ]
  },
  {
   "cell_type": "code",
   "execution_count": 93,
   "metadata": {
    "hidden": true,
    "run_control": {
     "frozen": false,
     "read_only": false
    }
   },
   "outputs": [
    {
     "name": "stdout",
     "output_type": "stream",
     "text": [
      "37 23 139\n"
     ]
    }
   ],
   "source": [
    "annotations_by_frame = defaultdict(list)\n",
    "for anno in sorted(assignment_results, key=lambda x: x['stillID']):\n",
    "    animation_id = anno['stillID'].rsplit('_', 1)[0]\n",
    "    annotations_by_frame[animation_id].append(anno)\n",
    "\n",
    "all_main_annotations_by_frame = {}\n",
    "no_main_annotations_by_frame = {}\n",
    "mixed_all_frames = {}\n",
    "\n",
    "\n",
    "for aid, annos in annotations_by_frame.items():\n",
    "    still_ids = [still['stillID'] for still in annos]\n",
    "    annos = [anno for anno in annos]\n",
    "    if len([sid for sid in still_ids if sid in all_agree_set]) == 9:\n",
    "        all_main_annotations_by_frame[aid] = annos\n",
    "    elif len([sid for sid in still_ids if sid in not_main]) == 9:\n",
    "        no_main_annotations_by_frame[aid] = annos\n",
    "    else: \n",
    "        mixed_all_frames[aid] = annos\n",
    "\n",
    "print(len(all_main_annotations_by_frame), len(no_main_annotations_by_frame), len(mixed_all_frames))"
   ]
  },
  {
   "cell_type": "code",
   "execution_count": 51,
   "metadata": {
    "hidden": true
   },
   "outputs": [
    {
     "data": {
      "text/plain": [
       "199"
      ]
     },
     "execution_count": 51,
     "metadata": {},
     "output_type": "execute_result"
    }
   ],
   "source": [
    "len(annotations_by_frame)"
   ]
  },
  {
   "cell_type": "markdown",
   "metadata": {},
   "source": [
    "# bounding box clustering"
   ]
  },
  {
   "cell_type": "code",
   "execution_count": 68,
   "metadata": {
    "collapsed": true,
    "run_control": {
     "frozen": false,
     "read_only": false
    }
   },
   "outputs": [],
   "source": [
    "rev_dir = 'review_results'\n",
    "img_dir = 'review_frames'"
   ]
  },
  {
   "cell_type": "code",
   "execution_count": 89,
   "metadata": {
    "collapsed": true
   },
   "outputs": [],
   "source": [
    "debug_clip = 's_06_e_10_shot_042742_042816'"
   ]
  },
  {
   "cell_type": "code",
   "execution_count": 98,
   "metadata": {
    "run_control": {
     "marked": false
    }
   },
   "outputs": [],
   "source": [
    "debug_sample = {debug_clip: annotations_by_frame[debug_clip]}"
   ]
  },
  {
   "cell_type": "code",
   "execution_count": 99,
   "metadata": {
    "run_control": {
     "frozen": false,
     "read_only": false
    }
   },
   "outputs": [
    {
     "name": "stderr",
     "output_type": "stream",
     "text": [
      "100%|██████████| 1/1 [00:00<00:00,  1.80it/s]\n"
     ]
    }
   ],
   "source": [
    "review_seq = {}\n",
    "error_frames = []\n",
    "for aid, animation_annos in tqdm(list(debug_sample.items())):\n",
    "# for aid, animation_annos in [random.choice(list(combined_data.items()))]:\n",
    "# for i in [1]:\n",
    "    try:\n",
    "        three_frame_img, consensus_boxes, labels = draw_animation_seq(animation_annos, cluster_from_nms)\n",
    "        avg_votes = np.mean([box['votes'] for frame in consensus_boxes for box in frame])\n",
    "        possible_labels = [c['possible_labels'] for c in sorted(labels, key=lambda x: x['box'][0])]\n",
    "        chosen_labels = [c['chosen_labels'] for c in sorted(labels, key=lambda x: x['box'][0])]\n",
    "        review_seq[aid] = {'votes': avg_votes, 'possible_labels': possible_labels, 'chosen_labels': chosen_labels}\n",
    "        img_path = os.path.join(rev_dir, img_dir, aid) + '_rev.png'\n",
    "        three_frame_img.save(img_path)\n",
    "    except:\n",
    "        error_frames.append(aid)"
   ]
  },
  {
   "cell_type": "code",
   "execution_count": 78,
   "metadata": {
    "run_control": {
     "frozen": false,
     "read_only": false
    }
   },
   "outputs": [
    {
     "data": {
      "text/plain": [
       "140"
      ]
     },
     "execution_count": 78,
     "metadata": {},
     "output_type": "execute_result"
    }
   ],
   "source": [
    "len(review_seq)"
   ]
  },
  {
   "cell_type": "code",
   "execution_count": null,
   "metadata": {
    "collapsed": true
   },
   "outputs": [],
   "source": []
  },
  {
   "cell_type": "code",
   "execution_count": 100,
   "metadata": {
    "collapsed": true
   },
   "outputs": [],
   "source": [
    "_ = generate_review_page('bbox_review_new_8_4.html')"
   ]
  },
  {
   "cell_type": "markdown",
   "metadata": {},
   "source": [
    "# HTML Review"
   ]
  },
  {
   "cell_type": "code",
   "execution_count": 81,
   "metadata": {
    "code_folding": [
     2
    ],
    "collapsed": true
   },
   "outputs": [],
   "source": [
    "review_page_html = \"\"\"\n",
    "<!DOCTYPE html>\n",
    "<html>\n",
    "  <head>\n",
    "    <style type=\"text/css\">\n",
    "       .container {\n",
    "          }\n",
    "    </style>\n",
    "  </head>\n",
    "  <body style=max-width: 100px>\n",
    "    <div class=\"container\">\n",
    "      <ul>\n",
    "        {% for clip in clips %}\n",
    "        <h2>clip: {{clip[0]}}</h2>\n",
    "        <h3>score: {{clip[2]}}      rank: {{clip[3]}}</h3>\n",
    "        <p>{{clip[1]}}</p>\n",
    "        <p>{{clip[4]}}</p>\n",
    "        <p>{{clip[5]}}</p>\n",
    "        {% endfor %}\n",
    "      </ul>\n",
    "    </div>\n",
    "    <script src=\"http://code.jquery.com/jquery-1.10.2.min.js\"></script>\n",
    "    <script src=\"http://netdna.bootstrapcdn.com/bootstrap/3.0.0/js/bootstrap.min.js\"></script>\n",
    "  </body>\n",
    "</html>\n",
    "\"\"\""
   ]
  },
  {
   "cell_type": "code",
   "execution_count": 83,
   "metadata": {
    "code_folding": [],
    "collapsed": true,
    "run_control": {
     "frozen": false,
     "read_only": false
    }
   },
   "outputs": [],
   "source": [
    "s3_base_path = 'https://s3-us-west-2.amazonaws.com/ai2-vision-animation-gan/annotation_data/still_frames/'\n",
    "\n",
    "\n",
    "def make_uri(clip_id, s3_base='review_frames/', file_ext='_rev.png'):\n",
    "    s3_uri = s3_base + clip_id + file_ext\n",
    "    image_tag = '<img src=\"' + s3_uri +'\" width=800px>'\n",
    "    return image_tag\n",
    "\n",
    "\n",
    "def generate_review_page(out_page='bbox_review.html'):\n",
    "    images_sorted_by_conf = [make_uri(img[0]) for img in sorted(review_seq.items(), key=lambda x: x[1]['votes'])]\n",
    "    sorted_clip_ids = [img[0] for img in sorted(review_seq.items(), key=lambda x: x[1]['votes'])]\n",
    "    votes = [img[1]['votes'] for img in sorted(review_seq.items(), key=lambda x: x[1]['votes'])]\n",
    "    chosen_labels = [img[1]['chosen_labels'] for img in sorted(review_seq.items(), key=lambda x: x[1]['votes'])]\n",
    "    possible_labels = [img[1]['possible_labels'] for img in sorted(review_seq.items(), key=lambda x: x[1]['votes'])]\n",
    "    \n",
    "    send_to_template = zip(sorted_clip_ids, images_sorted_by_conf, votes, range(1, len(votes) + 1)[::-1], chosen_labels, possible_labels)\n",
    "    env = Environment()\n",
    "    template =  j2env.from_string(review_page_html)\n",
    "    html_dir = './review_results/' \n",
    "    html_out_file = os.path.join(html_dir, out_page)\n",
    "    if not os.path.exists(html_dir):\n",
    "        os.makedirs(html_dir)\n",
    "    page_html =  template.render(clips = send_to_template)\n",
    "    \n",
    "    with open(html_out_file, 'w') as f:\n",
    "        f.write(page_html.encode('ascii', 'ignore').decode('utf-8'))\n",
    "        \n",
    "    return page_html"
   ]
  },
  {
   "cell_type": "code",
   "execution_count": null,
   "metadata": {
    "collapsed": true,
    "run_control": {
     "frozen": false,
     "read_only": false
    }
   },
   "outputs": [],
   "source": []
  },
  {
   "cell_type": "code",
   "execution_count": null,
   "metadata": {
    "collapsed": true,
    "run_control": {
     "frozen": false,
     "read_only": false
    }
   },
   "outputs": [],
   "source": []
  },
  {
   "cell_type": "code",
   "execution_count": null,
   "metadata": {
    "collapsed": true,
    "run_control": {
     "frozen": false,
     "read_only": false
    }
   },
   "outputs": [],
   "source": []
  },
  {
   "cell_type": "markdown",
   "metadata": {
    "collapsed": true,
    "heading_collapsed": true,
    "run_control": {
     "frozen": false,
     "read_only": false
    }
   },
   "source": [
    "# hide"
   ]
  },
  {
   "cell_type": "code",
   "execution_count": null,
   "metadata": {
    "collapsed": true,
    "hidden": true
   },
   "outputs": [],
   "source": [
    "vote_series = pd.Series([vote for vote in review_seq.values()])"
   ]
  },
  {
   "cell_type": "code",
   "execution_count": 13,
   "metadata": {
    "collapsed": true,
    "hidden": true,
    "run_control": {
     "frozen": false,
     "read_only": false
    }
   },
   "outputs": [],
   "source": [
    "# assignments =[]\n",
    "# for assignment_triple in list(results.values()):\n",
    "#     assignments.extend(assignment_triple)\n",
    "\n",
    "# assignment_results = [create_result(ar) for ar in assignments]\n",
    "\n",
    "# characters_present = [{'h_id': anno['h_id'], 'w_id': anno['worker_id'], 'still_id': anno['stillID'], 'characters': set([ch['label'] for ch in json.loads(anno['characterBoxes'])])} for anno in assignment_results]\n",
    "\n",
    "# main_characters =  {\"fred\",\n",
    "#              \"barney\",\n",
    "#               \"wilma\",\n",
    "#               \"betty\",\n",
    "#               \"pebbles\",\n",
    "#               \"bamm bamm\",\n",
    "#               \"dino\",\n",
    "#               \"mr slate\",\n",
    "#               \"baby puss\",\n",
    "#               \"hoppy\",\n",
    "#               \"no characters\"}\n",
    "\n",
    "# def all_main(char_set, main_chars=main_characters):\n",
    "#     return not bool(char_set.difference(main_chars))\n",
    "\n",
    "# char_df = pd.DataFrame(characters_present)\n",
    "\n",
    "# char_df['all_main'] = char_df['characters'].apply(lambda x: all_main(x))\n",
    "\n",
    "# all_chars = [c for char_list in char_df['characters'].apply(lambda x: list(x)).tolist() for c in char_list]\n",
    "# char_counts = pd.Series(all_chars).value_counts()\n",
    "\n",
    "# # char_counts.hist(bins = 30, log=True)\n",
    "\n",
    "# char_df['n_chars'] = char_df['characters'].apply(lambda x: len(x))\n",
    "\n",
    "# prolific_workers = char_df['w_id'].value_counts().index.tolist()[:5]\n",
    "\n",
    "# grouped_by_still = char_df.groupby('still_id')\n",
    "\n",
    "# agg_df = grouped_by_still.aggregate(len)\n",
    "\n",
    "# import scipy\n",
    "\n",
    "# agged_on_mode = grouped_by_still.agg(lambda x: scipy.stats.mode(x))\n",
    "# consensus_results_df = agged_on_mode.reset_index()\n",
    "\n",
    "# consensus_results_df['count_mode'] = consensus_results_df['n_chars'].apply(lambda x: x[1][0])\n",
    "\n",
    "# consensus_results_df\n",
    "\n",
    "# consensus_results_df['mode_count'] = consensus_results_df['characters'].apply(lambda x: x[1][0])\n",
    "\n",
    "# consensus_results_df['all_agree'] = consensus_results_df['count_mode'] == 3\n",
    "# consensus_results_df['two_agree'] = consensus_results_df['count_mode'] == 2"
   ]
  },
  {
   "cell_type": "code",
   "execution_count": 14,
   "metadata": {
    "collapsed": true,
    "hidden": true,
    "run_control": {
     "frozen": false,
     "read_only": false
    }
   },
   "outputs": [],
   "source": [
    "# char_count_df = consensus_results_df[consensus_results_df['count_mode'] == 3]\n",
    "\n",
    "# # consensus_results_df[agree_all_main]['characters'].apply(lambda x: x[1][0]).value_counts()\n",
    "\n",
    "# not_main =set(consensus_results_df[~agree_all_main]['still_id'].tolist())\n",
    "\n",
    "# not_main_df = char_df[char_df['still_id'].isin(not_main)]\n",
    "\n",
    "# consensus_results_df.head(1)\n",
    "\n",
    "# agree_all_main = consensus_results_df['all_main'].apply(lambda x: x[1][0]) == 3 \n",
    "\n",
    "# all_agree = consensus_results_df[agree_all_main][consensus_results_df[agree_all_main]['all_agree']]\n",
    "# disagree = consensus_results_df[agree_all_main][~consensus_results_df[agree_all_main]['all_agree']]\n",
    "\n",
    "\n",
    "\n",
    "\n",
    "\n",
    "\n",
    "\n",
    "# all_agree_set = set(all_agree['still_id'].tolist())\n",
    "\n",
    "# count_all_agree_set = set(consensus_results_df[consensus_results_df['count_mode'] == 3]['still_id'].tolist())\n",
    "# count_two_agree_set = set(consensus_results_df[consensus_results_df['count_mode'] == 2]['still_id'].tolist())\n",
    "# count_none_agree_set = set(consensus_results_df[consensus_results_df['count_mode'] == 1]['still_id'].tolist())\n",
    "\n",
    "# conflict_images = set(disagree['still_id'].tolist())\n",
    "\n",
    "# conflict_df = char_df[char_df['still_id'].isin(conflict_images)]\n",
    "\n",
    "# import PIL.Image as Image\n",
    "# import requests\n",
    "\n",
    "# image_n = 10\n",
    "\n",
    "# consensus_results_df.iloc[image_n * 9: image_n * 9 + 3]\n",
    "\n",
    "# s3_base_path = 'https://s3-us-west-2.amazonaws.com/ai2-vision-animation-gan/annotation_data/still_frames/'\n",
    "\n",
    "# image_url = s3_base_path + consensus_results_df['still_id'].iloc[image_n *  9]\n",
    "# Image.open(requests.get(image_url, stream=True).raw)"
   ]
  },
  {
   "cell_type": "code",
   "execution_count": null,
   "metadata": {
    "collapsed": true,
    "hidden": true,
    "run_control": {
     "frozen": false,
     "read_only": false
    }
   },
   "outputs": [],
   "source": []
  }
 ],
 "metadata": {
  "kernelspec": {
   "display_name": "Python 3",
   "language": "python",
   "name": "python3"
  },
  "language_info": {
   "codemirror_mode": {
    "name": "ipython",
    "version": 3
   },
   "file_extension": ".py",
   "mimetype": "text/x-python",
   "name": "python",
   "nbconvert_exporter": "python",
   "pygments_lexer": "ipython3",
   "version": "3.6.2"
  }
 },
 "nbformat": 4,
 "nbformat_minor": 1
}
